{
 "cells": [
  {
   "cell_type": "code",
   "execution_count": null,
   "metadata": {
    "ExecuteTime": {
     "start_time": "2018-06-20T19:49:37.525Z"
    }
   },
   "outputs": [],
   "source": [
    "import os\n",
    "import cv2\n",
    "import sheet_id.deepmatching_cpu.deepmatching as dm\n",
    "from tqdm import tqdm_notebook as tqdm\n",
    "from sheet_id.utils.base_utils import loadSettings, loadScoresDataset, loadCellphoneScoresDataset, \\\n",
    "    generateScoresDB, calculateMRR\n",
    "\n",
    "from matplotlib.patches import ConnectionPatch\n",
    "from multiprocessing import Pool, freeze_support"
   ]
  },
  {
   "cell_type": "code",
   "execution_count": null,
   "metadata": {
    "ExecuteTime": {
     "start_time": "2018-06-20T19:49:37.530Z"
    }
   },
   "outputs": [],
   "source": [
    "settings = loadSettings()"
   ]
  },
  {
   "cell_type": "code",
   "execution_count": null,
   "metadata": {
    "ExecuteTime": {
     "start_time": "2018-06-20T19:49:37.536Z"
    }
   },
   "outputs": [],
   "source": [
    "scores_path = loadScoresDataset(settings['DB_PATH'])\n",
    "cellphone_scores_path = loadCellphoneScoresDataset(settings['CELLPHONE_IMG_PATH'])\n",
    "db = generateScoresDB(scores_path)"
   ]
  },
  {
   "cell_type": "code",
   "execution_count": null,
   "metadata": {
    "ExecuteTime": {
     "start_time": "2018-06-20T19:49:37.543Z"
    }
   },
   "outputs": [],
   "source": [
    "def imageDistance(img_a, img_b):\n",
    "    _, img1 = cv2.threshold(img_a,127,255,cv2.THRESH_BINARY)\n",
    "    _, img2 = cv2.threshold(img_b,127,255,cv2.THRESH_BINARY)\n",
    "    img1 = cv2.resize(img1, (0,0), fx=0.3, fy=0.3)\n",
    "    img1 = cv2.cvtColor(img1, cv2.COLOR_GRAY2RGB)\n",
    "    img2 = cv2.cvtColor(img2, cv2.COLOR_GRAY2RGB)\n",
    "    matches = dm.deepmatching(img1, img2, '-downscale 2 -v -nt 10' )\n",
    "    score = len(matches)\n",
    "    distance = -score\n",
    "    return distance"
   ]
  },
  {
   "cell_type": "code",
   "execution_count": null,
   "metadata": {
    "ExecuteTime": {
     "start_time": "2018-06-20T19:49:37.548Z"
    }
   },
   "outputs": [],
   "source": [
    "def search(query_img, db):\n",
    "    \"\"\"\n",
    "    Search the query from the db and return the list of predictions ranked by the score in\n",
    "    the form of \n",
    "        (ref_name, distance)\n",
    "    \"\"\"\n",
    "    scoreRanking = []\n",
    "    for ref in tqdm(db):\n",
    "        ref_img = db[ref]\n",
    "        dist = imageDistance(query_img, ref_img)\n",
    "        scoreRanking.append((ref, dist))\n",
    "    return sorted(scoreRanking, key=lambda x: x[1]) # Sort based on distance in increasing order "
   ]
  },
  {
   "cell_type": "code",
   "execution_count": null,
   "metadata": {
    "ExecuteTime": {
     "start_time": "2018-06-20T19:49:37.552Z"
    },
    "code_folding": []
   },
   "outputs": [],
   "source": [
    "def findRank(predictions, ref):\n",
    "    \"\"\"\n",
    "    Find the rank of ref in the list of predictions\n",
    "    \"\"\"\n",
    "    rank = 1\n",
    "    for (prediction, dist) in predictions:\n",
    "        if prediction == ref:\n",
    "            return rank\n",
    "        rank += 1\n",
    "    raise"
   ]
  },
  {
   "cell_type": "code",
   "execution_count": null,
   "metadata": {
    "ExecuteTime": {
     "start_time": "2018-06-20T19:49:37.555Z"
    }
   },
   "outputs": [],
   "source": [
    "ranks = []\n",
    "for i in tqdm(range(len(cellphone_scores_path))):\n",
    "    img = cv2.imread(cellphone_scores_path[i], 0)\n",
    "    fileNameNoExt = os.path.splitext(os.path.split(cellphone_scores_path[i])[1])[0]\n",
    "    prediction_batches = search(img, db)\n",
    "    predictions = []\n",
    "    for prediction_batch in prediction_batches:\n",
    "        predictions.extend(prediction_batch)\n",
    "    predictions = sorted(predictions, key=lambda x: x[1])\n",
    "    rank = findRank(predictions, fileNameNoExt)\n",
    "    ranks.append(rank)\n",
    "    print(\"Query {:} [{:}]: {:}\".format(i+1, fileNameNoExt, rank))"
   ]
  },
  {
   "cell_type": "code",
   "execution_count": null,
   "metadata": {
    "ExecuteTime": {
     "start_time": "2018-06-20T19:49:37.558Z"
    },
    "scrolled": true
   },
   "outputs": [],
   "source": [
    "MRR = calculateMRR(ranks)\n",
    "print(\"MRR: {:}\".format(MRR))"
   ]
  },
  {
   "cell_type": "markdown",
   "metadata": {},
   "source": [
    "# Deepmatching Testing"
   ]
  },
  {
   "cell_type": "code",
   "execution_count": null,
   "metadata": {
    "ExecuteTime": {
     "start_time": "2018-06-20T19:49:37.581Z"
    }
   },
   "outputs": [],
   "source": [
    "import matplotlib.pyplot as plt"
   ]
  },
  {
   "cell_type": "code",
   "execution_count": null,
   "metadata": {
    "ExecuteTime": {
     "start_time": "2018-06-20T19:49:37.584Z"
    }
   },
   "outputs": [],
   "source": [
    "plt.figure(figsize=(20,20))\n",
    "plt.subplot(1,2,1)\n",
    "plt.imshow(test_img_a, cmap='gray')\n",
    "plt.subplot(1,2,2)\n",
    "plt.imshow(test_img_b, cmap='gray')\n",
    "plt.show()"
   ]
  },
  {
   "cell_type": "code",
   "execution_count": null,
   "metadata": {
    "ExecuteTime": {
     "start_time": "2018-06-20T19:49:37.587Z"
    }
   },
   "outputs": [],
   "source": [
    "_, img1 = cv2.threshold(test_img_a,127,255,cv2.THRESH_BINARY)\n",
    "_, img2 = cv2.threshold(test_img_b,127,255,cv2.THRESH_BINARY)\n",
    "img1 = cv2.resize(img1, (0,0), fx=0.3, fy=0.3)\n",
    "img1 = cv2.cvtColor(img1, cv2.COLOR_GRAY2RGB)\n",
    "img2 = cv2.cvtColor(img2, cv2.COLOR_GRAY2RGB)"
   ]
  },
  {
   "cell_type": "code",
   "execution_count": null,
   "metadata": {
    "ExecuteTime": {
     "start_time": "2018-06-20T19:49:37.590Z"
    }
   },
   "outputs": [],
   "source": [
    "plt.figure(figsize=(20,20))\n",
    "plt.subplot(1,2,1)\n",
    "plt.imshow(img1, cmap='gray')\n",
    "plt.subplot(1,2,2)\n",
    "plt.imshow(img2, cmap='gray')\n",
    "plt.show()"
   ]
  },
  {
   "cell_type": "code",
   "execution_count": null,
   "metadata": {
    "ExecuteTime": {
     "start_time": "2018-06-20T19:49:37.592Z"
    }
   },
   "outputs": [],
   "source": [
    "dm.deepmatching()"
   ]
  },
  {
   "cell_type": "code",
   "execution_count": null,
   "metadata": {
    "ExecuteTime": {
     "start_time": "2018-06-20T19:49:37.594Z"
    }
   },
   "outputs": [],
   "source": [
    "matches = dm.deepmatching(img1, img2, '-downscale 2 -v' )"
   ]
  },
  {
   "cell_type": "code",
   "execution_count": null,
   "metadata": {
    "ExecuteTime": {
     "start_time": "2018-06-20T19:49:37.597Z"
    }
   },
   "outputs": [],
   "source": [
    "fig = plt.figure(figsize=(20,20))\n",
    "\n",
    "ax1 = fig.add_subplot(1,2,1)\n",
    "ax1.imshow(img1)\n",
    "for i in range(len(matches)):\n",
    "    ax1.plot([matches[i][0]], [matches[i][1]], 'ko')\n",
    "           \n",
    "ax2 = fig.add_subplot(1,2,2)\n",
    "ax2.imshow(img2)\n",
    "for i in range(len(matches)):\n",
    "    ax2.plot([matches[i][2]], [matches[i][3]], 'ko')\n",
    "\n",
    "for i in range(len(matches)):\n",
    "    con = ConnectionPatch(xyA=(matches[i][2], matches[i][3]), coordsA='data', coordsB='data',\n",
    "                          xyB=(matches[i][0], matches[i][1]), axesA=ax2, axesB=ax1, color='red')\n",
    "    ax2.add_artist(con)"
   ]
  },
  {
   "cell_type": "code",
   "execution_count": null,
   "metadata": {
    "ExecuteTime": {
     "start_time": "2018-06-20T19:49:37.600Z"
    }
   },
   "outputs": [],
   "source": [
    "imageDistance(test_img_a, test_img_b)"
   ]
  }
 ],
 "metadata": {
  "kernelspec": {
   "display_name": "Python 3",
   "language": "python",
   "name": "python3"
  },
  "language_info": {
   "codemirror_mode": {
    "name": "ipython",
    "version": 3
   },
   "file_extension": ".py",
   "mimetype": "text/x-python",
   "name": "python",
   "nbconvert_exporter": "python",
   "pygments_lexer": "ipython3",
   "version": "3.6.3"
  },
  "latex_envs": {
   "LaTeX_envs_menu_present": true,
   "autoclose": false,
   "autocomplete": true,
   "bibliofile": "biblio.bib",
   "cite_by": "apalike",
   "current_citInitial": 1,
   "eqLabelWithNumbers": true,
   "eqNumInitial": 1,
   "hotkeys": {
    "equation": "Ctrl-E",
    "itemize": "Ctrl-I"
   },
   "labels_anchors": false,
   "latex_user_defs": false,
   "report_style_numbering": false,
   "user_envs_cfg": false
  },
  "toc": {
   "nav_menu": {},
   "number_sections": true,
   "sideBar": true,
   "skip_h1_title": false,
   "title_cell": "Table of Contents",
   "title_sidebar": "Contents",
   "toc_cell": false,
   "toc_position": {},
   "toc_section_display": true,
   "toc_window_display": false
  },
  "varInspector": {
   "cols": {
    "lenName": 16,
    "lenType": 16,
    "lenVar": 40
   },
   "kernels_config": {
    "python": {
     "delete_cmd_postfix": "",
     "delete_cmd_prefix": "del ",
     "library": "var_list.py",
     "varRefreshCmd": "print(var_dic_list())"
    },
    "r": {
     "delete_cmd_postfix": ") ",
     "delete_cmd_prefix": "rm(",
     "library": "var_list.r",
     "varRefreshCmd": "cat(var_dic_list()) "
    }
   },
   "types_to_exclude": [
    "module",
    "function",
    "builtin_function_or_method",
    "instance",
    "_Feature"
   ],
   "window_display": false
  }
 },
 "nbformat": 4,
 "nbformat_minor": 2
}
