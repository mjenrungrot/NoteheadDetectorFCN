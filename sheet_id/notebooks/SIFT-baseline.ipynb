{
 "cells": [
  {
   "cell_type": "code",
   "execution_count": null,
   "metadata": {},
   "outputs": [],
   "source": [
    "import os\n",
    "import sys\n",
    "import glob\n",
    "import pandas as pd\n",
    "import numpy as np\n",
    "import scipy.misc\n",
    "import matplotlib.pyplot as plt\n",
    "import cv2\n",
    "from skimage.transform import rotate"
   ]
  },
  {
   "cell_type": "code",
   "execution_count": null,
   "metadata": {},
   "outputs": [],
   "source": [
    "CELLPHONE_IMG_PATH = os.path.join(os.getcwd(), 'cellphone_imgs')\n",
    "DB_PATH = os.path.join(os.getcwd(), 'png_imgs')"
   ]
  },
  {
   "cell_type": "code",
   "execution_count": null,
   "metadata": {},
   "outputs": [],
   "source": [
    "sift = cv2.xfeatures2d.SIFT_create()"
   ]
  },
  {
   "cell_type": "markdown",
   "metadata": {},
   "source": [
    "## Generate database"
   ]
  },
  {
   "cell_type": "code",
   "execution_count": null,
   "metadata": {},
   "outputs": [],
   "source": [
    "png_paths = glob.glob(os.path.join(DB_PATH, '*.png'))"
   ]
  },
  {
   "cell_type": "code",
   "execution_count": null,
   "metadata": {},
   "outputs": [],
   "source": [
    "db = {}\n",
    "for i in range(len(png_paths)):\n",
    "    img = cv2.imread(png_paths[i], 0)\n",
    "    kp, des = sift.detectAndCompute(img, None)\n",
    "    db[png_paths[i]] = (kp, des)\n",
    "    print(\n",
    "        \"Finish computing SIFT descriptor {:}/{:}\".format(\n",
    "            i + 1, len(png_paths)),\n",
    "        file=sys.stderr)"
   ]
  },
  {
   "cell_type": "markdown",
   "metadata": {},
   "source": [
    "## Get query"
   ]
  },
  {
   "cell_type": "code",
   "execution_count": null,
   "metadata": {},
   "outputs": [],
   "source": [
    "query_paths = sorted(glob.glob(os.path.join(CELLPHONE_IMG_PATH, '*.jpg')))"
   ]
  },
  {
   "cell_type": "code",
   "execution_count": null,
   "metadata": {
    "scrolled": true
   },
   "outputs": [],
   "source": [
    "img = cv2.imread(query_paths[0], 0)\n",
    "plt.figure(figsize=(20, 20))\n",
    "plt.imshow(img)"
   ]
  },
  {
   "cell_type": "code",
   "execution_count": null,
   "metadata": {},
   "outputs": [],
   "source": [
    "df = pd.read_csv(os.path.join(os.getcwd(), 'groundtruth.csv'))\n",
    "groundtruth = {}"
   ]
  },
  {
   "cell_type": "code",
   "execution_count": null,
   "metadata": {},
   "outputs": [],
   "source": [
    "for (cellphone_img, sheet_img) in df.values:\n",
    "    groundtruth[cellphone_img] = sheet_img + '.png'"
   ]
  },
  {
   "cell_type": "markdown",
   "metadata": {
    "heading_collapsed": true
   },
   "source": [
    "## Search"
   ]
  },
  {
   "cell_type": "code",
   "execution_count": null,
   "metadata": {
    "hidden": true
   },
   "outputs": [],
   "source": [
    "%lsmagic"
   ]
  },
  {
   "cell_type": "code",
   "execution_count": null,
   "metadata": {
    "hidden": true
   },
   "outputs": [],
   "source": [
    "FLANN_INDEX_KDTREE = 1\n",
    "index_params = dict(algorithm=FLANN_INDEX_KDTREE, trees=5)\n",
    "search_params = dict(checks=50)"
   ]
  },
  {
   "cell_type": "code",
   "execution_count": null,
   "metadata": {
    "hidden": true
   },
   "outputs": [],
   "source": [
    "flann = cv2.FlannBasedMatcher(index_params, search_params)"
   ]
  },
  {
   "cell_type": "code",
   "execution_count": null,
   "metadata": {
    "hidden": true
   },
   "outputs": [],
   "source": [
    "def search(db_png_paths,\n",
    "           des_query,\n",
    "           expected_match,\n",
    "           threshold_npairs=25,\n",
    "           verbose=False):\n",
    "    scoreList = []\n",
    "    for idx in range(len(db_png_paths)):\n",
    "        ref_path = db_png_paths[idx]\n",
    "        matches = flann.knnMatch(db[ref_path][1], des_query, k=2)\n",
    "\n",
    "        totalDistance = 0\n",
    "        counterGood = 0\n",
    "        # ratio test as per Lowe's paper\n",
    "        for i, (m, n) in enumerate(matches):\n",
    "            if m.distance < 0.7 * n.distance:\n",
    "                counterGood += 1\n",
    "                totalDistance += m.distance\n",
    "\n",
    "        scoreList.append({\n",
    "            'path': ref_path,\n",
    "            'distance': totalDistance,\n",
    "            'n_pairs': counterGood,\n",
    "        })\n",
    "\n",
    "        if verbose:\n",
    "            print(\n",
    "                \"Finish searching {:}/{:} distance = {:} (# good pairs = {:})\".\n",
    "                format(idx + 1, len(png_paths), totalDistance, counterGood),\n",
    "                file=sys.stderr)\n",
    "    filteredScore = [\n",
    "        score for score in scoreList if score['n_pairs'] > threshold_npairs\n",
    "    ]\n",
    "\n",
    "    sortedScore = sorted(filteredScore, key=lambda x: x['distance'])\n",
    "    for score in scoreList:\n",
    "        if score['n_pairs'] <= threshold_npairs:\n",
    "            sortedScore.append(score)\n",
    "\n",
    "    rank = 1\n",
    "    for score in sortedScore:\n",
    "        if (os.path.split(score['path'])[1] == expected_match):\n",
    "            return rank\n",
    "        rank += 1\n",
    "\n",
    "    print(\"Expected match = {:}\".format(expected_match), file=sys.stderr)\n",
    "    print(sortedScore, file=sys.stderr)\n",
    "    raise ValueError(\"not found\")"
   ]
  },
  {
   "cell_type": "code",
   "execution_count": null,
   "metadata": {
    "hidden": true
   },
   "outputs": [],
   "source": [
    "MRR = 0\n",
    "top1acc = 0\n",
    "query_num = 0\n",
    "for query_path in query_paths:\n",
    "    img_query = cv2.imread(query_path, 0)\n",
    "    kp_query, des_query = sift.detectAndCompute(img, None)\n",
    "    expected_match = groundtruth[os.path.split(query_path)[1]]\n",
    "    rank = search(png_paths, des_query, expected_match)\n",
    "\n",
    "    MRR += (1 / len(query_paths)) * (1 / rank)\n",
    "    top1acc += (1 / len(query_paths)) * (rank == 1)\n",
    "\n",
    "    query_num += 1\n",
    "    print(\"Query {:} : rank = {:}\".format(query_num, rank), file=sys.stderr)"
   ]
  },
  {
   "cell_type": "code",
   "execution_count": null,
   "metadata": {
    "hidden": true
   },
   "outputs": [],
   "source": [
    "print((\"MRR = {:}\".format(MRR)))\n",
    "print((\"Top-1 accuracy = {:}\".format(top1acc)))"
   ]
  },
  {
   "cell_type": "markdown",
   "metadata": {
    "hidden": true
   },
   "source": [
    "\n",
    "| Experiment               | MRR           | top-1 accuracy  |\n",
    "| --------------           | ------------- | --------------- |\n",
    "| SIFT (0 threshold)       | 0.01          | 0               |\n",
    "| SIFT (50 threshold)      | 0.05          | 0.025           |\n",
    "| SIFT (100 threshold)     | 0.03          | 0               |"
   ]
  },
  {
   "cell_type": "markdown",
   "metadata": {
    "heading_collapsed": true
   },
   "source": [
    "## Visualization\n",
    "\n",
    "From the search in section earlier, we found that, based on the matching algorithm, the expected musical score has 7th rank out of 210 scores."
   ]
  },
  {
   "cell_type": "code",
   "execution_count": null,
   "metadata": {
    "hidden": true,
    "scrolled": false
   },
   "outputs": [],
   "source": [
    "# Visualize the expected musical score\n",
    "expected_path = os.path.join(DB_PATH, '105370_page_93.png')\n",
    "expected_img = cv2.imread(expected_path, 0)\n",
    "plt.figure(figsize=(20, 20))\n",
    "plt.imshow(expected_img)\n",
    "plt.show()"
   ]
  },
  {
   "cell_type": "markdown",
   "metadata": {
    "hidden": true
   },
   "source": [
    "The following is the visualization of the matching between the query and the expected score from the database."
   ]
  },
  {
   "cell_type": "code",
   "execution_count": null,
   "metadata": {
    "hidden": true
   },
   "outputs": [],
   "source": [
    "img_db = cv2.imread(expected_path, 0)\n",
    "img_query = cv2.imread(query_path, 0)\n",
    "matches = flann.knnMatch(db[expected_path][1], des_query, k=2)"
   ]
  },
  {
   "cell_type": "code",
   "execution_count": null,
   "metadata": {
    "hidden": true
   },
   "outputs": [],
   "source": [
    "# Need to draw only good matches, so create a mask\n",
    "matchesMask = [[0, 0] for i in range(len(matches))]\n",
    "counterGood = 0\n",
    "# ratio test as per Lowe's paper\n",
    "for i, (m, n) in enumerate(matches):\n",
    "    if m.distance < 0.7 * n.distance:\n",
    "        matchesMask[i] = [1, 0]\n",
    "        counterGood += 1\n",
    "print((\"There are {:} good matched pairs\".format(counterGood)))"
   ]
  },
  {
   "cell_type": "code",
   "execution_count": null,
   "metadata": {
    "hidden": true
   },
   "outputs": [],
   "source": [
    "draw_params = dict(\n",
    "    matchColor=(0, 255, 0),\n",
    "    singlePointColor=(255, 0, 0),\n",
    "    matchesMask=matchesMask,\n",
    "    flags=0)"
   ]
  },
  {
   "cell_type": "code",
   "execution_count": null,
   "metadata": {
    "hidden": true
   },
   "outputs": [],
   "source": [
    "img3 = cv2.drawMatchesKnn(img_db, db[expected_path][0], img_query, kp_query,\n",
    "                          matches, None, **draw_params)"
   ]
  },
  {
   "cell_type": "code",
   "execution_count": null,
   "metadata": {
    "hidden": true
   },
   "outputs": [],
   "source": [
    "plt.figure(figsize=(20, 20))\n",
    "plt.imshow(img3)\n",
    "plt.show()"
   ]
  },
  {
   "cell_type": "code",
   "execution_count": null,
   "metadata": {
    "hidden": true
   },
   "outputs": [],
   "source": []
  }
 ],
 "metadata": {
  "kernelspec": {
   "display_name": "Python 3",
   "language": "python",
   "name": "python3"
  },
  "language_info": {
   "codemirror_mode": {
    "name": "ipython",
    "version": 3
   },
   "file_extension": ".py",
   "mimetype": "text/x-python",
   "name": "python",
   "nbconvert_exporter": "python",
   "pygments_lexer": "ipython3",
   "version": "3.6.3"
  },
  "latex_envs": {
   "LaTeX_envs_menu_present": true,
   "autoclose": false,
   "autocomplete": true,
   "bibliofile": "biblio.bib",
   "cite_by": "apalike",
   "current_citInitial": 1,
   "eqLabelWithNumbers": true,
   "eqNumInitial": 1,
   "hotkeys": {
    "equation": "Ctrl-E",
    "itemize": "Ctrl-I"
   },
   "labels_anchors": false,
   "latex_user_defs": false,
   "report_style_numbering": false,
   "user_envs_cfg": false
  },
  "toc": {
   "nav_menu": {},
   "number_sections": true,
   "sideBar": true,
   "skip_h1_title": false,
   "title_cell": "Table of Contents",
   "title_sidebar": "Contents",
   "toc_cell": false,
   "toc_position": {},
   "toc_section_display": true,
   "toc_window_display": false
  },
  "varInspector": {
   "cols": {
    "lenName": 16,
    "lenType": 16,
    "lenVar": 40
   },
   "kernels_config": {
    "python": {
     "delete_cmd_postfix": "",
     "delete_cmd_prefix": "del ",
     "library": "var_list.py",
     "varRefreshCmd": "print(var_dic_list())"
    },
    "r": {
     "delete_cmd_postfix": ") ",
     "delete_cmd_prefix": "rm(",
     "library": "var_list.r",
     "varRefreshCmd": "cat(var_dic_list()) "
    }
   },
   "types_to_exclude": [
    "module",
    "function",
    "builtin_function_or_method",
    "instance",
    "_Feature"
   ],
   "window_display": true
  }
 },
 "nbformat": 4,
 "nbformat_minor": 2
}
