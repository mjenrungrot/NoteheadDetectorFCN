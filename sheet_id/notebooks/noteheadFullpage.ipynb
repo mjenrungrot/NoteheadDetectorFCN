{
 "cells": [
  {
   "cell_type": "code",
   "execution_count": 1,
   "metadata": {
    "ExecuteTime": {
     "end_time": "2018-07-10T22:39:12.210693Z",
     "start_time": "2018-07-10T22:39:11.101076Z"
    }
   },
   "outputs": [
    {
     "name": "stderr",
     "output_type": "stream",
     "text": [
      "/home/mirlab/miniconda3/lib/python3.6/site-packages/h5py/__init__.py:36: FutureWarning: Conversion of the second argument of issubdtype from `float` to `np.floating` is deprecated. In future, it will be treated as `np.float64 == np.dtype(float).type`.\n",
      "  from ._conv import register_converters as _register_converters\n",
      "Using TensorFlow backend.\n"
     ]
    }
   ],
   "source": [
    "from sheet_id.models.FCN import FCN\n",
    "from sheet_id.utils.loss_functions import softmax_sparse_crossentropy_ignoring_background, softmax_sparse_crossentropy\n",
    "from sheet_id.utils.metrics import sparse_accuracy_ignoring_background, sparse_accuracy\n",
    "from sheet_id.utils.dataPreprocessing import splitTrainValidation\n",
    "from sheet_id.utils.dataGenerator import DataGenerator\n",
    "from sheet_id.utils.dwd_utils import generateGroundTruthMaps\n",
    "from sheet_id.utils.base_utils import generateSheetMaskAnnotation\n",
    "from sheet_id.utils.eval_utils import evaluate\n",
    "\n",
    "from keras.layers.convolutional import Conv2D\n",
    "from keras.layers import Input\n",
    "from keras.models import Model\n",
    "from keras.optimizers import Adam\n",
    "\n",
    "import glob\n",
    "import math\n",
    "import os\n",
    "import pandas as pd\n",
    "import numpy as np\n",
    "import cv2\n",
    "import matplotlib.pyplot as plt\n",
    "import random\n",
    "from copy import deepcopy"
   ]
  },
  {
   "cell_type": "code",
   "execution_count": 2,
   "metadata": {
    "ExecuteTime": {
     "end_time": "2018-07-10T22:39:14.371378Z",
     "start_time": "2018-07-10T22:39:12.211878Z"
    }
   },
   "outputs": [],
   "source": [
    "model = FCN(input_shape=(500,500,1), n_classes=124)\n",
    "input_map = Input(shape=(500,500,1))\n",
    "output_featuremaps = model(input_map)\n",
    "energy_output = Conv2D(10,  (1,1), activation='relu', padding='same', name='energy_map')(output_featuremaps)\n",
    "class_output  = Conv2D(124, (1,1), activation='relu', padding='same', name='class_map')(output_featuremaps)\n",
    "bbox_output   = Conv2D(2,   (1,1), activation='relu', padding='same', name='bbox_map')(output_featuremaps)\n",
    "dwd_model = Model(inputs=[input_map], outputs=[energy_output, class_output, bbox_output])\n",
    "loss_fn = softmax_sparse_crossentropy\n",
    "optimizer = Adam(lr=1e-4, beta_1=0.9, beta_2=0.999, \n",
    "                 epsilon=1e-8, decay=0.0, amsgrad=False)\n",
    "metrics = []\n",
    "dwd_model.compile(loss={\n",
    "                            \"energy_map\": loss_fn,\n",
    "                            \"class_map\": loss_fn,\n",
    "                            \"bbox_map\": \"mse\",\n",
    "                        }, \n",
    "                  loss_weights={'energy_map': 1.0, 'class_map': 1.0, 'bbox_map': 0.25},\n",
    "                  optimizer=optimizer, metrics=metrics)\n",
    "dwd_model.load_weights('../checkpoints/dwd-finetune-5000.h5')"
   ]
  },
  {
   "cell_type": "code",
   "execution_count": 103,
   "metadata": {
    "ExecuteTime": {
     "end_time": "2018-07-10T23:41:16.137349Z",
     "start_time": "2018-07-10T23:41:16.091661Z"
    }
   },
   "outputs": [],
   "source": [
    "img = cv2.imread(\"/home/mirlab/prepped_tif/bach_bwv8491_v1/bach_bwv8491_v1-1.tif\", 0)"
   ]
  },
  {
   "cell_type": "code",
   "execution_count": 109,
   "metadata": {
    "ExecuteTime": {
     "end_time": "2018-07-10T23:44:05.498850Z",
     "start_time": "2018-07-10T23:42:57.502632Z"
    }
   },
   "outputs": [],
   "source": [
    "window_size = (500,500)\n",
    "step_size = (450,450)\n",
    "(n_rows, n_cols) = img.shape\n",
    "n_steps_r = 1 + math.ceil((n_rows - window_size[0]) / step_size[0])\n",
    "n_steps_c = 1 + math.ceil((n_cols - window_size[1]) / step_size[1])\n",
    "\n",
    "energy_map_final = np.empty((window_size[0] + (n_steps_r - 1) * step_size[0], window_size[1] + (n_steps_c - 1) * step_size[1]))\n",
    "class_map_final = np.empty((window_size[0] + (n_steps_r - 1) * step_size[0], window_size[1] + (n_steps_c - 1) * step_size[1]))\n",
    "bbox_map_final = np.empty((window_size[0] + (n_steps_r - 1) * step_size[0], window_size[1] + (n_steps_c - 1) * step_size[1], 2))\n",
    "\n",
    "for i in range(n_steps_r):\n",
    "    for j in range(n_steps_c):\n",
    "        # Load patch\n",
    "        start_row = i * step_size[0]\n",
    "        start_col = j * step_size[1]\n",
    "        end_row = min(n_rows, start_row + window_size[0])\n",
    "        end_col = min(n_cols, start_col + window_size[1])\n",
    "        \n",
    "        img_patch = np.ones(window_size) * 255\n",
    "        img_patch[:(end_row-start_row), :(end_col-start_col)] = img[start_row:end_row, start_col:end_col]\n",
    "        \n",
    "        # Model prediction + conversion\n",
    "        energy_map, class_map, bbox_map = dwd_model.predict(img_patch.reshape(1, window_size[0], window_size[1], 1))\n",
    "        energy_map_binarized = 255 * (np.argmax(energy_map, axis=-1)[0] < 5) # binarize image\n",
    "        class_prediction_img = np.argmax(class_map, axis=-1)[0]\n",
    "        bbox_prediction      = bbox_map[0,:,:,:]\n",
    "        \n",
    "        energy_map_final[start_row:start_row+window_size[0], start_col:start_col+window_size[1]] = energy_map_binarized\n",
    "        class_map_final[start_row:start_row+window_size[0], start_col:start_col+window_size[1]] = class_prediction_img\n",
    "        bbox_map_final[start_row:start_row+window_size[0], start_col:start_col+window_size[1], :] = bbox_prediction\n",
    "        \n",
    "        \n",
    "energy_map_final = energy_map_final[:n_rows, :n_cols]\n",
    "class_map_final = class_map_final[:n_rows, :n_cols]\n",
    "bbox_map_final = bbox_map_final[:n_rows, :n_cols, :]"
   ]
  },
  {
   "cell_type": "code",
   "execution_count": null,
   "metadata": {},
   "outputs": [],
   "source": []
  }
 ],
 "metadata": {
  "kernelspec": {
   "display_name": "Python 3",
   "language": "python",
   "name": "python3"
  },
  "language_info": {
   "codemirror_mode": {
    "name": "ipython",
    "version": 3
   },
   "file_extension": ".py",
   "mimetype": "text/x-python",
   "name": "python",
   "nbconvert_exporter": "python",
   "pygments_lexer": "ipython3",
   "version": "3.6.3"
  },
  "latex_envs": {
   "LaTeX_envs_menu_present": true,
   "autoclose": false,
   "autocomplete": true,
   "bibliofile": "biblio.bib",
   "cite_by": "apalike",
   "current_citInitial": 1,
   "eqLabelWithNumbers": true,
   "eqNumInitial": 1,
   "hotkeys": {
    "equation": "Ctrl-E",
    "itemize": "Ctrl-I"
   },
   "labels_anchors": false,
   "latex_user_defs": false,
   "report_style_numbering": false,
   "user_envs_cfg": false
  },
  "toc": {
   "nav_menu": {},
   "number_sections": true,
   "sideBar": true,
   "skip_h1_title": false,
   "title_cell": "Table of Contents",
   "title_sidebar": "Contents",
   "toc_cell": false,
   "toc_position": {},
   "toc_section_display": true,
   "toc_window_display": false
  },
  "varInspector": {
   "cols": {
    "lenName": 16,
    "lenType": 16,
    "lenVar": 40
   },
   "kernels_config": {
    "python": {
     "delete_cmd_postfix": "",
     "delete_cmd_prefix": "del ",
     "library": "var_list.py",
     "varRefreshCmd": "print(var_dic_list())"
    },
    "r": {
     "delete_cmd_postfix": ") ",
     "delete_cmd_prefix": "rm(",
     "library": "var_list.r",
     "varRefreshCmd": "cat(var_dic_list()) "
    }
   },
   "types_to_exclude": [
    "module",
    "function",
    "builtin_function_or_method",
    "instance",
    "_Feature"
   ],
   "window_display": false
  }
 },
 "nbformat": 4,
 "nbformat_minor": 2
}
