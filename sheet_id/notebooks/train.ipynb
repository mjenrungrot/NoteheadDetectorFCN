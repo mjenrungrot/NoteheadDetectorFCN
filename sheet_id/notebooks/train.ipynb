{
 "cells": [
  {
   "cell_type": "code",
   "execution_count": 1,
   "metadata": {
    "ExecuteTime": {
     "end_time": "2018-06-19T17:50:00.217308Z",
     "start_time": "2018-06-19T17:49:58.954749Z"
    },
    "scrolled": true
   },
   "outputs": [
    {
     "name": "stderr",
     "output_type": "stream",
     "text": [
      "/home/mirlab/miniconda3/lib/python3.6/site-packages/h5py/__init__.py:36: FutureWarning: Conversion of the second argument of issubdtype from `float` to `np.floating` is deprecated. In future, it will be treated as `np.float64 == np.dtype(float).type`.\n",
      "  from ._conv import register_converters as _register_converters\n",
      "Using TensorFlow backend.\n"
     ]
    }
   ],
   "source": [
    "from keras.optimizers import Adam\n",
    "from keras.callbacks import TensorBoard, ModelCheckpoint\n",
    "\n",
    "from sheet_id.models.FCN import FCN\n",
    "from sheet_id.utils.loss_functions import softmax_sparse_crossentropy_ignoring_background, softmax_sparse_crossentropy\n",
    "from sheet_id.utils.metrics import sparse_accuracy_ignoring_background, sparse_accuracy\n",
    "from sheet_id.utils.dataPreprocessing import splitTrainValidation\n",
    "from sheet_id.utils.dataGenerator import DataGenerator\n",
    "\n",
    "import matplotlib.pyplot as plt\n",
    "import numpy as np"
   ]
  },
  {
   "cell_type": "markdown",
   "metadata": {},
   "source": [
    "# Training"
   ]
  },
  {
   "cell_type": "code",
   "execution_count": 2,
   "metadata": {
    "ExecuteTime": {
     "end_time": "2018-06-19T17:50:00.778879Z",
     "start_time": "2018-06-19T17:50:00.218613Z"
    }
   },
   "outputs": [],
   "source": [
    "model = FCN(input_shape=(250,250,1), n_classes=124)"
   ]
  },
  {
   "cell_type": "code",
   "execution_count": 3,
   "metadata": {
    "ExecuteTime": {
     "end_time": "2018-06-19T17:50:00.848536Z",
     "start_time": "2018-06-19T17:50:00.780268Z"
    }
   },
   "outputs": [],
   "source": [
    "loss_fn = softmax_sparse_crossentropy\n",
    "optimizer = Adam(lr=1e-4, beta_1=0.9, beta_2=0.999, \n",
    "                 epsilon=1e-8, decay=0.0, amsgrad=False)\n",
    "metrics = [sparse_accuracy]\n",
    "model.compile(loss=loss_fn, optimizer=optimizer, metrics=metrics)"
   ]
  },
  {
   "cell_type": "code",
   "execution_count": 4,
   "metadata": {
    "ExecuteTime": {
     "end_time": "2018-06-19T17:50:00.851844Z",
     "start_time": "2018-06-19T17:50:00.849912Z"
    }
   },
   "outputs": [],
   "source": [
    "callbacks = []"
   ]
  },
  {
   "cell_type": "code",
   "execution_count": 5,
   "metadata": {
    "ExecuteTime": {
     "end_time": "2018-06-19T17:50:01.198740Z",
     "start_time": "2018-06-19T17:50:00.853083Z"
    }
   },
   "outputs": [],
   "source": [
    "train_partition, validation_partition = splitTrainValidation('../data/', max_size=200, test_size=20, npy_only=True)"
   ]
  },
  {
   "cell_type": "code",
   "execution_count": 6,
   "metadata": {
    "ExecuteTime": {
     "end_time": "2018-06-19T17:50:01.204014Z",
     "start_time": "2018-06-19T17:50:01.200222Z"
    }
   },
   "outputs": [],
   "source": [
    "params = {'dim': (250,250),\n",
    "          'batch_size': 20,\n",
    "          'n_classes': 124,\n",
    "          'n_channels': 1,\n",
    "          'shuffle': True,\n",
    "          'crop': True,\n",
    "          'crop_size': (250,250),\n",
    "          'load_npy': True}\n",
    "training_generator = DataGenerator(train_partition, **params)\n",
    "validation_generator = DataGenerator(validation_partition, **params)"
   ]
  },
  {
   "cell_type": "code",
   "execution_count": 7,
   "metadata": {
    "ExecuteTime": {
     "end_time": "2018-06-19T17:55:58.660075Z",
     "start_time": "2018-06-19T17:50:01.206783Z"
    },
    "scrolled": true
   },
   "outputs": [
    {
     "name": "stdout",
     "output_type": "stream",
     "text": [
      "Epoch 1/20\n",
      "10/10 [==============================] - 86s 9s/step - loss: 3.2013 - sparse_accuracy: 0.6687 - val_loss: 0.2164 - val_sparse_accuracy: 0.9810\n",
      "Epoch 2/20\n",
      "10/10 [==============================] - 14s 1s/step - loss: 0.1458 - sparse_accuracy: 0.9877 - val_loss: 0.1853 - val_sparse_accuracy: 0.9866\n",
      "Epoch 3/20\n",
      "10/10 [==============================] - 14s 1s/step - loss: 0.1289 - sparse_accuracy: 0.9858 - val_loss: 0.1282 - val_sparse_accuracy: 0.9860\n",
      "Epoch 4/20\n",
      "10/10 [==============================] - 14s 1s/step - loss: 0.0795 - sparse_accuracy: 0.9884 - val_loss: 0.0961 - val_sparse_accuracy: 0.9893\n",
      "Epoch 5/20\n",
      "10/10 [==============================] - 14s 1s/step - loss: 0.0759 - sparse_accuracy: 0.9868 - val_loss: 0.0775 - val_sparse_accuracy: 0.9907\n",
      "Epoch 6/20\n",
      "10/10 [==============================] - 14s 1s/step - loss: 0.0676 - sparse_accuracy: 0.9889 - val_loss: 0.0787 - val_sparse_accuracy: 0.9883\n",
      "Epoch 7/20\n",
      "10/10 [==============================] - 14s 1s/step - loss: 0.0761 - sparse_accuracy: 0.9858 - val_loss: 0.0711 - val_sparse_accuracy: 0.9880\n",
      "Epoch 8/20\n",
      "10/10 [==============================] - 14s 1s/step - loss: 0.0495 - sparse_accuracy: 0.9904 - val_loss: 0.0831 - val_sparse_accuracy: 0.9870\n",
      "Epoch 9/20\n",
      "10/10 [==============================] - 15s 1s/step - loss: 0.0573 - sparse_accuracy: 0.9882 - val_loss: 0.0622 - val_sparse_accuracy: 0.9904\n",
      "Epoch 10/20\n",
      "10/10 [==============================] - 14s 1s/step - loss: 0.0478 - sparse_accuracy: 0.9908 - val_loss: 0.0564 - val_sparse_accuracy: 0.9917\n",
      "Epoch 11/20\n",
      "10/10 [==============================] - 14s 1s/step - loss: 0.0492 - sparse_accuracy: 0.9902 - val_loss: 0.0466 - val_sparse_accuracy: 0.9922\n",
      "Epoch 12/20\n",
      "10/10 [==============================] - 14s 1s/step - loss: 0.0480 - sparse_accuracy: 0.9905 - val_loss: 0.0601 - val_sparse_accuracy: 0.9919\n",
      "Epoch 13/20\n",
      "10/10 [==============================] - 14s 1s/step - loss: 0.0461 - sparse_accuracy: 0.9907 - val_loss: 0.0713 - val_sparse_accuracy: 0.9885\n",
      "Epoch 14/20\n",
      "10/10 [==============================] - 14s 1s/step - loss: 0.0538 - sparse_accuracy: 0.9891 - val_loss: 0.0788 - val_sparse_accuracy: 0.9890\n",
      "Epoch 15/20\n",
      "10/10 [==============================] - 14s 1s/step - loss: 0.0478 - sparse_accuracy: 0.9905 - val_loss: 0.0803 - val_sparse_accuracy: 0.9864\n",
      "Epoch 16/20\n",
      "10/10 [==============================] - 14s 1s/step - loss: 0.0450 - sparse_accuracy: 0.9907 - val_loss: 0.0966 - val_sparse_accuracy: 0.9863\n",
      "Epoch 17/20\n",
      "10/10 [==============================] - 14s 1s/step - loss: 0.0391 - sparse_accuracy: 0.9919 - val_loss: 0.0456 - val_sparse_accuracy: 0.9912\n",
      "Epoch 18/20\n",
      "10/10 [==============================] - 14s 1s/step - loss: 0.0428 - sparse_accuracy: 0.9915 - val_loss: 0.0359 - val_sparse_accuracy: 0.9936\n",
      "Epoch 19/20\n",
      "10/10 [==============================] - 14s 1s/step - loss: 0.0476 - sparse_accuracy: 0.9900 - val_loss: 0.0402 - val_sparse_accuracy: 0.9945\n",
      "Epoch 20/20\n",
      "10/10 [==============================] - 14s 1s/step - loss: 0.0358 - sparse_accuracy: 0.9926 - val_loss: 0.0778 - val_sparse_accuracy: 0.9842\n"
     ]
    }
   ],
   "source": [
    "history = model.fit_generator(generator=training_generator, epochs=20,\n",
    "                              validation_data=validation_generator,\n",
    "                              use_multiprocessing=True, workers=10,\n",
    "                              callbacks=callbacks,\n",
    "                              steps_per_epoch=10)"
   ]
  },
  {
   "cell_type": "markdown",
   "metadata": {},
   "source": [
    "# Visualization"
   ]
  },
  {
   "cell_type": "code",
   "execution_count": 8,
   "metadata": {
    "ExecuteTime": {
     "end_time": "2018-06-19T17:55:59.529741Z",
     "start_time": "2018-06-19T17:55:58.664090Z"
    }
   },
   "outputs": [],
   "source": [
    "example_img, example_annotation = training_generator[0]"
   ]
  },
  {
   "cell_type": "code",
   "execution_count": 9,
   "metadata": {
    "ExecuteTime": {
     "end_time": "2018-06-19T17:56:00.031336Z",
     "start_time": "2018-06-19T17:55:59.531064Z"
    }
   },
   "outputs": [
    {
     "name": "stdout",
     "output_type": "stream",
     "text": [
      "\r",
      "20/20 [==============================] - 0s 25ms/step\n"
     ]
    },
    {
     "data": {
      "text/plain": [
       "[0.06838394701480865, 0.988102376461029]"
      ]
     },
     "execution_count": 9,
     "metadata": {},
     "output_type": "execute_result"
    }
   ],
   "source": [
    "model.evaluate(example_img, example_annotation)"
   ]
  },
  {
   "cell_type": "code",
   "execution_count": 10,
   "metadata": {
    "ExecuteTime": {
     "end_time": "2018-06-19T17:56:00.907831Z",
     "start_time": "2018-06-19T17:56:00.033127Z"
    }
   },
   "outputs": [
    {
     "data": {
      "text/plain": [
       "(20, 250, 250)"
      ]
     },
     "execution_count": 10,
     "metadata": {},
     "output_type": "execute_result"
    }
   ],
   "source": [
    "prediction = model.predict(example_img)\n",
    "prediction = np.argmax(prediction, axis=-1)\n",
    "prediction.shape"
   ]
  },
  {
   "cell_type": "code",
   "execution_count": 21,
   "metadata": {
    "ExecuteTime": {
     "end_time": "2018-06-19T17:57:11.439294Z",
     "start_time": "2018-06-19T17:57:11.107488Z"
    }
   },
   "outputs": [
    {
     "data": {
      "image/png": "[encoded data removed]",
      "text/plain": [
       "<matplotlib.figure.Figure at 0x7f70d8aa0cf8>"
      ]
     },
     "metadata": {},
     "output_type": "display_data"
    }
   ],
   "source": [
    "img_id = 2\n",
    "plt.figure(figsize=(20,20))\n",
    "plt.subplot(1,3,1)\n",
    "plt.imshow(example_img[img_id,:,:,0], cmap='gray')\n",
    "plt.subplot(1,3,2)\n",
    "plt.imshow(example_annotation[img_id,:,:,0], cmap='gray')\n",
    "plt.title(np.unique(example_annotation[img_id,:,:,0]))\n",
    "plt.subplot(1,3,3)\n",
    "plt.imshow(prediction[img_id,:,:], cmap='gray')\n",
    "plt.title(np.unique(prediction))\n",
    "plt.show()"
   ]
  },
  {
   "cell_type": "code",
   "execution_count": null,
   "metadata": {},
   "outputs": [],
   "source": []
  }
 ],
 "metadata": {
  "kernelspec": {
   "display_name": "Python 3",
   "language": "python",
   "name": "python3"
  },
  "language_info": {
   "codemirror_mode": {
    "name": "ipython",
    "version": 3
   },
   "file_extension": ".py",
   "mimetype": "text/x-python",
   "name": "python",
   "nbconvert_exporter": "python",
   "pygments_lexer": "ipython3",
   "version": "3.6.3"
  },
  "latex_envs": {
   "LaTeX_envs_menu_present": true,
   "autoclose": false,
   "autocomplete": true,
   "bibliofile": "biblio.bib",
   "cite_by": "apalike",
   "current_citInitial": 1,
   "eqLabelWithNumbers": true,
   "eqNumInitial": 1,
   "hotkeys": {
    "equation": "Ctrl-E",
    "itemize": "Ctrl-I"
   },
   "labels_anchors": false,
   "latex_user_defs": false,
   "report_style_numbering": false,
   "user_envs_cfg": false
  },
  "toc": {
   "nav_menu": {},
   "number_sections": true,
   "sideBar": true,
   "skip_h1_title": false,
   "title_cell": "Table of Contents",
   "title_sidebar": "Contents",
   "toc_cell": false,
   "toc_position": {},
   "toc_section_display": true,
   "toc_window_display": false
  },
  "varInspector": {
   "cols": {
    "lenName": 16,
    "lenType": 16,
    "lenVar": 40
   },
   "kernels_config": {
    "python": {
     "delete_cmd_postfix": "",
     "delete_cmd_prefix": "del ",
     "library": "var_list.py",
     "varRefreshCmd": "print(var_dic_list())"
    },
    "r": {
     "delete_cmd_postfix": ") ",
     "delete_cmd_prefix": "rm(",
     "library": "var_list.r",
     "varRefreshCmd": "cat(var_dic_list()) "
    }
   },
   "position": {
    "height": "519px",
    "left": "1154px",
    "right": "52px",
    "top": "111px",
    "width": "714px"
   },
   "types_to_exclude": [
    "module",
    "function",
    "builtin_function_or_method",
    "instance",
    "_Feature"
   ],
   "window_display": false
  }
 },
 "nbformat": 4,
 "nbformat_minor": 2
}
