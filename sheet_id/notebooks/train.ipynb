{
 "cells": [
  {
   "cell_type": "code",
   "execution_count": 1,
   "metadata": {
    "ExecuteTime": {
     "end_time": "2018-07-02T22:01:24.146509Z",
     "start_time": "2018-07-02T22:01:22.892847Z"
    },
    "scrolled": true
   },
   "outputs": [
    {
     "name": "stderr",
     "output_type": "stream",
     "text": [
      "/home/mirlab/miniconda3/lib/python3.6/site-packages/h5py/__init__.py:36: FutureWarning: Conversion of the second argument of issubdtype from `float` to `np.floating` is deprecated. In future, it will be treated as `np.float64 == np.dtype(float).type`.\n",
      "  from ._conv import register_converters as _register_converters\n",
      "Using TensorFlow backend.\n"
     ]
    }
   ],
   "source": [
    "from keras.optimizers import Adam\n",
    "from keras.callbacks import TensorBoard, ModelCheckpoint\n",
    "\n",
    "from sheet_id.models.FCN import FCN\n",
    "from sheet_id.utils.loss_functions import softmax_sparse_crossentropy_ignoring_background, softmax_sparse_crossentropy\n",
    "from sheet_id.utils.metrics import sparse_accuracy_ignoring_background, sparse_accuracy\n",
    "from sheet_id.utils.dataPreprocessing import splitTrainValidation\n",
    "from sheet_id.utils.dataGenerator import DataGenerator\n",
    "from sheet_id.utils.dwd_utils import generateGroundTruthMaps\n",
    "\n",
    "import matplotlib.pyplot as plt\n",
    "import numpy as np"
   ]
  },
  {
   "cell_type": "markdown",
   "metadata": {},
   "source": [
    "# Training"
   ]
  },
  {
   "cell_type": "code",
   "execution_count": 2,
   "metadata": {
    "ExecuteTime": {
     "end_time": "2018-07-02T22:01:24.968630Z",
     "start_time": "2018-07-02T22:01:24.294459Z"
    }
   },
   "outputs": [],
   "source": [
    "model = FCN(input_shape=(500,500,1), n_classes=124)"
   ]
  },
  {
   "cell_type": "code",
   "execution_count": 3,
   "metadata": {
    "ExecuteTime": {
     "end_time": "2018-07-02T22:01:25.188007Z",
     "start_time": "2018-07-02T22:01:25.113261Z"
    }
   },
   "outputs": [],
   "source": [
    "loss_fn = softmax_sparse_crossentropy\n",
    "optimizer = Adam(lr=1e-4, beta_1=0.9, beta_2=0.999, \n",
    "                 epsilon=1e-8, decay=0.0, amsgrad=False)\n",
    "metrics = [sparse_accuracy]\n",
    "model.compile(loss=loss_fn, optimizer=optimizer, metrics=metrics)"
   ]
  },
  {
   "cell_type": "code",
   "execution_count": 4,
   "metadata": {
    "ExecuteTime": {
     "end_time": "2018-07-02T22:01:25.345079Z",
     "start_time": "2018-07-02T22:01:25.342679Z"
    }
   },
   "outputs": [],
   "source": [
    "callbacks = []"
   ]
  },
  {
   "cell_type": "code",
   "execution_count": 5,
   "metadata": {
    "ExecuteTime": {
     "end_time": "2018-07-02T22:01:26.295873Z",
     "start_time": "2018-07-02T22:01:25.993938Z"
    }
   },
   "outputs": [],
   "source": [
    "train_partition, validation_partition = splitTrainValidation('../data/', max_size=200, test_size=20, npy_only=True)"
   ]
  },
  {
   "cell_type": "code",
   "execution_count": 6,
   "metadata": {
    "ExecuteTime": {
     "end_time": "2018-07-02T22:01:26.484564Z",
     "start_time": "2018-07-02T22:01:26.479195Z"
    }
   },
   "outputs": [],
   "source": [
    "params = {'dim': (500,500),\n",
    "          'batch_size': 1,\n",
    "          'n_classes': 124,\n",
    "          'n_channels': 1,\n",
    "          'shuffle': True,\n",
    "          'crop': True,\n",
    "          'crop_size': (500,500),\n",
    "          'load_npy': True}\n",
    "training_generator = DataGenerator(train_partition, **params)\n",
    "validation_generator = DataGenerator(validation_partition, **params)"
   ]
  },
  {
   "cell_type": "code",
   "execution_count": null,
   "metadata": {
    "ExecuteTime": {
     "end_time": "2018-07-02T21:54:18.834301Z",
     "start_time": "2018-07-02T21:54:18.832217Z"
    },
    "scrolled": true
   },
   "outputs": [],
   "source": [
    "# history = model.fit_generator(generator=training_generator, epochs=10,\n",
    "#                               validation_data=validation_generator,\n",
    "#                               use_multiprocessing=True, workers=10,\n",
    "#                               callbacks=callbacks,\n",
    "#                               steps_per_epoch=10)"
   ]
  },
  {
   "cell_type": "code",
   "execution_count": null,
   "metadata": {
    "ExecuteTime": {
     "end_time": "2018-07-02T21:54:18.987730Z",
     "start_time": "2018-07-02T21:54:18.986059Z"
    }
   },
   "outputs": [],
   "source": [
    "# model.save_weights('../checkpoints/working_fcn.h5')"
   ]
  },
  {
   "cell_type": "code",
   "execution_count": null,
   "metadata": {
    "ExecuteTime": {
     "end_time": "2018-07-02T21:54:19.138023Z",
     "start_time": "2018-07-02T21:54:19.135771Z"
    }
   },
   "outputs": [],
   "source": [
    "# model.load_weights('../checkpoints/working_fcn.h5')"
   ]
  },
  {
   "cell_type": "markdown",
   "metadata": {},
   "source": [
    "# Visualization"
   ]
  },
  {
   "cell_type": "code",
   "execution_count": null,
   "metadata": {
    "ExecuteTime": {
     "end_time": "2018-07-02T21:54:19.621555Z",
     "start_time": "2018-07-02T21:54:19.618589Z"
    }
   },
   "outputs": [],
   "source": [
    "# example_img, energy_map, class_map, bbox_map = training_generator[0]"
   ]
  },
  {
   "cell_type": "code",
   "execution_count": null,
   "metadata": {
    "ExecuteTime": {
     "end_time": "2018-07-02T21:54:19.858738Z",
     "start_time": "2018-07-02T21:54:19.855972Z"
    }
   },
   "outputs": [],
   "source": [
    "# model.evaluate(example_img, example_annotation)"
   ]
  },
  {
   "cell_type": "code",
   "execution_count": null,
   "metadata": {
    "ExecuteTime": {
     "end_time": "2018-07-02T21:54:20.188579Z",
     "start_time": "2018-07-02T21:54:20.185137Z"
    }
   },
   "outputs": [],
   "source": [
    "# prediction = model.predict(example_img)\n",
    "# prediction = np.argmax(prediction, axis=-1)\n",
    "# prediction.shape"
   ]
  },
  {
   "cell_type": "code",
   "execution_count": null,
   "metadata": {
    "ExecuteTime": {
     "end_time": "2018-07-02T21:54:20.449335Z",
     "start_time": "2018-07-02T21:54:20.443687Z"
    }
   },
   "outputs": [],
   "source": [
    "# img_id = 12\n",
    "# plt.figure(figsize=(20,20))\n",
    "# plt.subplot(1,3,1)\n",
    "# plt.imshow(example_img[img_id,:,:,0], cmap='gray')\n",
    "# plt.subplot(1,3,2)\n",
    "# plt.imshow(example_annotation[img_id,:,:,0], cmap='gray', vmin=0, vmax=125)\n",
    "# plt.title(np.unique(example_annotation[img_id,:,:,0]))\n",
    "# plt.subplot(1,3,3)\n",
    "# plt.imshow(prediction[img_id,:,:], cmap='gray', vmin=0, vmax=125)\n",
    "# plt.title(np.unique(prediction))\n",
    "# plt.show()"
   ]
  },
  {
   "cell_type": "code",
   "execution_count": null,
   "metadata": {
    "ExecuteTime": {
     "end_time": "2018-07-02T21:54:20.670331Z",
     "start_time": "2018-07-02T21:54:20.666150Z"
    }
   },
   "outputs": [],
   "source": [
    "# mask = 29\n",
    "# masked = np.zeros_like(prediction[img_id, :, :])\n",
    "# for row in range(prediction.shape[1]):\n",
    "#     for col in range(prediction.shape[2]):\n",
    "#         if prediction[img_id, row, col] == mask:\n",
    "#             masked[row, col] = 255\n",
    "#         else:\n",
    "#             masked[row, col] = 0\n",
    "\n",
    "# plt.imshow(masked, cmap='gray')\n",
    "# plt.title('Prediction only for class {:}'.format(mask))\n",
    "# plt.show()"
   ]
  },
  {
   "cell_type": "markdown",
   "metadata": {},
   "source": [
    "# Deep Watershed"
   ]
  },
  {
   "cell_type": "code",
   "execution_count": 7,
   "metadata": {
    "ExecuteTime": {
     "end_time": "2018-07-02T22:01:29.994283Z",
     "start_time": "2018-07-02T22:01:29.885545Z"
    }
   },
   "outputs": [
    {
     "data": {
      "image/svg+xml": [
       "<svg height=\"3209pt\" viewBox=\"0.00 0.00 956.00 3209.00\" width=\"956pt\" xmlns=\"http://www.w3.org/2000/svg\" xmlns:xlink=\"http://www.w3.org/1999/xlink\">\n",
       "<g class=\"graph\" id=\"graph0\" transform=\"scale(1 1) rotate(0) translate(4 3205)\">\n",
       "<title>G</title>\n",
       "<polygon fill=\"white\" points=\"-4,4 -4,-3205 952,-3205 952,4 -4,4\" stroke=\"none\"/>\n",
       "<!-- 140379433136200 -->\n",
       "<g class=\"node\" id=\"node1\"><title>140379433136200</title>\n",
       "<polygon fill=\"none\" points=\"608,-3154.5 608,-3200.5 913,-3200.5 913,-3154.5 608,-3154.5\" stroke=\"black\"/>\n",
       "<text font-family=\"Times,serif\" font-size=\"14.00\" text-anchor=\"middle\" x=\"670.5\" y=\"-3173.8\">input_1: InputLayer</text>\n",
       "<polyline fill=\"none\" points=\"733,-3154.5 733,-3200.5 \" stroke=\"black\"/>\n",
       "<text font-family=\"Times,serif\" font-size=\"14.00\" text-anchor=\"middle\" x=\"760.5\" y=\"-3185.3\">input:</text>\n",
       "<polyline fill=\"none\" points=\"733,-3177.5 788,-3177.5 \" stroke=\"black\"/>\n",
       "<text font-family=\"Times,serif\" font-size=\"14.00\" text-anchor=\"middle\" x=\"760.5\" y=\"-3162.3\">output:</text>\n",
       "<polyline fill=\"none\" points=\"788,-3154.5 788,-3200.5 \" stroke=\"black\"/>\n",
       "<text font-family=\"Times,serif\" font-size=\"14.00\" text-anchor=\"middle\" x=\"850.5\" y=\"-3185.3\">(None, 500, 500, 1)</text>\n",
       "<polyline fill=\"none\" points=\"788,-3177.5 913,-3177.5 \" stroke=\"black\"/>\n",
       "<text font-family=\"Times,serif\" font-size=\"14.00\" text-anchor=\"middle\" x=\"850.5\" y=\"-3162.3\">(None, 500, 500, 1)</text>\n",
       "</g>\n",
       "<!-- 140379433137880 -->\n",
       "<g class=\"node\" id=\"node2\"><title>140379433137880</title>\n",
       "<polygon fill=\"none\" points=\"616,-3071.5 616,-3117.5 905,-3117.5 905,-3071.5 616,-3071.5\" stroke=\"black\"/>\n",
       "<text font-family=\"Times,serif\" font-size=\"14.00\" text-anchor=\"middle\" x=\"667.5\" y=\"-3090.8\">conv2: Conv2D</text>\n",
       "<polyline fill=\"none\" points=\"719,-3071.5 719,-3117.5 \" stroke=\"black\"/>\n",
       "<text font-family=\"Times,serif\" font-size=\"14.00\" text-anchor=\"middle\" x=\"746.5\" y=\"-3102.3\">input:</text>\n",
       "<polyline fill=\"none\" points=\"719,-3094.5 774,-3094.5 \" stroke=\"black\"/>\n",
       "<text font-family=\"Times,serif\" font-size=\"14.00\" text-anchor=\"middle\" x=\"746.5\" y=\"-3079.3\">output:</text>\n",
       "<polyline fill=\"none\" points=\"774,-3071.5 774,-3117.5 \" stroke=\"black\"/>\n",
       "<text font-family=\"Times,serif\" font-size=\"14.00\" text-anchor=\"middle\" x=\"839.5\" y=\"-3102.3\">(None, 500, 500, 1)</text>\n",
       "<polyline fill=\"none\" points=\"774,-3094.5 905,-3094.5 \" stroke=\"black\"/>\n",
       "<text font-family=\"Times,serif\" font-size=\"14.00\" text-anchor=\"middle\" x=\"839.5\" y=\"-3079.3\">(None, 500, 500, 64)</text>\n",
       "</g>\n",
       "<!-- 140379433136200&#45;&gt;140379433137880 -->\n",
       "<g class=\"edge\" id=\"edge1\"><title>140379433136200-&gt;140379433137880</title>\n",
       "<path d=\"M760.5,-3154.37C760.5,-3146.15 760.5,-3136.66 760.5,-3127.73\" fill=\"none\" stroke=\"black\"/>\n",
       "<polygon fill=\"black\" points=\"764,-3127.61 760.5,-3117.61 757,-3127.61 764,-3127.61\" stroke=\"black\"/>\n",
       "</g>\n",
       "<!-- 140379432724688 -->\n",
       "<g class=\"node\" id=\"node3\"><title>140379432724688</title>\n",
       "<polygon fill=\"none\" points=\"598,-2988.5 598,-3034.5 923,-3034.5 923,-2988.5 598,-2988.5\" stroke=\"black\"/>\n",
       "<text font-family=\"Times,serif\" font-size=\"14.00\" text-anchor=\"middle\" x=\"667.5\" y=\"-3007.8\">pool2: MaxPooling2D</text>\n",
       "<polyline fill=\"none\" points=\"737,-2988.5 737,-3034.5 \" stroke=\"black\"/>\n",
       "<text font-family=\"Times,serif\" font-size=\"14.00\" text-anchor=\"middle\" x=\"764.5\" y=\"-3019.3\">input:</text>\n",
       "<polyline fill=\"none\" points=\"737,-3011.5 792,-3011.5 \" stroke=\"black\"/>\n",
       "<text font-family=\"Times,serif\" font-size=\"14.00\" text-anchor=\"middle\" x=\"764.5\" y=\"-2996.3\">output:</text>\n",
       "<polyline fill=\"none\" points=\"792,-2988.5 792,-3034.5 \" stroke=\"black\"/>\n",
       "<text font-family=\"Times,serif\" font-size=\"14.00\" text-anchor=\"middle\" x=\"857.5\" y=\"-3019.3\">(None, 500, 500, 64)</text>\n",
       "<polyline fill=\"none\" points=\"792,-3011.5 923,-3011.5 \" stroke=\"black\"/>\n",
       "<text font-family=\"Times,serif\" font-size=\"14.00\" text-anchor=\"middle\" x=\"857.5\" y=\"-2996.3\">(None, 250, 250, 64)</text>\n",
       "</g>\n",
       "<!-- 140379433137880&#45;&gt;140379432724688 -->\n",
       "<g class=\"edge\" id=\"edge2\"><title>140379433137880-&gt;140379432724688</title>\n",
       "<path d=\"M760.5,-3071.37C760.5,-3063.15 760.5,-3053.66 760.5,-3044.73\" fill=\"none\" stroke=\"black\"/>\n",
       "<polygon fill=\"black\" points=\"764,-3044.61 760.5,-3034.61 757,-3044.61 764,-3044.61\" stroke=\"black\"/>\n",
       "</g>\n",
       "<!-- 140379432726368 -->\n",
       "<g class=\"node\" id=\"node4\"><title>140379432726368</title>\n",
       "<polygon fill=\"none\" points=\"517.5,-2905.5 517.5,-2951.5 821.5,-2951.5 821.5,-2905.5 517.5,-2905.5\" stroke=\"black\"/>\n",
       "<text font-family=\"Times,serif\" font-size=\"14.00\" text-anchor=\"middle\" x=\"576.5\" y=\"-2924.8\">dropout2: Dropout</text>\n",
       "<polyline fill=\"none\" points=\"635.5,-2905.5 635.5,-2951.5 \" stroke=\"black\"/>\n",
       "<text font-family=\"Times,serif\" font-size=\"14.00\" text-anchor=\"middle\" x=\"663\" y=\"-2936.3\">input:</text>\n",
       "<polyline fill=\"none\" points=\"635.5,-2928.5 690.5,-2928.5 \" stroke=\"black\"/>\n",
       "<text font-family=\"Times,serif\" font-size=\"14.00\" text-anchor=\"middle\" x=\"663\" y=\"-2913.3\">output:</text>\n",
       "<polyline fill=\"none\" points=\"690.5,-2905.5 690.5,-2951.5 \" stroke=\"black\"/>\n",
       "<text font-family=\"Times,serif\" font-size=\"14.00\" text-anchor=\"middle\" x=\"756\" y=\"-2936.3\">(None, 250, 250, 64)</text>\n",
       "<polyline fill=\"none\" points=\"690.5,-2928.5 821.5,-2928.5 \" stroke=\"black\"/>\n",
       "<text font-family=\"Times,serif\" font-size=\"14.00\" text-anchor=\"middle\" x=\"756\" y=\"-2913.3\">(None, 250, 250, 64)</text>\n",
       "</g>\n",
       "<!-- 140379432724688&#45;&gt;140379432726368 -->\n",
       "<g class=\"edge\" id=\"edge3\"><title>140379432724688-&gt;140379432726368</title>\n",
       "<path d=\"M735.634,-2988.37C725.201,-2979.08 712.932,-2968.16 701.813,-2958.26\" fill=\"none\" stroke=\"black\"/>\n",
       "<polygon fill=\"black\" points=\"704.133,-2955.64 694.336,-2951.61 699.479,-2960.87 704.133,-2955.64\" stroke=\"black\"/>\n",
       "</g>\n",
       "<!-- 140379427360720 -->\n",
       "<g class=\"node\" id=\"node35\"><title>140379427360720</title>\n",
       "<polygon fill=\"none\" points=\"485,-332.5 485,-378.5 948,-378.5 948,-332.5 485,-332.5\" stroke=\"black\"/>\n",
       "<text font-family=\"Times,serif\" font-size=\"14.00\" text-anchor=\"middle\" x=\"557.5\" y=\"-351.8\">stacked_4: Concatenate</text>\n",
       "<polyline fill=\"none\" points=\"630,-332.5 630,-378.5 \" stroke=\"black\"/>\n",
       "<text font-family=\"Times,serif\" font-size=\"14.00\" text-anchor=\"middle\" x=\"657.5\" y=\"-363.3\">input:</text>\n",
       "<polyline fill=\"none\" points=\"630,-355.5 685,-355.5 \" stroke=\"black\"/>\n",
       "<text font-family=\"Times,serif\" font-size=\"14.00\" text-anchor=\"middle\" x=\"657.5\" y=\"-340.3\">output:</text>\n",
       "<polyline fill=\"none\" points=\"685,-332.5 685,-378.5 \" stroke=\"black\"/>\n",
       "<text font-family=\"Times,serif\" font-size=\"14.00\" text-anchor=\"middle\" x=\"816.5\" y=\"-363.3\">[(None, 250, 250, 64), (None, 250, 250, 64)]</text>\n",
       "<polyline fill=\"none\" points=\"685,-355.5 948,-355.5 \" stroke=\"black\"/>\n",
       "<text font-family=\"Times,serif\" font-size=\"14.00\" text-anchor=\"middle\" x=\"816.5\" y=\"-340.3\">(None, 250, 250, 128)</text>\n",
       "</g>\n",
       "<!-- 140379432724688&#45;&gt;140379427360720 -->\n",
       "<g class=\"edge\" id=\"edge38\"><title>140379432724688-&gt;140379427360720</title>\n",
       "<path d=\"M795.906,-2988.34C808.636,-2978.67 821.948,-2966.26 830.5,-2952 855.131,-2910.92 852.5,-2894.4 852.5,-2846.5 852.5,-2846.5 852.5,-2846.5 852.5,-520.5 852.5,-472.857 862.054,-453.138 833.5,-415 823.694,-401.902 810.14,-391.543 795.725,-383.419\" fill=\"none\" stroke=\"black\"/>\n",
       "<polygon fill=\"black\" points=\"797.143,-380.21 786.664,-378.645 793.88,-386.403 797.143,-380.21\" stroke=\"black\"/>\n",
       "</g>\n",
       "<!-- 140379433137600 -->\n",
       "<g class=\"node\" id=\"node5\"><title>140379433137600</title>\n",
       "<polygon fill=\"none\" points=\"514.5,-2822.5 514.5,-2868.5 810.5,-2868.5 810.5,-2822.5 514.5,-2822.5\" stroke=\"black\"/>\n",
       "<text font-family=\"Times,serif\" font-size=\"14.00\" text-anchor=\"middle\" x=\"566\" y=\"-2841.8\">conv3: Conv2D</text>\n",
       "<polyline fill=\"none\" points=\"617.5,-2822.5 617.5,-2868.5 \" stroke=\"black\"/>\n",
       "<text font-family=\"Times,serif\" font-size=\"14.00\" text-anchor=\"middle\" x=\"645\" y=\"-2853.3\">input:</text>\n",
       "<polyline fill=\"none\" points=\"617.5,-2845.5 672.5,-2845.5 \" stroke=\"black\"/>\n",
       "<text font-family=\"Times,serif\" font-size=\"14.00\" text-anchor=\"middle\" x=\"645\" y=\"-2830.3\">output:</text>\n",
       "<polyline fill=\"none\" points=\"672.5,-2822.5 672.5,-2868.5 \" stroke=\"black\"/>\n",
       "<text font-family=\"Times,serif\" font-size=\"14.00\" text-anchor=\"middle\" x=\"741.5\" y=\"-2853.3\">(None, 250, 250, 64)</text>\n",
       "<polyline fill=\"none\" points=\"672.5,-2845.5 810.5,-2845.5 \" stroke=\"black\"/>\n",
       "<text font-family=\"Times,serif\" font-size=\"14.00\" text-anchor=\"middle\" x=\"741.5\" y=\"-2830.3\">(None, 250, 250, 128)</text>\n",
       "</g>\n",
       "<!-- 140379432726368&#45;&gt;140379433137600 -->\n",
       "<g class=\"edge\" id=\"edge4\"><title>140379432726368-&gt;140379433137600</title>\n",
       "<path d=\"M667.587,-2905.37C666.877,-2897.15 666.057,-2887.66 665.285,-2878.73\" fill=\"none\" stroke=\"black\"/>\n",
       "<polygon fill=\"black\" points=\"668.759,-2878.27 664.41,-2868.61 661.785,-2878.87 668.759,-2878.27\" stroke=\"black\"/>\n",
       "</g>\n",
       "<!-- 140379432807112 -->\n",
       "<g class=\"node\" id=\"node6\"><title>140379432807112</title>\n",
       "<polygon fill=\"none\" points=\"492.5,-2739.5 492.5,-2785.5 824.5,-2785.5 824.5,-2739.5 492.5,-2739.5\" stroke=\"black\"/>\n",
       "<text font-family=\"Times,serif\" font-size=\"14.00\" text-anchor=\"middle\" x=\"562\" y=\"-2758.8\">pool3: MaxPooling2D</text>\n",
       "<polyline fill=\"none\" points=\"631.5,-2739.5 631.5,-2785.5 \" stroke=\"black\"/>\n",
       "<text font-family=\"Times,serif\" font-size=\"14.00\" text-anchor=\"middle\" x=\"659\" y=\"-2770.3\">input:</text>\n",
       "<polyline fill=\"none\" points=\"631.5,-2762.5 686.5,-2762.5 \" stroke=\"black\"/>\n",
       "<text font-family=\"Times,serif\" font-size=\"14.00\" text-anchor=\"middle\" x=\"659\" y=\"-2747.3\">output:</text>\n",
       "<polyline fill=\"none\" points=\"686.5,-2739.5 686.5,-2785.5 \" stroke=\"black\"/>\n",
       "<text font-family=\"Times,serif\" font-size=\"14.00\" text-anchor=\"middle\" x=\"755.5\" y=\"-2770.3\">(None, 250, 250, 128)</text>\n",
       "<polyline fill=\"none\" points=\"686.5,-2762.5 824.5,-2762.5 \" stroke=\"black\"/>\n",
       "<text font-family=\"Times,serif\" font-size=\"14.00\" text-anchor=\"middle\" x=\"755.5\" y=\"-2747.3\">(None, 125, 125, 128)</text>\n",
       "</g>\n",
       "<!-- 140379433137600&#45;&gt;140379432807112 -->\n",
       "<g class=\"edge\" id=\"edge5\"><title>140379433137600-&gt;140379432807112</title>\n",
       "<path d=\"M661.407,-2822.37C661.001,-2814.15 660.532,-2804.66 660.091,-2795.73\" fill=\"none\" stroke=\"black\"/>\n",
       "<polygon fill=\"black\" points=\"663.581,-2795.42 659.592,-2785.61 656.589,-2795.77 663.581,-2795.42\" stroke=\"black\"/>\n",
       "</g>\n",
       "<!-- 140379432475168 -->\n",
       "<g class=\"node\" id=\"node7\"><title>140379432475168</title>\n",
       "<polygon fill=\"none\" points=\"395,-2656.5 395,-2702.5 706,-2702.5 706,-2656.5 395,-2656.5\" stroke=\"black\"/>\n",
       "<text font-family=\"Times,serif\" font-size=\"14.00\" text-anchor=\"middle\" x=\"454\" y=\"-2675.8\">dropout3: Dropout</text>\n",
       "<polyline fill=\"none\" points=\"513,-2656.5 513,-2702.5 \" stroke=\"black\"/>\n",
       "<text font-family=\"Times,serif\" font-size=\"14.00\" text-anchor=\"middle\" x=\"540.5\" y=\"-2687.3\">input:</text>\n",
       "<polyline fill=\"none\" points=\"513,-2679.5 568,-2679.5 \" stroke=\"black\"/>\n",
       "<text font-family=\"Times,serif\" font-size=\"14.00\" text-anchor=\"middle\" x=\"540.5\" y=\"-2664.3\">output:</text>\n",
       "<polyline fill=\"none\" points=\"568,-2656.5 568,-2702.5 \" stroke=\"black\"/>\n",
       "<text font-family=\"Times,serif\" font-size=\"14.00\" text-anchor=\"middle\" x=\"637\" y=\"-2687.3\">(None, 125, 125, 128)</text>\n",
       "<polyline fill=\"none\" points=\"568,-2679.5 706,-2679.5 \" stroke=\"black\"/>\n",
       "<text font-family=\"Times,serif\" font-size=\"14.00\" text-anchor=\"middle\" x=\"637\" y=\"-2664.3\">(None, 125, 125, 128)</text>\n",
       "</g>\n",
       "<!-- 140379432807112&#45;&gt;140379432475168 -->\n",
       "<g class=\"edge\" id=\"edge6\"><title>140379432807112-&gt;140379432475168</title>\n",
       "<path d=\"M628.989,-2739.37C616.369,-2729.9 601.485,-2718.74 588.09,-2708.69\" fill=\"none\" stroke=\"black\"/>\n",
       "<polygon fill=\"black\" points=\"590.076,-2705.81 579.976,-2702.61 585.876,-2711.41 590.076,-2705.81\" stroke=\"black\"/>\n",
       "</g>\n",
       "<!-- 140379427856056 -->\n",
       "<g class=\"node\" id=\"node30\"><title>140379427856056</title>\n",
       "<polygon fill=\"none\" points=\"343.5,-747.5 343.5,-793.5 819.5,-793.5 819.5,-747.5 343.5,-747.5\" stroke=\"black\"/>\n",
       "<text font-family=\"Times,serif\" font-size=\"14.00\" text-anchor=\"middle\" x=\"416\" y=\"-766.8\">stacked_3: Concatenate</text>\n",
       "<polyline fill=\"none\" points=\"488.5,-747.5 488.5,-793.5 \" stroke=\"black\"/>\n",
       "<text font-family=\"Times,serif\" font-size=\"14.00\" text-anchor=\"middle\" x=\"516\" y=\"-778.3\">input:</text>\n",
       "<polyline fill=\"none\" points=\"488.5,-770.5 543.5,-770.5 \" stroke=\"black\"/>\n",
       "<text font-family=\"Times,serif\" font-size=\"14.00\" text-anchor=\"middle\" x=\"516\" y=\"-755.3\">output:</text>\n",
       "<polyline fill=\"none\" points=\"543.5,-747.5 543.5,-793.5 \" stroke=\"black\"/>\n",
       "<text font-family=\"Times,serif\" font-size=\"14.00\" text-anchor=\"middle\" x=\"681.5\" y=\"-778.3\">[(None, 125, 125, 128), (None, 125, 125, 128)]</text>\n",
       "<polyline fill=\"none\" points=\"543.5,-770.5 819.5,-770.5 \" stroke=\"black\"/>\n",
       "<text font-family=\"Times,serif\" font-size=\"14.00\" text-anchor=\"middle\" x=\"681.5\" y=\"-755.3\">(None, 125, 125, 256)</text>\n",
       "</g>\n",
       "<!-- 140379432807112&#45;&gt;140379427856056 -->\n",
       "<g class=\"edge\" id=\"edge32\"><title>140379432807112-&gt;140379427856056</title>\n",
       "<path d=\"M686.179,-2739.32C696.9,-2729.31 708.302,-2716.68 715.5,-2703 737.765,-2660.69 736.5,-2645.31 736.5,-2597.5 736.5,-2597.5 736.5,-2597.5 736.5,-935.5 736.5,-887.857 747.137,-867.303 717.5,-830 706.807,-816.542 692.421,-806.123 676.999,-798.074\" fill=\"none\" stroke=\"black\"/>\n",
       "<polygon fill=\"black\" points=\"678.343,-794.835 667.82,-793.603 675.278,-801.128 678.343,-794.835\" stroke=\"black\"/>\n",
       "</g>\n",
       "<!-- 140379432476232 -->\n",
       "<g class=\"node\" id=\"node8\"><title>140379432476232</title>\n",
       "<polygon fill=\"none\" points=\"397.5,-2573.5 397.5,-2619.5 693.5,-2619.5 693.5,-2573.5 397.5,-2573.5\" stroke=\"black\"/>\n",
       "<text font-family=\"Times,serif\" font-size=\"14.00\" text-anchor=\"middle\" x=\"449\" y=\"-2592.8\">conv4: Conv2D</text>\n",
       "<polyline fill=\"none\" points=\"500.5,-2573.5 500.5,-2619.5 \" stroke=\"black\"/>\n",
       "<text font-family=\"Times,serif\" font-size=\"14.00\" text-anchor=\"middle\" x=\"528\" y=\"-2604.3\">input:</text>\n",
       "<polyline fill=\"none\" points=\"500.5,-2596.5 555.5,-2596.5 \" stroke=\"black\"/>\n",
       "<text font-family=\"Times,serif\" font-size=\"14.00\" text-anchor=\"middle\" x=\"528\" y=\"-2581.3\">output:</text>\n",
       "<polyline fill=\"none\" points=\"555.5,-2573.5 555.5,-2619.5 \" stroke=\"black\"/>\n",
       "<text font-family=\"Times,serif\" font-size=\"14.00\" text-anchor=\"middle\" x=\"624.5\" y=\"-2604.3\">(None, 125, 125, 128)</text>\n",
       "<polyline fill=\"none\" points=\"555.5,-2596.5 693.5,-2596.5 \" stroke=\"black\"/>\n",
       "<text font-family=\"Times,serif\" font-size=\"14.00\" text-anchor=\"middle\" x=\"624.5\" y=\"-2581.3\">(None, 125, 125, 256)</text>\n",
       "</g>\n",
       "<!-- 140379432475168&#45;&gt;140379432476232 -->\n",
       "<g class=\"edge\" id=\"edge7\"><title>140379432475168-&gt;140379432476232</title>\n",
       "<path d=\"M549.134,-2656.37C548.627,-2648.15 548.041,-2638.66 547.489,-2629.73\" fill=\"none\" stroke=\"black\"/>\n",
       "<polygon fill=\"black\" points=\"550.974,-2629.37 546.865,-2619.61 543.987,-2629.8 550.974,-2629.37\" stroke=\"black\"/>\n",
       "</g>\n",
       "<!-- 140379432594848 -->\n",
       "<g class=\"node\" id=\"node9\"><title>140379432594848</title>\n",
       "<polygon fill=\"none\" points=\"376.5,-2490.5 376.5,-2536.5 708.5,-2536.5 708.5,-2490.5 376.5,-2490.5\" stroke=\"black\"/>\n",
       "<text font-family=\"Times,serif\" font-size=\"14.00\" text-anchor=\"middle\" x=\"446\" y=\"-2509.8\">pool4: MaxPooling2D</text>\n",
       "<polyline fill=\"none\" points=\"515.5,-2490.5 515.5,-2536.5 \" stroke=\"black\"/>\n",
       "<text font-family=\"Times,serif\" font-size=\"14.00\" text-anchor=\"middle\" x=\"543\" y=\"-2521.3\">input:</text>\n",
       "<polyline fill=\"none\" points=\"515.5,-2513.5 570.5,-2513.5 \" stroke=\"black\"/>\n",
       "<text font-family=\"Times,serif\" font-size=\"14.00\" text-anchor=\"middle\" x=\"543\" y=\"-2498.3\">output:</text>\n",
       "<polyline fill=\"none\" points=\"570.5,-2490.5 570.5,-2536.5 \" stroke=\"black\"/>\n",
       "<text font-family=\"Times,serif\" font-size=\"14.00\" text-anchor=\"middle\" x=\"639.5\" y=\"-2521.3\">(None, 125, 125, 256)</text>\n",
       "<polyline fill=\"none\" points=\"570.5,-2513.5 708.5,-2513.5 \" stroke=\"black\"/>\n",
       "<text font-family=\"Times,serif\" font-size=\"14.00\" text-anchor=\"middle\" x=\"639.5\" y=\"-2498.3\">(None, 63, 63, 256)</text>\n",
       "</g>\n",
       "<!-- 140379432476232&#45;&gt;140379432594848 -->\n",
       "<g class=\"edge\" id=\"edge8\"><title>140379432476232-&gt;140379432594848</title>\n",
       "<path d=\"M544.68,-2573.37C544.376,-2565.15 544.024,-2555.66 543.694,-2546.73\" fill=\"none\" stroke=\"black\"/>\n",
       "<polygon fill=\"black\" points=\"547.187,-2546.47 543.319,-2536.61 540.191,-2546.73 547.187,-2546.47\" stroke=\"black\"/>\n",
       "</g>\n",
       "<!-- 140379432226096 -->\n",
       "<g class=\"node\" id=\"node10\"><title>140379432226096</title>\n",
       "<polygon fill=\"none\" points=\"291.5,-2407.5 291.5,-2453.5 589.5,-2453.5 589.5,-2407.5 291.5,-2407.5\" stroke=\"black\"/>\n",
       "<text font-family=\"Times,serif\" font-size=\"14.00\" text-anchor=\"middle\" x=\"350.5\" y=\"-2426.8\">dropout4: Dropout</text>\n",
       "<polyline fill=\"none\" points=\"409.5,-2407.5 409.5,-2453.5 \" stroke=\"black\"/>\n",
       "<text font-family=\"Times,serif\" font-size=\"14.00\" text-anchor=\"middle\" x=\"437\" y=\"-2438.3\">input:</text>\n",
       "<polyline fill=\"none\" points=\"409.5,-2430.5 464.5,-2430.5 \" stroke=\"black\"/>\n",
       "<text font-family=\"Times,serif\" font-size=\"14.00\" text-anchor=\"middle\" x=\"437\" y=\"-2415.3\">output:</text>\n",
       "<polyline fill=\"none\" points=\"464.5,-2407.5 464.5,-2453.5 \" stroke=\"black\"/>\n",
       "<text font-family=\"Times,serif\" font-size=\"14.00\" text-anchor=\"middle\" x=\"527\" y=\"-2438.3\">(None, 63, 63, 256)</text>\n",
       "<polyline fill=\"none\" points=\"464.5,-2430.5 589.5,-2430.5 \" stroke=\"black\"/>\n",
       "<text font-family=\"Times,serif\" font-size=\"14.00\" text-anchor=\"middle\" x=\"527\" y=\"-2415.3\">(None, 63, 63, 256)</text>\n",
       "</g>\n",
       "<!-- 140379432594848&#45;&gt;140379432226096 -->\n",
       "<g class=\"edge\" id=\"edge9\"><title>140379432594848-&gt;140379432226096</title>\n",
       "<path d=\"M514.628,-2490.37C502.822,-2480.99 488.918,-2469.95 476.36,-2459.98\" fill=\"none\" stroke=\"black\"/>\n",
       "<polygon fill=\"black\" points=\"478.346,-2457.08 468.338,-2453.61 473.993,-2462.57 478.346,-2457.08\" stroke=\"black\"/>\n",
       "</g>\n",
       "<!-- 140379428707184 -->\n",
       "<g class=\"node\" id=\"node25\"><title>140379428707184</title>\n",
       "<polygon fill=\"none\" points=\"238,-1162.5 238,-1208.5 687,-1208.5 687,-1162.5 238,-1162.5\" stroke=\"black\"/>\n",
       "<text font-family=\"Times,serif\" font-size=\"14.00\" text-anchor=\"middle\" x=\"310.5\" y=\"-1181.8\">stacked_2: Concatenate</text>\n",
       "<polyline fill=\"none\" points=\"383,-1162.5 383,-1208.5 \" stroke=\"black\"/>\n",
       "<text font-family=\"Times,serif\" font-size=\"14.00\" text-anchor=\"middle\" x=\"410.5\" y=\"-1193.3\">input:</text>\n",
       "<polyline fill=\"none\" points=\"383,-1185.5 438,-1185.5 \" stroke=\"black\"/>\n",
       "<text font-family=\"Times,serif\" font-size=\"14.00\" text-anchor=\"middle\" x=\"410.5\" y=\"-1170.3\">output:</text>\n",
       "<polyline fill=\"none\" points=\"438,-1162.5 438,-1208.5 \" stroke=\"black\"/>\n",
       "<text font-family=\"Times,serif\" font-size=\"14.00\" text-anchor=\"middle\" x=\"562.5\" y=\"-1193.3\">[(None, 63, 63, 256), (None, 63, 63, 256)]</text>\n",
       "<polyline fill=\"none\" points=\"438,-1185.5 687,-1185.5 \" stroke=\"black\"/>\n",
       "<text font-family=\"Times,serif\" font-size=\"14.00\" text-anchor=\"middle\" x=\"562.5\" y=\"-1170.3\">(None, 63, 63, 512)</text>\n",
       "</g>\n",
       "<!-- 140379432594848&#45;&gt;140379428707184 -->\n",
       "<g class=\"edge\" id=\"edge26\"><title>140379432594848-&gt;140379428707184</title>\n",
       "<path d=\"M569.338,-2490.47C579.943,-2480.41 591.296,-2467.69 598.5,-2454 620.812,-2411.62 620.5,-2396.4 620.5,-2348.5 620.5,-2348.5 620.5,-2348.5 620.5,-1350.5 620.5,-1302.78 630.456,-1282.15 600.5,-1245 589.645,-1231.54 575.126,-1221.12 559.576,-1213.08\" fill=\"none\" stroke=\"black\"/>\n",
       "<polygon fill=\"black\" points=\"560.849,-1209.81 550.322,-1208.61 557.807,-1216.11 560.849,-1209.81\" stroke=\"black\"/>\n",
       "</g>\n",
       "<!-- 140379432225592 -->\n",
       "<g class=\"node\" id=\"node11\"><title>140379432225592</title>\n",
       "<polygon fill=\"none\" points=\"294,-2324.5 294,-2370.5 577,-2370.5 577,-2324.5 294,-2324.5\" stroke=\"black\"/>\n",
       "<text font-family=\"Times,serif\" font-size=\"14.00\" text-anchor=\"middle\" x=\"345.5\" y=\"-2343.8\">conv5: Conv2D</text>\n",
       "<polyline fill=\"none\" points=\"397,-2324.5 397,-2370.5 \" stroke=\"black\"/>\n",
       "<text font-family=\"Times,serif\" font-size=\"14.00\" text-anchor=\"middle\" x=\"424.5\" y=\"-2355.3\">input:</text>\n",
       "<polyline fill=\"none\" points=\"397,-2347.5 452,-2347.5 \" stroke=\"black\"/>\n",
       "<text font-family=\"Times,serif\" font-size=\"14.00\" text-anchor=\"middle\" x=\"424.5\" y=\"-2332.3\">output:</text>\n",
       "<polyline fill=\"none\" points=\"452,-2324.5 452,-2370.5 \" stroke=\"black\"/>\n",
       "<text font-family=\"Times,serif\" font-size=\"14.00\" text-anchor=\"middle\" x=\"514.5\" y=\"-2355.3\">(None, 63, 63, 256)</text>\n",
       "<polyline fill=\"none\" points=\"452,-2347.5 577,-2347.5 \" stroke=\"black\"/>\n",
       "<text font-family=\"Times,serif\" font-size=\"14.00\" text-anchor=\"middle\" x=\"514.5\" y=\"-2332.3\">(None, 63, 63, 512)</text>\n",
       "</g>\n",
       "<!-- 140379432226096&#45;&gt;140379432225592 -->\n",
       "<g class=\"edge\" id=\"edge10\"><title>140379432226096-&gt;140379432225592</title>\n",
       "<path d=\"M439.134,-2407.37C438.627,-2399.15 438.041,-2389.66 437.489,-2380.73\" fill=\"none\" stroke=\"black\"/>\n",
       "<polygon fill=\"black\" points=\"440.974,-2380.37 436.865,-2370.61 433.987,-2380.8 440.974,-2380.37\" stroke=\"black\"/>\n",
       "</g>\n",
       "<!-- 140379432365192 -->\n",
       "<g class=\"node\" id=\"node12\"><title>140379432365192</title>\n",
       "<polygon fill=\"none\" points=\"273,-2241.5 273,-2287.5 592,-2287.5 592,-2241.5 273,-2241.5\" stroke=\"black\"/>\n",
       "<text font-family=\"Times,serif\" font-size=\"14.00\" text-anchor=\"middle\" x=\"342.5\" y=\"-2260.8\">pool5: MaxPooling2D</text>\n",
       "<polyline fill=\"none\" points=\"412,-2241.5 412,-2287.5 \" stroke=\"black\"/>\n",
       "<text font-family=\"Times,serif\" font-size=\"14.00\" text-anchor=\"middle\" x=\"439.5\" y=\"-2272.3\">input:</text>\n",
       "<polyline fill=\"none\" points=\"412,-2264.5 467,-2264.5 \" stroke=\"black\"/>\n",
       "<text font-family=\"Times,serif\" font-size=\"14.00\" text-anchor=\"middle\" x=\"439.5\" y=\"-2249.3\">output:</text>\n",
       "<polyline fill=\"none\" points=\"467,-2241.5 467,-2287.5 \" stroke=\"black\"/>\n",
       "<text font-family=\"Times,serif\" font-size=\"14.00\" text-anchor=\"middle\" x=\"529.5\" y=\"-2272.3\">(None, 63, 63, 512)</text>\n",
       "<polyline fill=\"none\" points=\"467,-2264.5 592,-2264.5 \" stroke=\"black\"/>\n",
       "<text font-family=\"Times,serif\" font-size=\"14.00\" text-anchor=\"middle\" x=\"529.5\" y=\"-2249.3\">(None, 32, 32, 512)</text>\n",
       "</g>\n",
       "<!-- 140379432225592&#45;&gt;140379432365192 -->\n",
       "<g class=\"edge\" id=\"edge11\"><title>140379432225592-&gt;140379432365192</title>\n",
       "<path d=\"M434.68,-2324.37C434.376,-2316.15 434.024,-2306.66 433.694,-2297.73\" fill=\"none\" stroke=\"black\"/>\n",
       "<polygon fill=\"black\" points=\"437.187,-2297.47 433.319,-2287.61 430.191,-2297.73 437.187,-2297.47\" stroke=\"black\"/>\n",
       "</g>\n",
       "<!-- 140379432150856 -->\n",
       "<g class=\"node\" id=\"node13\"><title>140379432150856</title>\n",
       "<polygon fill=\"none\" points=\"136.5,-2158.5 136.5,-2204.5 434.5,-2204.5 434.5,-2158.5 136.5,-2158.5\" stroke=\"black\"/>\n",
       "<text font-family=\"Times,serif\" font-size=\"14.00\" text-anchor=\"middle\" x=\"195.5\" y=\"-2177.8\">dropout5: Dropout</text>\n",
       "<polyline fill=\"none\" points=\"254.5,-2158.5 254.5,-2204.5 \" stroke=\"black\"/>\n",
       "<text font-family=\"Times,serif\" font-size=\"14.00\" text-anchor=\"middle\" x=\"282\" y=\"-2189.3\">input:</text>\n",
       "<polyline fill=\"none\" points=\"254.5,-2181.5 309.5,-2181.5 \" stroke=\"black\"/>\n",
       "<text font-family=\"Times,serif\" font-size=\"14.00\" text-anchor=\"middle\" x=\"282\" y=\"-2166.3\">output:</text>\n",
       "<polyline fill=\"none\" points=\"309.5,-2158.5 309.5,-2204.5 \" stroke=\"black\"/>\n",
       "<text font-family=\"Times,serif\" font-size=\"14.00\" text-anchor=\"middle\" x=\"372\" y=\"-2189.3\">(None, 32, 32, 512)</text>\n",
       "<polyline fill=\"none\" points=\"309.5,-2181.5 434.5,-2181.5 \" stroke=\"black\"/>\n",
       "<text font-family=\"Times,serif\" font-size=\"14.00\" text-anchor=\"middle\" x=\"372\" y=\"-2166.3\">(None, 32, 32, 512)</text>\n",
       "</g>\n",
       "<!-- 140379432365192&#45;&gt;140379432150856 -->\n",
       "<g class=\"edge\" id=\"edge12\"><title>140379432365192-&gt;140379432150856</title>\n",
       "<path d=\"M392.332,-2241.37C374.507,-2231.54 353.363,-2219.89 334.609,-2209.56\" fill=\"none\" stroke=\"black\"/>\n",
       "<polygon fill=\"black\" points=\"336.067,-2206.37 325.62,-2204.61 332.689,-2212.5 336.067,-2206.37\" stroke=\"black\"/>\n",
       "</g>\n",
       "<!-- 140379431369136 -->\n",
       "<g class=\"node\" id=\"node20\"><title>140379431369136</title>\n",
       "<polygon fill=\"none\" points=\"128,-1577.5 128,-1623.5 577,-1623.5 577,-1577.5 128,-1577.5\" stroke=\"black\"/>\n",
       "<text font-family=\"Times,serif\" font-size=\"14.00\" text-anchor=\"middle\" x=\"200.5\" y=\"-1596.8\">stacked_1: Concatenate</text>\n",
       "<polyline fill=\"none\" points=\"273,-1577.5 273,-1623.5 \" stroke=\"black\"/>\n",
       "<text font-family=\"Times,serif\" font-size=\"14.00\" text-anchor=\"middle\" x=\"300.5\" y=\"-1608.3\">input:</text>\n",
       "<polyline fill=\"none\" points=\"273,-1600.5 328,-1600.5 \" stroke=\"black\"/>\n",
       "<text font-family=\"Times,serif\" font-size=\"14.00\" text-anchor=\"middle\" x=\"300.5\" y=\"-1585.3\">output:</text>\n",
       "<polyline fill=\"none\" points=\"328,-1577.5 328,-1623.5 \" stroke=\"black\"/>\n",
       "<text font-family=\"Times,serif\" font-size=\"14.00\" text-anchor=\"middle\" x=\"452.5\" y=\"-1608.3\">[(None, 32, 32, 512), (None, 32, 32, 512)]</text>\n",
       "<polyline fill=\"none\" points=\"328,-1600.5 577,-1600.5 \" stroke=\"black\"/>\n",
       "<text font-family=\"Times,serif\" font-size=\"14.00\" text-anchor=\"middle\" x=\"452.5\" y=\"-1585.3\">(None, 32, 32, 1024)</text>\n",
       "</g>\n",
       "<!-- 140379432365192&#45;&gt;140379431369136 -->\n",
       "<g class=\"edge\" id=\"edge20\"><title>140379432365192-&gt;140379431369136</title>\n",
       "<path d=\"M450.084,-2241.35C472.252,-2211.13 507.5,-2154.45 507.5,-2099.5 507.5,-2099.5 507.5,-2099.5 507.5,-1765.5 507.5,-1717.78 517.308,-1697.27 487.5,-1660 476.764,-1646.58 462.344,-1636.17 446.919,-1628.12\" fill=\"none\" stroke=\"black\"/>\n",
       "<polygon fill=\"black\" points=\"448.263,-1624.88 437.74,-1623.64 445.196,-1631.17 448.263,-1624.88\" stroke=\"black\"/>\n",
       "</g>\n",
       "<!-- 140379432152760 -->\n",
       "<g class=\"node\" id=\"node14\"><title>140379432152760</title>\n",
       "<polygon fill=\"none\" points=\"142,-2075.5 142,-2121.5 425,-2121.5 425,-2075.5 142,-2075.5\" stroke=\"black\"/>\n",
       "<text font-family=\"Times,serif\" font-size=\"14.00\" text-anchor=\"middle\" x=\"193.5\" y=\"-2094.8\">conv6: Conv2D</text>\n",
       "<polyline fill=\"none\" points=\"245,-2075.5 245,-2121.5 \" stroke=\"black\"/>\n",
       "<text font-family=\"Times,serif\" font-size=\"14.00\" text-anchor=\"middle\" x=\"272.5\" y=\"-2106.3\">input:</text>\n",
       "<polyline fill=\"none\" points=\"245,-2098.5 300,-2098.5 \" stroke=\"black\"/>\n",
       "<text font-family=\"Times,serif\" font-size=\"14.00\" text-anchor=\"middle\" x=\"272.5\" y=\"-2083.3\">output:</text>\n",
       "<polyline fill=\"none\" points=\"300,-2075.5 300,-2121.5 \" stroke=\"black\"/>\n",
       "<text font-family=\"Times,serif\" font-size=\"14.00\" text-anchor=\"middle\" x=\"362.5\" y=\"-2106.3\">(None, 32, 32, 512)</text>\n",
       "<polyline fill=\"none\" points=\"300,-2098.5 425,-2098.5 \" stroke=\"black\"/>\n",
       "<text font-family=\"Times,serif\" font-size=\"14.00\" text-anchor=\"middle\" x=\"362.5\" y=\"-2083.3\">(None, 32, 32, 512)</text>\n",
       "</g>\n",
       "<!-- 140379432150856&#45;&gt;140379432152760 -->\n",
       "<g class=\"edge\" id=\"edge13\"><title>140379432150856-&gt;140379432152760</title>\n",
       "<path d=\"M284.953,-2158.37C284.751,-2150.15 284.516,-2140.66 284.296,-2131.73\" fill=\"none\" stroke=\"black\"/>\n",
       "<polygon fill=\"black\" points=\"287.792,-2131.52 284.046,-2121.61 280.794,-2131.69 287.792,-2131.52\" stroke=\"black\"/>\n",
       "</g>\n",
       "<!-- 140379432074264 -->\n",
       "<g class=\"node\" id=\"node15\"><title>140379432074264</title>\n",
       "<polygon fill=\"none\" points=\"101,-1992.5 101,-2038.5 420,-2038.5 420,-1992.5 101,-1992.5\" stroke=\"black\"/>\n",
       "<text font-family=\"Times,serif\" font-size=\"14.00\" text-anchor=\"middle\" x=\"170.5\" y=\"-2011.8\">pool6: MaxPooling2D</text>\n",
       "<polyline fill=\"none\" points=\"240,-1992.5 240,-2038.5 \" stroke=\"black\"/>\n",
       "<text font-family=\"Times,serif\" font-size=\"14.00\" text-anchor=\"middle\" x=\"267.5\" y=\"-2023.3\">input:</text>\n",
       "<polyline fill=\"none\" points=\"240,-2015.5 295,-2015.5 \" stroke=\"black\"/>\n",
       "<text font-family=\"Times,serif\" font-size=\"14.00\" text-anchor=\"middle\" x=\"267.5\" y=\"-2000.3\">output:</text>\n",
       "<polyline fill=\"none\" points=\"295,-1992.5 295,-2038.5 \" stroke=\"black\"/>\n",
       "<text font-family=\"Times,serif\" font-size=\"14.00\" text-anchor=\"middle\" x=\"357.5\" y=\"-2023.3\">(None, 32, 32, 512)</text>\n",
       "<polyline fill=\"none\" points=\"295,-2015.5 420,-2015.5 \" stroke=\"black\"/>\n",
       "<text font-family=\"Times,serif\" font-size=\"14.00\" text-anchor=\"middle\" x=\"357.5\" y=\"-2000.3\">(None, 16, 16, 512)</text>\n",
       "</g>\n",
       "<!-- 140379432152760&#45;&gt;140379432074264 -->\n",
       "<g class=\"edge\" id=\"edge14\"><title>140379432152760-&gt;140379432074264</title>\n",
       "<path d=\"M277.215,-2075.37C274.857,-2067.06 272.128,-2057.45 269.568,-2048.43\" fill=\"none\" stroke=\"black\"/>\n",
       "<polygon fill=\"black\" points=\"272.876,-2047.27 266.777,-2038.61 266.142,-2049.18 272.876,-2047.27\" stroke=\"black\"/>\n",
       "</g>\n",
       "<!-- 140379431893256 -->\n",
       "<g class=\"node\" id=\"node16\"><title>140379431893256</title>\n",
       "<polygon fill=\"none\" points=\"100.5,-1909.5 100.5,-1955.5 398.5,-1955.5 398.5,-1909.5 100.5,-1909.5\" stroke=\"black\"/>\n",
       "<text font-family=\"Times,serif\" font-size=\"14.00\" text-anchor=\"middle\" x=\"159.5\" y=\"-1928.8\">dropout6: Dropout</text>\n",
       "<polyline fill=\"none\" points=\"218.5,-1909.5 218.5,-1955.5 \" stroke=\"black\"/>\n",
       "<text font-family=\"Times,serif\" font-size=\"14.00\" text-anchor=\"middle\" x=\"246\" y=\"-1940.3\">input:</text>\n",
       "<polyline fill=\"none\" points=\"218.5,-1932.5 273.5,-1932.5 \" stroke=\"black\"/>\n",
       "<text font-family=\"Times,serif\" font-size=\"14.00\" text-anchor=\"middle\" x=\"246\" y=\"-1917.3\">output:</text>\n",
       "<polyline fill=\"none\" points=\"273.5,-1909.5 273.5,-1955.5 \" stroke=\"black\"/>\n",
       "<text font-family=\"Times,serif\" font-size=\"14.00\" text-anchor=\"middle\" x=\"336\" y=\"-1940.3\">(None, 16, 16, 512)</text>\n",
       "<polyline fill=\"none\" points=\"273.5,-1932.5 398.5,-1932.5 \" stroke=\"black\"/>\n",
       "<text font-family=\"Times,serif\" font-size=\"14.00\" text-anchor=\"middle\" x=\"336\" y=\"-1917.3\">(None, 16, 16, 512)</text>\n",
       "</g>\n",
       "<!-- 140379432074264&#45;&gt;140379431893256 -->\n",
       "<g class=\"edge\" id=\"edge15\"><title>140379432074264-&gt;140379431893256</title>\n",
       "<path d=\"M257.494,-1992.37C256.379,-1984.15 255.089,-1974.66 253.876,-1965.73\" fill=\"none\" stroke=\"black\"/>\n",
       "<polygon fill=\"black\" points=\"257.316,-1965.04 252.502,-1955.61 250.38,-1965.99 257.316,-1965.04\" stroke=\"black\"/>\n",
       "</g>\n",
       "<!-- 140379431894656 -->\n",
       "<g class=\"node\" id=\"node17\"><title>140379431894656</title>\n",
       "<polygon fill=\"none\" points=\"99,-1826.5 99,-1872.5 388,-1872.5 388,-1826.5 99,-1826.5\" stroke=\"black\"/>\n",
       "<text font-family=\"Times,serif\" font-size=\"14.00\" text-anchor=\"middle\" x=\"150.5\" y=\"-1845.8\">conv7: Conv2D</text>\n",
       "<polyline fill=\"none\" points=\"202,-1826.5 202,-1872.5 \" stroke=\"black\"/>\n",
       "<text font-family=\"Times,serif\" font-size=\"14.00\" text-anchor=\"middle\" x=\"229.5\" y=\"-1857.3\">input:</text>\n",
       "<polyline fill=\"none\" points=\"202,-1849.5 257,-1849.5 \" stroke=\"black\"/>\n",
       "<text font-family=\"Times,serif\" font-size=\"14.00\" text-anchor=\"middle\" x=\"229.5\" y=\"-1834.3\">output:</text>\n",
       "<polyline fill=\"none\" points=\"257,-1826.5 257,-1872.5 \" stroke=\"black\"/>\n",
       "<text font-family=\"Times,serif\" font-size=\"14.00\" text-anchor=\"middle\" x=\"322.5\" y=\"-1857.3\">(None, 16, 16, 512)</text>\n",
       "<polyline fill=\"none\" points=\"257,-1849.5 388,-1849.5 \" stroke=\"black\"/>\n",
       "<text font-family=\"Times,serif\" font-size=\"14.00\" text-anchor=\"middle\" x=\"322.5\" y=\"-1834.3\">(None, 16, 16, 4096)</text>\n",
       "</g>\n",
       "<!-- 140379431893256&#45;&gt;140379431894656 -->\n",
       "<g class=\"edge\" id=\"edge16\"><title>140379431893256-&gt;140379431894656</title>\n",
       "<path d=\"M247.86,-1909.37C247.252,-1901.15 246.549,-1891.66 245.887,-1882.73\" fill=\"none\" stroke=\"black\"/>\n",
       "<polygon fill=\"black\" points=\"249.367,-1882.32 245.138,-1872.61 242.386,-1882.84 249.367,-1882.32\" stroke=\"black\"/>\n",
       "</g>\n",
       "<!-- 140379431447576 -->\n",
       "<g class=\"node\" id=\"node18\"><title>140379431447576</title>\n",
       "<polygon fill=\"none\" points=\"63,-1743.5 63,-1789.5 418,-1789.5 418,-1743.5 63,-1743.5\" stroke=\"black\"/>\n",
       "<text font-family=\"Times,serif\" font-size=\"14.00\" text-anchor=\"middle\" x=\"147.5\" y=\"-1762.8\">conv_t1: Conv2DTranspose</text>\n",
       "<polyline fill=\"none\" points=\"232,-1743.5 232,-1789.5 \" stroke=\"black\"/>\n",
       "<text font-family=\"Times,serif\" font-size=\"14.00\" text-anchor=\"middle\" x=\"259.5\" y=\"-1774.3\">input:</text>\n",
       "<polyline fill=\"none\" points=\"232,-1766.5 287,-1766.5 \" stroke=\"black\"/>\n",
       "<text font-family=\"Times,serif\" font-size=\"14.00\" text-anchor=\"middle\" x=\"259.5\" y=\"-1751.3\">output:</text>\n",
       "<polyline fill=\"none\" points=\"287,-1743.5 287,-1789.5 \" stroke=\"black\"/>\n",
       "<text font-family=\"Times,serif\" font-size=\"14.00\" text-anchor=\"middle\" x=\"352.5\" y=\"-1774.3\">(None, 16, 16, 4096)</text>\n",
       "<polyline fill=\"none\" points=\"287,-1766.5 418,-1766.5 \" stroke=\"black\"/>\n",
       "<text font-family=\"Times,serif\" font-size=\"14.00\" text-anchor=\"middle\" x=\"352.5\" y=\"-1751.3\">(None, 32, 32, 512)</text>\n",
       "</g>\n",
       "<!-- 140379431894656&#45;&gt;140379431447576 -->\n",
       "<g class=\"edge\" id=\"edge17\"><title>140379431894656-&gt;140379431447576</title>\n",
       "<path d=\"M242.68,-1826.37C242.376,-1818.15 242.024,-1808.66 241.694,-1799.73\" fill=\"none\" stroke=\"black\"/>\n",
       "<polygon fill=\"black\" points=\"245.187,-1799.47 241.319,-1789.61 238.191,-1799.73 245.187,-1799.47\" stroke=\"black\"/>\n",
       "</g>\n",
       "<!-- 140379431512496 -->\n",
       "<g class=\"node\" id=\"node19\"><title>140379431512496</title>\n",
       "<polygon fill=\"none\" points=\"0,-1660.5 0,-1706.5 479,-1706.5 479,-1660.5 0,-1660.5\" stroke=\"black\"/>\n",
       "<text font-family=\"Times,serif\" font-size=\"14.00\" text-anchor=\"middle\" x=\"149.5\" y=\"-1679.8\">bilinear_up_sampling2d_1: BilinearUpSampling2D</text>\n",
       "<polyline fill=\"none\" points=\"299,-1660.5 299,-1706.5 \" stroke=\"black\"/>\n",
       "<text font-family=\"Times,serif\" font-size=\"14.00\" text-anchor=\"middle\" x=\"326.5\" y=\"-1691.3\">input:</text>\n",
       "<polyline fill=\"none\" points=\"299,-1683.5 354,-1683.5 \" stroke=\"black\"/>\n",
       "<text font-family=\"Times,serif\" font-size=\"14.00\" text-anchor=\"middle\" x=\"326.5\" y=\"-1668.3\">output:</text>\n",
       "<polyline fill=\"none\" points=\"354,-1660.5 354,-1706.5 \" stroke=\"black\"/>\n",
       "<text font-family=\"Times,serif\" font-size=\"14.00\" text-anchor=\"middle\" x=\"416.5\" y=\"-1691.3\">(None, 32, 32, 512)</text>\n",
       "<polyline fill=\"none\" points=\"354,-1683.5 479,-1683.5 \" stroke=\"black\"/>\n",
       "<text font-family=\"Times,serif\" font-size=\"14.00\" text-anchor=\"middle\" x=\"416.5\" y=\"-1668.3\">(None, 32, 32, 512)</text>\n",
       "</g>\n",
       "<!-- 140379431447576&#45;&gt;140379431512496 -->\n",
       "<g class=\"edge\" id=\"edge18\"><title>140379431447576-&gt;140379431512496</title>\n",
       "<path d=\"M240.227,-1743.37C240.125,-1735.15 240.008,-1725.66 239.898,-1716.73\" fill=\"none\" stroke=\"black\"/>\n",
       "<polygon fill=\"black\" points=\"243.396,-1716.56 239.773,-1706.61 236.397,-1716.65 243.396,-1716.56\" stroke=\"black\"/>\n",
       "</g>\n",
       "<!-- 140379431512496&#45;&gt;140379431369136 -->\n",
       "<g class=\"edge\" id=\"edge19\"><title>140379431512496-&gt;140379431369136</title>\n",
       "<path d=\"M270.378,-1660.37C283.582,-1650.9 299.154,-1639.74 313.17,-1629.69\" fill=\"none\" stroke=\"black\"/>\n",
       "<polygon fill=\"black\" points=\"315.571,-1632.28 321.66,-1623.61 311.493,-1626.59 315.571,-1632.28\" stroke=\"black\"/>\n",
       "</g>\n",
       "<!-- 140379431224488 -->\n",
       "<g class=\"node\" id=\"node21\"><title>140379431224488</title>\n",
       "<polygon fill=\"none\" points=\"200,-1494.5 200,-1540.5 505,-1540.5 505,-1494.5 200,-1494.5\" stroke=\"black\"/>\n",
       "<text font-family=\"Times,serif\" font-size=\"14.00\" text-anchor=\"middle\" x=\"259.5\" y=\"-1513.8\">fuse_1_1: Conv2D</text>\n",
       "<polyline fill=\"none\" points=\"319,-1494.5 319,-1540.5 \" stroke=\"black\"/>\n",
       "<text font-family=\"Times,serif\" font-size=\"14.00\" text-anchor=\"middle\" x=\"346.5\" y=\"-1525.3\">input:</text>\n",
       "<polyline fill=\"none\" points=\"319,-1517.5 374,-1517.5 \" stroke=\"black\"/>\n",
       "<text font-family=\"Times,serif\" font-size=\"14.00\" text-anchor=\"middle\" x=\"346.5\" y=\"-1502.3\">output:</text>\n",
       "<polyline fill=\"none\" points=\"374,-1494.5 374,-1540.5 \" stroke=\"black\"/>\n",
       "<text font-family=\"Times,serif\" font-size=\"14.00\" text-anchor=\"middle\" x=\"439.5\" y=\"-1525.3\">(None, 32, 32, 1024)</text>\n",
       "<polyline fill=\"none\" points=\"374,-1517.5 505,-1517.5 \" stroke=\"black\"/>\n",
       "<text font-family=\"Times,serif\" font-size=\"14.00\" text-anchor=\"middle\" x=\"439.5\" y=\"-1502.3\">(None, 32, 32, 512)</text>\n",
       "</g>\n",
       "<!-- 140379431369136&#45;&gt;140379431224488 -->\n",
       "<g class=\"edge\" id=\"edge21\"><title>140379431369136-&gt;140379431224488</title>\n",
       "<path d=\"M352.5,-1577.37C352.5,-1569.15 352.5,-1559.66 352.5,-1550.73\" fill=\"none\" stroke=\"black\"/>\n",
       "<polygon fill=\"black\" points=\"356,-1550.61 352.5,-1540.61 349,-1550.61 356,-1550.61\" stroke=\"black\"/>\n",
       "</g>\n",
       "<!-- 140379428776424 -->\n",
       "<g class=\"node\" id=\"node22\"><title>140379428776424</title>\n",
       "<polygon fill=\"none\" points=\"203,-1411.5 203,-1457.5 502,-1457.5 502,-1411.5 203,-1411.5\" stroke=\"black\"/>\n",
       "<text font-family=\"Times,serif\" font-size=\"14.00\" text-anchor=\"middle\" x=\"262.5\" y=\"-1430.8\">fuse_1_2: Conv2D</text>\n",
       "<polyline fill=\"none\" points=\"322,-1411.5 322,-1457.5 \" stroke=\"black\"/>\n",
       "<text font-family=\"Times,serif\" font-size=\"14.00\" text-anchor=\"middle\" x=\"349.5\" y=\"-1442.3\">input:</text>\n",
       "<polyline fill=\"none\" points=\"322,-1434.5 377,-1434.5 \" stroke=\"black\"/>\n",
       "<text font-family=\"Times,serif\" font-size=\"14.00\" text-anchor=\"middle\" x=\"349.5\" y=\"-1419.3\">output:</text>\n",
       "<polyline fill=\"none\" points=\"377,-1411.5 377,-1457.5 \" stroke=\"black\"/>\n",
       "<text font-family=\"Times,serif\" font-size=\"14.00\" text-anchor=\"middle\" x=\"439.5\" y=\"-1442.3\">(None, 32, 32, 512)</text>\n",
       "<polyline fill=\"none\" points=\"377,-1434.5 502,-1434.5 \" stroke=\"black\"/>\n",
       "<text font-family=\"Times,serif\" font-size=\"14.00\" text-anchor=\"middle\" x=\"439.5\" y=\"-1419.3\">(None, 32, 32, 512)</text>\n",
       "</g>\n",
       "<!-- 140379431224488&#45;&gt;140379428776424 -->\n",
       "<g class=\"edge\" id=\"edge22\"><title>140379431224488-&gt;140379428776424</title>\n",
       "<path d=\"M352.5,-1494.37C352.5,-1486.15 352.5,-1476.66 352.5,-1467.73\" fill=\"none\" stroke=\"black\"/>\n",
       "<polygon fill=\"black\" points=\"356,-1467.61 352.5,-1457.61 349,-1467.61 356,-1467.61\" stroke=\"black\"/>\n",
       "</g>\n",
       "<!-- 140379428923656 -->\n",
       "<g class=\"node\" id=\"node23\"><title>140379428923656</title>\n",
       "<polygon fill=\"none\" points=\"178,-1328.5 178,-1374.5 527,-1374.5 527,-1328.5 178,-1328.5\" stroke=\"black\"/>\n",
       "<text font-family=\"Times,serif\" font-size=\"14.00\" text-anchor=\"middle\" x=\"262.5\" y=\"-1347.8\">conv_t2: Conv2DTranspose</text>\n",
       "<polyline fill=\"none\" points=\"347,-1328.5 347,-1374.5 \" stroke=\"black\"/>\n",
       "<text font-family=\"Times,serif\" font-size=\"14.00\" text-anchor=\"middle\" x=\"374.5\" y=\"-1359.3\">input:</text>\n",
       "<polyline fill=\"none\" points=\"347,-1351.5 402,-1351.5 \" stroke=\"black\"/>\n",
       "<text font-family=\"Times,serif\" font-size=\"14.00\" text-anchor=\"middle\" x=\"374.5\" y=\"-1336.3\">output:</text>\n",
       "<polyline fill=\"none\" points=\"402,-1328.5 402,-1374.5 \" stroke=\"black\"/>\n",
       "<text font-family=\"Times,serif\" font-size=\"14.00\" text-anchor=\"middle\" x=\"464.5\" y=\"-1359.3\">(None, 32, 32, 512)</text>\n",
       "<polyline fill=\"none\" points=\"402,-1351.5 527,-1351.5 \" stroke=\"black\"/>\n",
       "<text font-family=\"Times,serif\" font-size=\"14.00\" text-anchor=\"middle\" x=\"464.5\" y=\"-1336.3\">(None, 64, 64, 256)</text>\n",
       "</g>\n",
       "<!-- 140379428776424&#45;&gt;140379428923656 -->\n",
       "<g class=\"edge\" id=\"edge23\"><title>140379428776424-&gt;140379428923656</title>\n",
       "<path d=\"M352.5,-1411.37C352.5,-1403.15 352.5,-1393.66 352.5,-1384.73\" fill=\"none\" stroke=\"black\"/>\n",
       "<polygon fill=\"black\" points=\"356,-1384.61 352.5,-1374.61 349,-1384.61 356,-1384.61\" stroke=\"black\"/>\n",
       "</g>\n",
       "<!-- 140379428531224 -->\n",
       "<g class=\"node\" id=\"node24\"><title>140379428531224</title>\n",
       "<polygon fill=\"none\" points=\"113,-1245.5 113,-1291.5 592,-1291.5 592,-1245.5 113,-1245.5\" stroke=\"black\"/>\n",
       "<text font-family=\"Times,serif\" font-size=\"14.00\" text-anchor=\"middle\" x=\"262.5\" y=\"-1264.8\">bilinear_up_sampling2d_2: BilinearUpSampling2D</text>\n",
       "<polyline fill=\"none\" points=\"412,-1245.5 412,-1291.5 \" stroke=\"black\"/>\n",
       "<text font-family=\"Times,serif\" font-size=\"14.00\" text-anchor=\"middle\" x=\"439.5\" y=\"-1276.3\">input:</text>\n",
       "<polyline fill=\"none\" points=\"412,-1268.5 467,-1268.5 \" stroke=\"black\"/>\n",
       "<text font-family=\"Times,serif\" font-size=\"14.00\" text-anchor=\"middle\" x=\"439.5\" y=\"-1253.3\">output:</text>\n",
       "<polyline fill=\"none\" points=\"467,-1245.5 467,-1291.5 \" stroke=\"black\"/>\n",
       "<text font-family=\"Times,serif\" font-size=\"14.00\" text-anchor=\"middle\" x=\"529.5\" y=\"-1276.3\">(None, 64, 64, 256)</text>\n",
       "<polyline fill=\"none\" points=\"467,-1268.5 592,-1268.5 \" stroke=\"black\"/>\n",
       "<text font-family=\"Times,serif\" font-size=\"14.00\" text-anchor=\"middle\" x=\"529.5\" y=\"-1253.3\">(None, 63, 63, 256)</text>\n",
       "</g>\n",
       "<!-- 140379428923656&#45;&gt;140379428531224 -->\n",
       "<g class=\"edge\" id=\"edge24\"><title>140379428923656-&gt;140379428531224</title>\n",
       "<path d=\"M352.5,-1328.37C352.5,-1320.15 352.5,-1310.66 352.5,-1301.73\" fill=\"none\" stroke=\"black\"/>\n",
       "<polygon fill=\"black\" points=\"356,-1301.61 352.5,-1291.61 349,-1301.61 356,-1301.61\" stroke=\"black\"/>\n",
       "</g>\n",
       "<!-- 140379428531224&#45;&gt;140379428707184 -->\n",
       "<g class=\"edge\" id=\"edge25\"><title>140379428531224-&gt;140379428707184</title>\n",
       "<path d=\"M382.558,-1245.37C395.411,-1235.9 410.571,-1224.74 424.214,-1214.69\" fill=\"none\" stroke=\"black\"/>\n",
       "<polygon fill=\"black\" points=\"426.501,-1217.35 432.478,-1208.61 422.351,-1211.72 426.501,-1217.35\" stroke=\"black\"/>\n",
       "</g>\n",
       "<!-- 140379428632616 -->\n",
       "<g class=\"node\" id=\"node26\"><title>140379428632616</title>\n",
       "<polygon fill=\"none\" points=\"313,-1079.5 313,-1125.5 612,-1125.5 612,-1079.5 313,-1079.5\" stroke=\"black\"/>\n",
       "<text font-family=\"Times,serif\" font-size=\"14.00\" text-anchor=\"middle\" x=\"372.5\" y=\"-1098.8\">fuse_2_1: Conv2D</text>\n",
       "<polyline fill=\"none\" points=\"432,-1079.5 432,-1125.5 \" stroke=\"black\"/>\n",
       "<text font-family=\"Times,serif\" font-size=\"14.00\" text-anchor=\"middle\" x=\"459.5\" y=\"-1110.3\">input:</text>\n",
       "<polyline fill=\"none\" points=\"432,-1102.5 487,-1102.5 \" stroke=\"black\"/>\n",
       "<text font-family=\"Times,serif\" font-size=\"14.00\" text-anchor=\"middle\" x=\"459.5\" y=\"-1087.3\">output:</text>\n",
       "<polyline fill=\"none\" points=\"487,-1079.5 487,-1125.5 \" stroke=\"black\"/>\n",
       "<text font-family=\"Times,serif\" font-size=\"14.00\" text-anchor=\"middle\" x=\"549.5\" y=\"-1110.3\">(None, 63, 63, 512)</text>\n",
       "<polyline fill=\"none\" points=\"487,-1102.5 612,-1102.5 \" stroke=\"black\"/>\n",
       "<text font-family=\"Times,serif\" font-size=\"14.00\" text-anchor=\"middle\" x=\"549.5\" y=\"-1087.3\">(None, 63, 63, 256)</text>\n",
       "</g>\n",
       "<!-- 140379428707184&#45;&gt;140379428632616 -->\n",
       "<g class=\"edge\" id=\"edge27\"><title>140379428707184-&gt;140379428632616</title>\n",
       "<path d=\"M462.5,-1162.37C462.5,-1154.15 462.5,-1144.66 462.5,-1135.73\" fill=\"none\" stroke=\"black\"/>\n",
       "<polygon fill=\"black\" points=\"466,-1135.61 462.5,-1125.61 459,-1135.61 466,-1135.61\" stroke=\"black\"/>\n",
       "</g>\n",
       "<!-- 140379428633064 -->\n",
       "<g class=\"node\" id=\"node27\"><title>140379428633064</title>\n",
       "<polygon fill=\"none\" points=\"313,-996.5 313,-1042.5 612,-1042.5 612,-996.5 313,-996.5\" stroke=\"black\"/>\n",
       "<text font-family=\"Times,serif\" font-size=\"14.00\" text-anchor=\"middle\" x=\"372.5\" y=\"-1015.8\">fuse_2_2: Conv2D</text>\n",
       "<polyline fill=\"none\" points=\"432,-996.5 432,-1042.5 \" stroke=\"black\"/>\n",
       "<text font-family=\"Times,serif\" font-size=\"14.00\" text-anchor=\"middle\" x=\"459.5\" y=\"-1027.3\">input:</text>\n",
       "<polyline fill=\"none\" points=\"432,-1019.5 487,-1019.5 \" stroke=\"black\"/>\n",
       "<text font-family=\"Times,serif\" font-size=\"14.00\" text-anchor=\"middle\" x=\"459.5\" y=\"-1004.3\">output:</text>\n",
       "<polyline fill=\"none\" points=\"487,-996.5 487,-1042.5 \" stroke=\"black\"/>\n",
       "<text font-family=\"Times,serif\" font-size=\"14.00\" text-anchor=\"middle\" x=\"549.5\" y=\"-1027.3\">(None, 63, 63, 256)</text>\n",
       "<polyline fill=\"none\" points=\"487,-1019.5 612,-1019.5 \" stroke=\"black\"/>\n",
       "<text font-family=\"Times,serif\" font-size=\"14.00\" text-anchor=\"middle\" x=\"549.5\" y=\"-1004.3\">(None, 63, 63, 256)</text>\n",
       "</g>\n",
       "<!-- 140379428632616&#45;&gt;140379428633064 -->\n",
       "<g class=\"edge\" id=\"edge28\"><title>140379428632616-&gt;140379428633064</title>\n",
       "<path d=\"M462.5,-1079.37C462.5,-1071.15 462.5,-1061.66 462.5,-1052.73\" fill=\"none\" stroke=\"black\"/>\n",
       "<polygon fill=\"black\" points=\"466,-1052.61 462.5,-1042.61 459,-1052.61 466,-1052.61\" stroke=\"black\"/>\n",
       "</g>\n",
       "<!-- 140379427989544 -->\n",
       "<g class=\"node\" id=\"node28\"><title>140379427989544</title>\n",
       "<polygon fill=\"none\" points=\"281.5,-913.5 281.5,-959.5 643.5,-959.5 643.5,-913.5 281.5,-913.5\" stroke=\"black\"/>\n",
       "<text font-family=\"Times,serif\" font-size=\"14.00\" text-anchor=\"middle\" x=\"366\" y=\"-932.8\">conv_t3: Conv2DTranspose</text>\n",
       "<polyline fill=\"none\" points=\"450.5,-913.5 450.5,-959.5 \" stroke=\"black\"/>\n",
       "<text font-family=\"Times,serif\" font-size=\"14.00\" text-anchor=\"middle\" x=\"478\" y=\"-944.3\">input:</text>\n",
       "<polyline fill=\"none\" points=\"450.5,-936.5 505.5,-936.5 \" stroke=\"black\"/>\n",
       "<text font-family=\"Times,serif\" font-size=\"14.00\" text-anchor=\"middle\" x=\"478\" y=\"-921.3\">output:</text>\n",
       "<polyline fill=\"none\" points=\"505.5,-913.5 505.5,-959.5 \" stroke=\"black\"/>\n",
       "<text font-family=\"Times,serif\" font-size=\"14.00\" text-anchor=\"middle\" x=\"574.5\" y=\"-944.3\">(None, 63, 63, 256)</text>\n",
       "<polyline fill=\"none\" points=\"505.5,-936.5 643.5,-936.5 \" stroke=\"black\"/>\n",
       "<text font-family=\"Times,serif\" font-size=\"14.00\" text-anchor=\"middle\" x=\"574.5\" y=\"-921.3\">(None, 126, 126, 128)</text>\n",
       "</g>\n",
       "<!-- 140379428633064&#45;&gt;140379427989544 -->\n",
       "<g class=\"edge\" id=\"edge29\"><title>140379428633064-&gt;140379427989544</title>\n",
       "<path d=\"M462.5,-996.366C462.5,-988.152 462.5,-978.658 462.5,-969.725\" fill=\"none\" stroke=\"black\"/>\n",
       "<polygon fill=\"black\" points=\"466,-969.607 462.5,-959.607 459,-969.607 466,-969.607\" stroke=\"black\"/>\n",
       "</g>\n",
       "<!-- 140379428113488 -->\n",
       "<g class=\"node\" id=\"node29\"><title>140379428113488</title>\n",
       "<polygon fill=\"none\" points=\"216.5,-830.5 216.5,-876.5 708.5,-876.5 708.5,-830.5 216.5,-830.5\" stroke=\"black\"/>\n",
       "<text font-family=\"Times,serif\" font-size=\"14.00\" text-anchor=\"middle\" x=\"366\" y=\"-849.8\">bilinear_up_sampling2d_3: BilinearUpSampling2D</text>\n",
       "<polyline fill=\"none\" points=\"515.5,-830.5 515.5,-876.5 \" stroke=\"black\"/>\n",
       "<text font-family=\"Times,serif\" font-size=\"14.00\" text-anchor=\"middle\" x=\"543\" y=\"-861.3\">input:</text>\n",
       "<polyline fill=\"none\" points=\"515.5,-853.5 570.5,-853.5 \" stroke=\"black\"/>\n",
       "<text font-family=\"Times,serif\" font-size=\"14.00\" text-anchor=\"middle\" x=\"543\" y=\"-838.3\">output:</text>\n",
       "<polyline fill=\"none\" points=\"570.5,-830.5 570.5,-876.5 \" stroke=\"black\"/>\n",
       "<text font-family=\"Times,serif\" font-size=\"14.00\" text-anchor=\"middle\" x=\"639.5\" y=\"-861.3\">(None, 126, 126, 128)</text>\n",
       "<polyline fill=\"none\" points=\"570.5,-853.5 708.5,-853.5 \" stroke=\"black\"/>\n",
       "<text font-family=\"Times,serif\" font-size=\"14.00\" text-anchor=\"middle\" x=\"639.5\" y=\"-838.3\">(None, 125, 125, 128)</text>\n",
       "</g>\n",
       "<!-- 140379427989544&#45;&gt;140379428113488 -->\n",
       "<g class=\"edge\" id=\"edge30\"><title>140379427989544-&gt;140379428113488</title>\n",
       "<path d=\"M462.5,-913.366C462.5,-905.152 462.5,-895.658 462.5,-886.725\" fill=\"none\" stroke=\"black\"/>\n",
       "<polygon fill=\"black\" points=\"466,-886.607 462.5,-876.607 459,-886.607 466,-886.607\" stroke=\"black\"/>\n",
       "</g>\n",
       "<!-- 140379428113488&#45;&gt;140379427856056 -->\n",
       "<g class=\"edge\" id=\"edge31\"><title>140379428113488-&gt;140379427856056</title>\n",
       "<path d=\"M495.017,-830.366C509.054,-820.812 525.632,-809.528 540.498,-799.409\" fill=\"none\" stroke=\"black\"/>\n",
       "<polygon fill=\"black\" points=\"542.725,-802.127 549.022,-793.607 538.786,-796.34 542.725,-802.127\" stroke=\"black\"/>\n",
       "</g>\n",
       "<!-- 140379428110744 -->\n",
       "<g class=\"node\" id=\"node31\"><title>140379428110744</title>\n",
       "<polygon fill=\"none\" points=\"425.5,-664.5 425.5,-710.5 737.5,-710.5 737.5,-664.5 425.5,-664.5\" stroke=\"black\"/>\n",
       "<text font-family=\"Times,serif\" font-size=\"14.00\" text-anchor=\"middle\" x=\"485\" y=\"-683.8\">fuse_3_1: Conv2D</text>\n",
       "<polyline fill=\"none\" points=\"544.5,-664.5 544.5,-710.5 \" stroke=\"black\"/>\n",
       "<text font-family=\"Times,serif\" font-size=\"14.00\" text-anchor=\"middle\" x=\"572\" y=\"-695.3\">input:</text>\n",
       "<polyline fill=\"none\" points=\"544.5,-687.5 599.5,-687.5 \" stroke=\"black\"/>\n",
       "<text font-family=\"Times,serif\" font-size=\"14.00\" text-anchor=\"middle\" x=\"572\" y=\"-672.3\">output:</text>\n",
       "<polyline fill=\"none\" points=\"599.5,-664.5 599.5,-710.5 \" stroke=\"black\"/>\n",
       "<text font-family=\"Times,serif\" font-size=\"14.00\" text-anchor=\"middle\" x=\"668.5\" y=\"-695.3\">(None, 125, 125, 256)</text>\n",
       "<polyline fill=\"none\" points=\"599.5,-687.5 737.5,-687.5 \" stroke=\"black\"/>\n",
       "<text font-family=\"Times,serif\" font-size=\"14.00\" text-anchor=\"middle\" x=\"668.5\" y=\"-672.3\">(None, 125, 125, 128)</text>\n",
       "</g>\n",
       "<!-- 140379427856056&#45;&gt;140379428110744 -->\n",
       "<g class=\"edge\" id=\"edge33\"><title>140379427856056-&gt;140379428110744</title>\n",
       "<path d=\"M581.5,-747.366C581.5,-739.152 581.5,-729.658 581.5,-720.725\" fill=\"none\" stroke=\"black\"/>\n",
       "<polygon fill=\"black\" points=\"585,-720.607 581.5,-710.607 578,-720.607 585,-720.607\" stroke=\"black\"/>\n",
       "</g>\n",
       "<!-- 140379428111472 -->\n",
       "<g class=\"node\" id=\"node32\"><title>140379428111472</title>\n",
       "<polygon fill=\"none\" points=\"425.5,-581.5 425.5,-627.5 737.5,-627.5 737.5,-581.5 425.5,-581.5\" stroke=\"black\"/>\n",
       "<text font-family=\"Times,serif\" font-size=\"14.00\" text-anchor=\"middle\" x=\"485\" y=\"-600.8\">fuse_3_2: Conv2D</text>\n",
       "<polyline fill=\"none\" points=\"544.5,-581.5 544.5,-627.5 \" stroke=\"black\"/>\n",
       "<text font-family=\"Times,serif\" font-size=\"14.00\" text-anchor=\"middle\" x=\"572\" y=\"-612.3\">input:</text>\n",
       "<polyline fill=\"none\" points=\"544.5,-604.5 599.5,-604.5 \" stroke=\"black\"/>\n",
       "<text font-family=\"Times,serif\" font-size=\"14.00\" text-anchor=\"middle\" x=\"572\" y=\"-589.3\">output:</text>\n",
       "<polyline fill=\"none\" points=\"599.5,-581.5 599.5,-627.5 \" stroke=\"black\"/>\n",
       "<text font-family=\"Times,serif\" font-size=\"14.00\" text-anchor=\"middle\" x=\"668.5\" y=\"-612.3\">(None, 125, 125, 128)</text>\n",
       "<polyline fill=\"none\" points=\"599.5,-604.5 737.5,-604.5 \" stroke=\"black\"/>\n",
       "<text font-family=\"Times,serif\" font-size=\"14.00\" text-anchor=\"middle\" x=\"668.5\" y=\"-589.3\">(None, 125, 125, 128)</text>\n",
       "</g>\n",
       "<!-- 140379428110744&#45;&gt;140379428111472 -->\n",
       "<g class=\"edge\" id=\"edge34\"><title>140379428110744-&gt;140379428111472</title>\n",
       "<path d=\"M581.5,-664.366C581.5,-656.152 581.5,-646.658 581.5,-637.725\" fill=\"none\" stroke=\"black\"/>\n",
       "<polygon fill=\"black\" points=\"585,-637.607 581.5,-627.607 578,-637.607 585,-637.607\" stroke=\"black\"/>\n",
       "</g>\n",
       "<!-- 140379427470304 -->\n",
       "<g class=\"node\" id=\"node33\"><title>140379427470304</title>\n",
       "<polygon fill=\"none\" points=\"400.5,-498.5 400.5,-544.5 762.5,-544.5 762.5,-498.5 400.5,-498.5\" stroke=\"black\"/>\n",
       "<text font-family=\"Times,serif\" font-size=\"14.00\" text-anchor=\"middle\" x=\"485\" y=\"-517.8\">conv_t4: Conv2DTranspose</text>\n",
       "<polyline fill=\"none\" points=\"569.5,-498.5 569.5,-544.5 \" stroke=\"black\"/>\n",
       "<text font-family=\"Times,serif\" font-size=\"14.00\" text-anchor=\"middle\" x=\"597\" y=\"-529.3\">input:</text>\n",
       "<polyline fill=\"none\" points=\"569.5,-521.5 624.5,-521.5 \" stroke=\"black\"/>\n",
       "<text font-family=\"Times,serif\" font-size=\"14.00\" text-anchor=\"middle\" x=\"597\" y=\"-506.3\">output:</text>\n",
       "<polyline fill=\"none\" points=\"624.5,-498.5 624.5,-544.5 \" stroke=\"black\"/>\n",
       "<text font-family=\"Times,serif\" font-size=\"14.00\" text-anchor=\"middle\" x=\"693.5\" y=\"-529.3\">(None, 125, 125, 128)</text>\n",
       "<polyline fill=\"none\" points=\"624.5,-521.5 762.5,-521.5 \" stroke=\"black\"/>\n",
       "<text font-family=\"Times,serif\" font-size=\"14.00\" text-anchor=\"middle\" x=\"693.5\" y=\"-506.3\">(None, 250, 250, 64)</text>\n",
       "</g>\n",
       "<!-- 140379428111472&#45;&gt;140379427470304 -->\n",
       "<g class=\"edge\" id=\"edge35\"><title>140379428111472-&gt;140379427470304</title>\n",
       "<path d=\"M581.5,-581.366C581.5,-573.152 581.5,-563.658 581.5,-554.725\" fill=\"none\" stroke=\"black\"/>\n",
       "<polygon fill=\"black\" points=\"585,-554.607 581.5,-544.607 578,-554.607 585,-554.607\" stroke=\"black\"/>\n",
       "</g>\n",
       "<!-- 140379427642616 -->\n",
       "<g class=\"node\" id=\"node34\"><title>140379427642616</title>\n",
       "<polygon fill=\"none\" points=\"339,-415.5 339,-461.5 824,-461.5 824,-415.5 339,-415.5\" stroke=\"black\"/>\n",
       "<text font-family=\"Times,serif\" font-size=\"14.00\" text-anchor=\"middle\" x=\"488.5\" y=\"-434.8\">bilinear_up_sampling2d_4: BilinearUpSampling2D</text>\n",
       "<polyline fill=\"none\" points=\"638,-415.5 638,-461.5 \" stroke=\"black\"/>\n",
       "<text font-family=\"Times,serif\" font-size=\"14.00\" text-anchor=\"middle\" x=\"665.5\" y=\"-446.3\">input:</text>\n",
       "<polyline fill=\"none\" points=\"638,-438.5 693,-438.5 \" stroke=\"black\"/>\n",
       "<text font-family=\"Times,serif\" font-size=\"14.00\" text-anchor=\"middle\" x=\"665.5\" y=\"-423.3\">output:</text>\n",
       "<polyline fill=\"none\" points=\"693,-415.5 693,-461.5 \" stroke=\"black\"/>\n",
       "<text font-family=\"Times,serif\" font-size=\"14.00\" text-anchor=\"middle\" x=\"758.5\" y=\"-446.3\">(None, 250, 250, 64)</text>\n",
       "<polyline fill=\"none\" points=\"693,-438.5 824,-438.5 \" stroke=\"black\"/>\n",
       "<text font-family=\"Times,serif\" font-size=\"14.00\" text-anchor=\"middle\" x=\"758.5\" y=\"-423.3\">(None, 250, 250, 64)</text>\n",
       "</g>\n",
       "<!-- 140379427470304&#45;&gt;140379427642616 -->\n",
       "<g class=\"edge\" id=\"edge36\"><title>140379427470304-&gt;140379427642616</title>\n",
       "<path d=\"M581.5,-498.366C581.5,-490.152 581.5,-480.658 581.5,-471.725\" fill=\"none\" stroke=\"black\"/>\n",
       "<polygon fill=\"black\" points=\"585,-471.607 581.5,-461.607 578,-471.607 585,-471.607\" stroke=\"black\"/>\n",
       "</g>\n",
       "<!-- 140379427642616&#45;&gt;140379427360720 -->\n",
       "<g class=\"edge\" id=\"edge37\"><title>140379427642616-&gt;140379427360720</title>\n",
       "<path d=\"M618.389,-415.366C634.61,-405.634 653.824,-394.106 670.929,-383.842\" fill=\"none\" stroke=\"black\"/>\n",
       "<polygon fill=\"black\" points=\"672.881,-386.753 679.655,-378.607 669.28,-380.751 672.881,-386.753\" stroke=\"black\"/>\n",
       "</g>\n",
       "<!-- 140379427195032 -->\n",
       "<g class=\"node\" id=\"node36\"><title>140379427195032</title>\n",
       "<polygon fill=\"none\" points=\"560.5,-249.5 560.5,-295.5 872.5,-295.5 872.5,-249.5 560.5,-249.5\" stroke=\"black\"/>\n",
       "<text font-family=\"Times,serif\" font-size=\"14.00\" text-anchor=\"middle\" x=\"620\" y=\"-268.8\">fuse_4_1: Conv2D</text>\n",
       "<polyline fill=\"none\" points=\"679.5,-249.5 679.5,-295.5 \" stroke=\"black\"/>\n",
       "<text font-family=\"Times,serif\" font-size=\"14.00\" text-anchor=\"middle\" x=\"707\" y=\"-280.3\">input:</text>\n",
       "<polyline fill=\"none\" points=\"679.5,-272.5 734.5,-272.5 \" stroke=\"black\"/>\n",
       "<text font-family=\"Times,serif\" font-size=\"14.00\" text-anchor=\"middle\" x=\"707\" y=\"-257.3\">output:</text>\n",
       "<polyline fill=\"none\" points=\"734.5,-249.5 734.5,-295.5 \" stroke=\"black\"/>\n",
       "<text font-family=\"Times,serif\" font-size=\"14.00\" text-anchor=\"middle\" x=\"803.5\" y=\"-280.3\">(None, 250, 250, 128)</text>\n",
       "<polyline fill=\"none\" points=\"734.5,-272.5 872.5,-272.5 \" stroke=\"black\"/>\n",
       "<text font-family=\"Times,serif\" font-size=\"14.00\" text-anchor=\"middle\" x=\"803.5\" y=\"-257.3\">(None, 250, 250, 64)</text>\n",
       "</g>\n",
       "<!-- 140379427360720&#45;&gt;140379427195032 -->\n",
       "<g class=\"edge\" id=\"edge39\"><title>140379427360720-&gt;140379427195032</title>\n",
       "<path d=\"M716.5,-332.366C716.5,-324.152 716.5,-314.658 716.5,-305.725\" fill=\"none\" stroke=\"black\"/>\n",
       "<polygon fill=\"black\" points=\"720,-305.607 716.5,-295.607 713,-305.607 720,-305.607\" stroke=\"black\"/>\n",
       "</g>\n",
       "<!-- 140379427194024 -->\n",
       "<g class=\"node\" id=\"node37\"><title>140379427194024</title>\n",
       "<polygon fill=\"none\" points=\"564,-166.5 564,-212.5 869,-212.5 869,-166.5 564,-166.5\" stroke=\"black\"/>\n",
       "<text font-family=\"Times,serif\" font-size=\"14.00\" text-anchor=\"middle\" x=\"623.5\" y=\"-185.8\">fuse_4_2: Conv2D</text>\n",
       "<polyline fill=\"none\" points=\"683,-166.5 683,-212.5 \" stroke=\"black\"/>\n",
       "<text font-family=\"Times,serif\" font-size=\"14.00\" text-anchor=\"middle\" x=\"710.5\" y=\"-197.3\">input:</text>\n",
       "<polyline fill=\"none\" points=\"683,-189.5 738,-189.5 \" stroke=\"black\"/>\n",
       "<text font-family=\"Times,serif\" font-size=\"14.00\" text-anchor=\"middle\" x=\"710.5\" y=\"-174.3\">output:</text>\n",
       "<polyline fill=\"none\" points=\"738,-166.5 738,-212.5 \" stroke=\"black\"/>\n",
       "<text font-family=\"Times,serif\" font-size=\"14.00\" text-anchor=\"middle\" x=\"803.5\" y=\"-197.3\">(None, 250, 250, 64)</text>\n",
       "<polyline fill=\"none\" points=\"738,-189.5 869,-189.5 \" stroke=\"black\"/>\n",
       "<text font-family=\"Times,serif\" font-size=\"14.00\" text-anchor=\"middle\" x=\"803.5\" y=\"-174.3\">(None, 250, 250, 64)</text>\n",
       "</g>\n",
       "<!-- 140379427195032&#45;&gt;140379427194024 -->\n",
       "<g class=\"edge\" id=\"edge40\"><title>140379427195032-&gt;140379427194024</title>\n",
       "<path d=\"M716.5,-249.366C716.5,-241.152 716.5,-231.658 716.5,-222.725\" fill=\"none\" stroke=\"black\"/>\n",
       "<polygon fill=\"black\" points=\"720,-222.607 716.5,-212.607 713,-222.607 720,-222.607\" stroke=\"black\"/>\n",
       "</g>\n",
       "<!-- 140379427130952 -->\n",
       "<g class=\"node\" id=\"node38\"><title>140379427130952</title>\n",
       "<polygon fill=\"none\" points=\"522,-83.5 522,-129.5 911,-129.5 911,-83.5 522,-83.5\" stroke=\"black\"/>\n",
       "<text font-family=\"Times,serif\" font-size=\"14.00\" text-anchor=\"middle\" x=\"620\" y=\"-102.8\">deconv_final: Conv2DTranspose</text>\n",
       "<polyline fill=\"none\" points=\"718,-83.5 718,-129.5 \" stroke=\"black\"/>\n",
       "<text font-family=\"Times,serif\" font-size=\"14.00\" text-anchor=\"middle\" x=\"745.5\" y=\"-114.3\">input:</text>\n",
       "<polyline fill=\"none\" points=\"718,-106.5 773,-106.5 \" stroke=\"black\"/>\n",
       "<text font-family=\"Times,serif\" font-size=\"14.00\" text-anchor=\"middle\" x=\"745.5\" y=\"-91.3\">output:</text>\n",
       "<polyline fill=\"none\" points=\"773,-83.5 773,-129.5 \" stroke=\"black\"/>\n",
       "<text font-family=\"Times,serif\" font-size=\"14.00\" text-anchor=\"middle\" x=\"842\" y=\"-114.3\">(None, 250, 250, 64)</text>\n",
       "<polyline fill=\"none\" points=\"773,-106.5 911,-106.5 \" stroke=\"black\"/>\n",
       "<text font-family=\"Times,serif\" font-size=\"14.00\" text-anchor=\"middle\" x=\"842\" y=\"-91.3\">(None, 500, 500, 124)</text>\n",
       "</g>\n",
       "<!-- 140379427194024&#45;&gt;140379427130952 -->\n",
       "<g class=\"edge\" id=\"edge41\"><title>140379427194024-&gt;140379427130952</title>\n",
       "<path d=\"M716.5,-166.366C716.5,-158.152 716.5,-148.658 716.5,-139.725\" fill=\"none\" stroke=\"black\"/>\n",
       "<polygon fill=\"black\" points=\"720,-139.607 716.5,-129.607 713,-139.607 720,-139.607\" stroke=\"black\"/>\n",
       "</g>\n",
       "<!-- 140379426675904 -->\n",
       "<g class=\"node\" id=\"node39\"><title>140379426675904</title>\n",
       "<polygon fill=\"none\" points=\"526,-0.5 526,-46.5 907,-46.5 907,-0.5 526,-0.5\" stroke=\"black\"/>\n",
       "<text font-family=\"Times,serif\" font-size=\"14.00\" text-anchor=\"middle\" x=\"620\" y=\"-19.8\">output: BilinearUpSampling2D</text>\n",
       "<polyline fill=\"none\" points=\"714,-0.5 714,-46.5 \" stroke=\"black\"/>\n",
       "<text font-family=\"Times,serif\" font-size=\"14.00\" text-anchor=\"middle\" x=\"741.5\" y=\"-31.3\">input:</text>\n",
       "<polyline fill=\"none\" points=\"714,-23.5 769,-23.5 \" stroke=\"black\"/>\n",
       "<text font-family=\"Times,serif\" font-size=\"14.00\" text-anchor=\"middle\" x=\"741.5\" y=\"-8.3\">output:</text>\n",
       "<polyline fill=\"none\" points=\"769,-0.5 769,-46.5 \" stroke=\"black\"/>\n",
       "<text font-family=\"Times,serif\" font-size=\"14.00\" text-anchor=\"middle\" x=\"838\" y=\"-31.3\">(None, 500, 500, 124)</text>\n",
       "<polyline fill=\"none\" points=\"769,-23.5 907,-23.5 \" stroke=\"black\"/>\n",
       "<text font-family=\"Times,serif\" font-size=\"14.00\" text-anchor=\"middle\" x=\"838\" y=\"-8.3\">(None, 500, 500, 124)</text>\n",
       "</g>\n",
       "<!-- 140379427130952&#45;&gt;140379426675904 -->\n",
       "<g class=\"edge\" id=\"edge42\"><title>140379427130952-&gt;140379426675904</title>\n",
       "<path d=\"M716.5,-83.3664C716.5,-75.1516 716.5,-65.6579 716.5,-56.7252\" fill=\"none\" stroke=\"black\"/>\n",
       "<polygon fill=\"black\" points=\"720,-56.6068 716.5,-46.6068 713,-56.6069 720,-56.6068\" stroke=\"black\"/>\n",
       "</g>\n",
       "</g>\n",
       "</svg>"
      ],
      "text/plain": [
       "<IPython.core.display.SVG object>"
      ]
     },
     "execution_count": 7,
     "metadata": {},
     "output_type": "execute_result"
    }
   ],
   "source": [
    "from IPython.display import SVG\n",
    "from keras.utils.vis_utils import model_to_dot\n",
    "from keras.layers.convolutional import Conv2D\n",
    "from keras.layers import Input\n",
    "from keras.models import Model\n",
    "\n",
    "\n",
    "SVG(model_to_dot(model, show_shapes=True).create(prog='dot', format='svg'))"
   ]
  },
  {
   "cell_type": "code",
   "execution_count": 8,
   "metadata": {
    "ExecuteTime": {
     "end_time": "2018-07-02T22:01:30.517706Z",
     "start_time": "2018-07-02T22:01:30.513278Z"
    }
   },
   "outputs": [],
   "source": [
    "n_bins = 5\n",
    "n_classes = 124"
   ]
  },
  {
   "cell_type": "code",
   "execution_count": 9,
   "metadata": {
    "ExecuteTime": {
     "end_time": "2018-07-02T22:01:31.281643Z",
     "start_time": "2018-07-02T22:01:30.831143Z"
    }
   },
   "outputs": [],
   "source": [
    "input_map = Input(shape=(500,500,1))\n",
    "output_featuremaps = model(input_map)\n",
    "energy_output = Conv2D(n_bins,    (1,1), activation='relu', padding='same', name='energy_map')(output_featuremaps)\n",
    "class_output  = Conv2D(n_classes, (1,1), activation='relu', padding='same', name='class_map')(output_featuremaps)\n",
    "bbox_output   = Conv2D(2,         (1,1), activation='relu', padding='same', name='bbox_map')(output_featuremaps)"
   ]
  },
  {
   "cell_type": "code",
   "execution_count": 27,
   "metadata": {
    "ExecuteTime": {
     "end_time": "2018-07-02T22:03:19.584698Z",
     "start_time": "2018-07-02T22:03:19.455454Z"
    }
   },
   "outputs": [],
   "source": [
    "dwd_model = Model(inputs=[input_map], outputs=[energy_output, class_output, bbox_output])\n",
    "loss_fn = softmax_sparse_crossentropy\n",
    "optimizer = Adam(lr=1e-4, beta_1=0.9, beta_2=0.999, \n",
    "                 epsilon=1e-8, decay=0.0, amsgrad=False)\n",
    "metrics = []\n",
    "dwd_model.compile(loss={\n",
    "                            \"energy_map\": loss_fn,\n",
    "                            \"class_map\": loss_fn,\n",
    "                            \"bbox_map\": \"mse\",\n",
    "                        }, optimizer=optimizer, metrics=metrics)"
   ]
  },
  {
   "cell_type": "code",
   "execution_count": 55,
   "metadata": {
    "ExecuteTime": {
     "end_time": "2018-07-02T22:10:49.260619Z",
     "start_time": "2018-07-02T22:09:46.291015Z"
    }
   },
   "outputs": [
    {
     "name": "stdout",
     "output_type": "stream",
     "text": [
      "Epoch 1/10\n",
      "10/10 [==============================] - 7s 656ms/step - loss: 4.2942 - energy_map_loss: 0.0247 - class_map_loss: 0.0291 - bbox_map_loss: 4.2404 - val_loss: 6.2077 - val_energy_map_loss: 0.0275 - val_class_map_loss: 0.0333 - val_bbox_map_loss: 6.1469\n",
      "Epoch 2/10\n",
      "10/10 [==============================] - 6s 614ms/step - loss: 6.7934 - energy_map_loss: 0.0452 - class_map_loss: 0.0505 - bbox_map_loss: 6.6977 - val_loss: 7.6322 - val_energy_map_loss: 0.0322 - val_class_map_loss: 0.0366 - val_bbox_map_loss: 7.5634\n",
      "Epoch 3/10\n",
      "10/10 [==============================] - 6s 610ms/step - loss: 7.1134 - energy_map_loss: 0.0369 - class_map_loss: 0.0355 - bbox_map_loss: 7.0409 - val_loss: 9.0275 - val_energy_map_loss: 0.0315 - val_class_map_loss: 0.0395 - val_bbox_map_loss: 8.9565\n",
      "Epoch 4/10\n",
      "10/10 [==============================] - 6s 626ms/step - loss: 6.7942 - energy_map_loss: 0.0361 - class_map_loss: 0.0364 - bbox_map_loss: 6.7217 - val_loss: 5.3553 - val_energy_map_loss: 0.0305 - val_class_map_loss: 0.0340 - val_bbox_map_loss: 5.2908\n",
      "Epoch 5/10\n",
      "10/10 [==============================] - 6s 630ms/step - loss: 4.2530 - energy_map_loss: 0.0273 - class_map_loss: 0.0267 - bbox_map_loss: 4.1990 - val_loss: 10.6698 - val_energy_map_loss: 0.0337 - val_class_map_loss: 0.0387 - val_bbox_map_loss: 10.5973\n",
      "Epoch 6/10\n",
      "10/10 [==============================] - 6s 620ms/step - loss: 5.0224 - energy_map_loss: 0.0274 - class_map_loss: 0.0333 - bbox_map_loss: 4.9618 - val_loss: 5.9200 - val_energy_map_loss: 0.0305 - val_class_map_loss: 0.0341 - val_bbox_map_loss: 5.8554\n",
      "Epoch 7/10\n",
      "10/10 [==============================] - 6s 642ms/step - loss: 4.7665 - energy_map_loss: 0.0258 - class_map_loss: 0.0387 - bbox_map_loss: 4.7021 - val_loss: 9.2219 - val_energy_map_loss: 0.0312 - val_class_map_loss: 0.0373 - val_bbox_map_loss: 9.1534\n",
      "Epoch 8/10\n",
      "10/10 [==============================] - 6s 633ms/step - loss: 7.3558 - energy_map_loss: 0.0348 - class_map_loss: 0.0494 - bbox_map_loss: 7.2717 - val_loss: 12.0584 - val_energy_map_loss: 0.0378 - val_class_map_loss: 0.0452 - val_bbox_map_loss: 11.9754\n",
      "Epoch 9/10\n",
      "10/10 [==============================] - 6s 632ms/step - loss: 3.6295 - energy_map_loss: 0.0286 - class_map_loss: 0.0233 - bbox_map_loss: 3.5776 - val_loss: 10.3691 - val_energy_map_loss: 0.0406 - val_class_map_loss: 0.0431 - val_bbox_map_loss: 10.2853\n",
      "Epoch 10/10\n",
      "10/10 [==============================] - 6s 629ms/step - loss: 8.9205 - energy_map_loss: 0.0562 - class_map_loss: 0.0471 - bbox_map_loss: 8.8172 - val_loss: 17.6199 - val_energy_map_loss: 0.0327 - val_class_map_loss: 0.0371 - val_bbox_map_loss: 17.5500\n"
     ]
    },
    {
     "data": {
      "text/plain": [
       "<keras.callbacks.History at 0x7fac0fa9c128>"
      ]
     },
     "execution_count": 55,
     "metadata": {},
     "output_type": "execute_result"
    }
   ],
   "source": [
    "dwd_model.fit_generator(generator=training_generator, epochs=10,\n",
    "                              validation_data=validation_generator,\n",
    "                              use_multiprocessing=True, workers=10,\n",
    "                              callbacks=callbacks,\n",
    "                              steps_per_epoch=10)"
   ]
  },
  {
   "cell_type": "code",
   "execution_count": 75,
   "metadata": {
    "ExecuteTime": {
     "end_time": "2018-07-02T22:11:40.647999Z",
     "start_time": "2018-07-02T22:11:40.429104Z"
    }
   },
   "outputs": [],
   "source": [
    "X, y = validation_generator[0]"
   ]
  },
  {
   "cell_type": "code",
   "execution_count": 76,
   "metadata": {
    "ExecuteTime": {
     "end_time": "2018-07-02T22:11:41.239686Z",
     "start_time": "2018-07-02T22:11:41.040454Z"
    }
   },
   "outputs": [],
   "source": [
    "y_pred = dwd_model.predict(X)"
   ]
  },
  {
   "cell_type": "code",
   "execution_count": 77,
   "metadata": {
    "ExecuteTime": {
     "end_time": "2018-07-02T22:11:42.032202Z",
     "start_time": "2018-07-02T22:11:41.651741Z"
    }
   },
   "outputs": [
    {
     "data": {
      "text/plain": [
       "<matplotlib.image.AxesImage at 0x7fac141bb780>"
      ]
     },
     "execution_count": 77,
     "metadata": {},
     "output_type": "execute_result"
    },
    {
     "data": {
      "image/png": "[encoded data removed]",
      "text/plain": [
       "<matplotlib.figure.Figure at 0x7fac0fe10748>"
      ]
     },
     "metadata": {},
     "output_type": "display_data"
    }
   ],
   "source": [
    "plt.figure(figsize=(20,20))\n",
    "plt.subplot(1,3,1)\n",
    "plt.imshow(np.argmax(y_pred[0], axis=-1)[0])\n",
    "plt.subplot(1,3,2)\n",
    "plt.imshow(np.argmax(y_pred[1], axis=-1)[0])\n",
    "plt.subplot(1,3,3)\n",
    "plt.imshow(y_pred[2][0,:,:,0])"
   ]
  },
  {
   "cell_type": "code",
   "execution_count": 78,
   "metadata": {
    "ExecuteTime": {
     "end_time": "2018-07-02T22:11:42.943729Z",
     "start_time": "2018-07-02T22:11:42.835660Z"
    }
   },
   "outputs": [
    {
     "data": {
      "text/plain": [
       "<matplotlib.image.AxesImage at 0x7fac1425b1d0>"
      ]
     },
     "execution_count": 78,
     "metadata": {},
     "output_type": "execute_result"
    },
    {
     "data": {
      "image/png": "[encoded data removed]",
      "text/plain": [
       "<matplotlib.figure.Figure at 0x7fac141f3eb8>"
      ]
     },
     "metadata": {},
     "output_type": "display_data"
    }
   ],
   "source": [
    "plt.imshow(X[0,:,:,0])"
   ]
  },
  {
   "cell_type": "code",
   "execution_count": null,
   "metadata": {},
   "outputs": [],
   "source": []
  },
  {
   "cell_type": "code",
   "execution_count": null,
   "metadata": {
    "ExecuteTime": {
     "end_time": "2018-07-02T22:01:39.643055Z",
     "start_time": "2018-07-02T22:01:34.174Z"
    },
    "code_folding": [
     0
    ]
   },
   "outputs": [],
   "source": [
    "# Array based union find data structure\n",
    "\n",
    "# P: The array, which encodes the set membership of all the elements\n",
    "\n",
    "class UFarray:\n",
    "    def __init__(self):\n",
    "        # Array which holds label -> set equivalences\n",
    "        self.P = []\n",
    "\n",
    "        # Name of the next label, when one is created\n",
    "        self.label = 0\n",
    "\n",
    "    def makeLabel(self):\n",
    "        r = self.label\n",
    "        self.label += 1\n",
    "        self.P.append(r)\n",
    "        return r\n",
    "    \n",
    "    # Makes all nodes \"in the path of node i\" point to root\n",
    "    def setRoot(self, i, root):\n",
    "        while self.P[i] < i:\n",
    "            j = self.P[i]\n",
    "            self.P[i] = root\n",
    "            i = j\n",
    "        self.P[i] = root\n",
    "\n",
    "    # Finds the root node of the tree containing node i\n",
    "    def findRoot(self, i):\n",
    "        while self.P[i] < i:\n",
    "            i = self.P[i]\n",
    "        return i\n",
    "    \n",
    "    # Finds the root of the tree containing node i\n",
    "    # Simultaneously compresses the tree\n",
    "    def find(self, i):\n",
    "        root = self.findRoot(i)\n",
    "        self.setRoot(i, root)\n",
    "        return root\n",
    "    \n",
    "    # Joins the two trees containing nodes i and j\n",
    "    # Modified to be less agressive about compressing paths\n",
    "    # because performance was suffering some from over-compression\n",
    "    def union(self, i, j):\n",
    "        if i != j:\n",
    "            root = self.findRoot(i)\n",
    "            rootj = self.findRoot(j)\n",
    "            if root > rootj: root = rootj\n",
    "            self.setRoot(j, root)\n",
    "            self.setRoot(i, root)\n",
    "    \n",
    "    def flatten(self):\n",
    "        for i in range(1, len(self.P)):\n",
    "            self.P[i] = self.P[self.P[i]]\n",
    "    \n",
    "    def flattenL(self):\n",
    "        k = 1\n",
    "        for i in range(1, len(self.P)):\n",
    "            if self.P[i] < i:\n",
    "                self.P[i] = self.P[self.P[i]]\n",
    "            else:\n",
    "                self.P[i] = k\n",
    "                k += 1"
   ]
  },
  {
   "cell_type": "code",
   "execution_count": null,
   "metadata": {
    "ExecuteTime": {
     "end_time": "2018-07-02T17:58:01.041651Z",
     "start_time": "2018-07-02T17:58:00.885758Z"
    },
    "code_folding": []
   },
   "outputs": [],
   "source": [
    "def find_connected_comp(input):\n",
    "    data = input\n",
    "    width, height = input.shape\n",
    "\n",
    "    # Union find data structure\n",
    "    uf = UFarray()\n",
    "\n",
    "    #\n",
    "    # First pass\n",
    "    #\n",
    "\n",
    "    # Dictionary of point:label pairs\n",
    "    labels = {}\n",
    "\n",
    "    for y, x in product(range(height), range(width)):\n",
    "\n",
    "        #\n",
    "        # Pixel names were chosen as shown:\n",
    "        #\n",
    "        #   -------------\n",
    "        #   | a | b | c |\n",
    "        #   -------------\n",
    "        #   | d | e |   |\n",
    "        #   -------------\n",
    "        #   |   |   |   |\n",
    "        #   -------------\n",
    "        #\n",
    "        # The current pixel is e\n",
    "        # a, b, c, and d are its neighbors of interest\n",
    "        #\n",
    "        # 255 is white, 0 is black\n",
    "        # White pixels part of the background, so they are ignored\n",
    "        # If a pixel lies outside the bounds of the image, it default to white\n",
    "        #\n",
    "\n",
    "        # If the current pixel is white, it's obviously not a component...\n",
    "        if data[x, y] == 255:\n",
    "            pass\n",
    "\n",
    "        # If pixel b is in the image and black:\n",
    "        #    a, d, and c are its neighbors, so they are all part of the same component\n",
    "        #    Therefore, there is no reason to check their labels\n",
    "        #    so simply assign b's label to e\n",
    "        elif y > 0 and data[x, y - 1] == 0:\n",
    "            labels[x, y] = labels[(x, y - 1)]\n",
    "\n",
    "        # If pixel c is in the image and black:\n",
    "        #    b is its neighbor, but a and d are not\n",
    "        #    Therefore, we must check a and d's labels\n",
    "        elif x + 1 < width and y > 0 and data[x + 1, y - 1] == 0:\n",
    "\n",
    "            c = labels[(x + 1, y - 1)]\n",
    "            labels[x, y] = c\n",
    "\n",
    "            # If pixel a is in the image and black:\n",
    "            #    Then a and c are connected through e\n",
    "            #    Therefore, we must union their sets\n",
    "            if x > 0 and data[x - 1, y - 1] == 0:\n",
    "                a = labels[(x - 1, y - 1)]\n",
    "                uf.union(c, a)\n",
    "\n",
    "            # If pixel d is in the image and black:\n",
    "            #    Then d and c are connected through e\n",
    "            #    Therefore we must union their sets\n",
    "            elif x > 0 and data[x - 1, y] == 0:\n",
    "                d = labels[(x - 1, y)]\n",
    "                uf.union(c, d)\n",
    "\n",
    "        # If pixel a is in the image and black:\n",
    "        #    We already know b and c are white\n",
    "        #    d is a's neighbor, so they already have the same label\n",
    "        #    So simply assign a's label to e\n",
    "        elif x > 0 and y > 0 and data[x - 1, y - 1] == 0:\n",
    "            labels[x, y] = labels[(x - 1, y - 1)]\n",
    "\n",
    "        # If pixel d is in the image and black\n",
    "        #    We already know a, b, and c are white\n",
    "        #    so simpy assign d's label to e\n",
    "        elif x > 0 and data[x - 1, y] == 0:\n",
    "            labels[x, y] = labels[(x - 1, y)]\n",
    "\n",
    "        # All the neighboring pixels are white,\n",
    "        # Therefore the current pixel is a new component\n",
    "        else:\n",
    "            labels[x, y] = uf.makeLabel()\n",
    "\n",
    "    print(len(labels))\n",
    "    #\n",
    "    # Second pass\n",
    "    #\n",
    "\n",
    "    uf.flatten()\n",
    "\n",
    "    colors = {}\n",
    "\n",
    "    # Image to display the components in a nice, colorful way\n",
    "    output_img = Image.new(\"RGB\", (width, height))\n",
    "    outdata = output_img.load()\n",
    "\n",
    "    for (x, y) in labels:\n",
    "\n",
    "        # Name of the component the current point belongs to\n",
    "        component = uf.find(labels[(x, y)])\n",
    "\n",
    "        # Update the labels with correct information\n",
    "        labels[(x, y)] = component\n",
    "\n",
    "        # Associate a random color with this component\n",
    "        if component not in colors:\n",
    "            colors[component] = (random.randint(0, 255), random.randint(0, 255), random.randint(0, 255))\n",
    "\n",
    "        # Colorize the image\n",
    "        outdata[y, x] = colors[component]\n",
    "\n",
    "    return (labels, output_img)"
   ]
  },
  {
   "cell_type": "code",
   "execution_count": null,
   "metadata": {
    "ExecuteTime": {
     "end_time": "2018-07-02T18:00:52.952216Z",
     "start_time": "2018-07-02T18:00:52.914683Z"
    }
   },
   "outputs": [],
   "source": [
    "prep = np.zeros_like(example_annotation[2,:,:,0])\n",
    "for row in range(prep.shape[0]):\n",
    "    for col in range(prep.shape[1]):\n",
    "        if example_annotation[2,row,col,0] == 29:\n",
    "            prep[row,col] = 0\n",
    "        else:\n",
    "            prep[row,col] = 255"
   ]
  },
  {
   "cell_type": "code",
   "execution_count": null,
   "metadata": {
    "ExecuteTime": {
     "end_time": "2018-07-02T18:00:11.675397Z",
     "start_time": "2018-07-02T18:00:11.668816Z"
    }
   },
   "outputs": [],
   "source": [
    "print(np.unique(example_annotation[2,:,:,0]))"
   ]
  },
  {
   "cell_type": "code",
   "execution_count": null,
   "metadata": {
    "ExecuteTime": {
     "end_time": "2018-07-02T18:00:59.080911Z",
     "start_time": "2018-07-02T18:00:59.052593Z"
    }
   },
   "outputs": [],
   "source": [
    "labels, out_img = find_connected_comp(prep)"
   ]
  },
  {
   "cell_type": "code",
   "execution_count": null,
   "metadata": {
    "ExecuteTime": {
     "end_time": "2018-07-02T18:01:01.922053Z",
     "start_time": "2018-07-02T18:01:01.811570Z"
    }
   },
   "outputs": [],
   "source": [
    "plt.imshow(out_img, cmap='gray')"
   ]
  },
  {
   "cell_type": "code",
   "execution_count": null,
   "metadata": {
    "ExecuteTime": {
     "end_time": "2018-07-02T18:18:01.687911Z",
     "start_time": "2018-07-02T18:18:01.679501Z"
    }
   },
   "outputs": [],
   "source": [
    "import xml.etree.ElementTree as ET"
   ]
  },
  {
   "cell_type": "code",
   "execution_count": null,
   "metadata": {
    "ExecuteTime": {
     "end_time": "2018-07-02T18:19:00.644606Z",
     "start_time": "2018-07-02T18:19:00.640406Z"
    }
   },
   "outputs": [],
   "source": [
    "from sheet_id.utils.base_utils import loadSettings, loadScoresDataset"
   ]
  },
  {
   "cell_type": "code",
   "execution_count": null,
   "metadata": {
    "ExecuteTime": {
     "end_time": "2018-07-02T18:19:29.975758Z",
     "start_time": "2018-07-02T18:19:29.966131Z"
    }
   },
   "outputs": [],
   "source": [
    "loadSettings()"
   ]
  }
 ],
 "metadata": {
  "kernelspec": {
   "display_name": "Python 3",
   "language": "python",
   "name": "python3"
  },
  "language_info": {
   "codemirror_mode": {
    "name": "ipython",
    "version": 3
   },
   "file_extension": ".py",
   "mimetype": "text/x-python",
   "name": "python",
   "nbconvert_exporter": "python",
   "pygments_lexer": "ipython3",
   "version": "3.6.3"
  },
  "latex_envs": {
   "LaTeX_envs_menu_present": true,
   "autoclose": false,
   "autocomplete": true,
   "bibliofile": "biblio.bib",
   "cite_by": "apalike",
   "current_citInitial": 1,
   "eqLabelWithNumbers": true,
   "eqNumInitial": 1,
   "hotkeys": {
    "equation": "Ctrl-E",
    "itemize": "Ctrl-I"
   },
   "labels_anchors": false,
   "latex_user_defs": false,
   "report_style_numbering": false,
   "user_envs_cfg": false
  },
  "toc": {
   "nav_menu": {},
   "number_sections": true,
   "sideBar": true,
   "skip_h1_title": false,
   "title_cell": "Table of Contents",
   "title_sidebar": "Contents",
   "toc_cell": false,
   "toc_position": {},
   "toc_section_display": true,
   "toc_window_display": false
  },
  "varInspector": {
   "cols": {
    "lenName": 16,
    "lenType": 16,
    "lenVar": 40
   },
   "kernels_config": {
    "python": {
     "delete_cmd_postfix": "",
     "delete_cmd_prefix": "del ",
     "library": "var_list.py",
     "varRefreshCmd": "print(var_dic_list())"
    },
    "r": {
     "delete_cmd_postfix": ") ",
     "delete_cmd_prefix": "rm(",
     "library": "var_list.r",
     "varRefreshCmd": "cat(var_dic_list()) "
    }
   },
   "position": {
    "height": "519px",
    "left": "1154px",
    "right": "52px",
    "top": "111px",
    "width": "714px"
   },
   "types_to_exclude": [
    "module",
    "function",
    "builtin_function_or_method",
    "instance",
    "_Feature"
   ],
   "window_display": false
  }
 },
 "nbformat": 4,
 "nbformat_minor": 2
}
