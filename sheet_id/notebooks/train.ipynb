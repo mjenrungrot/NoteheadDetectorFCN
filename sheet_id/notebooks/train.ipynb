{
 "cells": [
  {
   "cell_type": "code",
   "execution_count": 1,
   "metadata": {
    "ExecuteTime": {
     "end_time": "2018-06-19T17:50:00.217308Z",
     "start_time": "2018-06-19T17:49:58.954749Z"
    },
    "scrolled": true
   },
   "outputs": [
    {
     "name": "stderr",
     "output_type": "stream",
     "text": [
      "/home/mirlab/miniconda3/lib/python3.6/site-packages/h5py/__init__.py:36: FutureWarning: Conversion of the second argument of issubdtype from `float` to `np.floating` is deprecated. In future, it will be treated as `np.float64 == np.dtype(float).type`.\n",
      "  from ._conv import register_converters as _register_converters\n",
      "Using TensorFlow backend.\n"
     ]
    }
   ],
   "source": [
    "from keras.optimizers import Adam\n",
    "from keras.callbacks import TensorBoard, ModelCheckpoint\n",
    "\n",
    "from sheet_id.models.FCN import FCN\n",
    "from sheet_id.utils.loss_functions import softmax_sparse_crossentropy_ignoring_background, softmax_sparse_crossentropy\n",
    "from sheet_id.utils.metrics import sparse_accuracy_ignoring_background, sparse_accuracy\n",
    "from sheet_id.utils.dataPreprocessing import splitTrainValidation\n",
    "from sheet_id.utils.dataGenerator import DataGenerator\n",
    "\n",
    "import matplotlib.pyplot as plt\n",
    "import numpy as np"
   ]
  },
  {
   "cell_type": "markdown",
   "metadata": {},
   "source": [
    "# Training"
   ]
  },
  {
   "cell_type": "code",
   "execution_count": 2,
   "metadata": {
    "ExecuteTime": {
     "end_time": "2018-06-19T17:50:00.778879Z",
     "start_time": "2018-06-19T17:50:00.218613Z"
    }
   },
   "outputs": [],
   "source": [
    "model = FCN(input_shape=(250,250,1), n_classes=124)"
   ]
  },
  {
   "cell_type": "code",
   "execution_count": 3,
   "metadata": {
    "ExecuteTime": {
     "end_time": "2018-06-19T17:50:00.848536Z",
     "start_time": "2018-06-19T17:50:00.780268Z"
    }
   },
   "outputs": [],
   "source": [
    "loss_fn = softmax_sparse_crossentropy\n",
    "optimizer = Adam(lr=1e-4, beta_1=0.9, beta_2=0.999, \n",
    "                 epsilon=1e-8, decay=0.0, amsgrad=False)\n",
    "metrics = [sparse_accuracy]\n",
    "model.compile(loss=loss_fn, optimizer=optimizer, metrics=metrics)"
   ]
  },
  {
   "cell_type": "code",
   "execution_count": 4,
   "metadata": {
    "ExecuteTime": {
     "end_time": "2018-06-19T17:50:00.851844Z",
     "start_time": "2018-06-19T17:50:00.849912Z"
    }
   },
   "outputs": [],
   "source": [
    "callbacks = []"
   ]
  },
  {
   "cell_type": "code",
   "execution_count": 5,
   "metadata": {
    "ExecuteTime": {
     "end_time": "2018-06-19T17:50:01.198740Z",
     "start_time": "2018-06-19T17:50:00.853083Z"
    }
   },
   "outputs": [],
   "source": [
    "train_partition, validation_partition = splitTrainValidation('../data/', max_size=200, test_size=20, npy_only=True)"
   ]
  },
  {
   "cell_type": "code",
   "execution_count": 6,
   "metadata": {
    "ExecuteTime": {
     "end_time": "2018-06-19T17:50:01.204014Z",
     "start_time": "2018-06-19T17:50:01.200222Z"
    }
   },
   "outputs": [],
   "source": [
    "params = {'dim': (250,250),\n",
    "          'batch_size': 20,\n",
    "          'n_classes': 124,\n",
    "          'n_channels': 1,\n",
    "          'shuffle': True,\n",
    "          'crop': True,\n",
    "          'crop_size': (250,250),\n",
    "          'load_npy': True}\n",
    "training_generator = DataGenerator(train_partition, **params)\n",
    "validation_generator = DataGenerator(validation_partition, **params)"
   ]
  },
  {
   "cell_type": "code",
   "execution_count": 36,
   "metadata": {
    "ExecuteTime": {
     "end_time": "2018-06-19T20:29:28.587642Z",
     "start_time": "2018-06-19T19:41:47.502071Z"
    },
    "scrolled": true
   },
   "outputs": [
    {
     "name": "stdout",
     "output_type": "stream",
     "text": [
      "Epoch 1/200\n",
      " 8/10 [=======================>......] - ETA: 2s - loss: 0.0078 - sparse_accuracy: 0.9981Epoch 1/200\n",
      "10/10 [==============================] - 16s 2s/step - loss: 0.0073 - sparse_accuracy: 0.9981 - val_loss: 0.0046 - val_sparse_accuracy: 0.9987\n",
      "Epoch 2/200\n",
      "10/10 [==============================] - 14s 1s/step - loss: 0.0084 - sparse_accuracy: 0.9978 - val_loss: 0.0035 - val_sparse_accuracy: 0.9989\n",
      "Epoch 3/200\n",
      "10/10 [==============================] - 14s 1s/step - loss: 0.0075 - sparse_accuracy: 0.9977 - val_loss: 0.0105 - val_sparse_accuracy: 0.9973\n",
      "Epoch 4/200\n",
      "10/10 [==============================] - 14s 1s/step - loss: 0.0079 - sparse_accuracy: 0.9980 - val_loss: 0.0030 - val_sparse_accuracy: 0.9989\n",
      "Epoch 5/200\n",
      "10/10 [==============================] - 14s 1s/step - loss: 0.0090 - sparse_accuracy: 0.9976 - val_loss: 0.0059 - val_sparse_accuracy: 0.9980\n",
      "Epoch 6/200\n",
      "10/10 [==============================] - 14s 1s/step - loss: 0.0087 - sparse_accuracy: 0.9975 - val_loss: 0.0115 - val_sparse_accuracy: 0.9967\n",
      "Epoch 7/200\n",
      "10/10 [==============================] - 14s 1s/step - loss: 0.0101 - sparse_accuracy: 0.9975 - val_loss: 0.0074 - val_sparse_accuracy: 0.9979\n",
      "Epoch 8/200\n",
      "10/10 [==============================] - 14s 1s/step - loss: 0.0119 - sparse_accuracy: 0.9970 - val_loss: 0.0111 - val_sparse_accuracy: 0.9973\n",
      "Epoch 9/200\n",
      "10/10 [==============================] - 15s 1s/step - loss: 0.0102 - sparse_accuracy: 0.9975 - val_loss: 0.0065 - val_sparse_accuracy: 0.9981\n",
      "Epoch 10/200\n",
      "10/10 [==============================] - 14s 1s/step - loss: 0.0115 - sparse_accuracy: 0.9970 - val_loss: 0.0210 - val_sparse_accuracy: 0.9945\n",
      "Epoch 11/200\n",
      "10/10 [==============================] - 14s 1s/step - loss: 0.0111 - sparse_accuracy: 0.9970 - val_loss: 0.0155 - val_sparse_accuracy: 0.9966\n",
      "Epoch 12/200\n",
      "10/10 [==============================] - 14s 1s/step - loss: 0.0073 - sparse_accuracy: 0.9979 - val_loss: 0.0180 - val_sparse_accuracy: 0.9976\n",
      "Epoch 13/200\n",
      "10/10 [==============================] - 14s 1s/step - loss: 0.0048 - sparse_accuracy: 0.9986 - val_loss: 0.0098 - val_sparse_accuracy: 0.9973\n",
      "Epoch 14/200\n",
      "10/10 [==============================] - 14s 1s/step - loss: 0.0057 - sparse_accuracy: 0.9984 - val_loss: 0.0049 - val_sparse_accuracy: 0.9985\n",
      "Epoch 15/200\n",
      "10/10 [==============================] - 14s 1s/step - loss: 0.0068 - sparse_accuracy: 0.9980 - val_loss: 0.0038 - val_sparse_accuracy: 0.9988\n",
      "Epoch 16/200\n",
      "10/10 [==============================] - 14s 1s/step - loss: 0.0074 - sparse_accuracy: 0.9979 - val_loss: 0.0242 - val_sparse_accuracy: 0.9954\n",
      "Epoch 17/200\n",
      "10/10 [==============================] - 14s 1s/step - loss: 0.0095 - sparse_accuracy: 0.9975 - val_loss: 0.0104 - val_sparse_accuracy: 0.9978\n",
      "Epoch 18/200\n",
      "10/10 [==============================] - 15s 1s/step - loss: 0.0084 - sparse_accuracy: 0.9977 - val_loss: 0.0052 - val_sparse_accuracy: 0.9985\n",
      "Epoch 19/200\n",
      "10/10 [==============================] - 14s 1s/step - loss: 0.0095 - sparse_accuracy: 0.9976 - val_loss: 0.0041 - val_sparse_accuracy: 0.9989\n",
      "Epoch 20/200\n",
      "10/10 [==============================] - 14s 1s/step - loss: 0.0088 - sparse_accuracy: 0.9976 - val_loss: 0.0061 - val_sparse_accuracy: 0.9980\n",
      "Epoch 21/200\n",
      "10/10 [==============================] - 14s 1s/step - loss: 0.0067 - sparse_accuracy: 0.9980 - val_loss: 0.0082 - val_sparse_accuracy: 0.9982\n",
      "Epoch 22/200\n",
      "10/10 [==============================] - 14s 1s/step - loss: 0.0085 - sparse_accuracy: 0.9978 - val_loss: 0.0219 - val_sparse_accuracy: 0.9951\n",
      "Epoch 23/200\n",
      "10/10 [==============================] - 14s 1s/step - loss: 0.0075 - sparse_accuracy: 0.9980 - val_loss: 0.0141 - val_sparse_accuracy: 0.9967\n",
      "Epoch 24/200\n",
      "10/10 [==============================] - 14s 1s/step - loss: 0.0100 - sparse_accuracy: 0.9973 - val_loss: 0.0124 - val_sparse_accuracy: 0.9972\n",
      "Epoch 25/200\n",
      "10/10 [==============================] - 14s 1s/step - loss: 0.0094 - sparse_accuracy: 0.9976 - val_loss: 0.0106 - val_sparse_accuracy: 0.9965\n",
      "Epoch 26/200\n",
      "10/10 [==============================] - 14s 1s/step - loss: 0.0097 - sparse_accuracy: 0.9974 - val_loss: 0.0033 - val_sparse_accuracy: 0.9989\n",
      "Epoch 27/200\n",
      "10/10 [==============================] - 15s 1s/step - loss: 0.0076 - sparse_accuracy: 0.9979 - val_loss: 0.0140 - val_sparse_accuracy: 0.9962\n",
      "Epoch 28/200\n",
      "10/10 [==============================] - 14s 1s/step - loss: 0.0128 - sparse_accuracy: 0.9972 - val_loss: 0.0056 - val_sparse_accuracy: 0.9984\n",
      "Epoch 29/200\n",
      "10/10 [==============================] - 14s 1s/step - loss: 0.0117 - sparse_accuracy: 0.9967 - val_loss: 0.0145 - val_sparse_accuracy: 0.9961\n",
      "Epoch 30/200\n",
      "10/10 [==============================] - 14s 1s/step - loss: 0.0084 - sparse_accuracy: 0.9977 - val_loss: 0.0043 - val_sparse_accuracy: 0.9987\n",
      "Epoch 31/200\n",
      "10/10 [==============================] - 14s 1s/step - loss: 0.0113 - sparse_accuracy: 0.9972 - val_loss: 0.0097 - val_sparse_accuracy: 0.9972\n",
      "Epoch 32/200\n",
      "10/10 [==============================] - 14s 1s/step - loss: 0.0090 - sparse_accuracy: 0.9975 - val_loss: 0.0040 - val_sparse_accuracy: 0.9986\n",
      "Epoch 33/200\n",
      "10/10 [==============================] - 14s 1s/step - loss: 0.0074 - sparse_accuracy: 0.9979 - val_loss: 0.0028 - val_sparse_accuracy: 0.9992\n",
      "Epoch 34/200\n",
      "10/10 [==============================] - 14s 1s/step - loss: 0.0116 - sparse_accuracy: 0.9972 - val_loss: 0.0055 - val_sparse_accuracy: 0.9983\n",
      "Epoch 35/200\n",
      "10/10 [==============================] - 14s 1s/step - loss: 0.0067 - sparse_accuracy: 0.9981 - val_loss: 0.0061 - val_sparse_accuracy: 0.9983\n",
      "Epoch 36/200\n",
      "10/10 [==============================] - 15s 1s/step - loss: 0.0064 - sparse_accuracy: 0.9981 - val_loss: 0.0045 - val_sparse_accuracy: 0.9986\n",
      "Epoch 37/200\n",
      "10/10 [==============================] - 14s 1s/step - loss: 0.0091 - sparse_accuracy: 0.9976 - val_loss: 0.0056 - val_sparse_accuracy: 0.9982\n",
      "Epoch 38/200\n",
      "10/10 [==============================] - 14s 1s/step - loss: 0.0073 - sparse_accuracy: 0.9982 - val_loss: 0.0159 - val_sparse_accuracy: 0.9964\n",
      "Epoch 39/200\n",
      "10/10 [==============================] - 14s 1s/step - loss: 0.0099 - sparse_accuracy: 0.9976 - val_loss: 0.0123 - val_sparse_accuracy: 0.9967\n",
      "Epoch 40/200\n",
      "10/10 [==============================] - 14s 1s/step - loss: 0.0066 - sparse_accuracy: 0.9981 - val_loss: 0.0046 - val_sparse_accuracy: 0.9987\n",
      "Epoch 41/200\n",
      "10/10 [==============================] - 14s 1s/step - loss: 0.0083 - sparse_accuracy: 0.9977 - val_loss: 0.0250 - val_sparse_accuracy: 0.9956\n",
      "Epoch 42/200\n",
      "10/10 [==============================] - 14s 1s/step - loss: 0.0083 - sparse_accuracy: 0.9977 - val_loss: 0.0040 - val_sparse_accuracy: 0.9988\n",
      "Epoch 43/200\n",
      "10/10 [==============================] - 14s 1s/step - loss: 0.0079 - sparse_accuracy: 0.9977 - val_loss: 0.0067 - val_sparse_accuracy: 0.9980\n",
      "Epoch 44/200\n",
      "10/10 [==============================] - 14s 1s/step - loss: 0.0074 - sparse_accuracy: 0.9978 - val_loss: 0.0128 - val_sparse_accuracy: 0.9975\n",
      "Epoch 45/200\n",
      "10/10 [==============================] - 15s 1s/step - loss: 0.0095 - sparse_accuracy: 0.9977 - val_loss: 0.0180 - val_sparse_accuracy: 0.9955\n",
      "Epoch 46/200\n",
      "10/10 [==============================] - 14s 1s/step - loss: 0.0100 - sparse_accuracy: 0.9973 - val_loss: 0.0048 - val_sparse_accuracy: 0.9987\n",
      "Epoch 47/200\n",
      "10/10 [==============================] - 14s 1s/step - loss: 0.0086 - sparse_accuracy: 0.9976 - val_loss: 0.0095 - val_sparse_accuracy: 0.9970\n",
      "Epoch 48/200\n",
      "10/10 [==============================] - 14s 1s/step - loss: 0.0071 - sparse_accuracy: 0.9979 - val_loss: 0.0109 - val_sparse_accuracy: 0.9970\n",
      "Epoch 49/200\n",
      "10/10 [==============================] - 14s 1s/step - loss: 0.0065 - sparse_accuracy: 0.9981 - val_loss: 0.0047 - val_sparse_accuracy: 0.9987\n",
      "Epoch 50/200\n",
      "10/10 [==============================] - 14s 1s/step - loss: 0.0068 - sparse_accuracy: 0.9982 - val_loss: 0.0088 - val_sparse_accuracy: 0.9973\n",
      "Epoch 51/200\n",
      "10/10 [==============================] - 14s 1s/step - loss: 0.0088 - sparse_accuracy: 0.9976 - val_loss: 0.0052 - val_sparse_accuracy: 0.9984\n",
      "Epoch 52/200\n",
      "10/10 [==============================] - 14s 1s/step - loss: 0.0066 - sparse_accuracy: 0.9982 - val_loss: 0.0025 - val_sparse_accuracy: 0.9991\n"
     ]
    },
    {
     "name": "stdout",
     "output_type": "stream",
     "text": [
      "Epoch 53/200\n",
      "10/10 [==============================] - 14s 1s/step - loss: 0.0061 - sparse_accuracy: 0.9983 - val_loss: 0.0104 - val_sparse_accuracy: 0.9973\n",
      "Epoch 54/200\n",
      "10/10 [==============================] - 15s 1s/step - loss: 0.0054 - sparse_accuracy: 0.9984 - val_loss: 0.0086 - val_sparse_accuracy: 0.9977\n",
      "Epoch 55/200\n",
      "10/10 [==============================] - 14s 1s/step - loss: 0.0081 - sparse_accuracy: 0.9980 - val_loss: 0.0106 - val_sparse_accuracy: 0.9968\n",
      "Epoch 56/200\n",
      "10/10 [==============================] - 14s 1s/step - loss: 0.0052 - sparse_accuracy: 0.9984 - val_loss: 0.0115 - val_sparse_accuracy: 0.9969\n",
      "Epoch 57/200\n",
      "10/10 [==============================] - 14s 1s/step - loss: 0.0080 - sparse_accuracy: 0.9978 - val_loss: 0.0138 - val_sparse_accuracy: 0.9955\n",
      "Epoch 58/200\n",
      "10/10 [==============================] - 14s 1s/step - loss: 0.0087 - sparse_accuracy: 0.9976 - val_loss: 0.0081 - val_sparse_accuracy: 0.9983\n",
      "Epoch 59/200\n",
      "10/10 [==============================] - 14s 1s/step - loss: 0.0072 - sparse_accuracy: 0.9980 - val_loss: 0.0118 - val_sparse_accuracy: 0.9968\n",
      "Epoch 60/200\n",
      "10/10 [==============================] - 14s 1s/step - loss: 0.0052 - sparse_accuracy: 0.9985 - val_loss: 0.0103 - val_sparse_accuracy: 0.9968\n",
      "Epoch 61/200\n",
      "10/10 [==============================] - 14s 1s/step - loss: 0.0065 - sparse_accuracy: 0.9982 - val_loss: 0.0054 - val_sparse_accuracy: 0.9984\n",
      "Epoch 62/200\n",
      "10/10 [==============================] - 14s 1s/step - loss: 0.0068 - sparse_accuracy: 0.9979 - val_loss: 0.0048 - val_sparse_accuracy: 0.9984\n",
      "Epoch 63/200\n",
      "10/10 [==============================] - 14s 1s/step - loss: 0.0058 - sparse_accuracy: 0.9984 - val_loss: 0.0179 - val_sparse_accuracy: 0.9954\n",
      "Epoch 64/200\n",
      "10/10 [==============================] - 14s 1s/step - loss: 0.0082 - sparse_accuracy: 0.9978 - val_loss: 0.0084 - val_sparse_accuracy: 0.9976\n",
      "Epoch 65/200\n",
      "10/10 [==============================] - 14s 1s/step - loss: 0.0061 - sparse_accuracy: 0.9982 - val_loss: 0.0023 - val_sparse_accuracy: 0.9993\n",
      "Epoch 66/200\n",
      "10/10 [==============================] - 14s 1s/step - loss: 0.0054 - sparse_accuracy: 0.9985 - val_loss: 0.0060 - val_sparse_accuracy: 0.9983\n",
      "Epoch 67/200\n",
      "10/10 [==============================] - 14s 1s/step - loss: 0.0060 - sparse_accuracy: 0.9983 - val_loss: 0.0043 - val_sparse_accuracy: 0.9989\n",
      "Epoch 68/200\n",
      "10/10 [==============================] - 14s 1s/step - loss: 0.0065 - sparse_accuracy: 0.9981 - val_loss: 0.0092 - val_sparse_accuracy: 0.9977\n",
      "Epoch 69/200\n",
      "10/10 [==============================] - 14s 1s/step - loss: 0.0081 - sparse_accuracy: 0.9981 - val_loss: 0.0021 - val_sparse_accuracy: 0.9993\n",
      "Epoch 70/200\n",
      "10/10 [==============================] - 14s 1s/step - loss: 0.0055 - sparse_accuracy: 0.9984 - val_loss: 0.0052 - val_sparse_accuracy: 0.9985\n",
      "Epoch 71/200\n",
      "10/10 [==============================] - 14s 1s/step - loss: 0.0078 - sparse_accuracy: 0.9977 - val_loss: 0.0047 - val_sparse_accuracy: 0.9986\n",
      "Epoch 72/200\n",
      "10/10 [==============================] - 15s 1s/step - loss: 0.0066 - sparse_accuracy: 0.9981 - val_loss: 0.0046 - val_sparse_accuracy: 0.9985\n",
      "Epoch 73/200\n",
      "10/10 [==============================] - 14s 1s/step - loss: 0.0088 - sparse_accuracy: 0.9977 - val_loss: 0.0032 - val_sparse_accuracy: 0.9988\n",
      "Epoch 74/200\n",
      "10/10 [==============================] - 14s 1s/step - loss: 0.0071 - sparse_accuracy: 0.9980 - val_loss: 0.0101 - val_sparse_accuracy: 0.9967\n",
      "Epoch 75/200\n",
      "10/10 [==============================] - 14s 1s/step - loss: 0.0064 - sparse_accuracy: 0.9982 - val_loss: 0.0043 - val_sparse_accuracy: 0.9985\n",
      "Epoch 76/200\n",
      "10/10 [==============================] - 15s 1s/step - loss: 0.0064 - sparse_accuracy: 0.9983 - val_loss: 0.0048 - val_sparse_accuracy: 0.9985\n",
      "Epoch 77/200\n",
      "10/10 [==============================] - 15s 1s/step - loss: 0.0060 - sparse_accuracy: 0.9984 - val_loss: 0.0043 - val_sparse_accuracy: 0.9989\n",
      "Epoch 78/200\n",
      "10/10 [==============================] - 14s 1s/step - loss: 0.0071 - sparse_accuracy: 0.9982 - val_loss: 0.0093 - val_sparse_accuracy: 0.9979\n",
      "Epoch 79/200\n",
      "10/10 [==============================] - 14s 1s/step - loss: 0.0056 - sparse_accuracy: 0.9984 - val_loss: 0.0084 - val_sparse_accuracy: 0.9977\n",
      "Epoch 80/200\n",
      "10/10 [==============================] - 14s 1s/step - loss: 0.0065 - sparse_accuracy: 0.9981 - val_loss: 0.0120 - val_sparse_accuracy: 0.9977\n",
      "Epoch 81/200\n",
      "10/10 [==============================] - 15s 1s/step - loss: 0.0068 - sparse_accuracy: 0.9980 - val_loss: 0.0089 - val_sparse_accuracy: 0.9983\n",
      "Epoch 82/200\n",
      "10/10 [==============================] - 14s 1s/step - loss: 0.0056 - sparse_accuracy: 0.9983 - val_loss: 0.0038 - val_sparse_accuracy: 0.9988\n",
      "Epoch 83/200\n",
      "10/10 [==============================] - 14s 1s/step - loss: 0.0062 - sparse_accuracy: 0.9982 - val_loss: 0.0064 - val_sparse_accuracy: 0.9984\n",
      "Epoch 84/200\n",
      "10/10 [==============================] - 14s 1s/step - loss: 0.0072 - sparse_accuracy: 0.9982 - val_loss: 0.0050 - val_sparse_accuracy: 0.9983\n",
      "Epoch 85/200\n",
      "10/10 [==============================] - 14s 1s/step - loss: 0.0050 - sparse_accuracy: 0.9986 - val_loss: 0.0018 - val_sparse_accuracy: 0.9994\n",
      "Epoch 86/200\n",
      "10/10 [==============================] - 14s 1s/step - loss: 0.0055 - sparse_accuracy: 0.9983 - val_loss: 0.0026 - val_sparse_accuracy: 0.9992\n",
      "Epoch 87/200\n",
      "10/10 [==============================] - 14s 1s/step - loss: 0.0074 - sparse_accuracy: 0.9980 - val_loss: 0.0068 - val_sparse_accuracy: 0.9981\n",
      "Epoch 88/200\n",
      "10/10 [==============================] - 14s 1s/step - loss: 0.0057 - sparse_accuracy: 0.9986 - val_loss: 0.0031 - val_sparse_accuracy: 0.9990\n",
      "Epoch 89/200\n",
      "10/10 [==============================] - 14s 1s/step - loss: 0.0051 - sparse_accuracy: 0.9985 - val_loss: 0.0056 - val_sparse_accuracy: 0.9983\n",
      "Epoch 90/200\n",
      "10/10 [==============================] - 15s 1s/step - loss: 0.0050 - sparse_accuracy: 0.9986 - val_loss: 0.0042 - val_sparse_accuracy: 0.9986\n",
      "Epoch 91/200\n",
      "10/10 [==============================] - 14s 1s/step - loss: 0.0047 - sparse_accuracy: 0.9985 - val_loss: 0.0032 - val_sparse_accuracy: 0.9989\n",
      "Epoch 92/200\n",
      "10/10 [==============================] - 14s 1s/step - loss: 0.0083 - sparse_accuracy: 0.9979 - val_loss: 0.0046 - val_sparse_accuracy: 0.9985\n",
      "Epoch 93/200\n",
      "10/10 [==============================] - 14s 1s/step - loss: 0.0076 - sparse_accuracy: 0.9978 - val_loss: 0.0139 - val_sparse_accuracy: 0.9964\n",
      "Epoch 94/200\n",
      "10/10 [==============================] - 14s 1s/step - loss: 0.0059 - sparse_accuracy: 0.9983 - val_loss: 0.0050 - val_sparse_accuracy: 0.9984\n",
      "Epoch 95/200\n",
      "10/10 [==============================] - 14s 1s/step - loss: 0.0059 - sparse_accuracy: 0.9983 - val_loss: 0.0046 - val_sparse_accuracy: 0.9986\n",
      "Epoch 96/200\n",
      "10/10 [==============================] - 14s 1s/step - loss: 0.0080 - sparse_accuracy: 0.9978 - val_loss: 0.0035 - val_sparse_accuracy: 0.9991\n",
      "Epoch 97/200\n",
      "10/10 [==============================] - 14s 1s/step - loss: 0.0067 - sparse_accuracy: 0.9982 - val_loss: 0.0069 - val_sparse_accuracy: 0.9982\n",
      "Epoch 98/200\n",
      "10/10 [==============================] - 14s 1s/step - loss: 0.0043 - sparse_accuracy: 0.9987 - val_loss: 0.0031 - val_sparse_accuracy: 0.9990\n",
      "Epoch 99/200\n",
      "10/10 [==============================] - 15s 1s/step - loss: 0.0076 - sparse_accuracy: 0.9979 - val_loss: 0.0088 - val_sparse_accuracy: 0.9974\n",
      "Epoch 100/200\n",
      "10/10 [==============================] - 14s 1s/step - loss: 0.0087 - sparse_accuracy: 0.9977 - val_loss: 0.0033 - val_sparse_accuracy: 0.9992\n",
      "Epoch 101/200\n",
      "10/10 [==============================] - 14s 1s/step - loss: 0.0038 - sparse_accuracy: 0.9990 - val_loss: 0.0052 - val_sparse_accuracy: 0.9983\n",
      "Epoch 102/200\n",
      "10/10 [==============================] - 14s 1s/step - loss: 0.0060 - sparse_accuracy: 0.9983 - val_loss: 0.0090 - val_sparse_accuracy: 0.9976\n",
      "Epoch 103/200\n",
      "10/10 [==============================] - 14s 1s/step - loss: 0.0053 - sparse_accuracy: 0.9984 - val_loss: 0.0044 - val_sparse_accuracy: 0.9985\n",
      "Epoch 104/200\n",
      "10/10 [==============================] - 14s 1s/step - loss: 0.0070 - sparse_accuracy: 0.9982 - val_loss: 0.0048 - val_sparse_accuracy: 0.9986\n",
      "Epoch 105/200\n"
     ]
    },
    {
     "name": "stdout",
     "output_type": "stream",
     "text": [
      "10/10 [==============================] - 14s 1s/step - loss: 0.0050 - sparse_accuracy: 0.9985 - val_loss: 0.0041 - val_sparse_accuracy: 0.9987\n",
      "Epoch 106/200\n",
      "10/10 [==============================] - 14s 1s/step - loss: 0.0061 - sparse_accuracy: 0.9981 - val_loss: 0.0047 - val_sparse_accuracy: 0.9986\n",
      "Epoch 107/200\n",
      "10/10 [==============================] - 14s 1s/step - loss: 0.0048 - sparse_accuracy: 0.9986 - val_loss: 0.0165 - val_sparse_accuracy: 0.9961\n",
      "Epoch 108/200\n",
      "10/10 [==============================] - 15s 1s/step - loss: 0.0081 - sparse_accuracy: 0.9979 - val_loss: 0.0035 - val_sparse_accuracy: 0.9991\n",
      "Epoch 109/200\n",
      "10/10 [==============================] - 14s 1s/step - loss: 0.0047 - sparse_accuracy: 0.9986 - val_loss: 0.0039 - val_sparse_accuracy: 0.9990\n",
      "Epoch 110/200\n",
      "10/10 [==============================] - 14s 1s/step - loss: 0.0070 - sparse_accuracy: 0.9981 - val_loss: 0.0047 - val_sparse_accuracy: 0.9984\n",
      "Epoch 111/200\n",
      "10/10 [==============================] - 14s 1s/step - loss: 0.0058 - sparse_accuracy: 0.9987 - val_loss: 0.0040 - val_sparse_accuracy: 0.9988\n",
      "Epoch 112/200\n",
      "10/10 [==============================] - 14s 1s/step - loss: 0.0052 - sparse_accuracy: 0.9984 - val_loss: 0.0054 - val_sparse_accuracy: 0.9981\n",
      "Epoch 113/200\n",
      "10/10 [==============================] - 14s 1s/step - loss: 0.0056 - sparse_accuracy: 0.9984 - val_loss: 0.0132 - val_sparse_accuracy: 0.9961\n",
      "Epoch 114/200\n",
      "10/10 [==============================] - 14s 1s/step - loss: 0.0068 - sparse_accuracy: 0.9982 - val_loss: 0.0058 - val_sparse_accuracy: 0.9978\n",
      "Epoch 115/200\n",
      "10/10 [==============================] - 14s 1s/step - loss: 0.0048 - sparse_accuracy: 0.9987 - val_loss: 0.0056 - val_sparse_accuracy: 0.9988\n",
      "Epoch 116/200\n",
      "10/10 [==============================] - 14s 1s/step - loss: 0.0059 - sparse_accuracy: 0.9984 - val_loss: 0.0172 - val_sparse_accuracy: 0.9957\n",
      "Epoch 117/200\n",
      "10/10 [==============================] - 15s 1s/step - loss: 0.0051 - sparse_accuracy: 0.9985 - val_loss: 0.0036 - val_sparse_accuracy: 0.9989\n",
      "Epoch 118/200\n",
      "10/10 [==============================] - 14s 1s/step - loss: 0.0080 - sparse_accuracy: 0.9977 - val_loss: 0.0104 - val_sparse_accuracy: 0.9971\n",
      "Epoch 119/200\n",
      "10/10 [==============================] - 14s 1s/step - loss: 0.0072 - sparse_accuracy: 0.9980 - val_loss: 0.0062 - val_sparse_accuracy: 0.9978\n",
      "Epoch 120/200\n",
      "10/10 [==============================] - 14s 1s/step - loss: 0.0069 - sparse_accuracy: 0.9983 - val_loss: 0.0066 - val_sparse_accuracy: 0.9982\n",
      "Epoch 121/200\n",
      "10/10 [==============================] - 14s 1s/step - loss: 0.0076 - sparse_accuracy: 0.9980 - val_loss: 0.0031 - val_sparse_accuracy: 0.9991\n",
      "Epoch 122/200\n",
      "10/10 [==============================] - 14s 1s/step - loss: 0.0075 - sparse_accuracy: 0.9980 - val_loss: 0.0055 - val_sparse_accuracy: 0.9984\n",
      "Epoch 123/200\n",
      "10/10 [==============================] - 14s 1s/step - loss: 0.0062 - sparse_accuracy: 0.9984 - val_loss: 0.0047 - val_sparse_accuracy: 0.9986\n",
      "Epoch 124/200\n",
      "10/10 [==============================] - 14s 1s/step - loss: 0.0062 - sparse_accuracy: 0.9983 - val_loss: 0.0090 - val_sparse_accuracy: 0.9978\n",
      "Epoch 125/200\n",
      "10/10 [==============================] - 14s 1s/step - loss: 0.0049 - sparse_accuracy: 0.9986 - val_loss: 0.0049 - val_sparse_accuracy: 0.9983\n",
      "Epoch 126/200\n",
      "10/10 [==============================] - 15s 1s/step - loss: 0.0065 - sparse_accuracy: 0.9981 - val_loss: 0.0028 - val_sparse_accuracy: 0.9990\n",
      "Epoch 127/200\n",
      "10/10 [==============================] - 14s 1s/step - loss: 0.0071 - sparse_accuracy: 0.9982 - val_loss: 0.0049 - val_sparse_accuracy: 0.9988\n",
      "Epoch 128/200\n",
      "10/10 [==============================] - 14s 1s/step - loss: 0.0087 - sparse_accuracy: 0.9976 - val_loss: 0.0043 - val_sparse_accuracy: 0.9987\n",
      "Epoch 129/200\n",
      "10/10 [==============================] - 14s 1s/step - loss: 0.0060 - sparse_accuracy: 0.9983 - val_loss: 0.0025 - val_sparse_accuracy: 0.9991\n",
      "Epoch 130/200\n",
      "10/10 [==============================] - 14s 1s/step - loss: 0.0053 - sparse_accuracy: 0.9986 - val_loss: 0.0058 - val_sparse_accuracy: 0.9981\n",
      "Epoch 131/200\n",
      "10/10 [==============================] - 14s 1s/step - loss: 0.0051 - sparse_accuracy: 0.9986 - val_loss: 0.0048 - val_sparse_accuracy: 0.9987\n",
      "Epoch 132/200\n",
      "10/10 [==============================] - 14s 1s/step - loss: 0.0057 - sparse_accuracy: 0.9985 - val_loss: 0.0063 - val_sparse_accuracy: 0.9978\n",
      "Epoch 133/200\n",
      "10/10 [==============================] - 14s 1s/step - loss: 0.0060 - sparse_accuracy: 0.9983 - val_loss: 0.0053 - val_sparse_accuracy: 0.9987\n",
      "Epoch 134/200\n",
      "10/10 [==============================] - 14s 1s/step - loss: 0.0050 - sparse_accuracy: 0.9986 - val_loss: 0.0057 - val_sparse_accuracy: 0.9980\n",
      "Epoch 135/200\n",
      "10/10 [==============================] - 15s 1s/step - loss: 0.0039 - sparse_accuracy: 0.9988 - val_loss: 0.0044 - val_sparse_accuracy: 0.9986\n",
      "Epoch 136/200\n",
      "10/10 [==============================] - 14s 1s/step - loss: 0.0065 - sparse_accuracy: 0.9983 - val_loss: 0.0022 - val_sparse_accuracy: 0.9994\n",
      "Epoch 137/200\n",
      "10/10 [==============================] - 14s 1s/step - loss: 0.0047 - sparse_accuracy: 0.9987 - val_loss: 0.0055 - val_sparse_accuracy: 0.9984\n",
      "Epoch 138/200\n",
      "10/10 [==============================] - 14s 1s/step - loss: 0.0070 - sparse_accuracy: 0.9982 - val_loss: 0.0029 - val_sparse_accuracy: 0.9992\n",
      "Epoch 139/200\n",
      "10/10 [==============================] - 14s 1s/step - loss: 0.0047 - sparse_accuracy: 0.9986 - val_loss: 0.0075 - val_sparse_accuracy: 0.9987\n",
      "Epoch 140/200\n",
      "10/10 [==============================] - 14s 1s/step - loss: 0.0054 - sparse_accuracy: 0.9985 - val_loss: 0.0071 - val_sparse_accuracy: 0.9980\n",
      "Epoch 141/200\n",
      "10/10 [==============================] - 14s 1s/step - loss: 0.0061 - sparse_accuracy: 0.9984 - val_loss: 0.0054 - val_sparse_accuracy: 0.9983\n",
      "Epoch 142/200\n",
      "10/10 [==============================] - 14s 1s/step - loss: 0.0050 - sparse_accuracy: 0.9985 - val_loss: 0.0037 - val_sparse_accuracy: 0.9989\n",
      "Epoch 143/200\n",
      "10/10 [==============================] - 14s 1s/step - loss: 0.0041 - sparse_accuracy: 0.9987 - val_loss: 0.0106 - val_sparse_accuracy: 0.9966\n",
      "Epoch 144/200\n",
      "10/10 [==============================] - 15s 1s/step - loss: 0.0049 - sparse_accuracy: 0.9987 - val_loss: 0.0064 - val_sparse_accuracy: 0.9980\n",
      "Epoch 145/200\n",
      "10/10 [==============================] - 14s 1s/step - loss: 0.0038 - sparse_accuracy: 0.9988 - val_loss: 0.0039 - val_sparse_accuracy: 0.9987\n",
      "Epoch 146/200\n",
      "10/10 [==============================] - 14s 1s/step - loss: 0.0064 - sparse_accuracy: 0.9983 - val_loss: 0.0046 - val_sparse_accuracy: 0.9988\n",
      "Epoch 147/200\n",
      "10/10 [==============================] - 14s 1s/step - loss: 0.0053 - sparse_accuracy: 0.9984 - val_loss: 0.0037 - val_sparse_accuracy: 0.9987\n",
      "Epoch 148/200\n",
      "10/10 [==============================] - 14s 1s/step - loss: 0.0057 - sparse_accuracy: 0.9985 - val_loss: 0.0023 - val_sparse_accuracy: 0.9992\n",
      "Epoch 149/200\n",
      "10/10 [==============================] - 14s 1s/step - loss: 0.0038 - sparse_accuracy: 0.9989 - val_loss: 0.0028 - val_sparse_accuracy: 0.9990\n",
      "Epoch 150/200\n",
      "10/10 [==============================] - 14s 1s/step - loss: 0.0040 - sparse_accuracy: 0.9988 - val_loss: 0.0031 - val_sparse_accuracy: 0.9991\n",
      "Epoch 151/200\n",
      "10/10 [==============================] - 14s 1s/step - loss: 0.0074 - sparse_accuracy: 0.9983 - val_loss: 0.0033 - val_sparse_accuracy: 0.9989\n",
      "Epoch 152/200\n",
      "10/10 [==============================] - 15s 1s/step - loss: 0.0090 - sparse_accuracy: 0.9975 - val_loss: 0.0052 - val_sparse_accuracy: 0.9983\n",
      "Epoch 153/200\n",
      "10/10 [==============================] - 15s 1s/step - loss: 0.0068 - sparse_accuracy: 0.9982 - val_loss: 0.0055 - val_sparse_accuracy: 0.9982\n",
      "Epoch 154/200\n",
      "10/10 [==============================] - 14s 1s/step - loss: 0.0051 - sparse_accuracy: 0.9985 - val_loss: 0.0089 - val_sparse_accuracy: 0.9983\n",
      "Epoch 155/200\n",
      "10/10 [==============================] - 14s 1s/step - loss: 0.0064 - sparse_accuracy: 0.9983 - val_loss: 0.0039 - val_sparse_accuracy: 0.9990\n",
      "Epoch 156/200\n",
      "10/10 [==============================] - 14s 1s/step - loss: 0.0061 - sparse_accuracy: 0.9983 - val_loss: 0.0061 - val_sparse_accuracy: 0.9986\n",
      "Epoch 157/200\n"
     ]
    },
    {
     "name": "stdout",
     "output_type": "stream",
     "text": [
      "10/10 [==============================] - 14s 1s/step - loss: 0.0057 - sparse_accuracy: 0.9984 - val_loss: 0.0024 - val_sparse_accuracy: 0.9992\n",
      "Epoch 158/200\n",
      "10/10 [==============================] - 14s 1s/step - loss: 0.0045 - sparse_accuracy: 0.9987 - val_loss: 0.0079 - val_sparse_accuracy: 0.9981\n",
      "Epoch 159/200\n",
      "10/10 [==============================] - 14s 1s/step - loss: 0.0046 - sparse_accuracy: 0.9986 - val_loss: 0.0036 - val_sparse_accuracy: 0.9989\n",
      "Epoch 160/200\n",
      "10/10 [==============================] - 14s 1s/step - loss: 0.0067 - sparse_accuracy: 0.9980 - val_loss: 0.0047 - val_sparse_accuracy: 0.9984\n",
      "Epoch 161/200\n",
      "10/10 [==============================] - 14s 1s/step - loss: 0.0061 - sparse_accuracy: 0.9983 - val_loss: 0.0038 - val_sparse_accuracy: 0.9989\n",
      "Epoch 162/200\n",
      "10/10 [==============================] - 15s 1s/step - loss: 0.0060 - sparse_accuracy: 0.9982 - val_loss: 0.0043 - val_sparse_accuracy: 0.9988\n",
      "Epoch 163/200\n",
      "10/10 [==============================] - 14s 1s/step - loss: 0.0061 - sparse_accuracy: 0.9982 - val_loss: 0.0027 - val_sparse_accuracy: 0.9990\n",
      "Epoch 164/200\n",
      "10/10 [==============================] - 14s 1s/step - loss: 0.0062 - sparse_accuracy: 0.9982 - val_loss: 0.0048 - val_sparse_accuracy: 0.9984\n",
      "Epoch 165/200\n",
      "10/10 [==============================] - 14s 1s/step - loss: 0.0077 - sparse_accuracy: 0.9982 - val_loss: 0.0027 - val_sparse_accuracy: 0.9991\n",
      "Epoch 166/200\n",
      "10/10 [==============================] - 14s 1s/step - loss: 0.0062 - sparse_accuracy: 0.9983 - val_loss: 0.0058 - val_sparse_accuracy: 0.9984\n",
      "Epoch 167/200\n",
      "10/10 [==============================] - 14s 1s/step - loss: 0.0083 - sparse_accuracy: 0.9979 - val_loss: 0.0040 - val_sparse_accuracy: 0.9989\n",
      "Epoch 168/200\n",
      "10/10 [==============================] - 14s 1s/step - loss: 0.0055 - sparse_accuracy: 0.9984 - val_loss: 0.0076 - val_sparse_accuracy: 0.9976\n",
      "Epoch 169/200\n",
      "10/10 [==============================] - 14s 1s/step - loss: 0.0051 - sparse_accuracy: 0.9986 - val_loss: 0.0051 - val_sparse_accuracy: 0.9985\n",
      "Epoch 170/200\n",
      "10/10 [==============================] - 14s 1s/step - loss: 0.0042 - sparse_accuracy: 0.9987 - val_loss: 0.0061 - val_sparse_accuracy: 0.9978\n",
      "Epoch 171/200\n",
      "10/10 [==============================] - 15s 1s/step - loss: 0.0089 - sparse_accuracy: 0.9976 - val_loss: 0.0131 - val_sparse_accuracy: 0.9962\n",
      "Epoch 172/200\n",
      "10/10 [==============================] - 14s 1s/step - loss: 0.0074 - sparse_accuracy: 0.9980 - val_loss: 0.0082 - val_sparse_accuracy: 0.9976\n",
      "Epoch 173/200\n",
      "10/10 [==============================] - 14s 1s/step - loss: 0.0089 - sparse_accuracy: 0.9976 - val_loss: 0.0043 - val_sparse_accuracy: 0.9988\n",
      "Epoch 174/200\n",
      "10/10 [==============================] - 14s 1s/step - loss: 0.0049 - sparse_accuracy: 0.9985 - val_loss: 0.0026 - val_sparse_accuracy: 0.9993\n",
      "Epoch 175/200\n",
      "10/10 [==============================] - 14s 1s/step - loss: 0.0061 - sparse_accuracy: 0.9986 - val_loss: 0.0039 - val_sparse_accuracy: 0.9990\n",
      "Epoch 176/200\n",
      "10/10 [==============================] - 14s 1s/step - loss: 0.0045 - sparse_accuracy: 0.9988 - val_loss: 0.0051 - val_sparse_accuracy: 0.9989\n",
      "Epoch 177/200\n",
      "10/10 [==============================] - 14s 1s/step - loss: 0.0069 - sparse_accuracy: 0.9979 - val_loss: 0.0073 - val_sparse_accuracy: 0.9978\n",
      "Epoch 178/200\n",
      "10/10 [==============================] - 14s 1s/step - loss: 0.0040 - sparse_accuracy: 0.9988 - val_loss: 0.0110 - val_sparse_accuracy: 0.9967\n",
      "Epoch 179/200\n",
      "10/10 [==============================] - 14s 1s/step - loss: 0.0060 - sparse_accuracy: 0.9983 - val_loss: 0.0042 - val_sparse_accuracy: 0.9987\n",
      "Epoch 180/200\n",
      "10/10 [==============================] - 15s 1s/step - loss: 0.0045 - sparse_accuracy: 0.9987 - val_loss: 0.0042 - val_sparse_accuracy: 0.9989\n",
      "Epoch 181/200\n",
      "10/10 [==============================] - 14s 1s/step - loss: 0.0050 - sparse_accuracy: 0.9986 - val_loss: 0.0043 - val_sparse_accuracy: 0.9986\n",
      "Epoch 182/200\n",
      "10/10 [==============================] - 14s 1s/step - loss: 0.0054 - sparse_accuracy: 0.9986 - val_loss: 0.0023 - val_sparse_accuracy: 0.9993\n",
      "Epoch 183/200\n",
      "10/10 [==============================] - 14s 1s/step - loss: 0.0059 - sparse_accuracy: 0.9982 - val_loss: 0.0063 - val_sparse_accuracy: 0.9978\n",
      "Epoch 184/200\n",
      "10/10 [==============================] - 14s 1s/step - loss: 0.0052 - sparse_accuracy: 0.9986 - val_loss: 0.0048 - val_sparse_accuracy: 0.9984\n",
      "Epoch 185/200\n",
      "10/10 [==============================] - 14s 1s/step - loss: 0.0058 - sparse_accuracy: 0.9983 - val_loss: 0.0032 - val_sparse_accuracy: 0.9991\n",
      "Epoch 186/200\n",
      "10/10 [==============================] - 14s 1s/step - loss: 0.0048 - sparse_accuracy: 0.9986 - val_loss: 0.0038 - val_sparse_accuracy: 0.9987\n",
      "Epoch 187/200\n",
      "10/10 [==============================] - 14s 1s/step - loss: 0.0054 - sparse_accuracy: 0.9985 - val_loss: 0.0043 - val_sparse_accuracy: 0.9986\n",
      "Epoch 188/200\n",
      "10/10 [==============================] - 14s 1s/step - loss: 0.0058 - sparse_accuracy: 0.9984 - val_loss: 0.0049 - val_sparse_accuracy: 0.9982\n",
      "Epoch 189/200\n",
      "10/10 [==============================] - 15s 1s/step - loss: 0.0044 - sparse_accuracy: 0.9988 - val_loss: 0.0068 - val_sparse_accuracy: 0.9983\n",
      "Epoch 190/200\n",
      "10/10 [==============================] - 14s 1s/step - loss: 0.0048 - sparse_accuracy: 0.9986 - val_loss: 0.0067 - val_sparse_accuracy: 0.9979\n",
      "Epoch 191/200\n",
      "10/10 [==============================] - 15s 1s/step - loss: 0.0046 - sparse_accuracy: 0.9986 - val_loss: 0.0027 - val_sparse_accuracy: 0.9991\n",
      "Epoch 192/200\n",
      "10/10 [==============================] - 14s 1s/step - loss: 0.0060 - sparse_accuracy: 0.9983 - val_loss: 0.0066 - val_sparse_accuracy: 0.9980\n",
      "Epoch 193/200\n",
      "10/10 [==============================] - 14s 1s/step - loss: 0.0042 - sparse_accuracy: 0.9987 - val_loss: 0.0047 - val_sparse_accuracy: 0.9984\n",
      "Epoch 194/200\n",
      "10/10 [==============================] - 14s 1s/step - loss: 0.0083 - sparse_accuracy: 0.9979 - val_loss: 0.0040 - val_sparse_accuracy: 0.9987\n",
      "Epoch 195/200\n",
      "10/10 [==============================] - 14s 1s/step - loss: 0.0057 - sparse_accuracy: 0.9984 - val_loss: 0.0020 - val_sparse_accuracy: 0.9993\n",
      "Epoch 196/200\n",
      "10/10 [==============================] - 14s 1s/step - loss: 0.0048 - sparse_accuracy: 0.9986 - val_loss: 0.0021 - val_sparse_accuracy: 0.9993\n",
      "Epoch 197/200\n",
      "10/10 [==============================] - 14s 1s/step - loss: 0.0047 - sparse_accuracy: 0.9987 - val_loss: 0.0039 - val_sparse_accuracy: 0.9988\n",
      "Epoch 198/200\n",
      "10/10 [==============================] - 15s 1s/step - loss: 0.0043 - sparse_accuracy: 0.9988 - val_loss: 0.0017 - val_sparse_accuracy: 0.9994\n",
      "Epoch 199/200\n",
      "10/10 [==============================] - 14s 1s/step - loss: 0.0060 - sparse_accuracy: 0.9983 - val_loss: 0.0044 - val_sparse_accuracy: 0.9986\n",
      "Epoch 200/200\n",
      "10/10 [==============================] - 14s 1s/step - loss: 0.0061 - sparse_accuracy: 0.9983 - val_loss: 0.0077 - val_sparse_accuracy: 0.9984\n"
     ]
    }
   ],
   "source": [
    "history = model.fit_generator(generator=training_generator, epochs=200,\n",
    "                              validation_data=validation_generator,\n",
    "                              use_multiprocessing=True, workers=10,\n",
    "                              callbacks=callbacks,\n",
    "                              steps_per_epoch=10)"
   ]
  },
  {
   "cell_type": "code",
   "execution_count": 38,
   "metadata": {
    "ExecuteTime": {
     "end_time": "2018-06-19T20:30:02.746183Z",
     "start_time": "2018-06-19T20:30:02.296939Z"
    }
   },
   "outputs": [],
   "source": [
    "# model.save_weights('../checkpoints/working_fcn.h5')"
   ]
  },
  {
   "cell_type": "code",
   "execution_count": 39,
   "metadata": {
    "ExecuteTime": {
     "end_time": "2018-06-19T20:30:11.228011Z",
     "start_time": "2018-06-19T20:30:10.880750Z"
    }
   },
   "outputs": [],
   "source": [
    "model.load_weights('../checkpoints/working_fcn.h5')"
   ]
  },
  {
   "cell_type": "markdown",
   "metadata": {},
   "source": [
    "# Visualization"
   ]
  },
  {
   "cell_type": "code",
   "execution_count": 28,
   "metadata": {
    "ExecuteTime": {
     "end_time": "2018-06-19T19:37:20.710689Z",
     "start_time": "2018-06-19T19:37:19.962341Z"
    }
   },
   "outputs": [],
   "source": [
    "example_img, example_annotation = training_generator[0]"
   ]
  },
  {
   "cell_type": "code",
   "execution_count": 40,
   "metadata": {
    "ExecuteTime": {
     "end_time": "2018-06-19T20:30:15.659476Z",
     "start_time": "2018-06-19T20:30:15.114602Z"
    }
   },
   "outputs": [
    {
     "name": "stdout",
     "output_type": "stream",
     "text": [
      "\r",
      "20/20 [==============================] - 1s 27ms/step\n"
     ]
    },
    {
     "data": {
      "text/plain": [
       "[0.008024616166949272, 0.998199999332428]"
      ]
     },
     "execution_count": 40,
     "metadata": {},
     "output_type": "execute_result"
    }
   ],
   "source": [
    "model.evaluate(example_img, example_annotation)"
   ]
  },
  {
   "cell_type": "code",
   "execution_count": 55,
   "metadata": {
    "ExecuteTime": {
     "end_time": "2018-06-19T20:34:23.849986Z",
     "start_time": "2018-06-19T20:34:23.117435Z"
    }
   },
   "outputs": [
    {
     "data": {
      "text/plain": [
       "(20, 250, 250)"
      ]
     },
     "execution_count": 55,
     "metadata": {},
     "output_type": "execute_result"
    }
   ],
   "source": [
    "prediction = model.predict(example_img)\n",
    "prediction = np.argmax(prediction, axis=-1)\n",
    "prediction.shape"
   ]
  },
  {
   "cell_type": "code",
   "execution_count": 56,
   "metadata": {
    "ExecuteTime": {
     "end_time": "2018-06-19T20:34:24.221940Z",
     "start_time": "2018-06-19T20:34:23.933652Z"
    }
   },
   "outputs": [
    {
     "data": {
      "image/png": "[encoded data removed]",
      "text/plain": [
       "<matplotlib.figure.Figure at 0x7f70cb801cf8>"
      ]
     },
     "metadata": {},
     "output_type": "display_data"
    }
   ],
   "source": [
    "img_id = 12\n",
    "plt.figure(figsize=(20,20))\n",
    "plt.subplot(1,3,1)\n",
    "plt.imshow(example_img[img_id,:,:,0], cmap='gray')\n",
    "plt.subplot(1,3,2)\n",
    "plt.imshow(example_annotation[img_id,:,:,0], cmap='gray')\n",
    "plt.title(np.unique(example_annotation[img_id,:,:,0]))\n",
    "plt.subplot(1,3,3)\n",
    "plt.imshow(prediction[img_id,:,:], cmap='gray')\n",
    "plt.title(np.unique(prediction))\n",
    "plt.show()"
   ]
  },
  {
   "cell_type": "code",
   "execution_count": 60,
   "metadata": {
    "ExecuteTime": {
     "end_time": "2018-06-19T20:35:26.165011Z",
     "start_time": "2018-06-19T20:35:26.039761Z"
    }
   },
   "outputs": [
    {
     "data": {
      "image/png": "[encoded data removed]",
      "text/plain": [
       "<matplotlib.figure.Figure at 0x7f70cbbba390>"
      ]
     },
     "metadata": {},
     "output_type": "display_data"
    }
   ],
   "source": [
    "mask = 29\n",
    "masked = np.zeros_like(prediction[img_id, :, :])\n",
    "for row in range(prediction.shape[1]):\n",
    "    for col in range(prediction.shape[2]):\n",
    "        if prediction[img_id, row, col] == mask:\n",
    "            masked[row, col] = 255\n",
    "        else:\n",
    "            masked[row, col] = 0\n",
    "\n",
    "plt.imshow(masked, cmap='gray')\n",
    "plt.title('Prediction only for class {:}'.format(mask))\n",
    "plt.show()"
   ]
  },
  {
   "cell_type": "code",
   "execution_count": null,
   "metadata": {},
   "outputs": [],
   "source": []
  }
 ],
 "metadata": {
  "kernelspec": {
   "display_name": "Python 3",
   "language": "python",
   "name": "python3"
  },
  "language_info": {
   "codemirror_mode": {
    "name": "ipython",
    "version": 3
   },
   "file_extension": ".py",
   "mimetype": "text/x-python",
   "name": "python",
   "nbconvert_exporter": "python",
   "pygments_lexer": "ipython3",
   "version": "3.6.3"
  },
  "latex_envs": {
   "LaTeX_envs_menu_present": true,
   "autoclose": false,
   "autocomplete": true,
   "bibliofile": "biblio.bib",
   "cite_by": "apalike",
   "current_citInitial": 1,
   "eqLabelWithNumbers": true,
   "eqNumInitial": 1,
   "hotkeys": {
    "equation": "Ctrl-E",
    "itemize": "Ctrl-I"
   },
   "labels_anchors": false,
   "latex_user_defs": false,
   "report_style_numbering": false,
   "user_envs_cfg": false
  },
  "toc": {
   "nav_menu": {},
   "number_sections": true,
   "sideBar": true,
   "skip_h1_title": false,
   "title_cell": "Table of Contents",
   "title_sidebar": "Contents",
   "toc_cell": false,
   "toc_position": {},
   "toc_section_display": true,
   "toc_window_display": false
  },
  "varInspector": {
   "cols": {
    "lenName": 16,
    "lenType": 16,
    "lenVar": 40
   },
   "kernels_config": {
    "python": {
     "delete_cmd_postfix": "",
     "delete_cmd_prefix": "del ",
     "library": "var_list.py",
     "varRefreshCmd": "print(var_dic_list())"
    },
    "r": {
     "delete_cmd_postfix": ") ",
     "delete_cmd_prefix": "rm(",
     "library": "var_list.r",
     "varRefreshCmd": "cat(var_dic_list()) "
    }
   },
   "position": {
    "height": "519px",
    "left": "1154px",
    "right": "52px",
    "top": "111px",
    "width": "714px"
   },
   "types_to_exclude": [
    "module",
    "function",
    "builtin_function_or_method",
    "instance",
    "_Feature"
   ],
   "window_display": false
  }
 },
 "nbformat": 4,
 "nbformat_minor": 2
}
