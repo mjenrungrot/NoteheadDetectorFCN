{
 "cells": [
  {
   "cell_type": "code",
   "execution_count": 1,
   "metadata": {},
   "outputs": [
    {
     "name": "stderr",
     "output_type": "stream",
     "text": [
      "Using TensorFlow backend.\n"
     ]
    }
   ],
   "source": [
    "from keras.optimizers import Adam\n",
    "from keras.callbacks import TensorBoard, ModelCheckpoint\n",
    "\n",
    "from sheet_id.models.FCN import FCN\n",
    "from sheet_id.utils.loss_functions import softmax_sparse_crossentropy_ignoring_last_label\n",
    "from sheet_id.utils.metrics import sparse_accuracy_ignoring_last_label\n",
    "from sheet_id.utils.dataReader import seg_dataset_reader\n",
    "from sheet_id.utils.dataPreprocessing import splitTrainValidation\n",
    "from sheet_id.utils.dataGenerator import DataGenerator"
   ]
  },
  {
   "cell_type": "code",
   "execution_count": 2,
   "metadata": {},
   "outputs": [],
   "source": [
    "model = FCN(input_shape=(500,500,1), n_classes=124)"
   ]
  },
  {
   "cell_type": "code",
   "execution_count": 3,
   "metadata": {},
   "outputs": [],
   "source": [
    "loss_fn = softmax_sparse_crossentropy_ignoring_last_label\n",
    "optimizer = Adam(lr=1e-4, beta_1=0.9, beta_2=0.999, \n",
    "                 epsilon=1e-8, decay=0.0, amsgrad=False)\n",
    "metrics = [sparse_accuracy_ignoring_last_label]\n",
    "model.compile(loss=loss_fn, optimizer=optimizer, metrics=metrics)"
   ]
  },
  {
   "cell_type": "code",
   "execution_count": 4,
   "metadata": {},
   "outputs": [
    {
     "name": "stdout",
     "output_type": "stream",
     "text": [
      "Initializing DeepScores Classification Batch Dataset Reader...\n",
      "Splitting dataset, train: 1 images, test: 0 images\n",
      "im working!7\n",
      "Training set done\n",
      "Test set done\n"
     ]
    }
   ],
   "source": [
    "data_reader = seg_dataset_reader('../data/', max_pages=1, test_size=0,\n",
    "                                 crop=True, crop_size=[500,500])"
   ]
  },
  {
   "cell_type": "code",
   "execution_count": 5,
   "metadata": {},
   "outputs": [],
   "source": [
    "callbacks = []"
   ]
  },
  {
   "cell_type": "code",
   "execution_count": 6,
   "metadata": {},
   "outputs": [],
   "source": [
    "tensorboard = TensorBoard(log_dir='./logs', histogram_freq=10, write_graph=True)\n",
    "callbacks.append(tensorboard)"
   ]
  },
  {
   "cell_type": "code",
   "execution_count": 7,
   "metadata": {},
   "outputs": [],
   "source": [
    "checkpoint = ModelCheckpoint(filepath='./checkpoint/checkpoint_weights.hdf5', \n",
    "                             save_weights_only=True, period=100) #.{epoch:d}\n",
    "callbacks.append(checkpoint)"
   ]
  },
  {
   "cell_type": "code",
   "execution_count": 8,
   "metadata": {},
   "outputs": [],
   "source": [
    "train_partition, validation_partition = splitTrainValidation('../data/', max_size=1, test_size=0)"
   ]
  },
  {
   "cell_type": "code",
   "execution_count": 9,
   "metadata": {},
   "outputs": [],
   "source": [
    "params = {'dim': (500,500),\n",
    "          'batch_size': 20,\n",
    "          'n_classes': 124,\n",
    "          'n_channels': 1,\n",
    "          'shuffle': True,\n",
    "          'crop': True,\n",
    "          'crop_size': [500,500]}\n",
    "training_generator = DataGenerator(train_partition, **params)\n",
    "validation_generator = DataGenerator(train_partition, **params)"
   ]
  },
  {
   "cell_type": "code",
   "execution_count": 14,
   "metadata": {},
   "outputs": [
    {
     "name": "stdout",
     "output_type": "stream",
     "text": [
      "Epoch 1/1\n",
      "1/1 [==============================] - 58s 58s/step - loss: 18.1507 - sparse_accuracy_ignoring_last_label: 3.6000e-05 - val_loss: 9.3204 - val_sparse_accuracy_ignoring_last_label: 0.0094\n"
     ]
    },
    {
     "data": {
      "text/plain": [
       "<keras.callbacks.History at 0x1238645f8>"
      ]
     },
     "execution_count": 14,
     "metadata": {},
     "output_type": "execute_result"
    }
   ],
   "source": [
    "model.fit_generator(generator=training_generator,\n",
    "                    validation_data=validation_generator,\n",
    "                    use_multiprocessing=True, workers=6)"
   ]
  },
  {
   "cell_type": "code",
   "execution_count": null,
   "metadata": {},
   "outputs": [],
   "source": []
  }
 ],
 "metadata": {
  "kernelspec": {
   "display_name": "Python 3",
   "language": "python",
   "name": "python3"
  },
  "language_info": {
   "codemirror_mode": {
    "name": "ipython",
    "version": 3
   },
   "file_extension": ".py",
   "mimetype": "text/x-python",
   "name": "python",
   "nbconvert_exporter": "python",
   "pygments_lexer": "ipython3",
   "version": "3.6.5"
  }
 },
 "nbformat": 4,
 "nbformat_minor": 2
}
