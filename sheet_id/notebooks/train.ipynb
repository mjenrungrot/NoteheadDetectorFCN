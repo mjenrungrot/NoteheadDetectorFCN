{
 "cells": [
  {
   "cell_type": "code",
   "execution_count": 1,
   "metadata": {
    "ExecuteTime": {
     "end_time": "2018-07-02T23:55:55.122135Z",
     "start_time": "2018-07-02T23:55:53.911092Z"
    },
    "scrolled": true
   },
   "outputs": [
    {
     "name": "stderr",
     "output_type": "stream",
     "text": [
      "/home/mirlab/miniconda3/lib/python3.6/site-packages/h5py/__init__.py:36: FutureWarning: Conversion of the second argument of issubdtype from `float` to `np.floating` is deprecated. In future, it will be treated as `np.float64 == np.dtype(float).type`.\n",
      "  from ._conv import register_converters as _register_converters\n",
      "Using TensorFlow backend.\n"
     ]
    }
   ],
   "source": [
    "from keras.optimizers import Adam\n",
    "from keras.callbacks import TensorBoard, ModelCheckpoint\n",
    "\n",
    "from sheet_id.models.FCN import FCN\n",
    "from sheet_id.utils.loss_functions import softmax_sparse_crossentropy_ignoring_background, softmax_sparse_crossentropy\n",
    "from sheet_id.utils.metrics import sparse_accuracy_ignoring_background, sparse_accuracy\n",
    "from sheet_id.utils.dataPreprocessing import splitTrainValidation\n",
    "from sheet_id.utils.dataGenerator import DataGenerator\n",
    "from sheet_id.utils.dwd_utils import generateGroundTruthMaps\n",
    "\n",
    "import matplotlib.pyplot as plt\n",
    "import numpy as np"
   ]
  },
  {
   "cell_type": "markdown",
   "metadata": {},
   "source": [
    "# Training"
   ]
  },
  {
   "cell_type": "code",
   "execution_count": 2,
   "metadata": {
    "ExecuteTime": {
     "end_time": "2018-07-02T23:55:55.668573Z",
     "start_time": "2018-07-02T23:55:55.123643Z"
    }
   },
   "outputs": [],
   "source": [
    "model = FCN(input_shape=(500,500,1), n_classes=124)"
   ]
  },
  {
   "cell_type": "code",
   "execution_count": 3,
   "metadata": {
    "ExecuteTime": {
     "end_time": "2018-07-02T23:55:55.756846Z",
     "start_time": "2018-07-02T23:55:55.671572Z"
    }
   },
   "outputs": [],
   "source": [
    "loss_fn = softmax_sparse_crossentropy\n",
    "optimizer = Adam(lr=1e-4, beta_1=0.9, beta_2=0.999, \n",
    "                 epsilon=1e-8, decay=0.0, amsgrad=False)\n",
    "metrics = [sparse_accuracy]\n",
    "model.compile(loss=loss_fn, optimizer=optimizer, metrics=metrics)"
   ]
  },
  {
   "cell_type": "code",
   "execution_count": 4,
   "metadata": {
    "ExecuteTime": {
     "end_time": "2018-07-02T23:55:55.760497Z",
     "start_time": "2018-07-02T23:55:55.758335Z"
    }
   },
   "outputs": [],
   "source": [
    "callbacks = []"
   ]
  },
  {
   "cell_type": "code",
   "execution_count": 5,
   "metadata": {
    "ExecuteTime": {
     "end_time": "2018-07-02T23:55:56.096494Z",
     "start_time": "2018-07-02T23:55:55.761764Z"
    }
   },
   "outputs": [],
   "source": [
    "train_partition, validation_partition = splitTrainValidation('../data/', max_size=200, test_size=20, npy_only=True)"
   ]
  },
  {
   "cell_type": "code",
   "execution_count": 6,
   "metadata": {
    "ExecuteTime": {
     "end_time": "2018-07-02T23:55:56.101821Z",
     "start_time": "2018-07-02T23:55:56.097763Z"
    }
   },
   "outputs": [],
   "source": [
    "params = {'dim': (500,500),\n",
    "          'batch_size': 1,\n",
    "          'n_classes': 124,\n",
    "          'n_channels': 1,\n",
    "          'shuffle': True,\n",
    "          'crop': True,\n",
    "          'crop_size': (500,500),\n",
    "          'load_npy': True}\n",
    "training_generator = DataGenerator(train_partition, **params)\n",
    "validation_generator = DataGenerator(validation_partition, **params)"
   ]
  },
  {
   "cell_type": "code",
   "execution_count": 7,
   "metadata": {
    "ExecuteTime": {
     "end_time": "2018-07-02T23:55:56.145633Z",
     "start_time": "2018-07-02T23:55:56.103305Z"
    },
    "scrolled": true
   },
   "outputs": [],
   "source": [
    "# history = model.fit_generator(generator=training_generator, epochs=10,\n",
    "#                               validation_data=validation_generator,\n",
    "#                               use_multiprocessing=True, workers=10,\n",
    "#                               callbacks=callbacks,\n",
    "#                               steps_per_epoch=10)"
   ]
  },
  {
   "cell_type": "code",
   "execution_count": 8,
   "metadata": {
    "ExecuteTime": {
     "end_time": "2018-07-02T23:55:56.212183Z",
     "start_time": "2018-07-02T23:55:56.147328Z"
    }
   },
   "outputs": [],
   "source": [
    "# model.save_weights('../checkpoints/working_fcn.h5')"
   ]
  },
  {
   "cell_type": "code",
   "execution_count": 9,
   "metadata": {
    "ExecuteTime": {
     "end_time": "2018-07-02T23:55:56.264632Z",
     "start_time": "2018-07-02T23:55:56.213741Z"
    }
   },
   "outputs": [],
   "source": [
    "# model.load_weights('../checkpoints/working_fcn.h5')"
   ]
  },
  {
   "cell_type": "markdown",
   "metadata": {},
   "source": [
    "# Visualization"
   ]
  },
  {
   "cell_type": "code",
   "execution_count": 10,
   "metadata": {
    "ExecuteTime": {
     "end_time": "2018-07-02T23:55:56.306437Z",
     "start_time": "2018-07-02T23:55:56.265818Z"
    }
   },
   "outputs": [],
   "source": [
    "# example_img, energy_map, class_map, bbox_map = training_generator[0]"
   ]
  },
  {
   "cell_type": "code",
   "execution_count": 11,
   "metadata": {
    "ExecuteTime": {
     "end_time": "2018-07-02T23:55:56.354070Z",
     "start_time": "2018-07-02T23:55:56.308070Z"
    }
   },
   "outputs": [],
   "source": [
    "# model.evaluate(example_img, example_annotation)"
   ]
  },
  {
   "cell_type": "code",
   "execution_count": 12,
   "metadata": {
    "ExecuteTime": {
     "end_time": "2018-07-02T23:55:56.404644Z",
     "start_time": "2018-07-02T23:55:56.356723Z"
    }
   },
   "outputs": [],
   "source": [
    "# prediction = model.predict(example_img)\n",
    "# prediction = np.argmax(prediction, axis=-1)\n",
    "# prediction.shape"
   ]
  },
  {
   "cell_type": "code",
   "execution_count": 13,
   "metadata": {
    "ExecuteTime": {
     "end_time": "2018-07-02T23:55:56.454164Z",
     "start_time": "2018-07-02T23:55:56.407860Z"
    }
   },
   "outputs": [],
   "source": [
    "# img_id = 12\n",
    "# plt.figure(figsize=(20,20))\n",
    "# plt.subplot(1,3,1)\n",
    "# plt.imshow(example_img[img_id,:,:,0], cmap='gray')\n",
    "# plt.subplot(1,3,2)\n",
    "# plt.imshow(example_annotation[img_id,:,:,0], cmap='gray', vmin=0, vmax=125)\n",
    "# plt.title(np.unique(example_annotation[img_id,:,:,0]))\n",
    "# plt.subplot(1,3,3)\n",
    "# plt.imshow(prediction[img_id,:,:], cmap='gray', vmin=0, vmax=125)\n",
    "# plt.title(np.unique(prediction))\n",
    "# plt.show()"
   ]
  },
  {
   "cell_type": "code",
   "execution_count": 14,
   "metadata": {
    "ExecuteTime": {
     "end_time": "2018-07-02T23:55:56.498067Z",
     "start_time": "2018-07-02T23:55:56.456456Z"
    }
   },
   "outputs": [],
   "source": [
    "# mask = 29\n",
    "# masked = np.zeros_like(prediction[img_id, :, :])\n",
    "# for row in range(prediction.shape[1]):\n",
    "#     for col in range(prediction.shape[2]):\n",
    "#         if prediction[img_id, row, col] == mask:\n",
    "#             masked[row, col] = 255\n",
    "#         else:\n",
    "#             masked[row, col] = 0\n",
    "\n",
    "# plt.imshow(masked, cmap='gray')\n",
    "# plt.title('Prediction only for class {:}'.format(mask))\n",
    "# plt.show()"
   ]
  },
  {
   "cell_type": "markdown",
   "metadata": {},
   "source": [
    "# Deep Watershed"
   ]
  },
  {
   "cell_type": "code",
   "execution_count": 15,
   "metadata": {
    "ExecuteTime": {
     "end_time": "2018-07-02T23:55:56.537533Z",
     "start_time": "2018-07-02T23:55:56.499478Z"
    }
   },
   "outputs": [],
   "source": [
    "from IPython.display import SVG\n",
    "from keras.utils.vis_utils import model_to_dot\n",
    "from keras.layers.convolutional import Conv2D\n",
    "from keras.layers import Input\n",
    "from keras.models import Model\n",
    "\n",
    "\n",
    "# SVG(model_to_dot(model, show_shapes=True).create(prog='dot', format='svg'))"
   ]
  },
  {
   "cell_type": "code",
   "execution_count": 16,
   "metadata": {
    "ExecuteTime": {
     "end_time": "2018-07-02T23:55:56.590086Z",
     "start_time": "2018-07-02T23:55:56.540617Z"
    }
   },
   "outputs": [],
   "source": [
    "n_bins = 10\n",
    "n_classes = 124"
   ]
  },
  {
   "cell_type": "code",
   "execution_count": 17,
   "metadata": {
    "ExecuteTime": {
     "end_time": "2018-07-02T23:55:57.108360Z",
     "start_time": "2018-07-02T23:55:56.593672Z"
    }
   },
   "outputs": [],
   "source": [
    "input_map = Input(shape=(500,500,1))\n",
    "output_featuremaps = model(input_map)\n",
    "energy_output = Conv2D(n_bins,    (1,1), activation='relu', padding='same', name='energy_map')(output_featuremaps)\n",
    "class_output  = Conv2D(n_classes, (1,1), activation='relu', padding='same', name='class_map')(output_featuremaps)\n",
    "bbox_output   = Conv2D(2,         (1,1), activation='relu', padding='same', name='bbox_map')(output_featuremaps)"
   ]
  },
  {
   "cell_type": "code",
   "execution_count": 18,
   "metadata": {
    "ExecuteTime": {
     "end_time": "2018-07-02T23:55:57.211452Z",
     "start_time": "2018-07-02T23:55:57.109605Z"
    }
   },
   "outputs": [],
   "source": [
    "dwd_model = Model(inputs=[input_map], outputs=[energy_output, class_output, bbox_output])\n",
    "loss_fn = softmax_sparse_crossentropy\n",
    "optimizer = Adam(lr=1e-4, beta_1=0.9, beta_2=0.999, \n",
    "                 epsilon=1e-8, decay=0.0, amsgrad=False)\n",
    "metrics = []\n",
    "dwd_model.compile(loss={\n",
    "                            \"energy_map\": loss_fn,\n",
    "                            \"class_map\": loss_fn,\n",
    "                            \"bbox_map\": \"mse\",\n",
    "                        }, \n",
    "                  loss_weights={'energy_map': 1.0, 'class_map': 1.0, 'bbox_map': 0.7},\n",
    "                  optimizer=optimizer, metrics=metrics)"
   ]
  },
  {
   "cell_type": "code",
   "execution_count": null,
   "metadata": {
    "ExecuteTime": {
     "start_time": "2018-07-02T23:55:53.944Z"
    }
   },
   "outputs": [
    {
     "name": "stdout",
     "output_type": "stream",
     "text": [
      "Epoch 1/1000\n",
      "10/10 [==============================] - 10s 1s/step - loss: 21.6923 - energy_map_loss: 1.1612 - class_map_loss: 7.4157 - bbox_map_loss: 18.7362 - val_loss: 15.3025 - val_energy_map_loss: 0.1668 - val_class_map_loss: 3.5807 - val_bbox_map_loss: 16.5072\n",
      "Epoch 2/1000\n",
      "10/10 [==============================] - 6s 606ms/step - loss: 9.3501 - energy_map_loss: 0.1023 - class_map_loss: 3.2418 - bbox_map_loss: 8.5801 - val_loss: 10.6899 - val_energy_map_loss: 0.1620 - val_class_map_loss: 2.8830 - val_bbox_map_loss: 10.9213\n",
      "Epoch 3/1000\n",
      "10/10 [==============================] - 6s 608ms/step - loss: 13.9204 - energy_map_loss: 0.2126 - class_map_loss: 2.7056 - bbox_map_loss: 15.7174 - val_loss: 12.1928 - val_energy_map_loss: 0.1174 - val_class_map_loss: 2.5390 - val_bbox_map_loss: 13.6235\n",
      "Epoch 4/1000\n",
      "10/10 [==============================] - 6s 614ms/step - loss: 16.7079 - energy_map_loss: 0.2248 - class_map_loss: 2.5868 - bbox_map_loss: 19.8520 - val_loss: 10.6185 - val_energy_map_loss: 0.1099 - val_class_map_loss: 2.4988 - val_bbox_map_loss: 11.4426\n",
      "Epoch 5/1000\n",
      "10/10 [==============================] - 6s 606ms/step - loss: 20.2461 - energy_map_loss: 0.0833 - class_map_loss: 2.4751 - bbox_map_loss: 25.2680 - val_loss: 10.1800 - val_energy_map_loss: 0.0972 - val_class_map_loss: 2.4876 - val_bbox_map_loss: 10.8502\n",
      "Epoch 6/1000\n",
      "10/10 [==============================] - 6s 604ms/step - loss: 17.9501 - energy_map_loss: 0.0576 - class_map_loss: 2.4550 - bbox_map_loss: 22.0535 - val_loss: 15.1584 - val_energy_map_loss: 0.1035 - val_class_map_loss: 2.4847 - val_bbox_map_loss: 17.9574\n",
      "Epoch 7/1000\n",
      "10/10 [==============================] - 6s 613ms/step - loss: 11.0743 - energy_map_loss: 0.1121 - class_map_loss: 2.4863 - bbox_map_loss: 12.1086 - val_loss: 9.1790 - val_energy_map_loss: 0.0753 - val_class_map_loss: 2.4673 - val_bbox_map_loss: 9.4805\n",
      "Epoch 8/1000\n",
      "10/10 [==============================] - 6s 606ms/step - loss: 17.0920 - energy_map_loss: 0.1185 - class_map_loss: 2.4904 - bbox_map_loss: 20.6901 - val_loss: 11.5265 - val_energy_map_loss: 0.0748 - val_class_map_loss: 2.4579 - val_bbox_map_loss: 12.8483\n",
      "Epoch 9/1000\n",
      "10/10 [==============================] - 6s 601ms/step - loss: 9.8006 - energy_map_loss: 0.0829 - class_map_loss: 2.4622 - bbox_map_loss: 10.3650 - val_loss: 13.2011 - val_energy_map_loss: 0.0494 - val_class_map_loss: 2.4483 - val_bbox_map_loss: 15.2906\n",
      "Epoch 10/1000\n",
      "10/10 [==============================] - 6s 626ms/step - loss: 24.7602 - energy_map_loss: 0.0922 - class_map_loss: 2.4663 - bbox_map_loss: 31.7168 - val_loss: 14.0390 - val_energy_map_loss: 0.0660 - val_class_map_loss: 2.4576 - val_bbox_map_loss: 16.4506\n",
      "Epoch 11/1000\n",
      "10/10 [==============================] - 6s 613ms/step - loss: 19.9134 - energy_map_loss: 0.0689 - class_map_loss: 2.4614 - bbox_map_loss: 24.8330 - val_loss: 11.4216 - val_energy_map_loss: 0.0881 - val_class_map_loss: 2.4535 - val_bbox_map_loss: 12.6856\n",
      "Epoch 12/1000\n",
      "10/10 [==============================] - 6s 641ms/step - loss: 8.6949 - energy_map_loss: 0.0921 - class_map_loss: 1.6022 - bbox_map_loss: 10.0007 - val_loss: 8.1626 - val_energy_map_loss: 0.0721 - val_class_map_loss: 1.2813 - val_bbox_map_loss: 9.7275\n",
      "Epoch 13/1000\n",
      "10/10 [==============================] - 6s 610ms/step - loss: 9.8880 - energy_map_loss: 0.0588 - class_map_loss: 1.2804 - bbox_map_loss: 12.2126 - val_loss: 16.3357 - val_energy_map_loss: 0.0707 - val_class_map_loss: 1.3075 - val_bbox_map_loss: 21.3679\n",
      "Epoch 14/1000\n",
      "10/10 [==============================] - 6s 643ms/step - loss: 11.7077 - energy_map_loss: 0.0843 - class_map_loss: 1.3223 - bbox_map_loss: 14.7157 - val_loss: 7.9191 - val_energy_map_loss: 0.0494 - val_class_map_loss: 1.2875 - val_bbox_map_loss: 9.4031\n",
      "Epoch 15/1000\n",
      "10/10 [==============================] - 6s 627ms/step - loss: 13.3519 - energy_map_loss: 0.0798 - class_map_loss: 1.3014 - bbox_map_loss: 17.1011 - val_loss: 6.7489 - val_energy_map_loss: 0.0488 - val_class_map_loss: 1.2728 - val_bbox_map_loss: 7.7533\n",
      "Epoch 16/1000\n",
      "10/10 [==============================] - 6s 605ms/step - loss: 10.3675 - energy_map_loss: 0.0732 - class_map_loss: 1.3006 - bbox_map_loss: 12.8481 - val_loss: 10.1254 - val_energy_map_loss: 0.0692 - val_class_map_loss: 1.2964 - val_bbox_map_loss: 12.5139\n",
      "Epoch 17/1000\n",
      "10/10 [==============================] - 6s 609ms/step - loss: 6.0969 - energy_map_loss: 0.0507 - class_map_loss: 1.2722 - bbox_map_loss: 6.8198 - val_loss: 7.9347 - val_energy_map_loss: 0.0506 - val_class_map_loss: 1.2741 - val_bbox_map_loss: 9.4429\n",
      "Epoch 18/1000\n",
      "10/10 [==============================] - 6s 617ms/step - loss: 7.2002 - energy_map_loss: 0.0517 - class_map_loss: 1.2739 - bbox_map_loss: 8.3924 - val_loss: 22.5269 - val_energy_map_loss: 0.0509 - val_class_map_loss: 1.2643 - val_bbox_map_loss: 30.3024\n",
      "Epoch 19/1000\n",
      "10/10 [==============================] - 6s 596ms/step - loss: 6.7084 - energy_map_loss: 0.0521 - class_map_loss: 1.2727 - bbox_map_loss: 7.6909 - val_loss: 19.4798 - val_energy_map_loss: 0.0685 - val_class_map_loss: 1.2743 - val_bbox_map_loss: 25.9100\n",
      "Epoch 20/1000\n",
      " 9/10 [==========================>...] - ETA: 0s - loss: 14.1527 - energy_map_loss: 0.0559 - class_map_loss: 1.2620 - bbox_map_loss: 18.3354"
     ]
    }
   ],
   "source": [
    "dwd_model.fit_generator(generator=training_generator, epochs=1000,\n",
    "                              validation_data=validation_generator,\n",
    "                              use_multiprocessing=True, workers=10,\n",
    "                              callbacks=callbacks,\n",
    "                              steps_per_epoch=10)"
   ]
  },
  {
   "cell_type": "code",
   "execution_count": null,
   "metadata": {
    "ExecuteTime": {
     "start_time": "2018-07-02T23:55:53.946Z"
    }
   },
   "outputs": [],
   "source": [
    "X, y = validation_generator[0]"
   ]
  },
  {
   "cell_type": "code",
   "execution_count": null,
   "metadata": {
    "ExecuteTime": {
     "start_time": "2018-07-02T23:55:53.950Z"
    }
   },
   "outputs": [],
   "source": [
    "y_pred = dwd_model.predict(X)"
   ]
  },
  {
   "cell_type": "code",
   "execution_count": null,
   "metadata": {
    "ExecuteTime": {
     "start_time": "2018-07-02T23:55:53.953Z"
    }
   },
   "outputs": [],
   "source": [
    "plt.figure(figsize=(20,20))\n",
    "plt.subplot(1,3,1)\n",
    "plt.imshow(np.argmax(y_pred[0], axis=-1)[0])\n",
    "plt.subplot(1,3,2)\n",
    "plt.imshow(np.argmax(y_pred[1], axis=-1)[0])\n",
    "plt.subplot(1,3,3)\n",
    "plt.imshow(y_pred[2][0,:,:,0])"
   ]
  },
  {
   "cell_type": "code",
   "execution_count": null,
   "metadata": {
    "ExecuteTime": {
     "start_time": "2018-07-02T23:55:53.959Z"
    }
   },
   "outputs": [],
   "source": [
    "plt.imshow(X[0,:,:,0])"
   ]
  },
  {
   "cell_type": "code",
   "execution_count": null,
   "metadata": {
    "ExecuteTime": {
     "start_time": "2018-07-02T23:55:53.963Z"
    },
    "code_folding": []
   },
   "outputs": [],
   "source": [
    "from sheet_id.utils.dwd_utils import find_connected_comp"
   ]
  },
  {
   "cell_type": "code",
   "execution_count": null,
   "metadata": {
    "ExecuteTime": {
     "start_time": "2018-07-02T23:55:53.966Z"
    }
   },
   "outputs": [],
   "source": [
    "energy_map = np.argmax(y_pred[0], axis=-1)[0]\n",
    "energy_map_binarized = 255 * (np.argmax(y_pred[0], axis=-1)[0] < 8) # binarize image"
   ]
  },
  {
   "cell_type": "code",
   "execution_count": null,
   "metadata": {
    "ExecuteTime": {
     "start_time": "2018-07-02T23:55:53.968Z"
    }
   },
   "outputs": [],
   "source": [
    "class_prediction_img = np.argmax(y_pred[1], axis=-1)[0]\n",
    "bbox_prediction      = y_pred[2][0,:,:,:]"
   ]
  },
  {
   "cell_type": "code",
   "execution_count": null,
   "metadata": {
    "ExecuteTime": {
     "start_time": "2018-07-02T23:55:53.971Z"
    }
   },
   "outputs": [],
   "source": [
    "prep = energy_map_binarized\n",
    "labels, out_img = find_connected_comp(prep)"
   ]
  },
  {
   "cell_type": "code",
   "execution_count": null,
   "metadata": {
    "ExecuteTime": {
     "start_time": "2018-07-02T23:55:53.976Z"
    }
   },
   "outputs": [],
   "source": [
    "n_components = len(np.unique(out_img))"
   ]
  },
  {
   "cell_type": "code",
   "execution_count": null,
   "metadata": {
    "ExecuteTime": {
     "start_time": "2018-07-02T23:55:53.982Z"
    }
   },
   "outputs": [],
   "source": [
    "counter = {}\n",
    "summation = {}\n",
    "center = {}\n",
    "class_pred = {}\n",
    "bbox = {}\n",
    "for label in labels:\n",
    "    component_id = labels[label]\n",
    "    \n",
    "    if component_id not in counter:\n",
    "        counter[component_id] = 0\n",
    "        center[component_id] = (0,0)\n",
    "        class_pred[component_id] = []\n",
    "        bbox[component_id] = (0,0)\n",
    "        \n",
    "    counter[component_id] += 1\n",
    "    center[component_id] = (center[component_id][0] + label[0], center[component_id][1] + label[1])\n",
    "    class_pred[component_id].append(class_prediction_img[label[0],label[1]])\n",
    "    bbox[component_id] = (bbox[component_id][0] + bbox_prediction[label[0],label[1],0], bbox[component_id][1] + bbox_prediction[label[0],label[1],1] )\n",
    "\n",
    "for center_id in center:\n",
    "    center[center_id] = (center[center_id][0] / counter[center_id], center[center_id][1] / counter[center_id])\n",
    "    class_pred[center_id] = max(set(class_pred[center_id]), key = class_pred[center_id].count)\n",
    "    bbox[center_id] = (bbox[center_id][0] / counter[center_id], bbox[center_id][1] / counter[center_id])"
   ]
  },
  {
   "cell_type": "code",
   "execution_count": null,
   "metadata": {
    "ExecuteTime": {
     "start_time": "2018-07-02T23:55:53.989Z"
    }
   },
   "outputs": [],
   "source": [
    "\n",
    "import matplotlib.pyplot as plt\n",
    "from matplotlib.collections import PatchCollection\n",
    "from matplotlib.patches import Rectangle"
   ]
  },
  {
   "cell_type": "code",
   "execution_count": null,
   "metadata": {
    "ExecuteTime": {
     "start_time": "2018-07-02T23:55:53.997Z"
    }
   },
   "outputs": [],
   "source": [
    "# Malisiewicz et al.\n",
    "def non_max_suppression_fast(boxes, overlapThresh):\n",
    "\t# if there are no boxes, return an empty list\n",
    "\tif len(boxes) == 0:\n",
    "\t\treturn []\n",
    " \n",
    "\t# if the bounding boxes integers, convert them to floats --\n",
    "\t# this is important since we'll be doing a bunch of divisions\n",
    "\tif boxes.dtype.kind == \"i\":\n",
    "\t\tboxes = boxes.astype(\"float\")\n",
    " \n",
    "\t# initialize the list of picked indexes\t\n",
    "\tpick = []\n",
    " \n",
    "\t# grab the coordinates of the bounding boxes\n",
    "\tx1 = boxes[:,0]\n",
    "\ty1 = boxes[:,1]\n",
    "\tx2 = boxes[:,2]\n",
    "\ty2 = boxes[:,3]\n",
    " \n",
    "\t# compute the area of the bounding boxes and sort the bounding\n",
    "\t# boxes by the bottom-right y-coordinate of the bounding box\n",
    "\tarea = (x2 - x1 + 1) * (y2 - y1 + 1)\n",
    "\tidxs = np.argsort(y2)\n",
    " \n",
    "\t# keep looping while some indexes still remain in the indexes\n",
    "\t# list\n",
    "\twhile len(idxs) > 0:\n",
    "\t\t# grab the last index in the indexes list and add the\n",
    "\t\t# index value to the list of picked indexes\n",
    "\t\tlast = len(idxs) - 1\n",
    "\t\ti = idxs[last]\n",
    "\t\tpick.append(i)\n",
    " \n",
    "\t\t# find the largest (x, y) coordinates for the start of\n",
    "\t\t# the bounding box and the smallest (x, y) coordinates\n",
    "\t\t# for the end of the bounding box\n",
    "\t\txx1 = np.maximum(x1[i], x1[idxs[:last]])\n",
    "\t\tyy1 = np.maximum(y1[i], y1[idxs[:last]])\n",
    "\t\txx2 = np.minimum(x2[i], x2[idxs[:last]])\n",
    "\t\tyy2 = np.minimum(y2[i], y2[idxs[:last]])\n",
    " \n",
    "\t\t# compute the width and height of the bounding box\n",
    "\t\tw = np.maximum(0, xx2 - xx1 + 1)\n",
    "\t\th = np.maximum(0, yy2 - yy1 + 1)\n",
    " \n",
    "\t\t# compute the ratio of overlap\n",
    "\t\toverlap = (w * h) / area[idxs[:last]]\n",
    " \n",
    "\t\t# delete all indexes from the index list that have\n",
    "\t\tidxs = np.delete(idxs, np.concatenate(([last],\n",
    "\t\t\tnp.where(overlap > overlapThresh)[0])))\n",
    " \n",
    "\t# return only the bounding boxes that were picked using the\n",
    "\t# integer data type\n",
    "\treturn boxes[pick].astype(\"int\")"
   ]
  },
  {
   "cell_type": "code",
   "execution_count": null,
   "metadata": {
    "ExecuteTime": {
     "start_time": "2018-07-02T23:55:54.001Z"
    }
   },
   "outputs": [],
   "source": [
    "boxes = np.zeros((len(center.keys()),4))\n",
    "\n",
    "for idx, obj in enumerate(center.keys()):\n",
    "    boxes[idx] = (center[obj][1] - bbox[obj][1] / 2, center[obj][0] - bbox[obj][0] / 2, \n",
    "                  center[obj][1] + bbox[obj][1] / 2, center[obj][0] + bbox[obj][0] / 2)"
   ]
  },
  {
   "cell_type": "code",
   "execution_count": null,
   "metadata": {
    "ExecuteTime": {
     "start_time": "2018-07-02T23:55:54.004Z"
    }
   },
   "outputs": [],
   "source": [
    "suppressed_box = non_max_suppression_fast(boxes, 0.25)\n",
    "scores = []\n",
    "for idx in range(len(suppressed_box)):\n",
    "    center_point_c = int((suppressed_box[idx][0] + suppressed_box[idx][2]) / 2)\n",
    "    center_point_r = int((suppressed_box[idx][1] + suppressed_box[idx][3]) / 2)\n",
    "    scores.append(energy_map[center_point_r, center_point_c] / 10)\n",
    "\n",
    "img = X[0,:,:,0]\n",
    "fig, ax = plt.subplots(1)\n",
    "plt.imshow(img, cmap='gray')\n",
    "\n",
    "patches = []\n",
    "for box in suppressed_box:\n",
    "    patches.append(Rectangle((box[0],box[1]), box[2]-box[0], box[3]-box[1]))\n",
    "\n",
    "pc = PatchCollection(patches, facecolor='None', edgecolor='r')\n",
    "ax.add_collection(pc)"
   ]
  },
  {
   "cell_type": "code",
   "execution_count": null,
   "metadata": {
    "ExecuteTime": {
     "start_time": "2018-07-02T23:55:54.006Z"
    }
   },
   "outputs": [],
   "source": [
    "from sheet_id.utils.eval_utils import evaluate"
   ]
  },
  {
   "cell_type": "code",
   "execution_count": null,
   "metadata": {
    "ExecuteTime": {
     "start_time": "2018-07-02T23:55:54.008Z"
    }
   },
   "outputs": [],
   "source": [
    "gt_boxes = {}\n",
    "pred_boxes = {}\n",
    "for idx in range(len(y['boxes'])):\n",
    "    gt_boxes[idx] = y['boxes'][idx]\n",
    "    \n",
    "    pred_boxes[idx] = {\n",
    "        'boxes': suppressed_box,\n",
    "        'scores': scores,\n",
    "    }"
   ]
  },
  {
   "cell_type": "code",
   "execution_count": null,
   "metadata": {
    "ExecuteTime": {
     "start_time": "2018-07-02T23:55:54.011Z"
    }
   },
   "outputs": [],
   "source": [
    "# compute mAP (taking 42 secs on toy dataset)\n",
    "print(\"mAP = \", evaluate(gt_boxes, pred_boxes))"
   ]
  },
  {
   "cell_type": "code",
   "execution_count": null,
   "metadata": {},
   "outputs": [],
   "source": []
  }
 ],
 "metadata": {
  "kernelspec": {
   "display_name": "Python 3",
   "language": "python",
   "name": "python3"
  },
  "language_info": {
   "codemirror_mode": {
    "name": "ipython",
    "version": 3
   },
   "file_extension": ".py",
   "mimetype": "text/x-python",
   "name": "python",
   "nbconvert_exporter": "python",
   "pygments_lexer": "ipython3",
   "version": "3.6.3"
  },
  "latex_envs": {
   "LaTeX_envs_menu_present": true,
   "autoclose": false,
   "autocomplete": true,
   "bibliofile": "biblio.bib",
   "cite_by": "apalike",
   "current_citInitial": 1,
   "eqLabelWithNumbers": true,
   "eqNumInitial": 1,
   "hotkeys": {
    "equation": "Ctrl-E",
    "itemize": "Ctrl-I"
   },
   "labels_anchors": false,
   "latex_user_defs": false,
   "report_style_numbering": false,
   "user_envs_cfg": false
  },
  "toc": {
   "nav_menu": {},
   "number_sections": true,
   "sideBar": true,
   "skip_h1_title": false,
   "title_cell": "Table of Contents",
   "title_sidebar": "Contents",
   "toc_cell": false,
   "toc_position": {},
   "toc_section_display": true,
   "toc_window_display": false
  },
  "varInspector": {
   "cols": {
    "lenName": 16,
    "lenType": 16,
    "lenVar": 40
   },
   "kernels_config": {
    "python": {
     "delete_cmd_postfix": "",
     "delete_cmd_prefix": "del ",
     "library": "var_list.py",
     "varRefreshCmd": "print(var_dic_list())"
    },
    "r": {
     "delete_cmd_postfix": ") ",
     "delete_cmd_prefix": "rm(",
     "library": "var_list.r",
     "varRefreshCmd": "cat(var_dic_list()) "
    }
   },
   "position": {
    "height": "519px",
    "left": "1154px",
    "right": "52px",
    "top": "111px",
    "width": "714px"
   },
   "types_to_exclude": [
    "module",
    "function",
    "builtin_function_or_method",
    "instance",
    "_Feature"
   ],
   "window_display": false
  }
 },
 "nbformat": 4,
 "nbformat_minor": 2
}
