{
 "cells": [
  {
   "cell_type": "code",
   "execution_count": 1,
   "metadata": {
    "ExecuteTime": {
     "end_time": "2018-06-14T00:22:12.637616Z",
     "start_time": "2018-06-14T00:22:11.442446Z"
    }
   },
   "outputs": [
    {
     "name": "stderr",
     "output_type": "stream",
     "text": [
      "/home/mirlab/miniconda3/lib/python3.6/site-packages/h5py/__init__.py:36: FutureWarning: Conversion of the second argument of issubdtype from `float` to `np.floating` is deprecated. In future, it will be treated as `np.float64 == np.dtype(float).type`.\n",
      "  from ._conv import register_converters as _register_converters\n",
      "Using TensorFlow backend.\n"
     ]
    }
   ],
   "source": [
    "import keras\n",
    "import tensorflow as tf\n",
    "import keras.backend as K\n",
    "from keras.models import Model\n",
    "from keras.layers import Input, Flatten, Activation, Reshape, Dropout, Lambda\n",
    "from keras.layers.convolutional import Conv2D, MaxPooling2D, ZeroPadding2D\n",
    "from keras.regularizers import l2\n",
    "from keras.layers.merge import add\n",
    "from keras.engine.topology import Layer\n",
    "from keras.engine import InputSpec\n",
    "from keras.utils.np_utils import to_categorical\n",
    "\n",
    "import numpy as np\n",
    "import scipy.misc as misc\n",
    "import os\n",
    "import glob\n",
    "from random import shuffle, randint\n",
    "\n",
    "import matplotlib.pyplot as plt"
   ]
  },
  {
   "cell_type": "code",
   "execution_count": 2,
   "metadata": {
    "ExecuteTime": {
     "end_time": "2018-06-14T00:22:12.643586Z",
     "start_time": "2018-06-14T00:22:12.640510Z"
    },
    "code_folding": [
     0
    ]
   },
   "outputs": [],
   "source": [
    "def resize_images(x, size, method='bilinear'):\n",
    "    new_size = tf.convert_to_tensor(size, dtype=tf.int32)\n",
    "    resized = tf.image.resize_images(x, new_size)\n",
    "    return resized"
   ]
  },
  {
   "cell_type": "code",
   "execution_count": 3,
   "metadata": {
    "ExecuteTime": {
     "end_time": "2018-06-14T00:22:12.873529Z",
     "start_time": "2018-06-14T00:22:12.644791Z"
    },
    "code_folding": [
     0,
     35
    ]
   },
   "outputs": [],
   "source": [
    "class BilinearUpSampling2D(Layer):\n",
    "    \"\"\"Upsampling2D with bilinear interpolation.\"\"\"\n",
    "\n",
    "    def __init__(self, target_shape=None, data_format=None, **kwargs):\n",
    "        if data_format is None:\n",
    "            data_format = K.image_data_format()\n",
    "        assert data_format in {\n",
    "            'channels_last', 'channels_first'}\n",
    "        self.data_format = data_format\n",
    "        self.input_spec = [InputSpec(ndim=4)]\n",
    "        self.target_shape = target_shape\n",
    "        if self.data_format == 'channels_first':\n",
    "            self.target_size = (target_shape[2], target_shape[3])\n",
    "        elif self.data_format == 'channels_last':\n",
    "            self.target_size = (target_shape[1], target_shape[2])\n",
    "        super(BilinearUpSampling2D, self).__init__(**kwargs)\n",
    "\n",
    "    def compute_output_shape(self, input_shape):\n",
    "        if self.data_format == 'channels_last':\n",
    "            return (input_shape[0], self.target_size[0],\n",
    "                    self.target_size[1], input_shape[3])\n",
    "        else:\n",
    "            return (input_shape[0], input_shape[1],\n",
    "                    self.target_size[0], self.target_size[1])\n",
    "\n",
    "    def call(self, inputs):\n",
    "        return resize_images(inputs, size=self.target_size,\n",
    "                             method='bilinear')\n",
    "\n",
    "    def get_config(self):\n",
    "        config = {'target_shape': self.target_shape,\n",
    "                'data_format': self.data_format}\n",
    "        base_config = super(BilinearUpSampling2D, self).get_config()\n",
    "        return dict(list(base_config.items()) + list(config.items()))\n",
    "\n",
    "class CroppingLike2D(Layer):\n",
    "    def __init__(self, target_shape, offset=None, data_format=None,\n",
    "                 **kwargs):\n",
    "        \"\"\"Crop to target.\n",
    "        If only one `offset` is set, then all dimensions are offset by this amount.\n",
    "        \"\"\"\n",
    "        super(CroppingLike2D, self).__init__(**kwargs)\n",
    "        self.data_format = conv_utils.normalize_data_format(data_format)\n",
    "        self.target_shape = target_shape\n",
    "        if offset is None or offset == 'centered':\n",
    "            self.offset = 'centered'\n",
    "        elif isinstance(offset, int):\n",
    "            self.offset = (offset, offset)\n",
    "        elif hasattr(offset, '__len__'):\n",
    "            if len(offset) != 2:\n",
    "                raise ValueError('`offset` should have two elements. '\n",
    "                                 'Found: ' + str(offset))\n",
    "            self.offset = offset\n",
    "        self.input_spec = InputSpec(ndim=4)\n",
    "\n",
    "    def compute_output_shape(self, input_shape):\n",
    "        if self.data_format == 'channels_first':\n",
    "            return (input_shape[0],\n",
    "                    input_shape[1],\n",
    "                    self.target_shape[2],\n",
    "                    self.target_shape[3])\n",
    "        else:\n",
    "            return (input_shape[0],\n",
    "                    self.target_shape[1],\n",
    "                    self.target_shape[2],\n",
    "                    input_shape[3])\n",
    "\n",
    "    def call(self, inputs):\n",
    "        input_shape = K.int_shape(inputs)\n",
    "        if self.data_format == 'channels_first':\n",
    "            input_height = input_shape[2]\n",
    "            input_width = input_shape[3]\n",
    "            target_height = self.target_shape[2]\n",
    "            target_width = self.target_shape[3]\n",
    "            if target_height > input_height or target_width > input_width:\n",
    "                raise ValueError('The Tensor to be cropped need to be smaller'\n",
    "                                 'or equal to the target Tensor.')\n",
    "\n",
    "            if self.offset == 'centered':\n",
    "                self.offset = [int((input_height - target_height) / 2),\n",
    "                               int((input_width - target_width) / 2)]\n",
    "\n",
    "            if self.offset[0] + target_height > input_height:\n",
    "                raise ValueError('Height index out of range: '\n",
    "                                 + str(self.offset[0] + target_height))\n",
    "            if self.offset[1] + target_width > input_width:\n",
    "                raise ValueError('Width index out of range:'\n",
    "                                 + str(self.offset[1] + target_width))\n",
    "\n",
    "            return inputs[:,\n",
    "                          :,\n",
    "                          self.offset[0]:self.offset[0] + target_height,\n",
    "                          self.offset[1]:self.offset[1] + target_width]\n",
    "        elif self.data_format == 'channels_last':\n",
    "            input_height = input_shape[1]\n",
    "            input_width = input_shape[2]\n",
    "            target_height = self.target_shape[1]\n",
    "            target_width = self.target_shape[2]\n",
    "            if target_height > input_height or target_width > input_width:\n",
    "                raise ValueError('The Tensor to be cropped need to be smaller'\n",
    "                                 'or equal to the target Tensor.')\n",
    "\n",
    "            if self.offset == 'centered':\n",
    "                self.offset = [int((input_height - target_height) / 2),\n",
    "                               int((input_width - target_width) / 2)]\n",
    "\n",
    "            if self.offset[0] + target_height > input_height:\n",
    "                raise ValueError('Height index out of range: '\n",
    "                                 + str(self.offset[0] + target_height))\n",
    "            if self.offset[1] + target_width > input_width:\n",
    "                raise ValueError('Width index out of range:'\n",
    "                                 + str(self.offset[1] + target_width))\n",
    "            output = inputs[:,\n",
    "                            self.offset[0]:self.offset[0] + target_height,\n",
    "                            self.offset[1]:self.offset[1] + target_width,\n",
    "                            :]\n",
    "            return output\n",
    "\n",
    "    def get_config(self):\n",
    "        config = {'target_shape': self.target_shape,\n",
    "                  'offset': self.offset,\n",
    "                  'data_format': self.data_format}\n",
    "        base_config = super(CroppingLike2D, self).get_config()\n",
    "        return dict(list(base_config.items()) + list(config.items()))"
   ]
  },
  {
   "cell_type": "code",
   "execution_count": 4,
   "metadata": {
    "ExecuteTime": {
     "end_time": "2018-06-14T00:22:13.017151Z",
     "start_time": "2018-06-14T00:22:12.874948Z"
    },
    "code_folding": [
     86
    ]
   },
   "outputs": [],
   "source": [
    "def vgg_conv(filters, convs, padding=False, weight_decay=0.,\n",
    "             block_name='blockx'):\n",
    "    def f(x):\n",
    "        for i in range(convs):\n",
    "            if block_name == 'block1' and i == 0:\n",
    "                if padding is True:\n",
    "                    x = ZeroPadding2D(padding=(100, 100))(x)\n",
    "                x = Conv2D(filters, (3,3), activation='relu', padding='same',\n",
    "                           kernel_initializer='he_normal',\n",
    "                           kernel_regularizer=l2(weight_decay),\n",
    "                           name='{}_conv{}'.format(block_name, int(i+1)))(x)\n",
    "            else:\n",
    "                x = Conv2D(filters, (3,3), activation='relu', padding='same',\n",
    "                           kernel_initializer='he_normal',\n",
    "                           kernel_regularizer=l2(weight_decay),\n",
    "                           name='{}_conv{}'.format(block_name, int(i+1)))(x)\n",
    "        pool = MaxPooling2D((2,2), strides=(2,2), padding='same',\n",
    "                            name='{}_pool'.format(block_name))(x)\n",
    "        dropout = Dropout(0.85)(pool)\n",
    "        return dropout\n",
    "    return f\n",
    "\n",
    "def vgg_fc(filters, weight_decay=0., block_name='block5'):\n",
    "    def f(x):\n",
    "        fc6 = Conv2D(filters=4096, kernel_size=(3, 3),\n",
    "                     activation='relu', padding='same',\n",
    "                     dilation_rate=(2, 2),\n",
    "                     kernel_initializer='he_normal',\n",
    "                     kernel_regularizer=l2(weight_decay),\n",
    "                     name='{}_fc6'.format(block_name))(x)\n",
    "        drop6 = Dropout(0.85)(fc6)\n",
    "        return drop6\n",
    "    return f\n",
    "\n",
    "def vgg_deconv(classes, scale=1, kernel_size=(4, 4), strides=(2, 2),\n",
    "               crop_offset='centered', weight_decay=0., block_name='featx'):\n",
    "    def f(x, y):\n",
    "        def scaling(xx, ss=1):\n",
    "            return xx * ss\n",
    "        scaled = Lambda(scaling, arguments={'ss': scale},\n",
    "                        name='scale_{}'.format(block_name))(x)\n",
    "        score = Conv2D(filters=classes, kernel_size=(1, 1),\n",
    "                       activation='linear',\n",
    "                       kernel_initializer='he_normal',\n",
    "                       kernel_regularizer=l2(weight_decay),\n",
    "                       name='score_{}'.format(block_name))(scaled)\n",
    "        if y is None:\n",
    "            upscore = Conv2DTranspose(filters=classes, kernel_size=kernel_size,\n",
    "                                      strides=strides, padding='valid',\n",
    "                                      kernel_initializer='he_normal',\n",
    "                                      kernel_regularizer=l2(weight_decay),\n",
    "                                      use_bias=False,\n",
    "                                      name='upscore_{}'.format(block_name))(score)\n",
    "        else:\n",
    "            crop = CroppingLike2D(target_shape=K.int_shape(y),\n",
    "                                  offset=crop_offset,\n",
    "                                  name='crop_{}'.format(block_name))(score)\n",
    "            merge = add([y, crop])\n",
    "            upscore = Conv2DTranspose(filters=classes, kernel_size=kernel_size,\n",
    "                                      strides=strides, padding='valid',\n",
    "                                      kernel_initializer='he_normal',\n",
    "                                      kernel_regularizer=l2(weight_decay),\n",
    "                                      use_bias=False,\n",
    "                                      name='upscore_{}'.format(block_name))(merge)\n",
    "        return upscore\n",
    "    return f\n",
    "\n",
    "def vgg_upsampling(classes, target_shape=None, scale=1, weight_decay=0., block_name='featx'):\n",
    "    def f(x, y):\n",
    "        score = Conv2D(filters=classes, kernel_size=(1, 1),\n",
    "                       activation='linear',\n",
    "                       padding='valid',\n",
    "                       kernel_initializer='he_normal',\n",
    "                       kernel_regularizer=l2(weight_decay),\n",
    "                       name='score_{}'.format(block_name))(x)\n",
    "        if y is not None:\n",
    "            def scaling(xx, ss=1):\n",
    "                return xx * ss\n",
    "            scaled = Lambda(scaling, arguments={'ss': scale},\n",
    "                            name='scale_{}'.format(block_name))(score)\n",
    "            score = add([y, scaled])\n",
    "        upscore = BilinearUpSampling2D(\n",
    "            target_shape=target_shape,\n",
    "            name='upscore_{}'.format(block_name))(score)\n",
    "        return upscore\n",
    "    return f\n",
    "\n",
    "def vgg_score(crop_offset='centered'):\n",
    "    def f(x, y):\n",
    "        score = CroppingLike2D(target_shape=K.int_shape(\n",
    "            x), offset=crop_offset, name='score')(y)\n",
    "        return score\n",
    "    return f"
   ]
  },
  {
   "cell_type": "markdown",
   "metadata": {},
   "source": [
    "# Encoder"
   ]
  },
  {
   "cell_type": "code",
   "execution_count": 5,
   "metadata": {
    "ExecuteTime": {
     "end_time": "2018-06-14T00:22:13.079984Z",
     "start_time": "2018-06-14T00:22:13.022933Z"
    },
    "code_folding": [
     0
    ]
   },
   "outputs": [],
   "source": [
    "class Encoder(Model):\n",
    "    def __init__(self, inputs, blocks, \n",
    "                 weights=None, trainable=True,\n",
    "                 name='encoder'):\n",
    "        inverse_pyramid = []\n",
    "        \n",
    "        conv_blocks = blocks[:-1]\n",
    "        for i, block in enumerate(conv_blocks):\n",
    "            if i == 0:\n",
    "                x = block(inputs)\n",
    "                inverse_pyramid.append(x)\n",
    "            elif i < len(conv_blocks) - 1:\n",
    "                x = block(x)\n",
    "                inverse_pyramid.append(x)\n",
    "            else:\n",
    "                x = block(x)\n",
    "        \n",
    "        # fully convolutional block\n",
    "        fc_block = blocks[-1]\n",
    "        y = fc_block(x)\n",
    "        inverse_pyramid.append(y)\n",
    "        \n",
    "        # Reverse the pyramid features\n",
    "        outputs = list(reversed(inverse_pyramid))\n",
    "        \n",
    "        self.inputs = inputs\n",
    "        self.outputs = outputs"
   ]
  },
  {
   "cell_type": "markdown",
   "metadata": {},
   "source": [
    "# Decoder"
   ]
  },
  {
   "cell_type": "code",
   "execution_count": 6,
   "metadata": {
    "ExecuteTime": {
     "end_time": "2018-06-14T00:22:13.163535Z",
     "start_time": "2018-06-14T00:22:13.086761Z"
    },
    "code_folding": []
   },
   "outputs": [],
   "source": [
    "def Decoder(pyramid, blocks):\n",
    "    if len(blocks) != len(pyramid):\n",
    "        raise ValueError('`blocks` needs to match the length of'\n",
    "                         '`pyramid`.')\n",
    "    \n",
    "    decoded = None\n",
    "    for feat, blk in zip(pyramid, blocks):\n",
    "        decoded = blk(feat, decoded)\n",
    "    return decoded"
   ]
  },
  {
   "cell_type": "markdown",
   "metadata": {},
   "source": [
    "# FCN"
   ]
  },
  {
   "cell_type": "code",
   "execution_count": 7,
   "metadata": {
    "ExecuteTime": {
     "end_time": "2018-06-14T00:22:13.288998Z",
     "start_time": "2018-06-14T00:22:13.279240Z"
    }
   },
   "outputs": [],
   "source": [
    "inputs = Input(shape=(250, 250, 1))"
   ]
  },
  {
   "cell_type": "code",
   "execution_count": 8,
   "metadata": {
    "ExecuteTime": {
     "end_time": "2018-06-14T00:22:13.332505Z",
     "start_time": "2018-06-14T00:22:13.313563Z"
    }
   },
   "outputs": [],
   "source": [
    "blocks = [vgg_conv(64, 1, block_name='block1'),\n",
    "          vgg_conv(128, 1, block_name='block2'),\n",
    "          vgg_conv(256, 1, block_name='block3'),\n",
    "          vgg_conv(512, 1, block_name='block4'),\n",
    "          vgg_conv(512, 1, block_name='block5'),\n",
    "          vgg_fc(4096)]"
   ]
  },
  {
   "cell_type": "code",
   "execution_count": 9,
   "metadata": {
    "ExecuteTime": {
     "end_time": "2018-06-14T00:22:13.636238Z",
     "start_time": "2018-06-14T00:22:13.337383Z"
    }
   },
   "outputs": [],
   "source": [
    "encoder = Encoder(inputs, blocks)"
   ]
  },
  {
   "cell_type": "code",
   "execution_count": 10,
   "metadata": {
    "ExecuteTime": {
     "end_time": "2018-06-14T00:22:13.641274Z",
     "start_time": "2018-06-14T00:22:13.638032Z"
    }
   },
   "outputs": [],
   "source": [
    "feat_pyramid = encoder.outputs   # A feature pyramid with 5 scales\n",
    "feat_pyramid = feat_pyramid[:4]  # Select only the top three scale of the pyramid\n",
    "feat_pyramid.append(inputs)      # Add image to the bottom of the pyramid"
   ]
  },
  {
   "cell_type": "code",
   "execution_count": 11,
   "metadata": {
    "ExecuteTime": {
     "end_time": "2018-06-14T00:22:13.875285Z",
     "start_time": "2018-06-14T00:22:13.644616Z"
    }
   },
   "outputs": [],
   "source": [
    "decode_blocks = [\n",
    "vgg_upsampling(classes=124, target_shape=(None, 16, 16, None), scale=1, block_name='feat1'),            \n",
    "vgg_upsampling(classes=124, target_shape=(None, 32, 32, None),  scale=1, block_name='feat2'),\n",
    "vgg_upsampling(classes=124, target_shape=(None, 63, 63, None),  scale=1, block_name='feat3'),\n",
    "vgg_upsampling(classes=124, target_shape=(None, 250, 250, None),  scale=1, block_name='feat4'),\n",
    "]\n",
    "\n",
    "outputs = Decoder(pyramid=feat_pyramid[:-1], blocks=decode_blocks)"
   ]
  },
  {
   "cell_type": "code",
   "execution_count": 12,
   "metadata": {
    "ExecuteTime": {
     "end_time": "2018-06-14T00:22:13.878927Z",
     "start_time": "2018-06-14T00:22:13.876785Z"
    }
   },
   "outputs": [],
   "source": [
    "# outputs = Activation('softmax')(outputs)"
   ]
  },
  {
   "cell_type": "code",
   "execution_count": 13,
   "metadata": {
    "ExecuteTime": {
     "end_time": "2018-06-14T00:22:13.934190Z",
     "start_time": "2018-06-14T00:22:13.880103Z"
    }
   },
   "outputs": [],
   "source": [
    "model = Model(inputs=inputs, outputs=outputs)"
   ]
  },
  {
   "cell_type": "code",
   "execution_count": 14,
   "metadata": {
    "ExecuteTime": {
     "end_time": "2018-06-14T00:22:14.090845Z",
     "start_time": "2018-06-14T00:22:13.936060Z"
    }
   },
   "outputs": [],
   "source": [
    "adam = keras.optimizers.Adam(lr=1e-4, beta_1=0.9, beta_2=0.999, epsilon=1e-8, decay=0.0, amsgrad=False)\n",
    "from tensorflow.python.ops import array_ops\n",
    "\n",
    "def customLoss(target, output):\n",
    "    targets = tf.squeeze(K.cast(target, 'int64'), squeeze_dims=[3])\n",
    "    res = tf.nn.sparse_softmax_cross_entropy_with_logits(labels=targets, logits=output)\n",
    "    return tf.reduce_mean(res)\n",
    "\n",
    "model.compile(optimizer=adam,\n",
    "              loss=customLoss,\n",
    "              metrics=['accuracy'])"
   ]
  },
  {
   "cell_type": "code",
   "execution_count": 15,
   "metadata": {
    "ExecuteTime": {
     "end_time": "2018-06-14T00:22:14.094773Z",
     "start_time": "2018-06-14T00:22:14.092446Z"
    }
   },
   "outputs": [],
   "source": [
    "# from IPython.display import SVG\n",
    "# from keras.utils.vis_utils import model_to_dot\n",
    "\n",
    "# SVG(model_to_dot(model, show_shapes=True).create(prog='dot', format='svg'))"
   ]
  },
  {
   "cell_type": "markdown",
   "metadata": {},
   "source": [
    "# Training "
   ]
  },
  {
   "cell_type": "markdown",
   "metadata": {},
   "source": [
    "## Load data"
   ]
  },
  {
   "cell_type": "code",
   "execution_count": 16,
   "metadata": {
    "ExecuteTime": {
     "end_time": "2018-06-14T00:22:14.451654Z",
     "start_time": "2018-06-14T00:22:14.096296Z"
    },
    "code_folding": [
     0
    ]
   },
   "outputs": [],
   "source": [
    "class seg_dataset_reader:\n",
    "    path = \"\"\n",
    "    class_mappings = \"\"\n",
    "    files = []\n",
    "    images = []\n",
    "    annotations = []\n",
    "    test_images = []\n",
    "    test_annotations = []\n",
    "    batch_offset = 0\n",
    "    epochs_completed = 0\n",
    "\n",
    "    def __init__(self, deepscores_path, max_pages=40, crop=True, crop_size=[1000,1000], test_size=20):\n",
    "        \"\"\"\n",
    "        Initialize a file reader for the DeepScores classification data\n",
    "        :param records_list: path to the dataset\n",
    "        sample record: {'image': f, 'annotation': annotation_file, 'filename': filename}\n",
    "        \"\"\"\n",
    "        print(\"Initializing DeepScores Classification Batch Dataset Reader...\")\n",
    "        self.path = deepscores_path\n",
    "        self.max_pages = max_pages\n",
    "        self.crop = crop\n",
    "        self.crop_size = crop_size\n",
    "        self.test_size = test_size\n",
    "\n",
    "        images_list = []\n",
    "        images_glob = os.path.join(self.path, \"images_png\", '*.' + 'png')\n",
    "        images_list.extend(glob.glob(images_glob))\n",
    "\n",
    "        #shuffle image list\n",
    "        shuffle(images_list)\n",
    "\n",
    "        if max_pages is None:\n",
    "            max_pages = len(images_list)\n",
    "            import sys\n",
    "            sys.exit(1)\n",
    "\n",
    "        if max_pages > len(images_list):\n",
    "            print(\"Not enough data, only \" + str(len(images_list)) + \" available\")\n",
    "\n",
    "        if test_size >= max_pages:\n",
    "            print(\"Test set too big (\"+str(test_size)+\"), max_pages is: \"+str(max_pages))\n",
    "            import sys\n",
    "            sys.exit(1)\n",
    "\n",
    "        print(\"Splitting dataset, train: \"+str(max_pages-test_size)+\" images, test: \"+str(test_size)+ \" images\")\n",
    "        test_image_list = images_list[0:test_size]\n",
    "        train_image_list = images_list[test_size:max_pages]\n",
    "\n",
    "        # test_annotation_list = [image_file.replace(\"/images_png/\", \"/pix_annotations_png/\") for image_file in test_image_list]\n",
    "        # train_annotation_list = [image_file.replace(\"/images_png/\", \"/pix_annotations_png/\") for image_file in train_image_list]\n",
    "\n",
    "        self._read_images(test_image_list,train_image_list)\n",
    "\n",
    "    def _read_images(self,test_image_list,train_image_list):\n",
    "\n",
    "        dat_train = [self._transform(filename) for filename in train_image_list]\n",
    "        for dat in dat_train:\n",
    "            self.images.append(dat[0])\n",
    "            self.annotations.append(dat[1])\n",
    "        self.images = np.array(self.images)\n",
    "        self.images = np.expand_dims(self.images, -1)\n",
    "\n",
    "        self.annotations = np.array(self.annotations)\n",
    "        self.annotations = np.expand_dims(self.annotations, -1)\n",
    "\n",
    "        print(\"Training set done\")\n",
    "        dat_test = [self._transform(filename) for filename in test_image_list]\n",
    "        for dat in dat_test:\n",
    "            self.test_images.append(dat[0])\n",
    "            self.test_annotations.append(dat[1])\n",
    "        self.test_images = np.array(self.test_images)\n",
    "        self.test_images = np.expand_dims(self.test_images, -1)\n",
    "\n",
    "        self.test_annotations = np.array(self.test_annotations)\n",
    "        self.test_annotations = np.expand_dims(self.test_annotations, -1)\n",
    "        print(\"Test set done\")\n",
    "\n",
    "\n",
    "    def _transform(self, filename):\n",
    "        image = misc.imread(filename)\n",
    "        annotation = misc.imread(filename.replace(\"/images_png/\", \"/pix_annotations_png/\"))\n",
    "        print(\"im working!\" + str(randint(0,10)))\n",
    "        if not image.shape[0:2] == annotation.shape[0:2]:\n",
    "            print(\"input and annotation have different sizes!\")\n",
    "            import sys\n",
    "            import pdb\n",
    "            pdb.set_trace()\n",
    "            sys.exit(1)\n",
    "\n",
    "        if image.shape[-1] != 1:\n",
    "            # take mean over color channels, image BW anyways --> fix in dataset creation\n",
    "            image = np.mean(image, -1)\n",
    "\n",
    "        if self.crop:\n",
    "            coord_0 = randint(0, (image.shape[0] - self.crop_size[0]))\n",
    "            coord_1 = randint(0, (image.shape[1] - self.crop_size[1]))\n",
    "\n",
    "            image = image[coord_0:(coord_0+self.crop_size[0]),coord_1:(coord_1+self.crop_size[1])]\n",
    "            annotation = annotation[coord_0:(coord_0 + self.crop_size[0]), coord_1:(coord_1 + self.crop_size[1])]\n",
    "\n",
    "        return [image, annotation]\n",
    "\n",
    "    # from PIL import Image\n",
    "    # im = Image.fromarray(image)\n",
    "    # im.show()\n",
    "    # im = Image.fromarray(annotation)\n",
    "    # im.show()\n",
    "\n",
    "\n",
    "    def get_records(self):\n",
    "        return self.images, self.annotations\n",
    "\n",
    "    def reset_batch_offset(self, offset=0):\n",
    "        self.batch_offset = offset\n",
    "\n",
    "    def get_test_records(self):\n",
    "        return self.test_images, self.test_annotations\n",
    "\n",
    "    def next_batch(self, batch_size):\n",
    "        start = self.batch_offset\n",
    "        self.batch_offset += batch_size\n",
    "        if self.batch_offset > self.images.shape[0]:\n",
    "            # Finished epoch\n",
    "            self.epochs_completed += 1\n",
    "            #             print(\"****************** Epochs completed: \" + str(self.epochs_completed) + \"******************\")\n",
    "            # Shuffle the data\n",
    "            perm = np.arange(self.images.shape[0])\n",
    "            np.random.shuffle(perm)\n",
    "            self.images = self.images[perm]\n",
    "            self.annotations = self.annotations[perm]\n",
    "            # Start next epoch\n",
    "            start = 0\n",
    "            self.batch_offset = batch_size\n",
    "\n",
    "        end = self.batch_offset\n",
    "        return self.images[start:end], self.annotations[start:end]\n",
    "\n",
    "    def get_random_batch(self, batch_size):\n",
    "        indexes = np.random.randint(0, self.images.shape[0], size=[batch_size]).tolist()\n",
    "        return self.images[indexes], self.annotations[indexes]"
   ]
  },
  {
   "cell_type": "code",
   "execution_count": 17,
   "metadata": {
    "ExecuteTime": {
     "end_time": "2018-06-14T00:22:31.810466Z",
     "start_time": "2018-06-14T00:22:14.452876Z"
    },
    "scrolled": true
   },
   "outputs": [
    {
     "name": "stdout",
     "output_type": "stream",
     "text": [
      "Initializing DeepScores Classification Batch Dataset Reader...\n",
      "Splitting dataset, train: 20 images, test: 20 images\n"
     ]
    },
    {
     "name": "stderr",
     "output_type": "stream",
     "text": [
      "/home/mirlab/miniconda3/lib/python3.6/site-packages/ipykernel_launcher.py:80: DeprecationWarning: `imread` is deprecated!\n",
      "`imread` is deprecated in SciPy 1.0.0, and will be removed in 1.2.0.\n",
      "Use ``imageio.imread`` instead.\n",
      "/home/mirlab/miniconda3/lib/python3.6/site-packages/ipykernel_launcher.py:81: DeprecationWarning: `imread` is deprecated!\n",
      "`imread` is deprecated in SciPy 1.0.0, and will be removed in 1.2.0.\n",
      "Use ``imageio.imread`` instead.\n"
     ]
    },
    {
     "name": "stdout",
     "output_type": "stream",
     "text": [
      "im working!1\n",
      "im working!9\n",
      "im working!6\n",
      "im working!3\n",
      "im working!10\n",
      "im working!0\n",
      "im working!4\n",
      "im working!3\n",
      "im working!0\n",
      "im working!0\n",
      "im working!6\n",
      "im working!6\n",
      "im working!0\n",
      "im working!2\n",
      "im working!0\n",
      "im working!6\n",
      "im working!7\n",
      "im working!2\n",
      "im working!1\n",
      "im working!7\n",
      "Training set done\n",
      "im working!10\n",
      "im working!9\n",
      "im working!9\n",
      "im working!5\n",
      "im working!0\n",
      "im working!3\n",
      "im working!7\n",
      "im working!6\n",
      "im working!10\n",
      "im working!1\n",
      "im working!7\n",
      "im working!6\n",
      "im working!4\n",
      "im working!4\n",
      "im working!0\n",
      "im working!2\n",
      "im working!10\n",
      "im working!5\n",
      "im working!3\n",
      "im working!3\n",
      "Test set done\n"
     ]
    }
   ],
   "source": [
    "data_reader = seg_dataset_reader('/home/mirlab/Downloads/DeepScores/',\n",
    "                                 crop=True, crop_size=[250,250])"
   ]
  },
  {
   "cell_type": "code",
   "execution_count": 18,
   "metadata": {
    "ExecuteTime": {
     "end_time": "2018-06-14T00:22:31.813413Z",
     "start_time": "2018-06-14T00:22:31.811584Z"
    }
   },
   "outputs": [],
   "source": [
    "NUM_ITERATION = 10000\n",
    "PRINT_EVERY_ITR = 100"
   ]
  },
  {
   "cell_type": "code",
   "execution_count": 19,
   "metadata": {
    "ExecuteTime": {
     "end_time": "2018-06-14T00:22:31.865158Z",
     "start_time": "2018-06-14T00:22:31.814421Z"
    }
   },
   "outputs": [],
   "source": [
    "hist = {\n",
    "    'acc': [],\n",
    "    'loss': [],\n",
    "    'val_acc': [],\n",
    "    'val_loss': [],\n",
    "}"
   ]
  },
  {
   "cell_type": "code",
   "execution_count": 20,
   "metadata": {
    "ExecuteTime": {
     "end_time": "2018-06-14T01:14:43.818228Z",
     "start_time": "2018-06-14T00:22:31.866768Z"
    }
   },
   "outputs": [
    {
     "name": "stdout",
     "output_type": "stream",
     "text": [
      "Finish Iteration 0\n",
      "Finish Iteration 100\n",
      "Finish Iteration 200\n",
      "Finish Iteration 300\n",
      "Finish Iteration 400\n",
      "Finish Iteration 500\n",
      "Finish Iteration 600\n",
      "Finish Iteration 700\n",
      "Finish Iteration 800\n",
      "Finish Iteration 900\n",
      "Finish Iteration 1000\n",
      "Finish Iteration 1100\n",
      "Finish Iteration 1200\n",
      "Finish Iteration 1300\n",
      "Finish Iteration 1400\n",
      "Finish Iteration 1500\n",
      "Finish Iteration 1600\n",
      "Finish Iteration 1700\n",
      "Finish Iteration 1800\n",
      "Finish Iteration 1900\n",
      "Finish Iteration 2000\n",
      "Finish Iteration 2100\n",
      "Finish Iteration 2200\n",
      "Finish Iteration 2300\n",
      "Finish Iteration 2400\n",
      "Finish Iteration 2500\n",
      "Finish Iteration 2600\n",
      "Finish Iteration 2700\n",
      "Finish Iteration 2800\n",
      "Finish Iteration 2900\n",
      "Finish Iteration 3000\n",
      "Finish Iteration 3100\n",
      "Finish Iteration 3200\n",
      "Finish Iteration 3300\n",
      "Finish Iteration 3400\n",
      "Finish Iteration 3500\n",
      "Finish Iteration 3600\n",
      "Finish Iteration 3700\n",
      "Finish Iteration 3800\n",
      "Finish Iteration 3900\n",
      "Finish Iteration 4000\n",
      "Finish Iteration 4100\n",
      "Finish Iteration 4200\n",
      "Finish Iteration 4300\n",
      "Finish Iteration 4400\n",
      "Finish Iteration 4500\n",
      "Finish Iteration 4600\n",
      "Finish Iteration 4700\n",
      "Finish Iteration 4800\n",
      "Finish Iteration 4900\n",
      "Finish Iteration 5000\n",
      "Finish Iteration 5100\n",
      "Finish Iteration 5200\n",
      "Finish Iteration 5300\n",
      "Finish Iteration 5400\n",
      "Finish Iteration 5500\n",
      "Finish Iteration 5600\n",
      "Finish Iteration 5700\n",
      "Finish Iteration 5800\n",
      "Finish Iteration 5900\n",
      "Finish Iteration 6000\n",
      "Finish Iteration 6100\n",
      "Finish Iteration 6200\n",
      "Finish Iteration 6300\n",
      "Finish Iteration 6400\n",
      "Finish Iteration 6500\n",
      "Finish Iteration 6600\n",
      "Finish Iteration 6700\n",
      "Finish Iteration 6800\n",
      "Finish Iteration 6900\n",
      "Finish Iteration 7000\n",
      "Finish Iteration 7100\n",
      "Finish Iteration 7200\n",
      "Finish Iteration 7300\n",
      "Finish Iteration 7400\n",
      "Finish Iteration 7500\n",
      "Finish Iteration 7600\n",
      "Finish Iteration 7700\n",
      "Finish Iteration 7800\n",
      "Finish Iteration 7900\n",
      "Finish Iteration 8000\n",
      "Finish Iteration 8100\n",
      "Finish Iteration 8200\n",
      "Finish Iteration 8300\n",
      "Finish Iteration 8400\n",
      "Finish Iteration 8500\n",
      "Finish Iteration 8600\n",
      "Finish Iteration 8700\n",
      "Finish Iteration 8800\n",
      "Finish Iteration 8900\n",
      "Finish Iteration 9000\n",
      "Finish Iteration 9100\n",
      "Finish Iteration 9200\n",
      "Finish Iteration 9300\n",
      "Finish Iteration 9400\n",
      "Finish Iteration 9500\n",
      "Finish Iteration 9600\n",
      "Finish Iteration 9700\n",
      "Finish Iteration 9800\n",
      "Finish Iteration 9900\n"
     ]
    }
   ],
   "source": [
    "for itr in range(NUM_ITERATION):\n",
    "    train_img, train_annotation = data_reader.next_batch(20)\n",
    "    val_img, val_annotation = data_reader.get_test_records()\n",
    "    history = model.fit(x=train_img, y=train_annotation, verbose=False, validation_data=(val_img, val_annotation))\n",
    "    for key in history.history:\n",
    "        value = history.history[key]\n",
    "        hist[key].append(value)\n",
    "        \n",
    "    if itr % PRINT_EVERY_ITR == 0:\n",
    "        print(\"Finish Iteration {:}\".format(itr))"
   ]
  },
  {
   "cell_type": "code",
   "execution_count": 99,
   "metadata": {
    "ExecuteTime": {
     "end_time": "2018-06-14T16:41:26.013438Z",
     "start_time": "2018-06-14T16:41:25.364784Z"
    }
   },
   "outputs": [
    {
     "data": {
      "image/png": "[encoded data removed]",
      "text/plain": [
       "<matplotlib.figure.Figure at 0x7f759b56c550>"
      ]
     },
     "metadata": {},
     "output_type": "display_data"
    }
   ],
   "source": [
    "plt.figure(figsize=(20,6))\n",
    "plt.subplot(1,2,1)\n",
    "plt.plot(hist['loss'], label='training')\n",
    "plt.plot(hist['val_loss'], label='validation')\n",
    "plt.title('Loss')\n",
    "plt.legend()\n",
    "plt.yscale('log')\n",
    "plt.xlabel('Epochs')\n",
    "\n",
    "plt.subplot(1,2,2)\n",
    "plt.plot(hist['acc'], label='training')\n",
    "plt.plot(hist['val_acc'], label='validation')\n",
    "plt.title('Accuracy')\n",
    "plt.legend()\n",
    "plt.xlabel('Epochs')\n",
    "\n",
    "plt.show()"
   ]
  },
  {
   "cell_type": "markdown",
   "metadata": {},
   "source": [
    "## Test data"
   ]
  },
  {
   "cell_type": "code",
   "execution_count": 23,
   "metadata": {
    "ExecuteTime": {
     "end_time": "2018-06-14T01:14:44.174431Z",
     "start_time": "2018-06-14T01:14:44.130125Z"
    }
   },
   "outputs": [],
   "source": [
    "test_img, test_annotation = data_reader.get_test_records()"
   ]
  },
  {
   "cell_type": "code",
   "execution_count": 24,
   "metadata": {
    "ExecuteTime": {
     "end_time": "2018-06-14T01:14:44.877468Z",
     "start_time": "2018-06-14T01:14:44.176100Z"
    }
   },
   "outputs": [],
   "source": [
    "prediction = np.argmax(model.predict(test_img), axis=-1) # get the argmax of 124 classes"
   ]
  },
  {
   "cell_type": "code",
   "execution_count": 25,
   "metadata": {
    "ExecuteTime": {
     "end_time": "2018-06-14T01:14:44.880448Z",
     "start_time": "2018-06-14T01:14:44.878681Z"
    }
   },
   "outputs": [],
   "source": [
    "img_id = 10"
   ]
  },
  {
   "cell_type": "code",
   "execution_count": 26,
   "metadata": {
    "ExecuteTime": {
     "end_time": "2018-06-14T01:14:45.205973Z",
     "start_time": "2018-06-14T01:14:44.881908Z"
    }
   },
   "outputs": [
    {
     "data": {
      "text/plain": [
       "Text(0.5,1,'Semantic Prediction')"
      ]
     },
     "execution_count": 26,
     "metadata": {},
     "output_type": "execute_result"
    },
    {
     "data": {
      "image/png": "[encoded data removed]",
      "text/plain": [
       "<matplotlib.figure.Figure at 0x7f7588411978>"
      ]
     },
     "metadata": {},
     "output_type": "display_data"
    }
   ],
   "source": [
    "plt.figure(figsize=(12,20))\n",
    "plt.subplot(1,3,1)\n",
    "plt.imshow(test_img[img_id,:,:,0], cmap='gray')\n",
    "plt.title(\"Input image\")\n",
    "plt.subplot(1,3,2)\n",
    "plt.imshow(test_annotation[img_id,:,:,0], cmap='gray')\n",
    "plt.title(\"Ground Truth annotation\")\n",
    "plt.subplot(1,3,3)\n",
    "plt.imshow(prediction[img_id,:,:], cmap='gray')\n",
    "plt.title(\"Semantic Prediction\")"
   ]
  },
  {
   "cell_type": "code",
   "execution_count": 27,
   "metadata": {
    "ExecuteTime": {
     "end_time": "2018-06-14T01:14:45.232422Z",
     "start_time": "2018-06-14T01:14:45.207333Z"
    }
   },
   "outputs": [
    {
     "data": {
      "text/plain": [
       "array([ 4, 29, 33, 37, 52])"
      ]
     },
     "execution_count": 27,
     "metadata": {},
     "output_type": "execute_result"
    }
   ],
   "source": [
    "np.unique(prediction)"
   ]
  },
  {
   "cell_type": "code",
   "execution_count": 28,
   "metadata": {
    "ExecuteTime": {
     "end_time": "2018-06-14T01:14:45.270082Z",
     "start_time": "2018-06-14T01:14:45.233898Z"
    }
   },
   "outputs": [
    {
     "data": {
      "text/plain": [
       "array([ 0, 29, 31], dtype=uint8)"
      ]
     },
     "execution_count": 28,
     "metadata": {},
     "output_type": "execute_result"
    }
   ],
   "source": [
    "np.unique(test_annotation[img_id,:,:,0])"
   ]
  },
  {
   "cell_type": "code",
   "execution_count": 29,
   "metadata": {
    "ExecuteTime": {
     "end_time": "2018-06-14T01:14:45.317833Z",
     "start_time": "2018-06-14T01:14:45.271847Z"
    }
   },
   "outputs": [],
   "source": [
    "tmp = np.zeros_like(prediction[img_id,:,:])"
   ]
  },
  {
   "cell_type": "code",
   "execution_count": 30,
   "metadata": {
    "ExecuteTime": {
     "end_time": "2018-06-14T01:14:45.413768Z",
     "start_time": "2018-06-14T01:14:45.319678Z"
    }
   },
   "outputs": [],
   "source": [
    "for i in range(tmp.shape[0]):\n",
    "    for j in range(tmp.shape[1]):\n",
    "        if prediction[img_id,i,j] == 29:\n",
    "            tmp[i,j] = 100\n",
    "        else:\n",
    "            tmp[i,j] = 0"
   ]
  },
  {
   "cell_type": "code",
   "execution_count": 31,
   "metadata": {
    "ExecuteTime": {
     "end_time": "2018-06-14T01:14:45.551934Z",
     "start_time": "2018-06-14T01:14:45.414977Z"
    },
    "scrolled": false
   },
   "outputs": [
    {
     "data": {
      "text/plain": [
       "<matplotlib.image.AxesImage at 0x7f75880a5710>"
      ]
     },
     "execution_count": 31,
     "metadata": {},
     "output_type": "execute_result"
    },
    {
     "data": {
      "image/png": "[encoded data removed]",
      "text/plain": [
       "<matplotlib.figure.Figure at 0x7f75982e87b8>"
      ]
     },
     "metadata": {},
     "output_type": "display_data"
    }
   ],
   "source": [
    "plt.imshow(tmp)"
   ]
  },
  {
   "cell_type": "markdown",
   "metadata": {},
   "source": [
    "# Test model"
   ]
  },
  {
   "cell_type": "markdown",
   "metadata": {},
   "source": [
    "## Train data"
   ]
  },
  {
   "cell_type": "code",
   "execution_count": 58,
   "metadata": {
    "ExecuteTime": {
     "end_time": "2018-06-14T16:38:50.653547Z",
     "start_time": "2018-06-14T16:38:50.646559Z"
    }
   },
   "outputs": [],
   "source": [
    "train_img, train_annotation = data_reader.next_batch(20)"
   ]
  },
  {
   "cell_type": "code",
   "execution_count": 59,
   "metadata": {
    "ExecuteTime": {
     "end_time": "2018-06-14T16:38:51.120707Z",
     "start_time": "2018-06-14T16:38:50.789725Z"
    }
   },
   "outputs": [],
   "source": [
    "prediction = np.argmax(model.predict(train_img), axis=-1) # get the argmax of 124 classes"
   ]
  },
  {
   "cell_type": "code",
   "execution_count": 63,
   "metadata": {
    "ExecuteTime": {
     "end_time": "2018-06-14T16:38:55.566968Z",
     "start_time": "2018-06-14T16:38:55.563167Z"
    }
   },
   "outputs": [],
   "source": [
    "img_id = 7"
   ]
  },
  {
   "cell_type": "code",
   "execution_count": 64,
   "metadata": {
    "ExecuteTime": {
     "end_time": "2018-06-14T16:38:57.127136Z",
     "start_time": "2018-06-14T16:38:56.829534Z"
    }
   },
   "outputs": [
    {
     "data": {
      "text/plain": [
       "Text(0.5,1,'Semantic Prediction')"
      ]
     },
     "execution_count": 64,
     "metadata": {},
     "output_type": "execute_result"
    },
    {
     "data": {
      "image/png": "[encoded data removed]",
      "text/plain": [
       "<matplotlib.figure.Figure at 0x7f74dd648208>"
      ]
     },
     "metadata": {},
     "output_type": "display_data"
    }
   ],
   "source": [
    "plt.figure(figsize=(12,20))\n",
    "plt.subplot(1,3,1)\n",
    "plt.imshow(train_img[img_id,:,:,0], cmap='gray')\n",
    "plt.title(\"Input image\")\n",
    "plt.subplot(1,3,2)\n",
    "plt.imshow(train_annotation[img_id,:,:,0], cmap='gray')\n",
    "plt.title(\"Ground Truth annotation\")\n",
    "plt.subplot(1,3,3)\n",
    "plt.imshow(prediction[img_id,:,:], cmap='gray')\n",
    "plt.title(\"Semantic Prediction\")"
   ]
  },
  {
   "cell_type": "code",
   "execution_count": 65,
   "metadata": {
    "ExecuteTime": {
     "end_time": "2018-06-14T16:39:07.011469Z",
     "start_time": "2018-06-14T16:39:06.984886Z"
    }
   },
   "outputs": [
    {
     "data": {
      "text/plain": [
       "array([ 4, 29, 33, 37, 52])"
      ]
     },
     "execution_count": 65,
     "metadata": {},
     "output_type": "execute_result"
    }
   ],
   "source": [
    "np.unique(prediction)"
   ]
  },
  {
   "cell_type": "code",
   "execution_count": 66,
   "metadata": {
    "ExecuteTime": {
     "end_time": "2018-06-14T16:39:13.190089Z",
     "start_time": "2018-06-14T16:39:13.182842Z"
    }
   },
   "outputs": [
    {
     "data": {
      "text/plain": [
       "array([ 0, 31, 37], dtype=uint8)"
      ]
     },
     "execution_count": 66,
     "metadata": {},
     "output_type": "execute_result"
    }
   ],
   "source": [
    "np.unique(train_annotation[img_id,:,:,0])"
   ]
  },
  {
   "cell_type": "code",
   "execution_count": 67,
   "metadata": {
    "ExecuteTime": {
     "end_time": "2018-06-14T16:39:21.538499Z",
     "start_time": "2018-06-14T16:39:21.534142Z"
    }
   },
   "outputs": [],
   "source": [
    "tmp = np.zeros_like(prediction[img_id,:,:])"
   ]
  },
  {
   "cell_type": "code",
   "execution_count": 72,
   "metadata": {
    "ExecuteTime": {
     "end_time": "2018-06-14T16:39:34.519294Z",
     "start_time": "2018-06-14T16:39:34.481408Z"
    }
   },
   "outputs": [],
   "source": [
    "for i in range(tmp.shape[0]):\n",
    "    for j in range(tmp.shape[1]):\n",
    "        if prediction[img_id,i,j] == 37:\n",
    "            tmp[i,j] = 100\n",
    "        else:\n",
    "            tmp[i,j] = 0"
   ]
  },
  {
   "cell_type": "code",
   "execution_count": 73,
   "metadata": {
    "ExecuteTime": {
     "end_time": "2018-06-14T16:39:35.128944Z",
     "start_time": "2018-06-14T16:39:35.024300Z"
    },
    "scrolled": false
   },
   "outputs": [
    {
     "data": {
      "text/plain": [
       "<matplotlib.image.AxesImage at 0x7f74dd274208>"
      ]
     },
     "execution_count": 73,
     "metadata": {},
     "output_type": "execute_result"
    },
    {
     "data": {
      "image/png": "[encoded data removed]",
      "text/plain": [
       "<matplotlib.figure.Figure at 0x7f74dd2b0048>"
      ]
     },
     "metadata": {},
     "output_type": "display_data"
    }
   ],
   "source": [
    "plt.imshow(tmp)"
   ]
  },
  {
   "cell_type": "markdown",
   "metadata": {},
   "source": [
    "## Test data"
   ]
  },
  {
   "cell_type": "code",
   "execution_count": 78,
   "metadata": {
    "ExecuteTime": {
     "end_time": "2018-06-14T16:39:47.062459Z",
     "start_time": "2018-06-14T16:39:47.058474Z"
    }
   },
   "outputs": [],
   "source": [
    "test_img, test_annotation = data_reader.get_test_records()"
   ]
  },
  {
   "cell_type": "code",
   "execution_count": 79,
   "metadata": {
    "ExecuteTime": {
     "end_time": "2018-06-14T16:39:47.418683Z",
     "start_time": "2018-06-14T16:39:47.065428Z"
    }
   },
   "outputs": [],
   "source": [
    "prediction = np.argmax(model.predict(test_img), axis=-1) # get the argmax of 124 classes"
   ]
  },
  {
   "cell_type": "code",
   "execution_count": 95,
   "metadata": {
    "ExecuteTime": {
     "end_time": "2018-06-14T16:40:02.835995Z",
     "start_time": "2018-06-14T16:40:02.832240Z"
    }
   },
   "outputs": [],
   "source": [
    "img_id = 0"
   ]
  },
  {
   "cell_type": "code",
   "execution_count": 96,
   "metadata": {
    "ExecuteTime": {
     "end_time": "2018-06-14T16:40:03.262814Z",
     "start_time": "2018-06-14T16:40:02.992993Z"
    }
   },
   "outputs": [
    {
     "data": {
      "text/plain": [
       "Text(0.5,1,'Semantic Prediction')"
      ]
     },
     "execution_count": 96,
     "metadata": {},
     "output_type": "execute_result"
    },
    {
     "data": {
      "image/png": "[encoded data removed]",
      "text/plain": [
       "<matplotlib.figure.Figure at 0x7f758003b8d0>"
      ]
     },
     "metadata": {},
     "output_type": "display_data"
    }
   ],
   "source": [
    "plt.figure(figsize=(12,20))\n",
    "plt.subplot(1,3,1)\n",
    "plt.imshow(test_img[img_id,:,:,0], cmap='gray')\n",
    "plt.title(\"Input image\")\n",
    "plt.subplot(1,3,2)\n",
    "plt.imshow(test_annotation[img_id,:,:,0], cmap='gray')\n",
    "plt.title(\"Ground Truth annotation\")\n",
    "plt.subplot(1,3,3)\n",
    "plt.imshow(prediction[img_id,:,:], cmap='gray')\n",
    "plt.title(\"Semantic Prediction\")"
   ]
  },
  {
   "cell_type": "code",
   "execution_count": 98,
   "metadata": {
    "ExecuteTime": {
     "end_time": "2018-06-14T16:40:09.550356Z",
     "start_time": "2018-06-14T16:40:09.524458Z"
    }
   },
   "outputs": [
    {
     "data": {
      "text/plain": [
       "array([ 4, 29, 33, 37, 52])"
      ]
     },
     "execution_count": 98,
     "metadata": {},
     "output_type": "execute_result"
    }
   ],
   "source": [
    "np.unique(prediction)"
   ]
  },
  {
   "cell_type": "code",
   "execution_count": 83,
   "metadata": {
    "ExecuteTime": {
     "end_time": "2018-06-14T16:39:48.175282Z",
     "start_time": "2018-06-14T16:39:48.172340Z"
    }
   },
   "outputs": [
    {
     "data": {
      "text/plain": [
       "array([ 0, 29, 31], dtype=uint8)"
      ]
     },
     "execution_count": 83,
     "metadata": {},
     "output_type": "execute_result"
    }
   ],
   "source": [
    "np.unique(test_annotation[img_id,:,:,0])"
   ]
  },
  {
   "cell_type": "code",
   "execution_count": 84,
   "metadata": {
    "ExecuteTime": {
     "end_time": "2018-06-14T16:39:48.258704Z",
     "start_time": "2018-06-14T16:39:48.255669Z"
    }
   },
   "outputs": [],
   "source": [
    "tmp = np.zeros_like(prediction[img_id,:,:])"
   ]
  },
  {
   "cell_type": "code",
   "execution_count": 48,
   "metadata": {
    "ExecuteTime": {
     "end_time": "2018-06-14T01:14:47.557237Z",
     "start_time": "2018-06-14T01:14:47.461130Z"
    }
   },
   "outputs": [],
   "source": [
    "for i in range(tmp.shape[0]):\n",
    "    for j in range(tmp.shape[1]):\n",
    "        if prediction[img_id,i,j] == 29:\n",
    "            tmp[i,j] = 100\n",
    "        else:\n",
    "            tmp[i,j] = 0"
   ]
  },
  {
   "cell_type": "code",
   "execution_count": 49,
   "metadata": {
    "ExecuteTime": {
     "end_time": "2018-06-14T01:14:47.664096Z",
     "start_time": "2018-06-14T01:14:47.558358Z"
    },
    "scrolled": false
   },
   "outputs": [
    {
     "data": {
      "text/plain": [
       "<matplotlib.image.AxesImage at 0x7f7583ddccf8>"
      ]
     },
     "execution_count": 49,
     "metadata": {},
     "output_type": "execute_result"
    },
    {
     "data": {
      "image/png": "[encoded data removed]",
      "text/plain": [
       "<matplotlib.figure.Figure at 0x7f7583f1fda0>"
      ]
     },
     "metadata": {},
     "output_type": "display_data"
    }
   ],
   "source": [
    "plt.imshow(tmp)"
   ]
  },
  {
   "cell_type": "code",
   "execution_count": null,
   "metadata": {},
   "outputs": [],
   "source": []
  }
 ],
 "metadata": {
  "kernelspec": {
   "display_name": "Python 3",
   "language": "python",
   "name": "python3"
  },
  "language_info": {
   "codemirror_mode": {
    "name": "ipython",
    "version": 3
   },
   "file_extension": ".py",
   "mimetype": "text/x-python",
   "name": "python",
   "nbconvert_exporter": "python",
   "pygments_lexer": "ipython3",
   "version": "3.6.3"
  },
  "latex_envs": {
   "LaTeX_envs_menu_present": true,
   "autoclose": false,
   "autocomplete": true,
   "bibliofile": "biblio.bib",
   "cite_by": "apalike",
   "current_citInitial": 1,
   "eqLabelWithNumbers": true,
   "eqNumInitial": 1,
   "hotkeys": {
    "equation": "Ctrl-E",
    "itemize": "Ctrl-I"
   },
   "labels_anchors": false,
   "latex_user_defs": false,
   "report_style_numbering": false,
   "user_envs_cfg": false
  },
  "toc": {
   "nav_menu": {},
   "number_sections": true,
   "sideBar": true,
   "skip_h1_title": false,
   "title_cell": "Table of Contents",
   "title_sidebar": "Contents",
   "toc_cell": false,
   "toc_position": {},
   "toc_section_display": true,
   "toc_window_display": false
  },
  "varInspector": {
   "cols": {
    "lenName": 16,
    "lenType": 16,
    "lenVar": 40
   },
   "kernels_config": {
    "python": {
     "delete_cmd_postfix": "",
     "delete_cmd_prefix": "del ",
     "library": "var_list.py",
     "varRefreshCmd": "print(var_dic_list())"
    },
    "r": {
     "delete_cmd_postfix": ") ",
     "delete_cmd_prefix": "rm(",
     "library": "var_list.r",
     "varRefreshCmd": "cat(var_dic_list()) "
    }
   },
   "types_to_exclude": [
    "module",
    "function",
    "builtin_function_or_method",
    "instance",
    "_Feature"
   ],
   "window_display": false
  }
 },
 "nbformat": 4,
 "nbformat_minor": 2
}
