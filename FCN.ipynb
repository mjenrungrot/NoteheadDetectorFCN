{
 "cells": [
  {
   "cell_type": "code",
   "execution_count": 1,
   "metadata": {
    "ExecuteTime": {
     "end_time": "2018-06-13T23:58:05.292587Z",
     "start_time": "2018-06-13T23:58:04.129837Z"
    }
   },
   "outputs": [
    {
     "name": "stderr",
     "output_type": "stream",
     "text": [
      "/home/mirlab/miniconda3/lib/python3.6/site-packages/h5py/__init__.py:36: FutureWarning: Conversion of the second argument of issubdtype from `float` to `np.floating` is deprecated. In future, it will be treated as `np.float64 == np.dtype(float).type`.\n",
      "  from ._conv import register_converters as _register_converters\n",
      "Using TensorFlow backend.\n"
     ]
    }
   ],
   "source": [
    "import keras\n",
    "import tensorflow as tf\n",
    "import keras.backend as K\n",
    "from keras.models import Model\n",
    "from keras.layers import Input, Flatten, Activation, Reshape, Dropout, Lambda\n",
    "from keras.layers.convolutional import Conv2D, MaxPooling2D, ZeroPadding2D\n",
    "from keras.regularizers import l2\n",
    "from keras.layers.merge import add\n",
    "from keras.engine.topology import Layer\n",
    "from keras.engine import InputSpec\n",
    "from keras.utils.np_utils import to_categorical\n",
    "\n",
    "import numpy as np\n",
    "import scipy.misc as misc\n",
    "import os\n",
    "import glob\n",
    "from random import shuffle, randint\n",
    "\n",
    "import matplotlib.pyplot as plt"
   ]
  },
  {
   "cell_type": "code",
   "execution_count": 2,
   "metadata": {
    "ExecuteTime": {
     "end_time": "2018-06-13T23:58:05.297254Z",
     "start_time": "2018-06-13T23:58:05.293936Z"
    },
    "code_folding": [
     0
    ]
   },
   "outputs": [],
   "source": [
    "def resize_images(x, size, method='bilinear'):\n",
    "    new_size = tf.convert_to_tensor(size, dtype=tf.int32)\n",
    "    resized = tf.image.resize_images(x, new_size)\n",
    "    return resized"
   ]
  },
  {
   "cell_type": "code",
   "execution_count": 3,
   "metadata": {
    "ExecuteTime": {
     "end_time": "2018-06-13T23:58:05.520507Z",
     "start_time": "2018-06-13T23:58:05.298460Z"
    },
    "code_folding": [
     0,
     35
    ]
   },
   "outputs": [],
   "source": [
    "class BilinearUpSampling2D(Layer):\n",
    "    \"\"\"Upsampling2D with bilinear interpolation.\"\"\"\n",
    "\n",
    "    def __init__(self, target_shape=None, data_format=None, **kwargs):\n",
    "        if data_format is None:\n",
    "            data_format = K.image_data_format()\n",
    "        assert data_format in {\n",
    "            'channels_last', 'channels_first'}\n",
    "        self.data_format = data_format\n",
    "        self.input_spec = [InputSpec(ndim=4)]\n",
    "        self.target_shape = target_shape\n",
    "        if self.data_format == 'channels_first':\n",
    "            self.target_size = (target_shape[2], target_shape[3])\n",
    "        elif self.data_format == 'channels_last':\n",
    "            self.target_size = (target_shape[1], target_shape[2])\n",
    "        super(BilinearUpSampling2D, self).__init__(**kwargs)\n",
    "\n",
    "    def compute_output_shape(self, input_shape):\n",
    "        if self.data_format == 'channels_last':\n",
    "            return (input_shape[0], self.target_size[0],\n",
    "                    self.target_size[1], input_shape[3])\n",
    "        else:\n",
    "            return (input_shape[0], input_shape[1],\n",
    "                    self.target_size[0], self.target_size[1])\n",
    "\n",
    "    def call(self, inputs):\n",
    "        return resize_images(inputs, size=self.target_size,\n",
    "                             method='bilinear')\n",
    "\n",
    "    def get_config(self):\n",
    "        config = {'target_shape': self.target_shape,\n",
    "                'data_format': self.data_format}\n",
    "        base_config = super(BilinearUpSampling2D, self).get_config()\n",
    "        return dict(list(base_config.items()) + list(config.items()))\n",
    "\n",
    "class CroppingLike2D(Layer):\n",
    "    def __init__(self, target_shape, offset=None, data_format=None,\n",
    "                 **kwargs):\n",
    "        \"\"\"Crop to target.\n",
    "        If only one `offset` is set, then all dimensions are offset by this amount.\n",
    "        \"\"\"\n",
    "        super(CroppingLike2D, self).__init__(**kwargs)\n",
    "        self.data_format = conv_utils.normalize_data_format(data_format)\n",
    "        self.target_shape = target_shape\n",
    "        if offset is None or offset == 'centered':\n",
    "            self.offset = 'centered'\n",
    "        elif isinstance(offset, int):\n",
    "            self.offset = (offset, offset)\n",
    "        elif hasattr(offset, '__len__'):\n",
    "            if len(offset) != 2:\n",
    "                raise ValueError('`offset` should have two elements. '\n",
    "                                 'Found: ' + str(offset))\n",
    "            self.offset = offset\n",
    "        self.input_spec = InputSpec(ndim=4)\n",
    "\n",
    "    def compute_output_shape(self, input_shape):\n",
    "        if self.data_format == 'channels_first':\n",
    "            return (input_shape[0],\n",
    "                    input_shape[1],\n",
    "                    self.target_shape[2],\n",
    "                    self.target_shape[3])\n",
    "        else:\n",
    "            return (input_shape[0],\n",
    "                    self.target_shape[1],\n",
    "                    self.target_shape[2],\n",
    "                    input_shape[3])\n",
    "\n",
    "    def call(self, inputs):\n",
    "        input_shape = K.int_shape(inputs)\n",
    "        if self.data_format == 'channels_first':\n",
    "            input_height = input_shape[2]\n",
    "            input_width = input_shape[3]\n",
    "            target_height = self.target_shape[2]\n",
    "            target_width = self.target_shape[3]\n",
    "            if target_height > input_height or target_width > input_width:\n",
    "                raise ValueError('The Tensor to be cropped need to be smaller'\n",
    "                                 'or equal to the target Tensor.')\n",
    "\n",
    "            if self.offset == 'centered':\n",
    "                self.offset = [int((input_height - target_height) / 2),\n",
    "                               int((input_width - target_width) / 2)]\n",
    "\n",
    "            if self.offset[0] + target_height > input_height:\n",
    "                raise ValueError('Height index out of range: '\n",
    "                                 + str(self.offset[0] + target_height))\n",
    "            if self.offset[1] + target_width > input_width:\n",
    "                raise ValueError('Width index out of range:'\n",
    "                                 + str(self.offset[1] + target_width))\n",
    "\n",
    "            return inputs[:,\n",
    "                          :,\n",
    "                          self.offset[0]:self.offset[0] + target_height,\n",
    "                          self.offset[1]:self.offset[1] + target_width]\n",
    "        elif self.data_format == 'channels_last':\n",
    "            input_height = input_shape[1]\n",
    "            input_width = input_shape[2]\n",
    "            target_height = self.target_shape[1]\n",
    "            target_width = self.target_shape[2]\n",
    "            if target_height > input_height or target_width > input_width:\n",
    "                raise ValueError('The Tensor to be cropped need to be smaller'\n",
    "                                 'or equal to the target Tensor.')\n",
    "\n",
    "            if self.offset == 'centered':\n",
    "                self.offset = [int((input_height - target_height) / 2),\n",
    "                               int((input_width - target_width) / 2)]\n",
    "\n",
    "            if self.offset[0] + target_height > input_height:\n",
    "                raise ValueError('Height index out of range: '\n",
    "                                 + str(self.offset[0] + target_height))\n",
    "            if self.offset[1] + target_width > input_width:\n",
    "                raise ValueError('Width index out of range:'\n",
    "                                 + str(self.offset[1] + target_width))\n",
    "            output = inputs[:,\n",
    "                            self.offset[0]:self.offset[0] + target_height,\n",
    "                            self.offset[1]:self.offset[1] + target_width,\n",
    "                            :]\n",
    "            return output\n",
    "\n",
    "    def get_config(self):\n",
    "        config = {'target_shape': self.target_shape,\n",
    "                  'offset': self.offset,\n",
    "                  'data_format': self.data_format}\n",
    "        base_config = super(CroppingLike2D, self).get_config()\n",
    "        return dict(list(base_config.items()) + list(config.items()))"
   ]
  },
  {
   "cell_type": "code",
   "execution_count": 4,
   "metadata": {
    "ExecuteTime": {
     "end_time": "2018-06-13T23:58:05.650581Z",
     "start_time": "2018-06-13T23:58:05.521904Z"
    },
    "code_folding": [
     86
    ]
   },
   "outputs": [],
   "source": [
    "def vgg_conv(filters, convs, padding=False, weight_decay=0.,\n",
    "             block_name='blockx'):\n",
    "    def f(x):\n",
    "        for i in range(convs):\n",
    "            if block_name == 'block1' and i == 0:\n",
    "                if padding is True:\n",
    "                    x = ZeroPadding2D(padding=(100, 100))(x)\n",
    "                x = Conv2D(filters, (3,3), activation='relu', padding='same',\n",
    "                           kernel_initializer='he_normal',\n",
    "                           kernel_regularizer=l2(weight_decay),\n",
    "                           name='{}_conv{}'.format(block_name, int(i+1)))(x)\n",
    "            else:\n",
    "                x = Conv2D(filters, (3,3), activation='relu', padding='same',\n",
    "                           kernel_initializer='he_normal',\n",
    "                           kernel_regularizer=l2(weight_decay),\n",
    "                           name='{}_conv{}'.format(block_name, int(i+1)))(x)\n",
    "        pool = MaxPooling2D((2,2), strides=(2,2), padding='same',\n",
    "                            name='{}_pool'.format(block_name))(x)\n",
    "        dropout = Dropout(0.85)(pool)\n",
    "        return dropout\n",
    "    return f\n",
    "\n",
    "def vgg_fc(filters, weight_decay=0., block_name='block5'):\n",
    "    def f(x):\n",
    "        fc6 = Conv2D(filters=4096, kernel_size=(3, 3),\n",
    "                     activation='relu', padding='same',\n",
    "                     dilation_rate=(2, 2),\n",
    "                     kernel_initializer='he_normal',\n",
    "                     kernel_regularizer=l2(weight_decay),\n",
    "                     name='{}_fc6'.format(block_name))(x)\n",
    "        drop6 = Dropout(0.85)(fc6)\n",
    "        return drop6\n",
    "    return f\n",
    "\n",
    "def vgg_deconv(classes, scale=1, kernel_size=(4, 4), strides=(2, 2),\n",
    "               crop_offset='centered', weight_decay=0., block_name='featx'):\n",
    "    def f(x, y):\n",
    "        def scaling(xx, ss=1):\n",
    "            return xx * ss\n",
    "        scaled = Lambda(scaling, arguments={'ss': scale},\n",
    "                        name='scale_{}'.format(block_name))(x)\n",
    "        score = Conv2D(filters=classes, kernel_size=(1, 1),\n",
    "                       activation='linear',\n",
    "                       kernel_initializer='he_normal',\n",
    "                       kernel_regularizer=l2(weight_decay),\n",
    "                       name='score_{}'.format(block_name))(scaled)\n",
    "        if y is None:\n",
    "            upscore = Conv2DTranspose(filters=classes, kernel_size=kernel_size,\n",
    "                                      strides=strides, padding='valid',\n",
    "                                      kernel_initializer='he_normal',\n",
    "                                      kernel_regularizer=l2(weight_decay),\n",
    "                                      use_bias=False,\n",
    "                                      name='upscore_{}'.format(block_name))(score)\n",
    "        else:\n",
    "            crop = CroppingLike2D(target_shape=K.int_shape(y),\n",
    "                                  offset=crop_offset,\n",
    "                                  name='crop_{}'.format(block_name))(score)\n",
    "            merge = add([y, crop])\n",
    "            upscore = Conv2DTranspose(filters=classes, kernel_size=kernel_size,\n",
    "                                      strides=strides, padding='valid',\n",
    "                                      kernel_initializer='he_normal',\n",
    "                                      kernel_regularizer=l2(weight_decay),\n",
    "                                      use_bias=False,\n",
    "                                      name='upscore_{}'.format(block_name))(merge)\n",
    "        return upscore\n",
    "    return f\n",
    "\n",
    "def vgg_upsampling(classes, target_shape=None, scale=1, weight_decay=0., block_name='featx'):\n",
    "    def f(x, y):\n",
    "        score = Conv2D(filters=classes, kernel_size=(1, 1),\n",
    "                       activation='linear',\n",
    "                       padding='valid',\n",
    "                       kernel_initializer='he_normal',\n",
    "                       kernel_regularizer=l2(weight_decay),\n",
    "                       name='score_{}'.format(block_name))(x)\n",
    "        if y is not None:\n",
    "            def scaling(xx, ss=1):\n",
    "                return xx * ss\n",
    "            scaled = Lambda(scaling, arguments={'ss': scale},\n",
    "                            name='scale_{}'.format(block_name))(score)\n",
    "            score = add([y, scaled])\n",
    "        upscore = BilinearUpSampling2D(\n",
    "            target_shape=target_shape,\n",
    "            name='upscore_{}'.format(block_name))(score)\n",
    "        return upscore\n",
    "    return f\n",
    "\n",
    "def vgg_score(crop_offset='centered'):\n",
    "    def f(x, y):\n",
    "        score = CroppingLike2D(target_shape=K.int_shape(\n",
    "            x), offset=crop_offset, name='score')(y)\n",
    "        return score\n",
    "    return f"
   ]
  },
  {
   "cell_type": "markdown",
   "metadata": {},
   "source": [
    "# Encoder"
   ]
  },
  {
   "cell_type": "code",
   "execution_count": 5,
   "metadata": {
    "ExecuteTime": {
     "end_time": "2018-06-13T23:58:05.714631Z",
     "start_time": "2018-06-13T23:58:05.652131Z"
    },
    "code_folding": [
     0
    ]
   },
   "outputs": [],
   "source": [
    "class Encoder(Model):\n",
    "    def __init__(self, inputs, blocks, \n",
    "                 weights=None, trainable=True,\n",
    "                 name='encoder'):\n",
    "        inverse_pyramid = []\n",
    "        \n",
    "        conv_blocks = blocks[:-1]\n",
    "        for i, block in enumerate(conv_blocks):\n",
    "            if i == 0:\n",
    "                x = block(inputs)\n",
    "                inverse_pyramid.append(x)\n",
    "            elif i < len(conv_blocks) - 1:\n",
    "                x = block(x)\n",
    "                inverse_pyramid.append(x)\n",
    "            else:\n",
    "                x = block(x)\n",
    "        \n",
    "        # fully convolutional block\n",
    "        fc_block = blocks[-1]\n",
    "        y = fc_block(x)\n",
    "        inverse_pyramid.append(y)\n",
    "        \n",
    "        # Reverse the pyramid features\n",
    "        outputs = list(reversed(inverse_pyramid))\n",
    "        \n",
    "        self.inputs = inputs\n",
    "        self.outputs = outputs"
   ]
  },
  {
   "cell_type": "markdown",
   "metadata": {},
   "source": [
    "# Decoder"
   ]
  },
  {
   "cell_type": "code",
   "execution_count": 6,
   "metadata": {
    "ExecuteTime": {
     "end_time": "2018-06-13T23:58:05.808060Z",
     "start_time": "2018-06-13T23:58:05.715936Z"
    },
    "code_folding": []
   },
   "outputs": [],
   "source": [
    "def Decoder(pyramid, blocks):\n",
    "    if len(blocks) != len(pyramid):\n",
    "        raise ValueError('`blocks` needs to match the length of'\n",
    "                         '`pyramid`.')\n",
    "    \n",
    "    decoded = None\n",
    "    for feat, blk in zip(pyramid, blocks):\n",
    "        decoded = blk(feat, decoded)\n",
    "    return decoded"
   ]
  },
  {
   "cell_type": "markdown",
   "metadata": {},
   "source": [
    "# FCN"
   ]
  },
  {
   "cell_type": "code",
   "execution_count": 7,
   "metadata": {
    "ExecuteTime": {
     "end_time": "2018-06-13T23:58:05.895046Z",
     "start_time": "2018-06-13T23:58:05.810388Z"
    }
   },
   "outputs": [],
   "source": [
    "inputs = Input(shape=(250, 250, 1))"
   ]
  },
  {
   "cell_type": "code",
   "execution_count": 8,
   "metadata": {
    "ExecuteTime": {
     "end_time": "2018-06-13T23:58:05.927032Z",
     "start_time": "2018-06-13T23:58:05.896384Z"
    }
   },
   "outputs": [],
   "source": [
    "blocks = [vgg_conv(64, 1, block_name='block1'),\n",
    "          vgg_conv(128, 1, block_name='block2'),\n",
    "          vgg_conv(256, 1, block_name='block3'),\n",
    "          vgg_conv(512, 1, block_name='block4'),\n",
    "          vgg_conv(512, 1, block_name='block5'),\n",
    "          vgg_fc(4096)]"
   ]
  },
  {
   "cell_type": "code",
   "execution_count": 9,
   "metadata": {
    "ExecuteTime": {
     "end_time": "2018-06-13T23:58:06.209028Z",
     "start_time": "2018-06-13T23:58:05.929357Z"
    }
   },
   "outputs": [],
   "source": [
    "encoder = Encoder(inputs, blocks)"
   ]
  },
  {
   "cell_type": "code",
   "execution_count": 10,
   "metadata": {
    "ExecuteTime": {
     "end_time": "2018-06-13T23:58:06.212435Z",
     "start_time": "2018-06-13T23:58:06.210262Z"
    }
   },
   "outputs": [],
   "source": [
    "feat_pyramid = encoder.outputs   # A feature pyramid with 5 scales\n",
    "feat_pyramid = feat_pyramid[:4]  # Select only the top three scale of the pyramid\n",
    "feat_pyramid.append(inputs)      # Add image to the bottom of the pyramid"
   ]
  },
  {
   "cell_type": "code",
   "execution_count": 11,
   "metadata": {
    "ExecuteTime": {
     "end_time": "2018-06-13T23:58:06.349534Z",
     "start_time": "2018-06-13T23:58:06.213337Z"
    }
   },
   "outputs": [],
   "source": [
    "decode_blocks = [\n",
    "vgg_upsampling(classes=124, target_shape=(None, 16, 16, None), scale=1, block_name='feat1'),            \n",
    "vgg_upsampling(classes=124, target_shape=(None, 32, 32, None),  scale=1, block_name='feat2'),\n",
    "vgg_upsampling(classes=124, target_shape=(None, 63, 63, None),  scale=1, block_name='feat3'),\n",
    "vgg_upsampling(classes=124, target_shape=(None, 250, 250, None),  scale=1, block_name='feat4'),\n",
    "]\n",
    "\n",
    "outputs = Decoder(pyramid=feat_pyramid[:-1], blocks=decode_blocks)"
   ]
  },
  {
   "cell_type": "code",
   "execution_count": 12,
   "metadata": {
    "ExecuteTime": {
     "end_time": "2018-06-13T23:58:06.352275Z",
     "start_time": "2018-06-13T23:58:06.350607Z"
    }
   },
   "outputs": [],
   "source": [
    "# outputs = Activation('softmax')(outputs)"
   ]
  },
  {
   "cell_type": "code",
   "execution_count": 13,
   "metadata": {
    "ExecuteTime": {
     "end_time": "2018-06-13T23:58:06.401574Z",
     "start_time": "2018-06-13T23:58:06.353226Z"
    }
   },
   "outputs": [],
   "source": [
    "model = Model(inputs=inputs, outputs=outputs)"
   ]
  },
  {
   "cell_type": "code",
   "execution_count": 14,
   "metadata": {
    "ExecuteTime": {
     "end_time": "2018-06-13T23:58:06.543477Z",
     "start_time": "2018-06-13T23:58:06.402999Z"
    }
   },
   "outputs": [],
   "source": [
    "adam = keras.optimizers.Adam(lr=1e-3, beta_1=0.9, beta_2=0.999, epsilon=None, decay=0.0, amsgrad=False)\n",
    "from tensorflow.python.ops import array_ops\n",
    "\n",
    "def customLoss(target, output):\n",
    "    targets = tf.squeeze(K.cast(target, 'int64'), squeeze_dims=[3])\n",
    "    res = tf.nn.sparse_softmax_cross_entropy_with_logits(labels=targets, logits=output)\n",
    "    return tf.reduce_mean(res)\n",
    "\n",
    "model.compile(optimizer=adam,\n",
    "              loss=customLoss,\n",
    "              metrics=['accuracy'])"
   ]
  },
  {
   "cell_type": "code",
   "execution_count": 15,
   "metadata": {
    "ExecuteTime": {
     "end_time": "2018-06-13T23:58:06.547245Z",
     "start_time": "2018-06-13T23:58:06.544991Z"
    }
   },
   "outputs": [],
   "source": [
    "# from IPython.display import SVG\n",
    "# from keras.utils.vis_utils import model_to_dot\n",
    "\n",
    "# SVG(model_to_dot(model, show_shapes=True).create(prog='dot', format='svg'))"
   ]
  },
  {
   "cell_type": "markdown",
   "metadata": {},
   "source": [
    "# Training "
   ]
  },
  {
   "cell_type": "markdown",
   "metadata": {},
   "source": [
    "## Load data"
   ]
  },
  {
   "cell_type": "code",
   "execution_count": 16,
   "metadata": {
    "ExecuteTime": {
     "end_time": "2018-06-13T23:58:06.907402Z",
     "start_time": "2018-06-13T23:58:06.553243Z"
    },
    "code_folding": [
     0
    ]
   },
   "outputs": [],
   "source": [
    "class seg_dataset_reader:\n",
    "    path = \"\"\n",
    "    class_mappings = \"\"\n",
    "    files = []\n",
    "    images = []\n",
    "    annotations = []\n",
    "    test_images = []\n",
    "    test_annotations = []\n",
    "    batch_offset = 0\n",
    "    epochs_completed = 0\n",
    "\n",
    "    def __init__(self, deepscores_path, max_pages=40, crop=True, crop_size=[1000,1000], test_size=20):\n",
    "        \"\"\"\n",
    "        Initialize a file reader for the DeepScores classification data\n",
    "        :param records_list: path to the dataset\n",
    "        sample record: {'image': f, 'annotation': annotation_file, 'filename': filename}\n",
    "        \"\"\"\n",
    "        print(\"Initializing DeepScores Classification Batch Dataset Reader...\")\n",
    "        self.path = deepscores_path\n",
    "        self.max_pages = max_pages\n",
    "        self.crop = crop\n",
    "        self.crop_size = crop_size\n",
    "        self.test_size = test_size\n",
    "\n",
    "        images_list = []\n",
    "        images_glob = os.path.join(self.path, \"images_png\", '*.' + 'png')\n",
    "        images_list.extend(glob.glob(images_glob))\n",
    "\n",
    "        #shuffle image list\n",
    "        shuffle(images_list)\n",
    "\n",
    "        if max_pages is None:\n",
    "            max_pages = len(images_list)\n",
    "            import sys\n",
    "            sys.exit(1)\n",
    "\n",
    "        if max_pages > len(images_list):\n",
    "            print(\"Not enough data, only \" + str(len(images_list)) + \" available\")\n",
    "\n",
    "        if test_size >= max_pages:\n",
    "            print(\"Test set too big (\"+str(test_size)+\"), max_pages is: \"+str(max_pages))\n",
    "            import sys\n",
    "            sys.exit(1)\n",
    "\n",
    "        print(\"Splitting dataset, train: \"+str(max_pages-test_size)+\" images, test: \"+str(test_size)+ \" images\")\n",
    "        test_image_list = images_list[0:test_size]\n",
    "        train_image_list = images_list[test_size:max_pages]\n",
    "\n",
    "        # test_annotation_list = [image_file.replace(\"/images_png/\", \"/pix_annotations_png/\") for image_file in test_image_list]\n",
    "        # train_annotation_list = [image_file.replace(\"/images_png/\", \"/pix_annotations_png/\") for image_file in train_image_list]\n",
    "\n",
    "        self._read_images(test_image_list,train_image_list)\n",
    "\n",
    "    def _read_images(self,test_image_list,train_image_list):\n",
    "\n",
    "        dat_train = [self._transform(filename) for filename in train_image_list]\n",
    "        for dat in dat_train:\n",
    "            self.images.append(dat[0])\n",
    "            self.annotations.append(dat[1])\n",
    "        self.images = np.array(self.images)\n",
    "        self.images = np.expand_dims(self.images, -1)\n",
    "\n",
    "        self.annotations = np.array(self.annotations)\n",
    "        self.annotations = np.expand_dims(self.annotations, -1)\n",
    "\n",
    "        print(\"Training set done\")\n",
    "        dat_test = [self._transform(filename) for filename in test_image_list]\n",
    "        for dat in dat_test:\n",
    "            self.test_images.append(dat[0])\n",
    "            self.test_annotations.append(dat[1])\n",
    "        self.test_images = np.array(self.test_images)\n",
    "        self.test_images = np.expand_dims(self.test_images, -1)\n",
    "\n",
    "        self.test_annotations = np.array(self.test_annotations)\n",
    "        self.test_annotations = np.expand_dims(self.test_annotations, -1)\n",
    "        print(\"Test set done\")\n",
    "\n",
    "\n",
    "    def _transform(self, filename):\n",
    "        image = misc.imread(filename)\n",
    "        annotation = misc.imread(filename.replace(\"/images_png/\", \"/pix_annotations_png/\"))\n",
    "        print(\"im working!\" + str(randint(0,10)))\n",
    "        if not image.shape[0:2] == annotation.shape[0:2]:\n",
    "            print(\"input and annotation have different sizes!\")\n",
    "            import sys\n",
    "            import pdb\n",
    "            pdb.set_trace()\n",
    "            sys.exit(1)\n",
    "\n",
    "        if image.shape[-1] != 1:\n",
    "            # take mean over color channels, image BW anyways --> fix in dataset creation\n",
    "            image = np.mean(image, -1)\n",
    "\n",
    "        if self.crop:\n",
    "            coord_0 = randint(0, (image.shape[0] - self.crop_size[0]))\n",
    "            coord_1 = randint(0, (image.shape[1] - self.crop_size[1]))\n",
    "\n",
    "            image = image[coord_0:(coord_0+self.crop_size[0]),coord_1:(coord_1+self.crop_size[1])]\n",
    "            annotation = annotation[coord_0:(coord_0 + self.crop_size[0]), coord_1:(coord_1 + self.crop_size[1])]\n",
    "\n",
    "        return [image, annotation]\n",
    "\n",
    "    # from PIL import Image\n",
    "    # im = Image.fromarray(image)\n",
    "    # im.show()\n",
    "    # im = Image.fromarray(annotation)\n",
    "    # im.show()\n",
    "\n",
    "\n",
    "    def get_records(self):\n",
    "        return self.images, self.annotations\n",
    "\n",
    "    def reset_batch_offset(self, offset=0):\n",
    "        self.batch_offset = offset\n",
    "\n",
    "    def get_test_records(self):\n",
    "        return self.test_images, self.test_annotations\n",
    "\n",
    "    def next_batch(self, batch_size):\n",
    "        start = self.batch_offset\n",
    "        self.batch_offset += batch_size\n",
    "        if self.batch_offset > self.images.shape[0]:\n",
    "            # Finished epoch\n",
    "            self.epochs_completed += 1\n",
    "            #             print(\"****************** Epochs completed: \" + str(self.epochs_completed) + \"******************\")\n",
    "            # Shuffle the data\n",
    "            perm = np.arange(self.images.shape[0])\n",
    "            np.random.shuffle(perm)\n",
    "            self.images = self.images[perm]\n",
    "            self.annotations = self.annotations[perm]\n",
    "            # Start next epoch\n",
    "            start = 0\n",
    "            self.batch_offset = batch_size\n",
    "\n",
    "        end = self.batch_offset\n",
    "        return self.images[start:end], self.annotations[start:end]\n",
    "\n",
    "    def get_random_batch(self, batch_size):\n",
    "        indexes = np.random.randint(0, self.images.shape[0], size=[batch_size]).tolist()\n",
    "        return self.images[indexes], self.annotations[indexes]"
   ]
  },
  {
   "cell_type": "code",
   "execution_count": 17,
   "metadata": {
    "ExecuteTime": {
     "end_time": "2018-06-13T23:58:25.979776Z",
     "start_time": "2018-06-13T23:58:06.908759Z"
    },
    "scrolled": true
   },
   "outputs": [
    {
     "name": "stdout",
     "output_type": "stream",
     "text": [
      "Initializing DeepScores Classification Batch Dataset Reader...\n",
      "Splitting dataset, train: 20 images, test: 20 images\n"
     ]
    },
    {
     "name": "stderr",
     "output_type": "stream",
     "text": [
      "/home/mirlab/miniconda3/lib/python3.6/site-packages/ipykernel_launcher.py:80: DeprecationWarning: `imread` is deprecated!\n",
      "`imread` is deprecated in SciPy 1.0.0, and will be removed in 1.2.0.\n",
      "Use ``imageio.imread`` instead.\n",
      "/home/mirlab/miniconda3/lib/python3.6/site-packages/ipykernel_launcher.py:81: DeprecationWarning: `imread` is deprecated!\n",
      "`imread` is deprecated in SciPy 1.0.0, and will be removed in 1.2.0.\n",
      "Use ``imageio.imread`` instead.\n"
     ]
    },
    {
     "name": "stdout",
     "output_type": "stream",
     "text": [
      "im working!8\n",
      "im working!6\n",
      "im working!7\n",
      "im working!6\n",
      "im working!7\n",
      "im working!7\n",
      "im working!0\n",
      "im working!4\n",
      "im working!10\n",
      "im working!0\n",
      "im working!2\n",
      "im working!6\n",
      "im working!2\n",
      "im working!1\n",
      "im working!2\n",
      "im working!0\n",
      "im working!8\n",
      "im working!9\n",
      "im working!6\n",
      "im working!3\n",
      "Training set done\n",
      "im working!7\n",
      "im working!9\n",
      "im working!7\n",
      "im working!9\n",
      "im working!10\n",
      "im working!2\n",
      "im working!0\n",
      "im working!8\n",
      "im working!4\n",
      "im working!8\n",
      "im working!6\n",
      "im working!4\n",
      "im working!9\n",
      "im working!9\n",
      "im working!2\n",
      "im working!7\n",
      "im working!7\n",
      "im working!7\n",
      "im working!4\n",
      "im working!3\n",
      "Test set done\n"
     ]
    }
   ],
   "source": [
    "data_reader = seg_dataset_reader('/home/mirlab/Downloads/DeepScores/',\n",
    "                                 crop=True, crop_size=[250,250])"
   ]
  },
  {
   "cell_type": "code",
   "execution_count": 18,
   "metadata": {
    "ExecuteTime": {
     "end_time": "2018-06-13T23:58:25.982507Z",
     "start_time": "2018-06-13T23:58:25.980847Z"
    }
   },
   "outputs": [],
   "source": [
    "NUM_ITERATION = 500"
   ]
  },
  {
   "cell_type": "code",
   "execution_count": 44,
   "metadata": {
    "ExecuteTime": {
     "end_time": "2018-06-14T00:10:43.033848Z",
     "start_time": "2018-06-14T00:08:06.231913Z"
    }
   },
   "outputs": [
    {
     "name": "stdout",
     "output_type": "stream",
     "text": [
      "Train on 20 samples, validate on 20 samples\n",
      "Epoch 1/1\n",
      "20/20 [==============================] - 0s 16ms/step - loss: 3.2884 - acc: 0.9919 - val_loss: 4.6648 - val_acc: 0.0013\n",
      "Train on 20 samples, validate on 20 samples\n",
      "Epoch 1/1\n",
      "20/20 [==============================] - 0s 16ms/step - loss: 3.8120 - acc: 0.9906 - val_loss: 4.6636 - val_acc: 0.0014\n",
      "Train on 20 samples, validate on 20 samples\n",
      "Epoch 1/1\n",
      "20/20 [==============================] - 0s 16ms/step - loss: 4.5537 - acc: 0.9923 - val_loss: 4.6653 - val_acc: 0.0015\n",
      "Train on 20 samples, validate on 20 samples\n",
      "Epoch 1/1\n",
      "20/20 [==============================] - 0s 16ms/step - loss: 3.3813 - acc: 0.9923 - val_loss: 4.6733 - val_acc: 0.0015\n",
      "Train on 20 samples, validate on 20 samples\n",
      "Epoch 1/1\n",
      "20/20 [==============================] - 0s 15ms/step - loss: 4.2758 - acc: 0.9951 - val_loss: 4.6865 - val_acc: 0.0015\n",
      "Train on 20 samples, validate on 20 samples\n",
      "Epoch 1/1\n",
      "20/20 [==============================] - 0s 15ms/step - loss: 3.7269 - acc: 0.9946 - val_loss: 4.7105 - val_acc: 0.0013\n",
      "Train on 20 samples, validate on 20 samples\n",
      "Epoch 1/1\n",
      "20/20 [==============================] - 0s 15ms/step - loss: 4.7734 - acc: 0.9926 - val_loss: 4.7256 - val_acc: 0.0012\n",
      "Train on 20 samples, validate on 20 samples\n",
      "Epoch 1/1\n",
      "20/20 [==============================] - 0s 15ms/step - loss: 3.8346 - acc: 0.9918 - val_loss: 4.7320 - val_acc: 0.0012\n",
      "Train on 20 samples, validate on 20 samples\n",
      "Epoch 1/1\n",
      "20/20 [==============================] - 0s 15ms/step - loss: 3.5612 - acc: 0.9912 - val_loss: 4.7207 - val_acc: 0.0013\n",
      "Train on 20 samples, validate on 20 samples\n",
      "Epoch 1/1\n",
      "20/20 [==============================] - 0s 15ms/step - loss: 4.1782 - acc: 0.9896 - val_loss: 4.6901 - val_acc: 0.0015\n",
      "Train on 20 samples, validate on 20 samples\n",
      "Epoch 1/1\n",
      "20/20 [==============================] - 0s 15ms/step - loss: 3.2574 - acc: 0.9930 - val_loss: 4.6632 - val_acc: 0.0016\n",
      "Train on 20 samples, validate on 20 samples\n",
      "Epoch 1/1\n",
      "20/20 [==============================] - 0s 15ms/step - loss: 3.9388 - acc: 0.9951 - val_loss: 4.6546 - val_acc: 0.0016\n",
      "Train on 20 samples, validate on 20 samples\n",
      "Epoch 1/1\n",
      "20/20 [==============================] - 0s 15ms/step - loss: 3.6481 - acc: 0.9950 - val_loss: 4.6590 - val_acc: 0.0015\n",
      "Train on 20 samples, validate on 20 samples\n",
      "Epoch 1/1\n",
      "20/20 [==============================] - 0s 15ms/step - loss: 3.0545 - acc: 0.9932 - val_loss: 4.6695 - val_acc: 0.0014\n",
      "Train on 20 samples, validate on 20 samples\n",
      "Epoch 1/1\n",
      "20/20 [==============================] - 0s 15ms/step - loss: 2.9275 - acc: 0.9907 - val_loss: 4.6631 - val_acc: 0.0013\n",
      "Train on 20 samples, validate on 20 samples\n",
      "Epoch 1/1\n",
      "20/20 [==============================] - 0s 15ms/step - loss: 4.4170 - acc: 0.9884 - val_loss: 4.6313 - val_acc: 0.0015\n",
      "Train on 20 samples, validate on 20 samples\n",
      "Epoch 1/1\n",
      "20/20 [==============================] - 0s 15ms/step - loss: 2.9385 - acc: 0.9926 - val_loss: 4.6045 - val_acc: 0.0016\n",
      "Train on 20 samples, validate on 20 samples\n",
      "Epoch 1/1\n",
      "20/20 [==============================] - 0s 15ms/step - loss: 3.0147 - acc: 0.9937 - val_loss: 4.5848 - val_acc: 0.0017\n",
      "Train on 20 samples, validate on 20 samples\n",
      "Epoch 1/1\n",
      "20/20 [==============================] - 0s 15ms/step - loss: 3.7188 - acc: 0.9954 - val_loss: 4.5825 - val_acc: 0.0017\n",
      "Train on 20 samples, validate on 20 samples\n",
      "Epoch 1/1\n",
      "20/20 [==============================] - 0s 15ms/step - loss: 4.0541 - acc: 0.9944 - val_loss: 4.5882 - val_acc: 0.0016\n",
      "Train on 20 samples, validate on 20 samples\n",
      "Epoch 1/1\n",
      "20/20 [==============================] - 0s 15ms/step - loss: 3.3727 - acc: 0.9937 - val_loss: 4.6026 - val_acc: 0.0015\n",
      "Train on 20 samples, validate on 20 samples\n",
      "Epoch 1/1\n",
      "20/20 [==============================] - 0s 15ms/step - loss: 4.5495 - acc: 0.9931 - val_loss: 4.6129 - val_acc: 0.0015\n",
      "Train on 20 samples, validate on 20 samples\n",
      "Epoch 1/1\n",
      "20/20 [==============================] - 0s 16ms/step - loss: 3.3959 - acc: 0.9909 - val_loss: 4.6102 - val_acc: 0.0015\n",
      "Train on 20 samples, validate on 20 samples\n",
      "Epoch 1/1\n",
      "20/20 [==============================] - 0s 15ms/step - loss: 3.3710 - acc: 0.9911 - val_loss: 4.5949 - val_acc: 0.0016\n",
      "Train on 20 samples, validate on 20 samples\n",
      "Epoch 1/1\n",
      "20/20 [==============================] - 0s 15ms/step - loss: 3.6301 - acc: 0.9916 - val_loss: 4.5725 - val_acc: 0.0088\n",
      "Train on 20 samples, validate on 20 samples\n",
      "Epoch 1/1\n",
      "20/20 [==============================] - 0s 15ms/step - loss: 4.5724 - acc: 0.9925 - val_loss: 4.5523 - val_acc: 0.0134\n",
      "Train on 20 samples, validate on 20 samples\n",
      "Epoch 1/1\n",
      "20/20 [==============================] - 0s 16ms/step - loss: 3.7647 - acc: 0.9943 - val_loss: 4.5467 - val_acc: 0.0142\n",
      "Train on 20 samples, validate on 20 samples\n",
      "Epoch 1/1\n",
      "20/20 [==============================] - 0s 15ms/step - loss: 3.5187 - acc: 0.9944 - val_loss: 4.5559 - val_acc: 0.0141\n",
      "Train on 20 samples, validate on 20 samples\n",
      "Epoch 1/1\n",
      "20/20 [==============================] - 0s 15ms/step - loss: 3.5967 - acc: 0.9939 - val_loss: 4.5748 - val_acc: 0.0138\n",
      "Train on 20 samples, validate on 20 samples\n",
      "Epoch 1/1\n",
      "20/20 [==============================] - 0s 16ms/step - loss: 3.9239 - acc: 0.9911 - val_loss: 4.5795 - val_acc: 0.0140\n",
      "Train on 20 samples, validate on 20 samples\n",
      "Epoch 1/1\n",
      "20/20 [==============================] - 0s 15ms/step - loss: 3.6263 - acc: 0.9921 - val_loss: 4.5797 - val_acc: 0.0142\n",
      "Train on 20 samples, validate on 20 samples\n",
      "Epoch 1/1\n",
      "20/20 [==============================] - 0s 15ms/step - loss: 3.5173 - acc: 0.9910 - val_loss: 4.5686 - val_acc: 0.0145\n",
      "Train on 20 samples, validate on 20 samples\n",
      "Epoch 1/1\n",
      "20/20 [==============================] - 0s 15ms/step - loss: 3.8051 - acc: 0.9932 - val_loss: 4.5589 - val_acc: 0.0149\n",
      "Train on 20 samples, validate on 20 samples\n",
      "Epoch 1/1\n",
      "20/20 [==============================] - 0s 15ms/step - loss: 3.5478 - acc: 0.9943 - val_loss: 4.5586 - val_acc: 0.0149\n",
      "Train on 20 samples, validate on 20 samples\n",
      "Epoch 1/1\n",
      "20/20 [==============================] - 0s 16ms/step - loss: 3.7013 - acc: 0.9927 - val_loss: 4.5630 - val_acc: 0.0149\n",
      "Train on 20 samples, validate on 20 samples\n",
      "Epoch 1/1\n",
      "20/20 [==============================] - 0s 15ms/step - loss: 3.8775 - acc: 0.9922 - val_loss: 4.5662 - val_acc: 0.0149\n",
      "Train on 20 samples, validate on 20 samples\n",
      "Epoch 1/1\n",
      "20/20 [==============================] - 0s 15ms/step - loss: 3.5655 - acc: 0.9938 - val_loss: 4.5744 - val_acc: 0.0148\n",
      "Train on 20 samples, validate on 20 samples\n",
      "Epoch 1/1\n",
      "20/20 [==============================] - 0s 15ms/step - loss: 3.7591 - acc: 0.9924 - val_loss: 4.5793 - val_acc: 0.0148\n",
      "Train on 20 samples, validate on 20 samples\n",
      "Epoch 1/1\n",
      "20/20 [==============================] - 0s 15ms/step - loss: 3.2826 - acc: 0.9931 - val_loss: 4.5832 - val_acc: 0.0148\n",
      "Train on 20 samples, validate on 20 samples\n",
      "Epoch 1/1\n",
      "20/20 [==============================] - 0s 15ms/step - loss: 4.0856 - acc: 0.9942 - val_loss: 4.5960 - val_acc: 0.0147\n",
      "Train on 20 samples, validate on 20 samples\n",
      "Epoch 1/1\n",
      "20/20 [==============================] - 0s 16ms/step - loss: 3.9913 - acc: 0.9910 - val_loss: 4.5931 - val_acc: 0.0147\n",
      "Train on 20 samples, validate on 20 samples\n",
      "Epoch 1/1\n",
      "20/20 [==============================] - 0s 15ms/step - loss: 3.3723 - acc: 0.9908 - val_loss: 4.5793 - val_acc: 0.0149\n",
      "Train on 20 samples, validate on 20 samples\n",
      "Epoch 1/1\n",
      "20/20 [==============================] - 0s 16ms/step - loss: 3.3481 - acc: 0.9931 - val_loss: 4.5730 - val_acc: 0.0150\n",
      "Train on 20 samples, validate on 20 samples\n",
      "Epoch 1/1\n",
      "20/20 [==============================] - 0s 15ms/step - loss: 3.5845 - acc: 0.9934 - val_loss: 4.5685 - val_acc: 0.0150\n",
      "Train on 20 samples, validate on 20 samples\n",
      "Epoch 1/1\n",
      "20/20 [==============================] - 0s 16ms/step - loss: 4.5516 - acc: 0.9932 - val_loss: 4.5715 - val_acc: 0.0149\n",
      "Train on 20 samples, validate on 20 samples\n",
      "Epoch 1/1\n",
      "20/20 [==============================] - 0s 16ms/step - loss: 3.2141 - acc: 0.9940 - val_loss: 4.5875 - val_acc: 0.0147\n",
      "Train on 20 samples, validate on 20 samples\n",
      "Epoch 1/1\n",
      "20/20 [==============================] - 0s 15ms/step - loss: 3.7555 - acc: 0.9945 - val_loss: 4.6114 - val_acc: 0.0144\n",
      "Train on 20 samples, validate on 20 samples\n",
      "Epoch 1/1\n"
     ]
    },
    {
     "name": "stdout",
     "output_type": "stream",
     "text": [
      "20/20 [==============================] - 0s 16ms/step - loss: 3.0620 - acc: 0.9909 - val_loss: 4.6234 - val_acc: 0.0143\n",
      "Train on 20 samples, validate on 20 samples\n",
      "Epoch 1/1\n",
      "20/20 [==============================] - 0s 15ms/step - loss: 4.2021 - acc: 0.9916 - val_loss: 4.6285 - val_acc: 0.0141\n",
      "Train on 20 samples, validate on 20 samples\n",
      "Epoch 1/1\n",
      "20/20 [==============================] - 0s 15ms/step - loss: 3.8108 - acc: 0.9912 - val_loss: 4.6233 - val_acc: 0.0141\n",
      "Train on 20 samples, validate on 20 samples\n",
      "Epoch 1/1\n",
      "20/20 [==============================] - 0s 15ms/step - loss: 3.6899 - acc: 0.9922 - val_loss: 4.6136 - val_acc: 0.0141\n",
      "Train on 20 samples, validate on 20 samples\n",
      "Epoch 1/1\n",
      "20/20 [==============================] - 0s 15ms/step - loss: 3.9024 - acc: 0.9932 - val_loss: 4.6097 - val_acc: 0.0140\n",
      "Train on 20 samples, validate on 20 samples\n",
      "Epoch 1/1\n",
      "20/20 [==============================] - 0s 15ms/step - loss: 3.6173 - acc: 0.9932 - val_loss: 4.6093 - val_acc: 0.0137\n",
      "Train on 20 samples, validate on 20 samples\n",
      "Epoch 1/1\n",
      "20/20 [==============================] - 0s 16ms/step - loss: 3.4612 - acc: 0.9940 - val_loss: 4.6197 - val_acc: 0.0128\n",
      "Train on 20 samples, validate on 20 samples\n",
      "Epoch 1/1\n",
      "20/20 [==============================] - 0s 15ms/step - loss: 3.5986 - acc: 0.9928 - val_loss: 4.6312 - val_acc: 0.0117\n",
      "Train on 20 samples, validate on 20 samples\n",
      "Epoch 1/1\n",
      "20/20 [==============================] - 0s 16ms/step - loss: 3.8560 - acc: 0.9925 - val_loss: 4.6415 - val_acc: 0.0015\n",
      "Train on 20 samples, validate on 20 samples\n",
      "Epoch 1/1\n",
      "20/20 [==============================] - 0s 15ms/step - loss: 3.4161 - acc: 0.9924 - val_loss: 4.6472 - val_acc: 0.0012\n",
      "Train on 20 samples, validate on 20 samples\n",
      "Epoch 1/1\n",
      "20/20 [==============================] - 0s 16ms/step - loss: 3.5463 - acc: 0.9921 - val_loss: 4.6461 - val_acc: 0.0011\n",
      "Train on 20 samples, validate on 20 samples\n",
      "Epoch 1/1\n",
      "20/20 [==============================] - 0s 15ms/step - loss: 4.4203 - acc: 0.9933 - val_loss: 4.6520 - val_acc: 0.0010\n",
      "Train on 20 samples, validate on 20 samples\n",
      "Epoch 1/1\n",
      "20/20 [==============================] - 0s 15ms/step - loss: 3.7800 - acc: 0.9912 - val_loss: 4.6496 - val_acc: 0.0010\n",
      "Train on 20 samples, validate on 20 samples\n",
      "Epoch 1/1\n",
      "20/20 [==============================] - 0s 15ms/step - loss: 4.2474 - acc: 0.9888 - val_loss: 4.6214 - val_acc: 0.0011\n",
      "Train on 20 samples, validate on 20 samples\n",
      "Epoch 1/1\n",
      "20/20 [==============================] - 0s 15ms/step - loss: 3.7920 - acc: 0.9927 - val_loss: 4.5981 - val_acc: 0.0012\n",
      "Train on 20 samples, validate on 20 samples\n",
      "Epoch 1/1\n",
      "20/20 [==============================] - 0s 15ms/step - loss: 3.6659 - acc: 0.9943 - val_loss: 4.5921 - val_acc: 0.0012\n",
      "Train on 20 samples, validate on 20 samples\n",
      "Epoch 1/1\n",
      "20/20 [==============================] - 0s 15ms/step - loss: 3.3352 - acc: 0.9951 - val_loss: 4.6053 - val_acc: 0.0011\n",
      "Train on 20 samples, validate on 20 samples\n",
      "Epoch 1/1\n",
      "20/20 [==============================] - 0s 16ms/step - loss: 3.7615 - acc: 0.9916 - val_loss: 4.6119 - val_acc: 0.0011\n",
      "Train on 20 samples, validate on 20 samples\n",
      "Epoch 1/1\n",
      "20/20 [==============================] - 0s 15ms/step - loss: 3.1724 - acc: 0.9918 - val_loss: 4.6120 - val_acc: 0.0011\n",
      "Train on 20 samples, validate on 20 samples\n",
      "Epoch 1/1\n",
      "20/20 [==============================] - 0s 15ms/step - loss: 3.9510 - acc: 0.9903 - val_loss: 4.5934 - val_acc: 0.0011\n",
      "Train on 20 samples, validate on 20 samples\n",
      "Epoch 1/1\n",
      "20/20 [==============================] - 0s 16ms/step - loss: 3.8622 - acc: 0.9923 - val_loss: 4.5732 - val_acc: 0.0012\n",
      "Train on 20 samples, validate on 20 samples\n",
      "Epoch 1/1\n",
      "20/20 [==============================] - 0s 15ms/step - loss: 3.9708 - acc: 0.9938 - val_loss: 4.5610 - val_acc: 0.0013\n",
      "Train on 20 samples, validate on 20 samples\n",
      "Epoch 1/1\n",
      "20/20 [==============================] - 0s 15ms/step - loss: 3.4857 - acc: 0.9964 - val_loss: 4.5727 - val_acc: 0.0012\n",
      "Train on 20 samples, validate on 20 samples\n",
      "Epoch 1/1\n",
      "20/20 [==============================] - 0s 15ms/step - loss: 4.0774 - acc: 0.9948 - val_loss: 4.5982 - val_acc: 9.8640e-04\n",
      "Train on 20 samples, validate on 20 samples\n",
      "Epoch 1/1\n",
      "20/20 [==============================] - 0s 16ms/step - loss: 3.9161 - acc: 0.9905 - val_loss: 4.6041 - val_acc: 9.6560e-04\n",
      "Train on 20 samples, validate on 20 samples\n",
      "Epoch 1/1\n",
      "20/20 [==============================] - 0s 15ms/step - loss: 3.4064 - acc: 0.9896 - val_loss: 4.5888 - val_acc: 0.0010\n",
      "Train on 20 samples, validate on 20 samples\n",
      "Epoch 1/1\n",
      "20/20 [==============================] - 0s 15ms/step - loss: 4.0402 - acc: 0.9927 - val_loss: 4.5717 - val_acc: 0.0012\n",
      "Train on 20 samples, validate on 20 samples\n",
      "Epoch 1/1\n",
      "20/20 [==============================] - 0s 15ms/step - loss: 3.3094 - acc: 0.9933 - val_loss: 4.5606 - val_acc: 0.0013\n",
      "Train on 20 samples, validate on 20 samples\n",
      "Epoch 1/1\n",
      "20/20 [==============================] - 0s 15ms/step - loss: 3.8536 - acc: 0.9956 - val_loss: 4.5686 - val_acc: 0.0013\n",
      "Train on 20 samples, validate on 20 samples\n",
      "Epoch 1/1\n",
      "20/20 [==============================] - 0s 16ms/step - loss: 3.3182 - acc: 0.9928 - val_loss: 4.5777 - val_acc: 0.0013\n",
      "Train on 20 samples, validate on 20 samples\n",
      "Epoch 1/1\n",
      "20/20 [==============================] - 0s 15ms/step - loss: 3.1162 - acc: 0.9928 - val_loss: 4.5836 - val_acc: 0.0013\n",
      "Train on 20 samples, validate on 20 samples\n",
      "Epoch 1/1\n",
      "20/20 [==============================] - 0s 16ms/step - loss: 3.9521 - acc: 0.9913 - val_loss: 4.5842 - val_acc: 0.0013\n",
      "Train on 20 samples, validate on 20 samples\n",
      "Epoch 1/1\n",
      "20/20 [==============================] - 0s 15ms/step - loss: 4.1274 - acc: 0.9932 - val_loss: 4.5899 - val_acc: 0.0013\n",
      "Train on 20 samples, validate on 20 samples\n",
      "Epoch 1/1\n",
      "20/20 [==============================] - 0s 15ms/step - loss: 3.4329 - acc: 0.9926 - val_loss: 4.5959 - val_acc: 0.0013\n",
      "Train on 20 samples, validate on 20 samples\n",
      "Epoch 1/1\n",
      "20/20 [==============================] - 0s 15ms/step - loss: 3.3886 - acc: 0.9910 - val_loss: 4.5928 - val_acc: 0.0013\n",
      "Train on 20 samples, validate on 20 samples\n",
      "Epoch 1/1\n",
      "20/20 [==============================] - 0s 15ms/step - loss: 4.0296 - acc: 0.9921 - val_loss: 4.5892 - val_acc: 0.0013\n",
      "Train on 20 samples, validate on 20 samples\n",
      "Epoch 1/1\n",
      "20/20 [==============================] - 0s 15ms/step - loss: 3.4017 - acc: 0.9914 - val_loss: 4.5814 - val_acc: 0.0014\n",
      "Train on 20 samples, validate on 20 samples\n",
      "Epoch 1/1\n",
      "20/20 [==============================] - 0s 15ms/step - loss: 3.0516 - acc: 0.9931 - val_loss: 4.5773 - val_acc: 0.0014\n",
      "Train on 20 samples, validate on 20 samples\n",
      "Epoch 1/1\n",
      "20/20 [==============================] - 0s 15ms/step - loss: 3.3027 - acc: 0.9939 - val_loss: 4.5808 - val_acc: 0.0014\n",
      "Train on 20 samples, validate on 20 samples\n",
      "Epoch 1/1\n",
      "20/20 [==============================] - 0s 15ms/step - loss: 3.4658 - acc: 0.9901 - val_loss: 4.5668 - val_acc: 0.0015\n",
      "Train on 20 samples, validate on 20 samples\n",
      "Epoch 1/1\n",
      "20/20 [==============================] - 0s 15ms/step - loss: 3.5963 - acc: 0.9947 - val_loss: 4.5672 - val_acc: 0.0015\n",
      "Train on 20 samples, validate on 20 samples\n",
      "Epoch 1/1\n",
      "20/20 [==============================] - 0s 15ms/step - loss: 3.4720 - acc: 0.9919 - val_loss: 4.5576 - val_acc: 0.0016\n",
      "Train on 20 samples, validate on 20 samples\n",
      "Epoch 1/1\n",
      "20/20 [==============================] - 0s 15ms/step - loss: 3.0865 - acc: 0.9938 - val_loss: 4.5557 - val_acc: 0.0016\n",
      "Train on 20 samples, validate on 20 samples\n",
      "Epoch 1/1\n",
      "20/20 [==============================] - 0s 15ms/step - loss: 3.3408 - acc: 0.9941 - val_loss: 4.5662 - val_acc: 0.0014\n",
      "Train on 20 samples, validate on 20 samples\n",
      "Epoch 1/1\n",
      "20/20 [==============================] - 0s 15ms/step - loss: 3.6351 - acc: 0.9922 - val_loss: 4.5707 - val_acc: 0.0013\n",
      "Train on 20 samples, validate on 20 samples\n",
      "Epoch 1/1\n",
      "20/20 [==============================] - 0s 15ms/step - loss: 3.2396 - acc: 0.9920 - val_loss: 4.5698 - val_acc: 0.0013\n",
      "Train on 20 samples, validate on 20 samples\n",
      "Epoch 1/1\n",
      "20/20 [==============================] - 0s 15ms/step - loss: 3.6297 - acc: 0.9933 - val_loss: 4.5746 - val_acc: 0.0013\n",
      "Train on 20 samples, validate on 20 samples\n",
      "Epoch 1/1\n",
      "20/20 [==============================] - 0s 16ms/step - loss: 3.2980 - acc: 0.9920 - val_loss: 4.5761 - val_acc: 0.0012\n"
     ]
    },
    {
     "name": "stdout",
     "output_type": "stream",
     "text": [
      "Train on 20 samples, validate on 20 samples\n",
      "Epoch 1/1\n",
      "20/20 [==============================] - 0s 15ms/step - loss: 3.5610 - acc: 0.9921 - val_loss: 4.5714 - val_acc: 0.0012\n",
      "Train on 20 samples, validate on 20 samples\n",
      "Epoch 1/1\n",
      "20/20 [==============================] - 0s 15ms/step - loss: 3.1176 - acc: 0.9928 - val_loss: 4.5650 - val_acc: 0.0013\n",
      "Train on 20 samples, validate on 20 samples\n",
      "Epoch 1/1\n",
      "20/20 [==============================] - 0s 15ms/step - loss: 3.0633 - acc: 0.9915 - val_loss: 4.5518 - val_acc: 0.0013\n",
      "Train on 20 samples, validate on 20 samples\n",
      "Epoch 1/1\n",
      "20/20 [==============================] - 0s 16ms/step - loss: 3.9678 - acc: 0.9919 - val_loss: 4.5387 - val_acc: 0.0014\n",
      "Train on 20 samples, validate on 20 samples\n",
      "Epoch 1/1\n",
      "20/20 [==============================] - 0s 15ms/step - loss: 3.3062 - acc: 0.9946 - val_loss: 4.5401 - val_acc: 0.0013\n",
      "Train on 20 samples, validate on 20 samples\n",
      "Epoch 1/1\n",
      "20/20 [==============================] - 0s 15ms/step - loss: 3.3559 - acc: 0.9932 - val_loss: 4.5462 - val_acc: 0.0013\n",
      "Train on 20 samples, validate on 20 samples\n",
      "Epoch 1/1\n",
      "20/20 [==============================] - 0s 16ms/step - loss: 3.1428 - acc: 0.9929 - val_loss: 4.5535 - val_acc: 0.0012\n",
      "Train on 20 samples, validate on 20 samples\n",
      "Epoch 1/1\n",
      "20/20 [==============================] - 0s 15ms/step - loss: 3.9760 - acc: 0.9930 - val_loss: 4.5625 - val_acc: 0.0011\n",
      "Train on 20 samples, validate on 20 samples\n",
      "Epoch 1/1\n",
      "20/20 [==============================] - 0s 16ms/step - loss: 3.8232 - acc: 0.9887 - val_loss: 4.5511 - val_acc: 0.0011\n",
      "Train on 20 samples, validate on 20 samples\n",
      "Epoch 1/1\n",
      "20/20 [==============================] - 0s 15ms/step - loss: 3.1208 - acc: 0.9932 - val_loss: 4.5422 - val_acc: 0.0011\n",
      "Train on 20 samples, validate on 20 samples\n",
      "Epoch 1/1\n",
      "20/20 [==============================] - 0s 16ms/step - loss: 3.1688 - acc: 0.9950 - val_loss: 4.5505 - val_acc: 8.5920e-04\n",
      "Train on 20 samples, validate on 20 samples\n",
      "Epoch 1/1\n",
      "20/20 [==============================] - 0s 15ms/step - loss: 3.0098 - acc: 0.9937 - val_loss: 4.5644 - val_acc: 7.9280e-04\n",
      "Train on 20 samples, validate on 20 samples\n",
      "Epoch 1/1\n",
      "20/20 [==============================] - 0s 16ms/step - loss: 4.6194 - acc: 0.9904 - val_loss: 4.5570 - val_acc: 8.4160e-04\n",
      "Train on 20 samples, validate on 20 samples\n",
      "Epoch 1/1\n",
      "20/20 [==============================] - 0s 15ms/step - loss: 3.6513 - acc: 0.9912 - val_loss: 4.5390 - val_acc: 9.3920e-04\n",
      "Train on 20 samples, validate on 20 samples\n",
      "Epoch 1/1\n",
      "20/20 [==============================] - 0s 16ms/step - loss: 3.3975 - acc: 0.9951 - val_loss: 4.5384 - val_acc: 9.5920e-04\n",
      "Train on 20 samples, validate on 20 samples\n",
      "Epoch 1/1\n",
      "20/20 [==============================] - 0s 15ms/step - loss: 3.0288 - acc: 0.9942 - val_loss: 4.5482 - val_acc: 9.1600e-04\n",
      "Train on 20 samples, validate on 20 samples\n",
      "Epoch 1/1\n",
      "20/20 [==============================] - 0s 15ms/step - loss: 4.5377 - acc: 0.9951 - val_loss: 4.5710 - val_acc: 8.1280e-04\n",
      "Train on 20 samples, validate on 20 samples\n",
      "Epoch 1/1\n",
      "20/20 [==============================] - 0s 15ms/step - loss: 2.8555 - acc: 0.9913 - val_loss: 4.5842 - val_acc: 7.7840e-04\n",
      "Train on 20 samples, validate on 20 samples\n",
      "Epoch 1/1\n",
      "20/20 [==============================] - 0s 15ms/step - loss: 3.1282 - acc: 0.9906 - val_loss: 4.5839 - val_acc: 7.9520e-04\n",
      "Train on 20 samples, validate on 20 samples\n",
      "Epoch 1/1\n",
      "20/20 [==============================] - 0s 15ms/step - loss: 3.2598 - acc: 0.9919 - val_loss: 4.5807 - val_acc: 8.2320e-04\n",
      "Train on 20 samples, validate on 20 samples\n",
      "Epoch 1/1\n",
      "20/20 [==============================] - 0s 16ms/step - loss: 3.3089 - acc: 0.9932 - val_loss: 4.5787 - val_acc: 8.3920e-04\n",
      "Train on 20 samples, validate on 20 samples\n",
      "Epoch 1/1\n",
      "20/20 [==============================] - 0s 15ms/step - loss: 3.3201 - acc: 0.9943 - val_loss: 4.5862 - val_acc: 8.0320e-04\n",
      "Train on 20 samples, validate on 20 samples\n",
      "Epoch 1/1\n",
      "20/20 [==============================] - 0s 15ms/step - loss: 2.7917 - acc: 0.9908 - val_loss: 4.5853 - val_acc: 7.9440e-04\n",
      "Train on 20 samples, validate on 20 samples\n",
      "Epoch 1/1\n",
      "20/20 [==============================] - 0s 15ms/step - loss: 3.1756 - acc: 0.9933 - val_loss: 4.5883 - val_acc: 7.6400e-04\n",
      "Train on 20 samples, validate on 20 samples\n",
      "Epoch 1/1\n",
      "20/20 [==============================] - 0s 15ms/step - loss: 4.0500 - acc: 0.9928 - val_loss: 4.5935 - val_acc: 7.1520e-04\n",
      "Train on 20 samples, validate on 20 samples\n",
      "Epoch 1/1\n",
      "20/20 [==============================] - 0s 15ms/step - loss: 3.8390 - acc: 0.9928 - val_loss: 4.5964 - val_acc: 6.2240e-04\n",
      "Train on 20 samples, validate on 20 samples\n",
      "Epoch 1/1\n",
      "20/20 [==============================] - 0s 16ms/step - loss: 3.1619 - acc: 0.9915 - val_loss: 4.5873 - val_acc: 7.0000e-04\n",
      "Train on 20 samples, validate on 20 samples\n",
      "Epoch 1/1\n",
      "20/20 [==============================] - 0s 15ms/step - loss: 2.6983 - acc: 0.9923 - val_loss: 4.5731 - val_acc: 7.4560e-04\n",
      "Train on 20 samples, validate on 20 samples\n",
      "Epoch 1/1\n",
      "20/20 [==============================] - 0s 15ms/step - loss: 3.0537 - acc: 0.9936 - val_loss: 4.5619 - val_acc: 7.8160e-04\n",
      "Train on 20 samples, validate on 20 samples\n",
      "Epoch 1/1\n",
      "20/20 [==============================] - 0s 15ms/step - loss: 4.2442 - acc: 0.9950 - val_loss: 4.5674 - val_acc: 7.4080e-04\n",
      "Train on 20 samples, validate on 20 samples\n",
      "Epoch 1/1\n",
      "20/20 [==============================] - 0s 15ms/step - loss: 3.5778 - acc: 0.9945 - val_loss: 4.5818 - val_acc: 6.1120e-04\n",
      "Train on 20 samples, validate on 20 samples\n",
      "Epoch 1/1\n",
      "20/20 [==============================] - 0s 15ms/step - loss: 3.4377 - acc: 0.9913 - val_loss: 4.5888 - val_acc: 5.8240e-04\n",
      "Train on 20 samples, validate on 20 samples\n",
      "Epoch 1/1\n",
      "20/20 [==============================] - 0s 15ms/step - loss: 3.1463 - acc: 0.9902 - val_loss: 4.5755 - val_acc: 6.0720e-04\n",
      "Train on 20 samples, validate on 20 samples\n",
      "Epoch 1/1\n",
      "20/20 [==============================] - 0s 15ms/step - loss: 3.2817 - acc: 0.9936 - val_loss: 4.5668 - val_acc: 6.2160e-04\n",
      "Train on 20 samples, validate on 20 samples\n",
      "Epoch 1/1\n",
      "20/20 [==============================] - 0s 15ms/step - loss: 3.5467 - acc: 0.9919 - val_loss: 4.5555 - val_acc: 7.4800e-04\n",
      "Train on 20 samples, validate on 20 samples\n",
      "Epoch 1/1\n",
      "20/20 [==============================] - 0s 15ms/step - loss: 3.6574 - acc: 0.9918 - val_loss: 4.5460 - val_acc: 8.2880e-04\n",
      "Train on 20 samples, validate on 20 samples\n",
      "Epoch 1/1\n",
      "20/20 [==============================] - 0s 15ms/step - loss: 2.9269 - acc: 0.9950 - val_loss: 4.5548 - val_acc: 8.0480e-04\n",
      "Train on 20 samples, validate on 20 samples\n",
      "Epoch 1/1\n",
      "20/20 [==============================] - 0s 15ms/step - loss: 3.6751 - acc: 0.9940 - val_loss: 4.5775 - val_acc: 7.3280e-04\n",
      "Train on 20 samples, validate on 20 samples\n",
      "Epoch 1/1\n",
      "20/20 [==============================] - 0s 16ms/step - loss: 2.8884 - acc: 0.9922 - val_loss: 4.5979 - val_acc: 6.0560e-04\n",
      "Train on 20 samples, validate on 20 samples\n",
      "Epoch 1/1\n",
      "20/20 [==============================] - 0s 15ms/step - loss: 3.4250 - acc: 0.9921 - val_loss: 4.6080 - val_acc: 5.9440e-04\n",
      "Train on 20 samples, validate on 20 samples\n",
      "Epoch 1/1\n",
      "20/20 [==============================] - 0s 15ms/step - loss: 2.8935 - acc: 0.9919 - val_loss: 4.6125 - val_acc: 5.9360e-04\n",
      "Train on 20 samples, validate on 20 samples\n",
      "Epoch 1/1\n",
      "20/20 [==============================] - 0s 15ms/step - loss: 3.5706 - acc: 0.9884 - val_loss: 4.5871 - val_acc: 7.5920e-04\n",
      "Train on 20 samples, validate on 20 samples\n",
      "Epoch 1/1\n",
      "20/20 [==============================] - 0s 16ms/step - loss: 3.0895 - acc: 0.9951 - val_loss: 4.5781 - val_acc: 8.0480e-04\n",
      "Train on 20 samples, validate on 20 samples\n",
      "Epoch 1/1\n",
      "20/20 [==============================] - 0s 15ms/step - loss: 3.5290 - acc: 0.9946 - val_loss: 4.5810 - val_acc: 7.8240e-04\n",
      "Train on 20 samples, validate on 20 samples\n",
      "Epoch 1/1\n",
      "20/20 [==============================] - 0s 16ms/step - loss: 4.1697 - acc: 0.9959 - val_loss: 4.6053 - val_acc: 6.0880e-04\n",
      "Train on 20 samples, validate on 20 samples\n",
      "Epoch 1/1\n",
      "20/20 [==============================] - 0s 15ms/step - loss: 3.3368 - acc: 0.9936 - val_loss: 4.6312 - val_acc: 5.4000e-04\n",
      "Train on 20 samples, validate on 20 samples\n",
      "Epoch 1/1\n"
     ]
    },
    {
     "name": "stdout",
     "output_type": "stream",
     "text": [
      "20/20 [==============================] - 0s 15ms/step - loss: 3.8251 - acc: 0.9913 - val_loss: 4.6432 - val_acc: 5.1200e-04\n",
      "Train on 20 samples, validate on 20 samples\n",
      "Epoch 1/1\n",
      "20/20 [==============================] - 0s 15ms/step - loss: 2.6530 - acc: 0.9899 - val_loss: 4.6319 - val_acc: 5.3600e-04\n",
      "Train on 20 samples, validate on 20 samples\n",
      "Epoch 1/1\n",
      "20/20 [==============================] - 0s 15ms/step - loss: 2.9989 - acc: 0.9916 - val_loss: 4.6122 - val_acc: 5.7840e-04\n",
      "Train on 20 samples, validate on 20 samples\n",
      "Epoch 1/1\n",
      "20/20 [==============================] - 0s 16ms/step - loss: 3.6479 - acc: 0.9918 - val_loss: 4.5892 - val_acc: 6.4000e-04\n",
      "Train on 20 samples, validate on 20 samples\n",
      "Epoch 1/1\n",
      "20/20 [==============================] - 0s 15ms/step - loss: 3.6870 - acc: 0.9968 - val_loss: 4.5948 - val_acc: 6.1280e-04\n",
      "Train on 20 samples, validate on 20 samples\n",
      "Epoch 1/1\n",
      "20/20 [==============================] - 0s 15ms/step - loss: 2.4009 - acc: 0.9956 - val_loss: 4.6185 - val_acc: 5.4160e-04\n",
      "Train on 20 samples, validate on 20 samples\n",
      "Epoch 1/1\n",
      "20/20 [==============================] - 0s 15ms/step - loss: 3.0458 - acc: 0.9941 - val_loss: 4.6488 - val_acc: 4.6240e-04\n",
      "Train on 20 samples, validate on 20 samples\n",
      "Epoch 1/1\n",
      "20/20 [==============================] - 0s 15ms/step - loss: 3.0943 - acc: 0.9880 - val_loss: 4.6450 - val_acc: 4.5600e-04\n",
      "Train on 20 samples, validate on 20 samples\n",
      "Epoch 1/1\n",
      "20/20 [==============================] - 0s 16ms/step - loss: 3.6139 - acc: 0.9872 - val_loss: 4.6077 - val_acc: 5.4320e-04\n",
      "Train on 20 samples, validate on 20 samples\n",
      "Epoch 1/1\n",
      "20/20 [==============================] - 0s 15ms/step - loss: 3.1065 - acc: 0.9927 - val_loss: 4.5768 - val_acc: 6.5120e-04\n",
      "Train on 20 samples, validate on 20 samples\n",
      "Epoch 1/1\n",
      "20/20 [==============================] - 0s 15ms/step - loss: 3.0510 - acc: 0.9960 - val_loss: 4.5725 - val_acc: 6.7280e-04\n",
      "Train on 20 samples, validate on 20 samples\n",
      "Epoch 1/1\n",
      "20/20 [==============================] - 0s 15ms/step - loss: 4.0886 - acc: 0.9952 - val_loss: 4.5904 - val_acc: 6.0880e-04\n",
      "Train on 20 samples, validate on 20 samples\n",
      "Epoch 1/1\n",
      "20/20 [==============================] - 0s 15ms/step - loss: 3.4535 - acc: 0.9925 - val_loss: 4.6064 - val_acc: 5.6240e-04\n",
      "Train on 20 samples, validate on 20 samples\n",
      "Epoch 1/1\n",
      "20/20 [==============================] - 0s 15ms/step - loss: 3.4798 - acc: 0.9955 - val_loss: 4.6404 - val_acc: 4.8320e-04\n",
      "Train on 20 samples, validate on 20 samples\n",
      "Epoch 1/1\n",
      "20/20 [==============================] - 0s 15ms/step - loss: 3.4959 - acc: 0.9899 - val_loss: 4.6533 - val_acc: 4.6560e-04\n",
      "Train on 20 samples, validate on 20 samples\n",
      "Epoch 1/1\n",
      "20/20 [==============================] - 0s 16ms/step - loss: 3.2654 - acc: 0.9908 - val_loss: 4.6475 - val_acc: 4.8320e-04\n",
      "Train on 20 samples, validate on 20 samples\n",
      "Epoch 1/1\n",
      "20/20 [==============================] - 0s 15ms/step - loss: 2.9810 - acc: 0.9890 - val_loss: 4.6135 - val_acc: 5.8080e-04\n",
      "Train on 20 samples, validate on 20 samples\n",
      "Epoch 1/1\n",
      "20/20 [==============================] - 0s 15ms/step - loss: 3.5477 - acc: 0.9941 - val_loss: 4.5939 - val_acc: 6.4960e-04\n",
      "Train on 20 samples, validate on 20 samples\n",
      "Epoch 1/1\n",
      "20/20 [==============================] - 0s 16ms/step - loss: 3.6402 - acc: 0.9961 - val_loss: 4.5997 - val_acc: 6.4720e-04\n",
      "Train on 20 samples, validate on 20 samples\n",
      "Epoch 1/1\n",
      "20/20 [==============================] - 0s 15ms/step - loss: 2.8713 - acc: 0.9962 - val_loss: 4.6257 - val_acc: 5.8480e-04\n",
      "Train on 20 samples, validate on 20 samples\n",
      "Epoch 1/1\n",
      "20/20 [==============================] - 0s 15ms/step - loss: 3.0795 - acc: 0.9930 - val_loss: 4.6580 - val_acc: 5.3360e-04\n",
      "Train on 20 samples, validate on 20 samples\n",
      "Epoch 1/1\n",
      "20/20 [==============================] - 0s 15ms/step - loss: 2.7222 - acc: 0.9903 - val_loss: 4.6654 - val_acc: 5.2240e-04\n",
      "Train on 20 samples, validate on 20 samples\n",
      "Epoch 1/1\n",
      "20/20 [==============================] - 0s 15ms/step - loss: 2.4469 - acc: 0.9905 - val_loss: 4.6569 - val_acc: 5.6240e-04\n",
      "Train on 20 samples, validate on 20 samples\n",
      "Epoch 1/1\n",
      "20/20 [==============================] - 0s 15ms/step - loss: 3.2771 - acc: 0.9934 - val_loss: 4.6510 - val_acc: 5.8000e-04\n",
      "Train on 20 samples, validate on 20 samples\n",
      "Epoch 1/1\n",
      "20/20 [==============================] - 0s 15ms/step - loss: 2.8685 - acc: 0.9926 - val_loss: 4.6434 - val_acc: 6.0240e-04\n",
      "Train on 20 samples, validate on 20 samples\n",
      "Epoch 1/1\n",
      "20/20 [==============================] - 0s 15ms/step - loss: 3.4243 - acc: 0.9921 - val_loss: 4.6342 - val_acc: 6.2720e-04\n",
      "Train on 20 samples, validate on 20 samples\n",
      "Epoch 1/1\n",
      "20/20 [==============================] - 0s 15ms/step - loss: 3.3767 - acc: 0.9944 - val_loss: 4.6350 - val_acc: 6.3040e-04\n",
      "Train on 20 samples, validate on 20 samples\n",
      "Epoch 1/1\n",
      "20/20 [==============================] - 0s 15ms/step - loss: 3.5426 - acc: 0.9952 - val_loss: 4.6489 - val_acc: 5.9280e-04\n",
      "Train on 20 samples, validate on 20 samples\n",
      "Epoch 1/1\n",
      "20/20 [==============================] - 0s 15ms/step - loss: 3.3270 - acc: 0.9937 - val_loss: 4.6674 - val_acc: 5.4720e-04\n",
      "Train on 20 samples, validate on 20 samples\n",
      "Epoch 1/1\n",
      "20/20 [==============================] - 0s 15ms/step - loss: 2.8899 - acc: 0.9880 - val_loss: 4.6504 - val_acc: 5.7200e-04\n",
      "Train on 20 samples, validate on 20 samples\n",
      "Epoch 1/1\n",
      "20/20 [==============================] - 0s 16ms/step - loss: 3.8845 - acc: 0.9933 - val_loss: 4.6380 - val_acc: 6.0240e-04\n",
      "Train on 20 samples, validate on 20 samples\n",
      "Epoch 1/1\n",
      "20/20 [==============================] - 0s 16ms/step - loss: 3.3805 - acc: 0.9929 - val_loss: 4.6248 - val_acc: 6.4080e-04\n",
      "Train on 20 samples, validate on 20 samples\n",
      "Epoch 1/1\n",
      "20/20 [==============================] - 0s 15ms/step - loss: 3.4356 - acc: 0.9939 - val_loss: 4.6287 - val_acc: 6.3120e-04\n",
      "Train on 20 samples, validate on 20 samples\n",
      "Epoch 1/1\n",
      "20/20 [==============================] - 0s 15ms/step - loss: 3.0273 - acc: 0.9936 - val_loss: 4.6384 - val_acc: 6.0080e-04\n",
      "Train on 20 samples, validate on 20 samples\n",
      "Epoch 1/1\n",
      "20/20 [==============================] - 0s 15ms/step - loss: 4.1929 - acc: 0.9913 - val_loss: 4.6304 - val_acc: 6.0400e-04\n",
      "Train on 20 samples, validate on 20 samples\n",
      "Epoch 1/1\n",
      "20/20 [==============================] - 0s 15ms/step - loss: 3.4980 - acc: 0.9928 - val_loss: 4.6211 - val_acc: 6.1200e-04\n",
      "Train on 20 samples, validate on 20 samples\n",
      "Epoch 1/1\n",
      "20/20 [==============================] - 0s 15ms/step - loss: 3.3350 - acc: 0.9933 - val_loss: 4.6167 - val_acc: 6.0320e-04\n",
      "Train on 20 samples, validate on 20 samples\n",
      "Epoch 1/1\n",
      "20/20 [==============================] - 0s 16ms/step - loss: 3.0709 - acc: 0.9930 - val_loss: 4.6184 - val_acc: 5.8000e-04\n",
      "Train on 20 samples, validate on 20 samples\n",
      "Epoch 1/1\n",
      "20/20 [==============================] - 0s 15ms/step - loss: 2.9061 - acc: 0.9924 - val_loss: 4.6182 - val_acc: 5.7040e-04\n",
      "Train on 20 samples, validate on 20 samples\n",
      "Epoch 1/1\n",
      "20/20 [==============================] - 0s 15ms/step - loss: 3.5576 - acc: 0.9920 - val_loss: 4.6128 - val_acc: 5.8240e-04\n",
      "Train on 20 samples, validate on 20 samples\n",
      "Epoch 1/1\n",
      "20/20 [==============================] - 0s 15ms/step - loss: 3.3714 - acc: 0.9928 - val_loss: 4.6100 - val_acc: 5.8400e-04\n",
      "Train on 20 samples, validate on 20 samples\n",
      "Epoch 1/1\n",
      "20/20 [==============================] - 0s 15ms/step - loss: 2.8122 - acc: 0.9937 - val_loss: 4.6109 - val_acc: 5.7040e-04\n",
      "Train on 20 samples, validate on 20 samples\n",
      "Epoch 1/1\n",
      "20/20 [==============================] - 0s 16ms/step - loss: 2.6148 - acc: 0.9912 - val_loss: 4.6043 - val_acc: 5.8160e-04\n",
      "Train on 20 samples, validate on 20 samples\n",
      "Epoch 1/1\n",
      "20/20 [==============================] - 0s 15ms/step - loss: 3.0159 - acc: 0.9926 - val_loss: 4.5965 - val_acc: 5.8800e-04\n",
      "Train on 20 samples, validate on 20 samples\n",
      "Epoch 1/1\n",
      "20/20 [==============================] - 0s 16ms/step - loss: 2.7972 - acc: 0.9925 - val_loss: 4.5885 - val_acc: 5.9040e-04\n",
      "Train on 20 samples, validate on 20 samples\n",
      "Epoch 1/1\n",
      "20/20 [==============================] - 0s 15ms/step - loss: 3.2631 - acc: 0.9937 - val_loss: 4.5850 - val_acc: 5.8560e-04\n",
      "Train on 20 samples, validate on 20 samples\n",
      "Epoch 1/1\n",
      "20/20 [==============================] - 0s 16ms/step - loss: 3.0646 - acc: 0.9928 - val_loss: 4.5816 - val_acc: 5.7760e-04\n"
     ]
    },
    {
     "name": "stdout",
     "output_type": "stream",
     "text": [
      "Train on 20 samples, validate on 20 samples\n",
      "Epoch 1/1\n",
      "20/20 [==============================] - 0s 15ms/step - loss: 3.2637 - acc: 0.9933 - val_loss: 4.5821 - val_acc: 5.5440e-04\n",
      "Train on 20 samples, validate on 20 samples\n",
      "Epoch 1/1\n",
      "20/20 [==============================] - 0s 15ms/step - loss: 3.9011 - acc: 0.9927 - val_loss: 4.5817 - val_acc: 5.3760e-04\n",
      "Train on 20 samples, validate on 20 samples\n",
      "Epoch 1/1\n",
      "20/20 [==============================] - 0s 15ms/step - loss: 2.8003 - acc: 0.9921 - val_loss: 4.5805 - val_acc: 5.2000e-04\n",
      "Train on 20 samples, validate on 20 samples\n",
      "Epoch 1/1\n",
      "20/20 [==============================] - 0s 16ms/step - loss: 3.5350 - acc: 0.9915 - val_loss: 4.5704 - val_acc: 5.3680e-04\n",
      "Train on 20 samples, validate on 20 samples\n",
      "Epoch 1/1\n",
      "20/20 [==============================] - 0s 15ms/step - loss: 4.0143 - acc: 0.9958 - val_loss: 4.5805 - val_acc: 4.9600e-04\n",
      "Train on 20 samples, validate on 20 samples\n",
      "Epoch 1/1\n",
      "20/20 [==============================] - 0s 15ms/step - loss: 3.2192 - acc: 0.9947 - val_loss: 4.6025 - val_acc: 4.3600e-04\n",
      "Train on 20 samples, validate on 20 samples\n",
      "Epoch 1/1\n",
      "20/20 [==============================] - 0s 16ms/step - loss: 3.8418 - acc: 0.9913 - val_loss: 4.6124 - val_acc: 4.0480e-04\n",
      "Train on 20 samples, validate on 20 samples\n",
      "Epoch 1/1\n",
      "20/20 [==============================] - 0s 15ms/step - loss: 3.0026 - acc: 0.9868 - val_loss: 4.5789 - val_acc: 4.7120e-04\n",
      "Train on 20 samples, validate on 20 samples\n",
      "Epoch 1/1\n",
      "20/20 [==============================] - 0s 15ms/step - loss: 3.9358 - acc: 0.9952 - val_loss: 4.5681 - val_acc: 4.8640e-04\n",
      "Train on 20 samples, validate on 20 samples\n",
      "Epoch 1/1\n",
      "20/20 [==============================] - 0s 15ms/step - loss: 3.5037 - acc: 0.9955 - val_loss: 4.5758 - val_acc: 4.4880e-04\n",
      "Train on 20 samples, validate on 20 samples\n",
      "Epoch 1/1\n",
      "20/20 [==============================] - 0s 15ms/step - loss: 5.1559 - acc: 0.9922 - val_loss: 4.5779 - val_acc: 4.3520e-04\n",
      "Train on 20 samples, validate on 20 samples\n",
      "Epoch 1/1\n",
      "20/20 [==============================] - 0s 16ms/step - loss: 2.5709 - acc: 0.9931 - val_loss: 4.5822 - val_acc: 4.0880e-04\n",
      "Train on 20 samples, validate on 20 samples\n",
      "Epoch 1/1\n",
      "20/20 [==============================] - 0s 15ms/step - loss: 3.0082 - acc: 0.9944 - val_loss: 4.5946 - val_acc: 3.6800e-04\n",
      "Train on 20 samples, validate on 20 samples\n",
      "Epoch 1/1\n",
      "20/20 [==============================] - 0s 16ms/step - loss: 3.0067 - acc: 0.9895 - val_loss: 4.5848 - val_acc: 3.8160e-04\n",
      "Train on 20 samples, validate on 20 samples\n",
      "Epoch 1/1\n",
      "20/20 [==============================] - 0s 16ms/step - loss: 3.0379 - acc: 0.9902 - val_loss: 4.5601 - val_acc: 4.2480e-04\n",
      "Train on 20 samples, validate on 20 samples\n",
      "Epoch 1/1\n",
      "20/20 [==============================] - 0s 15ms/step - loss: 3.5096 - acc: 0.9939 - val_loss: 4.5492 - val_acc: 4.4160e-04\n",
      "Train on 20 samples, validate on 20 samples\n",
      "Epoch 1/1\n",
      "20/20 [==============================] - 0s 15ms/step - loss: 3.0586 - acc: 0.9948 - val_loss: 4.5526 - val_acc: 4.1760e-04\n",
      "Train on 20 samples, validate on 20 samples\n",
      "Epoch 1/1\n",
      "20/20 [==============================] - 0s 16ms/step - loss: 3.3213 - acc: 0.9955 - val_loss: 4.5742 - val_acc: 3.5200e-04\n",
      "Train on 20 samples, validate on 20 samples\n",
      "Epoch 1/1\n",
      "20/20 [==============================] - 0s 15ms/step - loss: 3.0397 - acc: 0.9897 - val_loss: 4.5727 - val_acc: 3.4000e-04\n",
      "Train on 20 samples, validate on 20 samples\n",
      "Epoch 1/1\n",
      "20/20 [==============================] - 0s 16ms/step - loss: 3.3610 - acc: 0.9912 - val_loss: 4.5591 - val_acc: 3.5920e-04\n",
      "Train on 20 samples, validate on 20 samples\n",
      "Epoch 1/1\n",
      "20/20 [==============================] - 0s 15ms/step - loss: 2.7327 - acc: 0.9926 - val_loss: 4.5435 - val_acc: 3.8320e-04\n",
      "Train on 20 samples, validate on 20 samples\n",
      "Epoch 1/1\n",
      "20/20 [==============================] - 0s 16ms/step - loss: 3.5372 - acc: 0.9942 - val_loss: 4.5435 - val_acc: 3.6880e-04\n",
      "Train on 20 samples, validate on 20 samples\n",
      "Epoch 1/1\n",
      "20/20 [==============================] - 0s 15ms/step - loss: 3.1614 - acc: 0.9932 - val_loss: 4.5467 - val_acc: 3.4880e-04\n",
      "Train on 20 samples, validate on 20 samples\n",
      "Epoch 1/1\n",
      "20/20 [==============================] - 0s 15ms/step - loss: 2.7264 - acc: 0.9943 - val_loss: 4.5608 - val_acc: 3.0800e-04\n",
      "Train on 20 samples, validate on 20 samples\n",
      "Epoch 1/1\n",
      "20/20 [==============================] - 0s 15ms/step - loss: 3.1246 - acc: 0.9905 - val_loss: 4.5597 - val_acc: 2.9600e-04\n",
      "Train on 20 samples, validate on 20 samples\n",
      "Epoch 1/1\n",
      "20/20 [==============================] - 0s 16ms/step - loss: 2.9722 - acc: 0.9929 - val_loss: 4.5588 - val_acc: 2.8560e-04\n",
      "Train on 20 samples, validate on 20 samples\n",
      "Epoch 1/1\n",
      "20/20 [==============================] - 0s 16ms/step - loss: 3.0119 - acc: 0.9909 - val_loss: 4.5464 - val_acc: 3.0400e-04\n",
      "Train on 20 samples, validate on 20 samples\n",
      "Epoch 1/1\n",
      "20/20 [==============================] - 0s 15ms/step - loss: 2.4672 - acc: 0.9933 - val_loss: 4.5368 - val_acc: 3.1280e-04\n",
      "Train on 20 samples, validate on 20 samples\n",
      "Epoch 1/1\n",
      "20/20 [==============================] - 0s 15ms/step - loss: 2.3450 - acc: 0.9949 - val_loss: 4.5423 - val_acc: 2.7680e-04\n",
      "Train on 20 samples, validate on 20 samples\n",
      "Epoch 1/1\n",
      "20/20 [==============================] - 0s 15ms/step - loss: 3.2658 - acc: 0.9939 - val_loss: 4.5591 - val_acc: 2.2400e-04\n",
      "Train on 20 samples, validate on 20 samples\n",
      "Epoch 1/1\n",
      "20/20 [==============================] - 0s 15ms/step - loss: 2.5060 - acc: 0.9902 - val_loss: 4.5584 - val_acc: 2.1440e-04\n",
      "Train on 20 samples, validate on 20 samples\n",
      "Epoch 1/1\n",
      "20/20 [==============================] - 0s 15ms/step - loss: 3.2568 - acc: 0.9927 - val_loss: 4.5575 - val_acc: 2.0560e-04\n",
      "Train on 20 samples, validate on 20 samples\n",
      "Epoch 1/1\n",
      "20/20 [==============================] - 0s 16ms/step - loss: 3.9879 - acc: 0.9916 - val_loss: 4.5461 - val_acc: 2.1600e-04\n",
      "Train on 20 samples, validate on 20 samples\n",
      "Epoch 1/1\n",
      "20/20 [==============================] - 0s 15ms/step - loss: 2.5703 - acc: 0.9909 - val_loss: 4.5230 - val_acc: 2.6000e-04\n",
      "Train on 20 samples, validate on 20 samples\n",
      "Epoch 1/1\n",
      "20/20 [==============================] - 0s 15ms/step - loss: 2.7942 - acc: 0.9956 - val_loss: 4.5191 - val_acc: 2.5440e-04\n",
      "Train on 20 samples, validate on 20 samples\n",
      "Epoch 1/1\n",
      "20/20 [==============================] - 0s 15ms/step - loss: 2.1981 - acc: 0.9961 - val_loss: 4.5347 - val_acc: 2.0240e-04\n",
      "Train on 20 samples, validate on 20 samples\n",
      "Epoch 1/1\n",
      "20/20 [==============================] - 0s 16ms/step - loss: 3.7630 - acc: 0.9913 - val_loss: 4.5407 - val_acc: 1.8800e-04\n",
      "Train on 20 samples, validate on 20 samples\n",
      "Epoch 1/1\n",
      "20/20 [==============================] - 0s 15ms/step - loss: 2.9936 - acc: 0.9924 - val_loss: 4.5448 - val_acc: 1.6960e-04\n",
      "Train on 20 samples, validate on 20 samples\n",
      "Epoch 1/1\n",
      "20/20 [==============================] - 0s 15ms/step - loss: 2.7994 - acc: 0.9912 - val_loss: 4.5358 - val_acc: 1.7040e-04\n",
      "Train on 20 samples, validate on 20 samples\n",
      "Epoch 1/1\n",
      "20/20 [==============================] - 0s 15ms/step - loss: 2.6770 - acc: 0.9927 - val_loss: 4.5254 - val_acc: 1.7120e-04\n",
      "Train on 20 samples, validate on 20 samples\n",
      "Epoch 1/1\n",
      "20/20 [==============================] - 0s 15ms/step - loss: 2.8306 - acc: 0.9914 - val_loss: 4.5134 - val_acc: 1.7680e-04\n",
      "Train on 20 samples, validate on 20 samples\n",
      "Epoch 1/1\n",
      "20/20 [==============================] - 0s 16ms/step - loss: 3.1356 - acc: 0.9950 - val_loss: 4.5162 - val_acc: 1.6720e-04\n",
      "Train on 20 samples, validate on 20 samples\n",
      "Epoch 1/1\n",
      "20/20 [==============================] - 0s 15ms/step - loss: 2.9810 - acc: 0.9939 - val_loss: 4.5312 - val_acc: 1.4320e-04\n",
      "Train on 20 samples, validate on 20 samples\n",
      "Epoch 1/1\n",
      "20/20 [==============================] - 0s 15ms/step - loss: 2.4778 - acc: 0.9928 - val_loss: 4.5427 - val_acc: 1.3200e-04\n",
      "Train on 20 samples, validate on 20 samples\n",
      "Epoch 1/1\n",
      "20/20 [==============================] - 0s 15ms/step - loss: 3.0750 - acc: 0.9893 - val_loss: 4.5305 - val_acc: 1.3920e-04\n",
      "Train on 20 samples, validate on 20 samples\n",
      "Epoch 1/1\n",
      "20/20 [==============================] - 0s 16ms/step - loss: 3.1845 - acc: 0.9919 - val_loss: 4.5144 - val_acc: 1.5920e-04\n",
      "Train on 20 samples, validate on 20 samples\n",
      "Epoch 1/1\n"
     ]
    },
    {
     "name": "stdout",
     "output_type": "stream",
     "text": [
      "20/20 [==============================] - 0s 15ms/step - loss: 2.6414 - acc: 0.9949 - val_loss: 4.5137 - val_acc: 1.6240e-04\n",
      "Train on 20 samples, validate on 20 samples\n",
      "Epoch 1/1\n",
      "20/20 [==============================] - 0s 15ms/step - loss: 2.7578 - acc: 0.9949 - val_loss: 4.5290 - val_acc: 1.4320e-04\n",
      "Train on 20 samples, validate on 20 samples\n",
      "Epoch 1/1\n",
      "20/20 [==============================] - 0s 15ms/step - loss: 3.0169 - acc: 0.9917 - val_loss: 4.5348 - val_acc: 1.3920e-04\n",
      "Train on 20 samples, validate on 20 samples\n",
      "Epoch 1/1\n",
      "20/20 [==============================] - 0s 15ms/step - loss: 2.3527 - acc: 0.9914 - val_loss: 4.5274 - val_acc: 1.4000e-04\n",
      "Train on 20 samples, validate on 20 samples\n",
      "Epoch 1/1\n",
      "20/20 [==============================] - 0s 16ms/step - loss: 2.3620 - acc: 0.9916 - val_loss: 4.5112 - val_acc: 1.6160e-04\n",
      "Train on 20 samples, validate on 20 samples\n",
      "Epoch 1/1\n",
      "20/20 [==============================] - 0s 15ms/step - loss: 2.3751 - acc: 0.9952 - val_loss: 4.5160 - val_acc: 1.5040e-04\n",
      "Train on 20 samples, validate on 20 samples\n",
      "Epoch 1/1\n",
      "20/20 [==============================] - 0s 15ms/step - loss: 2.7451 - acc: 0.9950 - val_loss: 4.5334 - val_acc: 1.3280e-04\n",
      "Train on 20 samples, validate on 20 samples\n",
      "Epoch 1/1\n",
      "20/20 [==============================] - 0s 15ms/step - loss: 2.7166 - acc: 0.9932 - val_loss: 4.5538 - val_acc: 1.0800e-04\n",
      "Train on 20 samples, validate on 20 samples\n",
      "Epoch 1/1\n",
      "20/20 [==============================] - 0s 15ms/step - loss: 3.0440 - acc: 0.9864 - val_loss: 4.5279 - val_acc: 1.3200e-04\n",
      "Train on 20 samples, validate on 20 samples\n",
      "Epoch 1/1\n",
      "20/20 [==============================] - 0s 16ms/step - loss: 2.7985 - acc: 0.9929 - val_loss: 4.5088 - val_acc: 1.4560e-04\n",
      "Train on 20 samples, validate on 20 samples\n",
      "Epoch 1/1\n",
      "20/20 [==============================] - 0s 15ms/step - loss: 2.6302 - acc: 0.9950 - val_loss: 4.5073 - val_acc: 1.4560e-04\n",
      "Train on 20 samples, validate on 20 samples\n",
      "Epoch 1/1\n",
      "20/20 [==============================] - 0s 15ms/step - loss: 2.1858 - acc: 0.9934 - val_loss: 4.5101 - val_acc: 1.4320e-04\n",
      "Train on 20 samples, validate on 20 samples\n",
      "Epoch 1/1\n",
      "20/20 [==============================] - 0s 15ms/step - loss: 2.9814 - acc: 0.9947 - val_loss: 4.5298 - val_acc: 1.2800e-04\n",
      "Train on 20 samples, validate on 20 samples\n",
      "Epoch 1/1\n",
      "20/20 [==============================] - 0s 15ms/step - loss: 2.8409 - acc: 0.9880 - val_loss: 4.5173 - val_acc: 1.4000e-04\n",
      "Train on 20 samples, validate on 20 samples\n",
      "Epoch 1/1\n",
      "20/20 [==============================] - 0s 16ms/step - loss: 2.6267 - acc: 0.9924 - val_loss: 4.5075 - val_acc: 1.4560e-04\n",
      "Train on 20 samples, validate on 20 samples\n",
      "Epoch 1/1\n",
      "20/20 [==============================] - 0s 15ms/step - loss: 2.6656 - acc: 0.9929 - val_loss: 4.5013 - val_acc: 1.6080e-04\n",
      "Train on 20 samples, validate on 20 samples\n",
      "Epoch 1/1\n",
      "20/20 [==============================] - 0s 16ms/step - loss: 3.5391 - acc: 0.9943 - val_loss: 4.5031 - val_acc: 1.6400e-04\n",
      "Train on 20 samples, validate on 20 samples\n",
      "Epoch 1/1\n",
      "20/20 [==============================] - 0s 16ms/step - loss: 3.4437 - acc: 0.9927 - val_loss: 4.5054 - val_acc: 1.7200e-04\n",
      "Train on 20 samples, validate on 20 samples\n",
      "Epoch 1/1\n",
      "20/20 [==============================] - 0s 16ms/step - loss: 2.5801 - acc: 0.9937 - val_loss: 4.5117 - val_acc: 1.7120e-04\n",
      "Train on 20 samples, validate on 20 samples\n",
      "Epoch 1/1\n",
      "20/20 [==============================] - 0s 15ms/step - loss: 2.8356 - acc: 0.9913 - val_loss: 4.5044 - val_acc: 1.8480e-04\n",
      "Train on 20 samples, validate on 20 samples\n",
      "Epoch 1/1\n",
      "20/20 [==============================] - 0s 15ms/step - loss: 3.1508 - acc: 0.9923 - val_loss: 4.4899 - val_acc: 2.1680e-04\n",
      "Train on 20 samples, validate on 20 samples\n",
      "Epoch 1/1\n",
      "20/20 [==============================] - 0s 15ms/step - loss: 2.9971 - acc: 0.9948 - val_loss: 4.4884 - val_acc: 2.1680e-04\n",
      "Train on 20 samples, validate on 20 samples\n",
      "Epoch 1/1\n",
      "20/20 [==============================] - 0s 16ms/step - loss: 2.4635 - acc: 0.9946 - val_loss: 4.4989 - val_acc: 1.9120e-04\n",
      "Train on 20 samples, validate on 20 samples\n",
      "Epoch 1/1\n",
      "20/20 [==============================] - 0s 16ms/step - loss: 2.4710 - acc: 0.9915 - val_loss: 4.5004 - val_acc: 1.8480e-04\n",
      "Train on 20 samples, validate on 20 samples\n",
      "Epoch 1/1\n",
      "20/20 [==============================] - 0s 15ms/step - loss: 3.2369 - acc: 0.9931 - val_loss: 4.5071 - val_acc: 1.6720e-04\n",
      "Train on 20 samples, validate on 20 samples\n",
      "Epoch 1/1\n",
      "20/20 [==============================] - 0s 15ms/step - loss: 2.7472 - acc: 0.9880 - val_loss: 4.4854 - val_acc: 2.1440e-04\n",
      "Train on 20 samples, validate on 20 samples\n",
      "Epoch 1/1\n",
      "20/20 [==============================] - 0s 15ms/step - loss: 2.6057 - acc: 0.9934 - val_loss: 4.4719 - val_acc: 2.3360e-04\n",
      "Train on 20 samples, validate on 20 samples\n",
      "Epoch 1/1\n",
      "20/20 [==============================] - 0s 15ms/step - loss: 4.1267 - acc: 0.9904 - val_loss: 4.4436 - val_acc: 3.0640e-04\n",
      "Train on 20 samples, validate on 20 samples\n",
      "Epoch 1/1\n",
      "20/20 [==============================] - 0s 15ms/step - loss: 2.7304 - acc: 0.9979 - val_loss: 4.4539 - val_acc: 2.9040e-04\n",
      "Train on 20 samples, validate on 20 samples\n",
      "Epoch 1/1\n",
      "20/20 [==============================] - 0s 15ms/step - loss: 3.6172 - acc: 0.9957 - val_loss: 4.4855 - val_acc: 2.3760e-04\n",
      "Train on 20 samples, validate on 20 samples\n",
      "Epoch 1/1\n",
      "20/20 [==============================] - 0s 15ms/step - loss: 4.0317 - acc: 0.9916 - val_loss: 4.5028 - val_acc: 2.3120e-04\n",
      "Train on 20 samples, validate on 20 samples\n",
      "Epoch 1/1\n",
      "20/20 [==============================] - 0s 15ms/step - loss: 3.1370 - acc: 0.9897 - val_loss: 4.4940 - val_acc: 2.5600e-04\n",
      "Train on 20 samples, validate on 20 samples\n",
      "Epoch 1/1\n",
      "20/20 [==============================] - 0s 15ms/step - loss: 2.7942 - acc: 0.9907 - val_loss: 4.4706 - val_acc: 3.3360e-04\n",
      "Train on 20 samples, validate on 20 samples\n",
      "Epoch 1/1\n",
      "20/20 [==============================] - 0s 15ms/step - loss: 2.4975 - acc: 0.9944 - val_loss: 4.4604 - val_acc: 3.7280e-04\n",
      "Train on 20 samples, validate on 20 samples\n",
      "Epoch 1/1\n",
      "20/20 [==============================] - 0s 16ms/step - loss: 2.5886 - acc: 0.9957 - val_loss: 4.4756 - val_acc: 3.4560e-04\n",
      "Train on 20 samples, validate on 20 samples\n",
      "Epoch 1/1\n",
      "20/20 [==============================] - 0s 15ms/step - loss: 2.8221 - acc: 0.9938 - val_loss: 4.4980 - val_acc: 3.1360e-04\n",
      "Train on 20 samples, validate on 20 samples\n",
      "Epoch 1/1\n",
      "20/20 [==============================] - 0s 16ms/step - loss: 2.5384 - acc: 0.9914 - val_loss: 4.5100 - val_acc: 2.9440e-04\n",
      "Train on 20 samples, validate on 20 samples\n",
      "Epoch 1/1\n",
      "20/20 [==============================] - 0s 15ms/step - loss: 2.9735 - acc: 0.9909 - val_loss: 4.5057 - val_acc: 3.1680e-04\n",
      "Train on 20 samples, validate on 20 samples\n",
      "Epoch 1/1\n",
      "20/20 [==============================] - 0s 15ms/step - loss: 2.5496 - acc: 0.9892 - val_loss: 4.4775 - val_acc: 3.6720e-04\n",
      "Train on 20 samples, validate on 20 samples\n",
      "Epoch 1/1\n",
      "20/20 [==============================] - 0s 15ms/step - loss: 2.6015 - acc: 0.9941 - val_loss: 4.4613 - val_acc: 4.1360e-04\n",
      "Train on 20 samples, validate on 20 samples\n",
      "Epoch 1/1\n",
      "20/20 [==============================] - 0s 15ms/step - loss: 2.7037 - acc: 0.9955 - val_loss: 4.4645 - val_acc: 3.9360e-04\n",
      "Train on 20 samples, validate on 20 samples\n",
      "Epoch 1/1\n",
      "20/20 [==============================] - 0s 15ms/step - loss: 2.3487 - acc: 0.9950 - val_loss: 4.4849 - val_acc: 3.3920e-04\n",
      "Train on 20 samples, validate on 20 samples\n",
      "Epoch 1/1\n",
      "20/20 [==============================] - 0s 16ms/step - loss: 2.6101 - acc: 0.9935 - val_loss: 4.5101 - val_acc: 2.8880e-04\n",
      "Train on 20 samples, validate on 20 samples\n",
      "Epoch 1/1\n",
      "20/20 [==============================] - 0s 15ms/step - loss: 2.9948 - acc: 0.9866 - val_loss: 4.4860 - val_acc: 3.3200e-04\n",
      "Train on 20 samples, validate on 20 samples\n",
      "Epoch 1/1\n",
      "20/20 [==============================] - 0s 16ms/step - loss: 2.5078 - acc: 0.9930 - val_loss: 4.4687 - val_acc: 3.6640e-04\n",
      "Train on 20 samples, validate on 20 samples\n",
      "Epoch 1/1\n",
      "20/20 [==============================] - 0s 15ms/step - loss: 3.0616 - acc: 0.9946 - val_loss: 4.4673 - val_acc: 3.7120e-04\n",
      "Train on 20 samples, validate on 20 samples\n",
      "Epoch 1/1\n",
      "20/20 [==============================] - 0s 15ms/step - loss: 2.5127 - acc: 0.9956 - val_loss: 4.4851 - val_acc: 3.2480e-04\n"
     ]
    },
    {
     "name": "stdout",
     "output_type": "stream",
     "text": [
      "Train on 20 samples, validate on 20 samples\n",
      "Epoch 1/1\n",
      "20/20 [==============================] - 0s 15ms/step - loss: 2.6559 - acc: 0.9942 - val_loss: 4.5131 - val_acc: 2.5520e-04\n",
      "Train on 20 samples, validate on 20 samples\n",
      "Epoch 1/1\n",
      "20/20 [==============================] - 0s 15ms/step - loss: 2.4917 - acc: 0.9908 - val_loss: 4.5200 - val_acc: 2.3040e-04\n",
      "Train on 20 samples, validate on 20 samples\n",
      "Epoch 1/1\n",
      "20/20 [==============================] - 0s 16ms/step - loss: 3.7655 - acc: 0.9890 - val_loss: 4.4917 - val_acc: 2.9920e-04\n",
      "Train on 20 samples, validate on 20 samples\n",
      "Epoch 1/1\n",
      "20/20 [==============================] - 0s 15ms/step - loss: 2.2766 - acc: 0.9932 - val_loss: 4.4679 - val_acc: 3.5920e-04\n",
      "Train on 20 samples, validate on 20 samples\n",
      "Epoch 1/1\n",
      "20/20 [==============================] - 0s 16ms/step - loss: 3.1892 - acc: 0.9966 - val_loss: 4.4720 - val_acc: 3.5120e-04\n",
      "Train on 20 samples, validate on 20 samples\n",
      "Epoch 1/1\n",
      "20/20 [==============================] - 0s 15ms/step - loss: 2.7207 - acc: 0.9960 - val_loss: 4.5011 - val_acc: 2.7840e-04\n",
      "Train on 20 samples, validate on 20 samples\n",
      "Epoch 1/1\n",
      "20/20 [==============================] - 0s 16ms/step - loss: 2.5421 - acc: 0.9941 - val_loss: 4.5367 - val_acc: 2.0960e-04\n",
      "Train on 20 samples, validate on 20 samples\n",
      "Epoch 1/1\n",
      "20/20 [==============================] - 0s 15ms/step - loss: 2.6181 - acc: 0.9890 - val_loss: 4.5430 - val_acc: 2.0880e-04\n",
      "Train on 20 samples, validate on 20 samples\n",
      "Epoch 1/1\n",
      "20/20 [==============================] - 0s 16ms/step - loss: 2.4702 - acc: 0.9868 - val_loss: 4.5034 - val_acc: 2.9200e-04\n",
      "Train on 20 samples, validate on 20 samples\n",
      "Epoch 1/1\n",
      "20/20 [==============================] - 0s 15ms/step - loss: 2.9478 - acc: 0.9946 - val_loss: 4.4805 - val_acc: 3.9200e-04\n",
      "Train on 20 samples, validate on 20 samples\n",
      "Epoch 1/1\n",
      "20/20 [==============================] - 0s 15ms/step - loss: 2.8308 - acc: 0.9968 - val_loss: 4.4874 - val_acc: 3.7440e-04\n",
      "Train on 20 samples, validate on 20 samples\n",
      "Epoch 1/1\n",
      "20/20 [==============================] - 0s 15ms/step - loss: 2.8625 - acc: 0.9963 - val_loss: 4.5174 - val_acc: 2.7600e-04\n",
      "Train on 20 samples, validate on 20 samples\n",
      "Epoch 1/1\n",
      "20/20 [==============================] - 0s 15ms/step - loss: 3.0907 - acc: 0.9936 - val_loss: 4.5499 - val_acc: 2.1200e-04\n",
      "Train on 20 samples, validate on 20 samples\n",
      "Epoch 1/1\n",
      "20/20 [==============================] - 0s 15ms/step - loss: 2.9453 - acc: 0.9925 - val_loss: 4.5771 - val_acc: 1.7760e-04\n",
      "Train on 20 samples, validate on 20 samples\n",
      "Epoch 1/1\n",
      "20/20 [==============================] - 0s 15ms/step - loss: 2.4996 - acc: 0.9878 - val_loss: 4.5623 - val_acc: 1.9520e-04\n",
      "Train on 20 samples, validate on 20 samples\n",
      "Epoch 1/1\n",
      "20/20 [==============================] - 0s 15ms/step - loss: 2.6141 - acc: 0.9898 - val_loss: 4.5263 - val_acc: 2.4720e-04\n",
      "Train on 20 samples, validate on 20 samples\n",
      "Epoch 1/1\n",
      "20/20 [==============================] - 0s 15ms/step - loss: 2.4030 - acc: 0.9943 - val_loss: 4.5095 - val_acc: 2.7920e-04\n",
      "Train on 20 samples, validate on 20 samples\n",
      "Epoch 1/1\n",
      "20/20 [==============================] - 0s 15ms/step - loss: 2.6897 - acc: 0.9968 - val_loss: 4.5268 - val_acc: 2.2720e-04\n",
      "Train on 20 samples, validate on 20 samples\n",
      "Epoch 1/1\n",
      "20/20 [==============================] - 0s 15ms/step - loss: 3.1298 - acc: 0.9950 - val_loss: 4.5593 - val_acc: 1.7520e-04\n",
      "Train on 20 samples, validate on 20 samples\n",
      "Epoch 1/1\n",
      "20/20 [==============================] - 0s 15ms/step - loss: 2.1566 - acc: 0.9884 - val_loss: 4.5545 - val_acc: 1.7440e-04\n",
      "Train on 20 samples, validate on 20 samples\n",
      "Epoch 1/1\n",
      "20/20 [==============================] - 0s 15ms/step - loss: 2.3529 - acc: 0.9913 - val_loss: 4.5420 - val_acc: 1.7760e-04\n",
      "Train on 20 samples, validate on 20 samples\n",
      "Epoch 1/1\n",
      "20/20 [==============================] - 0s 16ms/step - loss: 2.2763 - acc: 0.9912 - val_loss: 4.5151 - val_acc: 1.9440e-04\n",
      "Train on 20 samples, validate on 20 samples\n",
      "Epoch 1/1\n",
      "20/20 [==============================] - 0s 15ms/step - loss: 2.6333 - acc: 0.9956 - val_loss: 4.5132 - val_acc: 1.8880e-04\n",
      "Train on 20 samples, validate on 20 samples\n",
      "Epoch 1/1\n",
      "20/20 [==============================] - 0s 15ms/step - loss: 2.7716 - acc: 0.9946 - val_loss: 4.5306 - val_acc: 1.6160e-04\n",
      "Train on 20 samples, validate on 20 samples\n",
      "Epoch 1/1\n",
      "20/20 [==============================] - 0s 16ms/step - loss: 2.8931 - acc: 0.9945 - val_loss: 4.5594 - val_acc: 1.1760e-04\n",
      "Train on 20 samples, validate on 20 samples\n",
      "Epoch 1/1\n",
      "20/20 [==============================] - 0s 15ms/step - loss: 2.5991 - acc: 0.9904 - val_loss: 4.5654 - val_acc: 1.1200e-04\n",
      "Train on 20 samples, validate on 20 samples\n",
      "Epoch 1/1\n",
      "20/20 [==============================] - 0s 15ms/step - loss: 2.3768 - acc: 0.9887 - val_loss: 4.5359 - val_acc: 1.2080e-04\n",
      "Train on 20 samples, validate on 20 samples\n",
      "Epoch 1/1\n",
      "20/20 [==============================] - 0s 15ms/step - loss: 2.1290 - acc: 0.9939 - val_loss: 4.5210 - val_acc: 1.3520e-04\n",
      "Train on 20 samples, validate on 20 samples\n",
      "Epoch 1/1\n",
      "20/20 [==============================] - 0s 15ms/step - loss: 2.4226 - acc: 0.9952 - val_loss: 4.5273 - val_acc: 1.1840e-04\n",
      "Train on 20 samples, validate on 20 samples\n",
      "Epoch 1/1\n",
      "20/20 [==============================] - 0s 15ms/step - loss: 2.2035 - acc: 0.9937 - val_loss: 4.5424 - val_acc: 1.1120e-04\n",
      "Train on 20 samples, validate on 20 samples\n",
      "Epoch 1/1\n",
      "20/20 [==============================] - 0s 15ms/step - loss: 2.3677 - acc: 0.9942 - val_loss: 4.5691 - val_acc: 8.8000e-05\n",
      "Train on 20 samples, validate on 20 samples\n",
      "Epoch 1/1\n",
      "20/20 [==============================] - 0s 16ms/step - loss: 2.6975 - acc: 0.9896 - val_loss: 4.5743 - val_acc: 8.5600e-05\n",
      "Train on 20 samples, validate on 20 samples\n",
      "Epoch 1/1\n",
      "20/20 [==============================] - 0s 15ms/step - loss: 2.2113 - acc: 0.9887 - val_loss: 4.5518 - val_acc: 9.8400e-05\n",
      "Train on 20 samples, validate on 20 samples\n",
      "Epoch 1/1\n",
      "20/20 [==============================] - 0s 16ms/step - loss: 2.5573 - acc: 0.9942 - val_loss: 4.5401 - val_acc: 1.0240e-04\n",
      "Train on 20 samples, validate on 20 samples\n",
      "Epoch 1/1\n",
      "20/20 [==============================] - 0s 16ms/step - loss: 2.7100 - acc: 0.9955 - val_loss: 4.5525 - val_acc: 9.0400e-05\n",
      "Train on 20 samples, validate on 20 samples\n",
      "Epoch 1/1\n",
      "20/20 [==============================] - 0s 15ms/step - loss: 2.3121 - acc: 0.9961 - val_loss: 4.5829 - val_acc: 6.9600e-05\n",
      "Train on 20 samples, validate on 20 samples\n",
      "Epoch 1/1\n",
      "20/20 [==============================] - 0s 15ms/step - loss: 2.6656 - acc: 0.9900 - val_loss: 4.5884 - val_acc: 5.7600e-05\n",
      "Train on 20 samples, validate on 20 samples\n",
      "Epoch 1/1\n",
      "20/20 [==============================] - 0s 15ms/step - loss: 3.1639 - acc: 0.9886 - val_loss: 4.5593 - val_acc: 8.0000e-05\n",
      "Train on 20 samples, validate on 20 samples\n",
      "Epoch 1/1\n",
      "20/20 [==============================] - 0s 15ms/step - loss: 2.6418 - acc: 0.9947 - val_loss: 4.5459 - val_acc: 8.4800e-05\n",
      "Train on 20 samples, validate on 20 samples\n",
      "Epoch 1/1\n",
      "20/20 [==============================] - 0s 16ms/step - loss: 2.6001 - acc: 0.9963 - val_loss: 4.5601 - val_acc: 7.6000e-05\n",
      "Train on 20 samples, validate on 20 samples\n",
      "Epoch 1/1\n",
      "20/20 [==============================] - 0s 16ms/step - loss: 2.4851 - acc: 0.9949 - val_loss: 4.5871 - val_acc: 5.6800e-05\n",
      "Train on 20 samples, validate on 20 samples\n",
      "Epoch 1/1\n",
      "20/20 [==============================] - 0s 15ms/step - loss: 2.4153 - acc: 0.9906 - val_loss: 4.5917 - val_acc: 5.5200e-05\n",
      "Train on 20 samples, validate on 20 samples\n",
      "Epoch 1/1\n",
      "20/20 [==============================] - 0s 15ms/step - loss: 2.2754 - acc: 0.9890 - val_loss: 4.5697 - val_acc: 7.3600e-05\n",
      "Train on 20 samples, validate on 20 samples\n",
      "Epoch 1/1\n",
      "20/20 [==============================] - 0s 15ms/step - loss: 2.6068 - acc: 0.9951 - val_loss: 4.5670 - val_acc: 7.6800e-05\n",
      "Train on 20 samples, validate on 20 samples\n",
      "Epoch 1/1\n",
      "20/20 [==============================] - 0s 16ms/step - loss: 2.8237 - acc: 0.9942 - val_loss: 4.5773 - val_acc: 7.6800e-05\n",
      "Train on 20 samples, validate on 20 samples\n",
      "Epoch 1/1\n",
      "20/20 [==============================] - 0s 15ms/step - loss: 2.3960 - acc: 0.9931 - val_loss: 4.5965 - val_acc: 6.8000e-05\n",
      "Train on 20 samples, validate on 20 samples\n",
      "Epoch 1/1\n"
     ]
    },
    {
     "name": "stdout",
     "output_type": "stream",
     "text": [
      "20/20 [==============================] - 0s 15ms/step - loss: 2.0742 - acc: 0.9891 - val_loss: 4.5942 - val_acc: 6.9600e-05\n",
      "Train on 20 samples, validate on 20 samples\n",
      "Epoch 1/1\n",
      "20/20 [==============================] - 0s 16ms/step - loss: 3.0571 - acc: 0.9916 - val_loss: 4.5846 - val_acc: 8.2400e-05\n",
      "Train on 20 samples, validate on 20 samples\n",
      "Epoch 1/1\n",
      "20/20 [==============================] - 0s 15ms/step - loss: 2.8516 - acc: 0.9940 - val_loss: 4.5864 - val_acc: 8.2400e-05\n",
      "Train on 20 samples, validate on 20 samples\n",
      "Epoch 1/1\n",
      "20/20 [==============================] - 0s 15ms/step - loss: 2.3812 - acc: 0.9931 - val_loss: 4.5908 - val_acc: 8.7200e-05\n",
      "Train on 20 samples, validate on 20 samples\n",
      "Epoch 1/1\n",
      "20/20 [==============================] - 0s 16ms/step - loss: 2.6243 - acc: 0.9944 - val_loss: 4.6059 - val_acc: 8.2400e-05\n",
      "Train on 20 samples, validate on 20 samples\n",
      "Epoch 1/1\n",
      "20/20 [==============================] - 0s 16ms/step - loss: 2.3433 - acc: 0.9923 - val_loss: 4.6109 - val_acc: 8.5600e-05\n",
      "Train on 20 samples, validate on 20 samples\n",
      "Epoch 1/1\n",
      "20/20 [==============================] - 0s 16ms/step - loss: 1.8730 - acc: 0.9903 - val_loss: 4.5992 - val_acc: 9.0400e-05\n",
      "Train on 20 samples, validate on 20 samples\n",
      "Epoch 1/1\n",
      "20/20 [==============================] - 0s 15ms/step - loss: 2.1248 - acc: 0.9933 - val_loss: 4.5910 - val_acc: 9.8400e-05\n",
      "Train on 20 samples, validate on 20 samples\n",
      "Epoch 1/1\n",
      "20/20 [==============================] - 0s 15ms/step - loss: 2.6908 - acc: 0.9951 - val_loss: 4.5982 - val_acc: 9.8400e-05\n",
      "Train on 20 samples, validate on 20 samples\n",
      "Epoch 1/1\n",
      "20/20 [==============================] - 0s 15ms/step - loss: 2.6036 - acc: 0.9930 - val_loss: 4.6040 - val_acc: 1.0400e-04\n",
      "Train on 20 samples, validate on 20 samples\n",
      "Epoch 1/1\n",
      "20/20 [==============================] - 0s 15ms/step - loss: 2.1150 - acc: 0.9956 - val_loss: 4.6272 - val_acc: 9.4400e-05\n",
      "Train on 20 samples, validate on 20 samples\n",
      "Epoch 1/1\n",
      "20/20 [==============================] - 0s 15ms/step - loss: 2.3964 - acc: 0.9910 - val_loss: 4.6361 - val_acc: 9.5200e-05\n",
      "Train on 20 samples, validate on 20 samples\n",
      "Epoch 1/1\n",
      "20/20 [==============================] - 0s 15ms/step - loss: 2.4968 - acc: 0.9898 - val_loss: 4.6230 - val_acc: 1.0400e-04\n",
      "Train on 20 samples, validate on 20 samples\n",
      "Epoch 1/1\n",
      "20/20 [==============================] - 0s 16ms/step - loss: 2.6460 - acc: 0.9922 - val_loss: 4.6076 - val_acc: 1.2160e-04\n",
      "Train on 20 samples, validate on 20 samples\n",
      "Epoch 1/1\n",
      "20/20 [==============================] - 0s 15ms/step - loss: 2.8425 - acc: 0.9952 - val_loss: 4.6165 - val_acc: 1.2080e-04\n",
      "Train on 20 samples, validate on 20 samples\n",
      "Epoch 1/1\n",
      "20/20 [==============================] - 0s 15ms/step - loss: 2.5535 - acc: 0.9944 - val_loss: 4.6350 - val_acc: 1.0960e-04\n",
      "Train on 20 samples, validate on 20 samples\n",
      "Epoch 1/1\n",
      "20/20 [==============================] - 0s 16ms/step - loss: 2.4103 - acc: 0.9930 - val_loss: 4.6509 - val_acc: 9.9200e-05\n",
      "Train on 20 samples, validate on 20 samples\n",
      "Epoch 1/1\n",
      "20/20 [==============================] - 0s 16ms/step - loss: 1.8174 - acc: 0.9850 - val_loss: 4.6085 - val_acc: 1.2880e-04\n",
      "Train on 20 samples, validate on 20 samples\n",
      "Epoch 1/1\n",
      "20/20 [==============================] - 0s 15ms/step - loss: 2.0824 - acc: 0.9934 - val_loss: 4.5742 - val_acc: 1.6720e-04\n",
      "Train on 20 samples, validate on 20 samples\n",
      "Epoch 1/1\n",
      "20/20 [==============================] - 0s 16ms/step - loss: 2.4654 - acc: 0.9975 - val_loss: 4.5774 - val_acc: 1.6000e-04\n",
      "Train on 20 samples, validate on 20 samples\n",
      "Epoch 1/1\n",
      "20/20 [==============================] - 0s 16ms/step - loss: 2.3695 - acc: 0.9971 - val_loss: 4.6106 - val_acc: 1.2480e-04\n",
      "Train on 20 samples, validate on 20 samples\n",
      "Epoch 1/1\n",
      "20/20 [==============================] - 0s 15ms/step - loss: 3.1950 - acc: 0.9934 - val_loss: 4.6470 - val_acc: 1.0240e-04\n",
      "Train on 20 samples, validate on 20 samples\n",
      "Epoch 1/1\n",
      "20/20 [==============================] - 0s 15ms/step - loss: 3.1974 - acc: 0.9847 - val_loss: 4.6237 - val_acc: 1.2640e-04\n",
      "Train on 20 samples, validate on 20 samples\n",
      "Epoch 1/1\n",
      "20/20 [==============================] - 0s 15ms/step - loss: 2.8376 - acc: 0.9905 - val_loss: 4.5800 - val_acc: 1.8640e-04\n",
      "Train on 20 samples, validate on 20 samples\n",
      "Epoch 1/1\n",
      "20/20 [==============================] - 0s 16ms/step - loss: 2.8951 - acc: 0.9981 - val_loss: 4.5780 - val_acc: 1.9520e-04\n",
      "Train on 20 samples, validate on 20 samples\n",
      "Epoch 1/1\n",
      "20/20 [==============================] - 0s 15ms/step - loss: 2.8244 - acc: 0.9969 - val_loss: 4.6057 - val_acc: 1.6800e-04\n",
      "Train on 20 samples, validate on 20 samples\n",
      "Epoch 1/1\n",
      "20/20 [==============================] - 0s 16ms/step - loss: 3.3355 - acc: 0.9943 - val_loss: 4.6428 - val_acc: 1.4400e-04\n",
      "Train on 20 samples, validate on 20 samples\n",
      "Epoch 1/1\n",
      "20/20 [==============================] - 0s 16ms/step - loss: 2.1565 - acc: 0.9876 - val_loss: 4.6298 - val_acc: 1.6320e-04\n",
      "Train on 20 samples, validate on 20 samples\n",
      "Epoch 1/1\n",
      "20/20 [==============================] - 0s 15ms/step - loss: 2.8111 - acc: 0.9900 - val_loss: 4.5936 - val_acc: 2.0480e-04\n",
      "Train on 20 samples, validate on 20 samples\n",
      "Epoch 1/1\n",
      "20/20 [==============================] - 0s 15ms/step - loss: 2.7781 - acc: 0.9945 - val_loss: 4.5780 - val_acc: 2.4320e-04\n",
      "Train on 20 samples, validate on 20 samples\n",
      "Epoch 1/1\n",
      "20/20 [==============================] - 0s 15ms/step - loss: 2.0154 - acc: 0.9959 - val_loss: 4.5883 - val_acc: 2.2320e-04\n",
      "Train on 20 samples, validate on 20 samples\n",
      "Epoch 1/1\n",
      "20/20 [==============================] - 0s 16ms/step - loss: 2.7630 - acc: 0.9949 - val_loss: 4.6154 - val_acc: 1.9280e-04\n",
      "Train on 20 samples, validate on 20 samples\n",
      "Epoch 1/1\n",
      "20/20 [==============================] - 0s 15ms/step - loss: 2.0542 - acc: 0.9915 - val_loss: 4.6281 - val_acc: 1.8400e-04\n",
      "Train on 20 samples, validate on 20 samples\n",
      "Epoch 1/1\n",
      "20/20 [==============================] - 0s 16ms/step - loss: 2.7281 - acc: 0.9891 - val_loss: 4.6076 - val_acc: 1.9920e-04\n",
      "Train on 20 samples, validate on 20 samples\n",
      "Epoch 1/1\n",
      "20/20 [==============================] - 0s 15ms/step - loss: 2.8454 - acc: 0.9936 - val_loss: 4.5897 - val_acc: 2.2000e-04\n",
      "Train on 20 samples, validate on 20 samples\n",
      "Epoch 1/1\n",
      "20/20 [==============================] - 0s 15ms/step - loss: 2.4928 - acc: 0.9950 - val_loss: 4.5889 - val_acc: 2.1360e-04\n",
      "Train on 20 samples, validate on 20 samples\n",
      "Epoch 1/1\n",
      "20/20 [==============================] - 0s 15ms/step - loss: 2.5506 - acc: 0.9951 - val_loss: 4.6057 - val_acc: 1.8560e-04\n",
      "Train on 20 samples, validate on 20 samples\n",
      "Epoch 1/1\n",
      "20/20 [==============================] - 0s 15ms/step - loss: 2.7374 - acc: 0.9925 - val_loss: 4.6194 - val_acc: 1.6240e-04\n",
      "Train on 20 samples, validate on 20 samples\n",
      "Epoch 1/1\n",
      "20/20 [==============================] - 0s 15ms/step - loss: 2.6895 - acc: 0.9907 - val_loss: 4.6123 - val_acc: 1.6000e-04\n",
      "Train on 20 samples, validate on 20 samples\n",
      "Epoch 1/1\n",
      "20/20 [==============================] - 0s 16ms/step - loss: 2.6757 - acc: 0.9915 - val_loss: 4.5984 - val_acc: 1.6000e-04\n",
      "Train on 20 samples, validate on 20 samples\n",
      "Epoch 1/1\n",
      "20/20 [==============================] - 0s 16ms/step - loss: 2.1984 - acc: 0.9927 - val_loss: 4.5851 - val_acc: 1.6160e-04\n",
      "Train on 20 samples, validate on 20 samples\n",
      "Epoch 1/1\n",
      "20/20 [==============================] - 0s 16ms/step - loss: 2.5027 - acc: 0.9928 - val_loss: 4.5763 - val_acc: 1.5920e-04\n",
      "Train on 20 samples, validate on 20 samples\n",
      "Epoch 1/1\n",
      "20/20 [==============================] - 0s 15ms/step - loss: 2.1123 - acc: 0.9940 - val_loss: 4.5823 - val_acc: 1.4160e-04\n",
      "Train on 20 samples, validate on 20 samples\n",
      "Epoch 1/1\n",
      "20/20 [==============================] - 0s 15ms/step - loss: 2.4771 - acc: 0.9956 - val_loss: 4.6097 - val_acc: 1.1440e-04\n",
      "Train on 20 samples, validate on 20 samples\n",
      "Epoch 1/1\n",
      "20/20 [==============================] - 0s 15ms/step - loss: 3.0337 - acc: 0.9900 - val_loss: 4.6035 - val_acc: 1.1280e-04\n",
      "Train on 20 samples, validate on 20 samples\n",
      "Epoch 1/1\n",
      "20/20 [==============================] - 0s 15ms/step - loss: 2.6223 - acc: 0.9939 - val_loss: 4.6010 - val_acc: 1.0960e-04\n",
      "Train on 20 samples, validate on 20 samples\n",
      "Epoch 1/1\n",
      "20/20 [==============================] - 0s 15ms/step - loss: 3.1554 - acc: 0.9920 - val_loss: 4.5938 - val_acc: 1.0960e-04\n"
     ]
    },
    {
     "name": "stdout",
     "output_type": "stream",
     "text": [
      "Train on 20 samples, validate on 20 samples\n",
      "Epoch 1/1\n",
      "20/20 [==============================] - 0s 15ms/step - loss: 2.6513 - acc: 0.9915 - val_loss: 4.5770 - val_acc: 1.1280e-04\n",
      "Train on 20 samples, validate on 20 samples\n",
      "Epoch 1/1\n",
      "20/20 [==============================] - 0s 15ms/step - loss: 2.2702 - acc: 0.9946 - val_loss: 4.5774 - val_acc: 1.0800e-04\n",
      "Train on 20 samples, validate on 20 samples\n",
      "Epoch 1/1\n",
      "20/20 [==============================] - 0s 15ms/step - loss: 2.6336 - acc: 0.9945 - val_loss: 4.5900 - val_acc: 8.8000e-05\n",
      "Train on 20 samples, validate on 20 samples\n",
      "Epoch 1/1\n",
      "20/20 [==============================] - 0s 15ms/step - loss: 2.3176 - acc: 0.9932 - val_loss: 4.6034 - val_acc: 8.0000e-05\n",
      "Train on 20 samples, validate on 20 samples\n",
      "Epoch 1/1\n",
      "20/20 [==============================] - 0s 15ms/step - loss: 2.2321 - acc: 0.9914 - val_loss: 4.6034 - val_acc: 7.7600e-05\n",
      "Train on 20 samples, validate on 20 samples\n",
      "Epoch 1/1\n",
      "20/20 [==============================] - 0s 16ms/step - loss: 2.4158 - acc: 0.9927 - val_loss: 4.6024 - val_acc: 7.2000e-05\n",
      "Train on 20 samples, validate on 20 samples\n",
      "Epoch 1/1\n",
      "20/20 [==============================] - 0s 15ms/step - loss: 3.3607 - acc: 0.9930 - val_loss: 4.6026 - val_acc: 7.1200e-05\n",
      "Train on 20 samples, validate on 20 samples\n",
      "Epoch 1/1\n",
      "20/20 [==============================] - 0s 15ms/step - loss: 2.2102 - acc: 0.9927 - val_loss: 4.6039 - val_acc: 6.8000e-05\n",
      "Train on 20 samples, validate on 20 samples\n",
      "Epoch 1/1\n",
      "20/20 [==============================] - 0s 16ms/step - loss: 2.4606 - acc: 0.9933 - val_loss: 4.6150 - val_acc: 5.4400e-05\n",
      "Train on 20 samples, validate on 20 samples\n",
      "Epoch 1/1\n",
      "20/20 [==============================] - 0s 15ms/step - loss: 2.6251 - acc: 0.9927 - val_loss: 4.6299 - val_acc: 4.1600e-05\n",
      "Train on 20 samples, validate on 20 samples\n",
      "Epoch 1/1\n",
      "20/20 [==============================] - 0s 15ms/step - loss: 2.4521 - acc: 0.9935 - val_loss: 4.6446 - val_acc: 2.4800e-05\n",
      "Train on 20 samples, validate on 20 samples\n",
      "Epoch 1/1\n",
      "20/20 [==============================] - 0s 16ms/step - loss: 2.1462 - acc: 0.9877 - val_loss: 4.6134 - val_acc: 4.0800e-05\n",
      "Train on 20 samples, validate on 20 samples\n",
      "Epoch 1/1\n",
      "20/20 [==============================] - 0s 15ms/step - loss: 1.9545 - acc: 0.9947 - val_loss: 4.6028 - val_acc: 4.3200e-05\n",
      "Train on 20 samples, validate on 20 samples\n",
      "Epoch 1/1\n",
      "20/20 [==============================] - 0s 16ms/step - loss: 2.3544 - acc: 0.9977 - val_loss: 4.6287 - val_acc: 2.0800e-05\n",
      "Train on 20 samples, validate on 20 samples\n",
      "Epoch 1/1\n",
      "20/20 [==============================] - 0s 16ms/step - loss: 2.6754 - acc: 0.9947 - val_loss: 4.6603 - val_acc: 4.8000e-06\n",
      "Train on 20 samples, validate on 20 samples\n",
      "Epoch 1/1\n",
      "20/20 [==============================] - 0s 16ms/step - loss: 3.2329 - acc: 0.9897 - val_loss: 4.6615 - val_acc: 2.4000e-06\n",
      "Train on 20 samples, validate on 20 samples\n",
      "Epoch 1/1\n",
      "20/20 [==============================] - 0s 15ms/step - loss: 2.2790 - acc: 0.9917 - val_loss: 4.6540 - val_acc: 1.6000e-06\n",
      "Train on 20 samples, validate on 20 samples\n",
      "Epoch 1/1\n",
      "20/20 [==============================] - 0s 15ms/step - loss: 2.6309 - acc: 0.9924 - val_loss: 4.6435 - val_acc: 1.6000e-06\n",
      "Train on 20 samples, validate on 20 samples\n",
      "Epoch 1/1\n",
      "20/20 [==============================] - 0s 15ms/step - loss: 2.3308 - acc: 0.9945 - val_loss: 4.6520 - val_acc: 0.0000e+00\n",
      "Train on 20 samples, validate on 20 samples\n",
      "Epoch 1/1\n",
      "20/20 [==============================] - 0s 16ms/step - loss: 2.3987 - acc: 0.9926 - val_loss: 4.6573 - val_acc: 0.0000e+00\n",
      "Train on 20 samples, validate on 20 samples\n",
      "Epoch 1/1\n",
      "20/20 [==============================] - 0s 16ms/step - loss: 2.7161 - acc: 0.9927 - val_loss: 4.6631 - val_acc: 0.0000e+00\n",
      "Train on 20 samples, validate on 20 samples\n",
      "Epoch 1/1\n",
      "20/20 [==============================] - 0s 15ms/step - loss: 2.4244 - acc: 0.9917 - val_loss: 4.6622 - val_acc: 0.0000e+00\n",
      "Train on 20 samples, validate on 20 samples\n",
      "Epoch 1/1\n",
      "20/20 [==============================] - 0s 15ms/step - loss: 1.8353 - acc: 0.9918 - val_loss: 4.6516 - val_acc: 0.0000e+00\n",
      "Train on 20 samples, validate on 20 samples\n",
      "Epoch 1/1\n",
      "20/20 [==============================] - 0s 16ms/step - loss: 2.6796 - acc: 0.9942 - val_loss: 4.6511 - val_acc: 0.0000e+00\n",
      "Train on 20 samples, validate on 20 samples\n",
      "Epoch 1/1\n",
      "20/20 [==============================] - 0s 15ms/step - loss: 2.7901 - acc: 0.9957 - val_loss: 4.6743 - val_acc: 0.0000e+00\n",
      "Train on 20 samples, validate on 20 samples\n",
      "Epoch 1/1\n",
      "20/20 [==============================] - 0s 15ms/step - loss: 2.0426 - acc: 0.9906 - val_loss: 4.6799 - val_acc: 0.0000e+00\n",
      "Train on 20 samples, validate on 20 samples\n",
      "Epoch 1/1\n",
      "20/20 [==============================] - 0s 16ms/step - loss: 2.6094 - acc: 0.9856 - val_loss: 4.6289 - val_acc: 0.0000e+00\n",
      "Train on 20 samples, validate on 20 samples\n",
      "Epoch 1/1\n",
      "20/20 [==============================] - 0s 16ms/step - loss: 2.3585 - acc: 0.9976 - val_loss: 4.6183 - val_acc: 0.0000e+00\n",
      "Train on 20 samples, validate on 20 samples\n",
      "Epoch 1/1\n",
      "20/20 [==============================] - 0s 15ms/step - loss: 2.5896 - acc: 0.9975 - val_loss: 4.6432 - val_acc: 0.0000e+00\n",
      "Train on 20 samples, validate on 20 samples\n",
      "Epoch 1/1\n",
      "20/20 [==============================] - 0s 15ms/step - loss: 2.0102 - acc: 0.9946 - val_loss: 4.6837 - val_acc: 0.0000e+00\n",
      "Train on 20 samples, validate on 20 samples\n",
      "Epoch 1/1\n",
      "20/20 [==============================] - 0s 15ms/step - loss: 2.0153 - acc: 0.9851 - val_loss: 4.6580 - val_acc: 0.0000e+00\n",
      "Train on 20 samples, validate on 20 samples\n",
      "Epoch 1/1\n",
      "20/20 [==============================] - 0s 15ms/step - loss: 2.0946 - acc: 0.9911 - val_loss: 4.6212 - val_acc: 0.0000e+00\n",
      "Train on 20 samples, validate on 20 samples\n",
      "Epoch 1/1\n",
      "20/20 [==============================] - 0s 15ms/step - loss: 2.4982 - acc: 0.9965 - val_loss: 4.6151 - val_acc: 0.0000e+00\n",
      "Train on 20 samples, validate on 20 samples\n",
      "Epoch 1/1\n",
      "20/20 [==============================] - 0s 15ms/step - loss: 2.3820 - acc: 0.9963 - val_loss: 4.6333 - val_acc: 0.0000e+00\n",
      "Train on 20 samples, validate on 20 samples\n",
      "Epoch 1/1\n",
      "20/20 [==============================] - 0s 16ms/step - loss: 2.9020 - acc: 0.9941 - val_loss: 4.6560 - val_acc: 0.0000e+00\n",
      "Train on 20 samples, validate on 20 samples\n",
      "Epoch 1/1\n",
      "20/20 [==============================] - 0s 15ms/step - loss: 2.6685 - acc: 0.9868 - val_loss: 4.6366 - val_acc: 0.0000e+00\n",
      "Train on 20 samples, validate on 20 samples\n",
      "Epoch 1/1\n",
      "20/20 [==============================] - 0s 16ms/step - loss: 2.1295 - acc: 0.9929 - val_loss: 4.6214 - val_acc: 0.0000e+00\n",
      "Train on 20 samples, validate on 20 samples\n",
      "Epoch 1/1\n",
      "20/20 [==============================] - 0s 15ms/step - loss: 2.2704 - acc: 0.9954 - val_loss: 4.6277 - val_acc: 0.0000e+00\n",
      "Train on 20 samples, validate on 20 samples\n",
      "Epoch 1/1\n",
      "20/20 [==============================] - 0s 15ms/step - loss: 2.6795 - acc: 0.9951 - val_loss: 4.6504 - val_acc: 0.0000e+00\n",
      "Train on 20 samples, validate on 20 samples\n",
      "Epoch 1/1\n",
      "20/20 [==============================] - 0s 15ms/step - loss: 2.8225 - acc: 0.9896 - val_loss: 4.6475 - val_acc: 0.0000e+00\n",
      "Train on 20 samples, validate on 20 samples\n",
      "Epoch 1/1\n",
      "20/20 [==============================] - 0s 15ms/step - loss: 1.9501 - acc: 0.9895 - val_loss: 4.6207 - val_acc: 0.0000e+00\n",
      "Train on 20 samples, validate on 20 samples\n",
      "Epoch 1/1\n",
      "20/20 [==============================] - 0s 15ms/step - loss: 2.4794 - acc: 0.9936 - val_loss: 4.6090 - val_acc: 0.0000e+00\n",
      "Train on 20 samples, validate on 20 samples\n",
      "Epoch 1/1\n",
      "20/20 [==============================] - 0s 16ms/step - loss: 2.5510 - acc: 0.9953 - val_loss: 4.6141 - val_acc: 0.0000e+00\n",
      "Train on 20 samples, validate on 20 samples\n",
      "Epoch 1/1\n",
      "20/20 [==============================] - 0s 16ms/step - loss: 1.9600 - acc: 0.9952 - val_loss: 4.6385 - val_acc: 0.0000e+00\n",
      "Train on 20 samples, validate on 20 samples\n",
      "Epoch 1/1\n",
      "20/20 [==============================] - 0s 15ms/step - loss: 2.0020 - acc: 0.9907 - val_loss: 4.6458 - val_acc: 0.0000e+00\n",
      "Train on 20 samples, validate on 20 samples\n",
      "Epoch 1/1\n",
      "20/20 [==============================] - 0s 15ms/step - loss: 2.2206 - acc: 0.9851 - val_loss: 4.5982 - val_acc: 0.0000e+00\n",
      "Train on 20 samples, validate on 20 samples\n",
      "Epoch 1/1\n"
     ]
    },
    {
     "name": "stdout",
     "output_type": "stream",
     "text": [
      "20/20 [==============================] - 0s 15ms/step - loss: 2.5909 - acc: 0.9961 - val_loss: 4.5791 - val_acc: 0.0000e+00\n",
      "Train on 20 samples, validate on 20 samples\n",
      "Epoch 1/1\n",
      "20/20 [==============================] - 0s 16ms/step - loss: 2.8035 - acc: 0.9975 - val_loss: 4.5904 - val_acc: 0.0000e+00\n",
      "Train on 20 samples, validate on 20 samples\n",
      "Epoch 1/1\n",
      "20/20 [==============================] - 0s 15ms/step - loss: 2.6015 - acc: 0.9953 - val_loss: 4.6254 - val_acc: 0.0000e+00\n",
      "Train on 20 samples, validate on 20 samples\n",
      "Epoch 1/1\n",
      "20/20 [==============================] - 0s 16ms/step - loss: 2.0646 - acc: 0.9924 - val_loss: 4.6538 - val_acc: 0.0000e+00\n",
      "Train on 20 samples, validate on 20 samples\n",
      "Epoch 1/1\n",
      "20/20 [==============================] - 0s 15ms/step - loss: 2.2249 - acc: 0.9800 - val_loss: 4.5876 - val_acc: 2.4000e-06\n",
      "Train on 20 samples, validate on 20 samples\n",
      "Epoch 1/1\n",
      "20/20 [==============================] - 0s 15ms/step - loss: 2.3250 - acc: 0.9960 - val_loss: 4.5506 - val_acc: 2.0000e-05\n",
      "Train on 20 samples, validate on 20 samples\n",
      "Epoch 1/1\n",
      "20/20 [==============================] - 0s 15ms/step - loss: 2.9373 - acc: 0.9987 - val_loss: 4.5546 - val_acc: 2.3200e-05\n",
      "Train on 20 samples, validate on 20 samples\n",
      "Epoch 1/1\n",
      "20/20 [==============================] - 0s 15ms/step - loss: 2.2127 - acc: 0.9980 - val_loss: 4.5924 - val_acc: 8.0000e-06\n",
      "Train on 20 samples, validate on 20 samples\n",
      "Epoch 1/1\n",
      "20/20 [==============================] - 0s 15ms/step - loss: 2.6024 - acc: 0.9940 - val_loss: 4.6361 - val_acc: 3.2000e-06\n",
      "Train on 20 samples, validate on 20 samples\n",
      "Epoch 1/1\n",
      "20/20 [==============================] - 0s 15ms/step - loss: 2.7502 - acc: 0.9879 - val_loss: 4.6469 - val_acc: 3.2000e-06\n",
      "Train on 20 samples, validate on 20 samples\n",
      "Epoch 1/1\n",
      "20/20 [==============================] - 0s 16ms/step - loss: 2.3679 - acc: 0.9868 - val_loss: 4.6175 - val_acc: 8.8000e-06\n",
      "Train on 20 samples, validate on 20 samples\n",
      "Epoch 1/1\n",
      "20/20 [==============================] - 0s 16ms/step - loss: 2.4254 - acc: 0.9923 - val_loss: 4.5875 - val_acc: 5.6000e-05\n",
      "Train on 20 samples, validate on 20 samples\n",
      "Epoch 1/1\n",
      "20/20 [==============================] - 0s 15ms/step - loss: 2.6919 - acc: 0.9976 - val_loss: 4.5920 - val_acc: 6.6400e-05\n",
      "Train on 20 samples, validate on 20 samples\n",
      "Epoch 1/1\n",
      "20/20 [==============================] - 0s 15ms/step - loss: 2.4647 - acc: 0.9969 - val_loss: 4.6250 - val_acc: 3.1200e-05\n",
      "Train on 20 samples, validate on 20 samples\n",
      "Epoch 1/1\n",
      "20/20 [==============================] - 0s 15ms/step - loss: 2.6146 - acc: 0.9959 - val_loss: 4.6770 - val_acc: 8.0000e-06\n",
      "Train on 20 samples, validate on 20 samples\n",
      "Epoch 1/1\n",
      "20/20 [==============================] - 0s 15ms/step - loss: 2.7716 - acc: 0.9870 - val_loss: 4.6812 - val_acc: 8.0000e-06\n",
      "Train on 20 samples, validate on 20 samples\n",
      "Epoch 1/1\n",
      "20/20 [==============================] - 0s 15ms/step - loss: 2.2620 - acc: 0.9863 - val_loss: 4.6386 - val_acc: 5.3600e-05\n",
      "Train on 20 samples, validate on 20 samples\n",
      "Epoch 1/1\n",
      "20/20 [==============================] - 0s 15ms/step - loss: 2.4845 - acc: 0.9956 - val_loss: 4.6217 - val_acc: 7.9200e-05\n",
      "Train on 20 samples, validate on 20 samples\n",
      "Epoch 1/1\n",
      "20/20 [==============================] - 0s 16ms/step - loss: 2.3151 - acc: 0.9966 - val_loss: 4.6333 - val_acc: 6.9600e-05\n",
      "Train on 20 samples, validate on 20 samples\n",
      "Epoch 1/1\n",
      "20/20 [==============================] - 0s 15ms/step - loss: 2.7247 - acc: 0.9960 - val_loss: 4.6693 - val_acc: 2.9600e-05\n",
      "Train on 20 samples, validate on 20 samples\n",
      "Epoch 1/1\n",
      "20/20 [==============================] - 0s 15ms/step - loss: 2.2627 - acc: 0.9938 - val_loss: 4.7040 - val_acc: 4.8000e-06\n",
      "Train on 20 samples, validate on 20 samples\n",
      "Epoch 1/1\n",
      "20/20 [==============================] - 0s 15ms/step - loss: 2.3700 - acc: 0.9821 - val_loss: 4.6605 - val_acc: 3.6000e-05\n",
      "Train on 20 samples, validate on 20 samples\n",
      "Epoch 1/1\n",
      "20/20 [==============================] - 0s 15ms/step - loss: 2.3800 - acc: 0.9943 - val_loss: 4.6291 - val_acc: 7.0400e-05\n",
      "Train on 20 samples, validate on 20 samples\n",
      "Epoch 1/1\n",
      "20/20 [==============================] - 0s 16ms/step - loss: 2.0671 - acc: 0.9967 - val_loss: 4.6269 - val_acc: 7.2000e-05\n",
      "Train on 20 samples, validate on 20 samples\n",
      "Epoch 1/1\n",
      "20/20 [==============================] - 0s 16ms/step - loss: 2.8802 - acc: 0.9979 - val_loss: 4.6615 - val_acc: 2.8800e-05\n",
      "Train on 20 samples, validate on 20 samples\n",
      "Epoch 1/1\n",
      "20/20 [==============================] - 0s 15ms/step - loss: 2.4786 - acc: 0.9947 - val_loss: 4.7041 - val_acc: 4.0000e-06\n",
      "Train on 20 samples, validate on 20 samples\n",
      "Epoch 1/1\n",
      "20/20 [==============================] - 0s 15ms/step - loss: 2.6627 - acc: 0.9868 - val_loss: 4.7031 - val_acc: 3.2000e-06\n",
      "Train on 20 samples, validate on 20 samples\n",
      "Epoch 1/1\n",
      "20/20 [==============================] - 0s 15ms/step - loss: 2.8631 - acc: 0.9868 - val_loss: 4.6640 - val_acc: 2.2400e-05\n",
      "Train on 20 samples, validate on 20 samples\n",
      "Epoch 1/1\n",
      "20/20 [==============================] - 0s 15ms/step - loss: 2.2368 - acc: 0.9957 - val_loss: 4.6506 - val_acc: 3.3600e-05\n",
      "Train on 20 samples, validate on 20 samples\n",
      "Epoch 1/1\n",
      "20/20 [==============================] - 0s 15ms/step - loss: 2.8418 - acc: 0.9975 - val_loss: 4.6685 - val_acc: 1.5200e-05\n",
      "Train on 20 samples, validate on 20 samples\n",
      "Epoch 1/1\n",
      "20/20 [==============================] - 0s 15ms/step - loss: 2.2825 - acc: 0.9956 - val_loss: 4.7071 - val_acc: 3.2000e-06\n",
      "Train on 20 samples, validate on 20 samples\n",
      "Epoch 1/1\n",
      "20/20 [==============================] - 0s 15ms/step - loss: 2.0953 - acc: 0.9921 - val_loss: 4.7374 - val_acc: 0.0000e+00\n",
      "Train on 20 samples, validate on 20 samples\n",
      "Epoch 1/1\n",
      "20/20 [==============================] - 0s 15ms/step - loss: 2.4301 - acc: 0.9837 - val_loss: 4.7045 - val_acc: 3.2000e-06\n",
      "Train on 20 samples, validate on 20 samples\n",
      "Epoch 1/1\n",
      "20/20 [==============================] - 0s 15ms/step - loss: 1.9935 - acc: 0.9949 - val_loss: 4.6900 - val_acc: 3.2000e-06\n",
      "Train on 20 samples, validate on 20 samples\n",
      "Epoch 1/1\n",
      "20/20 [==============================] - 0s 15ms/step - loss: 2.8489 - acc: 0.9954 - val_loss: 4.6965 - val_acc: 3.2000e-06\n",
      "Train on 20 samples, validate on 20 samples\n",
      "Epoch 1/1\n",
      "20/20 [==============================] - 0s 16ms/step - loss: 2.8514 - acc: 0.9946 - val_loss: 4.7142 - val_acc: 0.0000e+00\n",
      "Train on 20 samples, validate on 20 samples\n",
      "Epoch 1/1\n",
      "20/20 [==============================] - 0s 16ms/step - loss: 2.6340 - acc: 0.9948 - val_loss: 4.7379 - val_acc: 0.0000e+00\n",
      "Train on 20 samples, validate on 20 samples\n",
      "Epoch 1/1\n",
      "20/20 [==============================] - 0s 15ms/step - loss: 2.1123 - acc: 0.9919 - val_loss: 4.7491 - val_acc: 0.0000e+00\n",
      "Train on 20 samples, validate on 20 samples\n",
      "Epoch 1/1\n",
      "20/20 [==============================] - 0s 15ms/step - loss: 2.4256 - acc: 0.9902 - val_loss: 4.7385 - val_acc: 0.0000e+00\n",
      "Train on 20 samples, validate on 20 samples\n",
      "Epoch 1/1\n",
      "20/20 [==============================] - 0s 15ms/step - loss: 2.2162 - acc: 0.9906 - val_loss: 4.7162 - val_acc: 0.0000e+00\n",
      "Train on 20 samples, validate on 20 samples\n",
      "Epoch 1/1\n",
      "20/20 [==============================] - 0s 15ms/step - loss: 2.6598 - acc: 0.9957 - val_loss: 4.7115 - val_acc: 0.0000e+00\n",
      "Train on 20 samples, validate on 20 samples\n",
      "Epoch 1/1\n",
      "20/20 [==============================] - 0s 16ms/step - loss: 2.4952 - acc: 0.9942 - val_loss: 4.7193 - val_acc: 0.0000e+00\n",
      "Train on 20 samples, validate on 20 samples\n",
      "Epoch 1/1\n",
      "20/20 [==============================] - 0s 16ms/step - loss: 2.1452 - acc: 0.9948 - val_loss: 4.7384 - val_acc: 0.0000e+00\n",
      "Train on 20 samples, validate on 20 samples\n",
      "Epoch 1/1\n",
      "20/20 [==============================] - 0s 15ms/step - loss: 2.0009 - acc: 0.9930 - val_loss: 4.7563 - val_acc: 0.0000e+00\n",
      "Train on 20 samples, validate on 20 samples\n",
      "Epoch 1/1\n",
      "20/20 [==============================] - 0s 15ms/step - loss: 2.3129 - acc: 0.9893 - val_loss: 4.7518 - val_acc: 0.0000e+00\n",
      "Train on 20 samples, validate on 20 samples\n",
      "Epoch 1/1\n",
      "20/20 [==============================] - 0s 15ms/step - loss: 2.1771 - acc: 0.9908 - val_loss: 4.7324 - val_acc: 0.0000e+00\n",
      "Train on 20 samples, validate on 20 samples\n",
      "Epoch 1/1\n",
      "20/20 [==============================] - 0s 15ms/step - loss: 2.1095 - acc: 0.9957 - val_loss: 4.7332 - val_acc: 0.0000e+00\n"
     ]
    },
    {
     "name": "stdout",
     "output_type": "stream",
     "text": [
      "Train on 20 samples, validate on 20 samples\n",
      "Epoch 1/1\n",
      "20/20 [==============================] - 0s 16ms/step - loss: 2.4211 - acc: 0.9961 - val_loss: 4.7565 - val_acc: 0.0000e+00\n",
      "Train on 20 samples, validate on 20 samples\n",
      "Epoch 1/1\n",
      "20/20 [==============================] - 0s 16ms/step - loss: 2.2786 - acc: 0.9931 - val_loss: 4.7788 - val_acc: 0.0000e+00\n",
      "Train on 20 samples, validate on 20 samples\n",
      "Epoch 1/1\n",
      "20/20 [==============================] - 0s 15ms/step - loss: 2.2538 - acc: 0.9866 - val_loss: 4.7612 - val_acc: 0.0000e+00\n",
      "Train on 20 samples, validate on 20 samples\n",
      "Epoch 1/1\n",
      "20/20 [==============================] - 0s 15ms/step - loss: 2.1523 - acc: 0.9917 - val_loss: 4.7410 - val_acc: 0.0000e+00\n",
      "Train on 20 samples, validate on 20 samples\n",
      "Epoch 1/1\n",
      "20/20 [==============================] - 0s 15ms/step - loss: 2.6791 - acc: 0.9954 - val_loss: 4.7413 - val_acc: 0.0000e+00\n",
      "Train on 20 samples, validate on 20 samples\n",
      "Epoch 1/1\n",
      "20/20 [==============================] - 0s 15ms/step - loss: 2.3237 - acc: 0.9952 - val_loss: 4.7590 - val_acc: 0.0000e+00\n",
      "Train on 20 samples, validate on 20 samples\n",
      "Epoch 1/1\n",
      "20/20 [==============================] - 0s 15ms/step - loss: 2.2172 - acc: 0.9940 - val_loss: 4.7801 - val_acc: 0.0000e+00\n",
      "Train on 20 samples, validate on 20 samples\n",
      "Epoch 1/1\n",
      "20/20 [==============================] - 0s 16ms/step - loss: 1.9937 - acc: 0.9891 - val_loss: 4.7775 - val_acc: 0.0000e+00\n",
      "Train on 20 samples, validate on 20 samples\n",
      "Epoch 1/1\n",
      "20/20 [==============================] - 0s 15ms/step - loss: 2.0677 - acc: 0.9919 - val_loss: 4.7704 - val_acc: 0.0000e+00\n",
      "Train on 20 samples, validate on 20 samples\n",
      "Epoch 1/1\n",
      "20/20 [==============================] - 0s 15ms/step - loss: 2.0301 - acc: 0.9918 - val_loss: 4.7624 - val_acc: 0.0000e+00\n",
      "Train on 20 samples, validate on 20 samples\n",
      "Epoch 1/1\n",
      "20/20 [==============================] - 0s 15ms/step - loss: 2.0938 - acc: 0.9957 - val_loss: 4.7720 - val_acc: 0.0000e+00\n",
      "Train on 20 samples, validate on 20 samples\n",
      "Epoch 1/1\n",
      "20/20 [==============================] - 0s 15ms/step - loss: 2.5303 - acc: 0.9936 - val_loss: 4.7916 - val_acc: 0.0000e+00\n",
      "Train on 20 samples, validate on 20 samples\n",
      "Epoch 1/1\n",
      "20/20 [==============================] - 0s 15ms/step - loss: 2.3280 - acc: 0.9902 - val_loss: 4.7920 - val_acc: 0.0000e+00\n",
      "Train on 20 samples, validate on 20 samples\n",
      "Epoch 1/1\n",
      "20/20 [==============================] - 0s 15ms/step - loss: 2.4952 - acc: 0.9917 - val_loss: 4.7848 - val_acc: 0.0000e+00\n",
      "Train on 20 samples, validate on 20 samples\n",
      "Epoch 1/1\n",
      "20/20 [==============================] - 0s 16ms/step - loss: 2.1993 - acc: 0.9924 - val_loss: 4.7778 - val_acc: 0.0000e+00\n",
      "Train on 20 samples, validate on 20 samples\n",
      "Epoch 1/1\n",
      "20/20 [==============================] - 0s 15ms/step - loss: 2.2849 - acc: 0.9951 - val_loss: 4.7835 - val_acc: 0.0000e+00\n",
      "Train on 20 samples, validate on 20 samples\n",
      "Epoch 1/1\n",
      "20/20 [==============================] - 0s 15ms/step - loss: 1.7608 - acc: 0.9946 - val_loss: 4.7988 - val_acc: 0.0000e+00\n",
      "Train on 20 samples, validate on 20 samples\n",
      "Epoch 1/1\n",
      "20/20 [==============================] - 0s 15ms/step - loss: 2.3948 - acc: 0.9930 - val_loss: 4.8114 - val_acc: 0.0000e+00\n",
      "Train on 20 samples, validate on 20 samples\n",
      "Epoch 1/1\n",
      "20/20 [==============================] - 0s 16ms/step - loss: 2.4860 - acc: 0.9906 - val_loss: 4.8064 - val_acc: 0.0000e+00\n",
      "Train on 20 samples, validate on 20 samples\n",
      "Epoch 1/1\n",
      "20/20 [==============================] - 0s 15ms/step - loss: 2.3982 - acc: 0.9913 - val_loss: 4.7924 - val_acc: 0.0000e+00\n",
      "Train on 20 samples, validate on 20 samples\n",
      "Epoch 1/1\n",
      "20/20 [==============================] - 0s 16ms/step - loss: 2.5440 - acc: 0.9938 - val_loss: 4.7877 - val_acc: 0.0000e+00\n",
      "Train on 20 samples, validate on 20 samples\n",
      "Epoch 1/1\n",
      "20/20 [==============================] - 0s 15ms/step - loss: 2.1975 - acc: 0.9954 - val_loss: 4.8034 - val_acc: 0.0000e+00\n",
      "Train on 20 samples, validate on 20 samples\n",
      "Epoch 1/1\n",
      "20/20 [==============================] - 0s 15ms/step - loss: 1.7957 - acc: 0.9946 - val_loss: 4.8284 - val_acc: 0.0000e+00\n",
      "Train on 20 samples, validate on 20 samples\n",
      "Epoch 1/1\n",
      "20/20 [==============================] - 0s 15ms/step - loss: 2.1629 - acc: 0.9893 - val_loss: 4.8309 - val_acc: 0.0000e+00\n",
      "Train on 20 samples, validate on 20 samples\n",
      "Epoch 1/1\n",
      "20/20 [==============================] - 0s 15ms/step - loss: 2.3420 - acc: 0.9882 - val_loss: 4.8123 - val_acc: 0.0000e+00\n",
      "Train on 20 samples, validate on 20 samples\n",
      "Epoch 1/1\n",
      "20/20 [==============================] - 0s 15ms/step - loss: 2.1967 - acc: 0.9939 - val_loss: 4.8033 - val_acc: 0.0000e+00\n",
      "Train on 20 samples, validate on 20 samples\n",
      "Epoch 1/1\n",
      "20/20 [==============================] - 0s 15ms/step - loss: 2.1286 - acc: 0.9964 - val_loss: 4.8162 - val_acc: 0.0000e+00\n",
      "Train on 20 samples, validate on 20 samples\n",
      "Epoch 1/1\n",
      "20/20 [==============================] - 0s 16ms/step - loss: 2.3654 - acc: 0.9950 - val_loss: 4.8377 - val_acc: 0.0000e+00\n",
      "Train on 20 samples, validate on 20 samples\n",
      "Epoch 1/1\n",
      "20/20 [==============================] - 0s 15ms/step - loss: 2.0478 - acc: 0.9885 - val_loss: 4.8336 - val_acc: 0.0000e+00\n",
      "Train on 20 samples, validate on 20 samples\n",
      "Epoch 1/1\n",
      "20/20 [==============================] - 0s 15ms/step - loss: 2.1667 - acc: 0.9911 - val_loss: 4.8232 - val_acc: 0.0000e+00\n",
      "Train on 20 samples, validate on 20 samples\n",
      "Epoch 1/1\n",
      "20/20 [==============================] - 0s 15ms/step - loss: 2.4083 - acc: 0.9936 - val_loss: 4.8199 - val_acc: 0.0000e+00\n",
      "Train on 20 samples, validate on 20 samples\n",
      "Epoch 1/1\n",
      "20/20 [==============================] - 0s 16ms/step - loss: 3.7143 - acc: 0.9945 - val_loss: 4.8307 - val_acc: 0.0000e+00\n",
      "Train on 20 samples, validate on 20 samples\n",
      "Epoch 1/1\n",
      "20/20 [==============================] - 0s 15ms/step - loss: 2.2978 - acc: 0.9908 - val_loss: 4.8311 - val_acc: 0.0000e+00\n"
     ]
    }
   ],
   "source": [
    "for itr in range(NUM_ITERATION):\n",
    "    train_img, train_annotation = data_reader.next_batch(20)\n",
    "    val_img, val_annotation = data_reader.get_test_records()\n",
    "    model.fit(x=train_img, y=train_annotation, verbose=True, validation_data=(val_img, val_annotation))"
   ]
  },
  {
   "cell_type": "markdown",
   "metadata": {},
   "source": [
    "## Test data"
   ]
  },
  {
   "cell_type": "code",
   "execution_count": 31,
   "metadata": {
    "ExecuteTime": {
     "end_time": "2018-06-14T00:01:17.383755Z",
     "start_time": "2018-06-14T00:01:17.379747Z"
    }
   },
   "outputs": [],
   "source": [
    "test_img, test_annotation = data_reader.get_test_records()"
   ]
  },
  {
   "cell_type": "code",
   "execution_count": 45,
   "metadata": {
    "ExecuteTime": {
     "end_time": "2018-06-14T00:10:44.291855Z",
     "start_time": "2018-06-14T00:10:43.973817Z"
    }
   },
   "outputs": [],
   "source": [
    "prediction = np.argmax(model.predict(test_img), axis=-1) # get the argmax of 124 classes"
   ]
  },
  {
   "cell_type": "code",
   "execution_count": 54,
   "metadata": {
    "ExecuteTime": {
     "end_time": "2018-06-14T00:11:37.963989Z",
     "start_time": "2018-06-14T00:11:37.960308Z"
    }
   },
   "outputs": [],
   "source": [
    "img_id = 10"
   ]
  },
  {
   "cell_type": "code",
   "execution_count": 55,
   "metadata": {
    "ExecuteTime": {
     "end_time": "2018-06-14T00:11:39.385020Z",
     "start_time": "2018-06-14T00:11:39.096181Z"
    }
   },
   "outputs": [
    {
     "data": {
      "text/plain": [
       "Text(0.5,1,'Semantic Prediction')"
      ]
     },
     "execution_count": 55,
     "metadata": {},
     "output_type": "execute_result"
    },
    {
     "data": {
      "image/png": "[encoded data removed]",
      "text/plain": [
       "<matplotlib.figure.Figure at 0x7ff257211198>"
      ]
     },
     "metadata": {},
     "output_type": "display_data"
    }
   ],
   "source": [
    "plt.figure(figsize=(12,20))\n",
    "plt.subplot(1,3,1)\n",
    "plt.imshow(test_img[img_id,:,:,0], cmap='gray')\n",
    "plt.title(\"Input image\")\n",
    "plt.subplot(1,3,2)\n",
    "plt.imshow(test_annotation[img_id,:,:,0], cmap='gray')\n",
    "plt.title(\"Ground Truth annotation\")\n",
    "plt.subplot(1,3,3)\n",
    "plt.imshow(prediction[img_id,:,:], cmap='gray')\n",
    "plt.title(\"Semantic Prediction\")"
   ]
  },
  {
   "cell_type": "code",
   "execution_count": 56,
   "metadata": {
    "ExecuteTime": {
     "end_time": "2018-06-14T00:11:40.274075Z",
     "start_time": "2018-06-14T00:11:40.253053Z"
    }
   },
   "outputs": [
    {
     "data": {
      "text/plain": [
       "array([  8,  19,  29,  37,  44,  60,  78,  84, 111, 115, 120, 121])"
      ]
     },
     "execution_count": 56,
     "metadata": {},
     "output_type": "execute_result"
    }
   ],
   "source": [
    "np.unique(prediction)"
   ]
  },
  {
   "cell_type": "code",
   "execution_count": 57,
   "metadata": {
    "ExecuteTime": {
     "end_time": "2018-06-14T00:11:41.184756Z",
     "start_time": "2018-06-14T00:11:41.181512Z"
    }
   },
   "outputs": [
    {
     "data": {
      "text/plain": [
       "array([ 0, 29, 52], dtype=uint8)"
      ]
     },
     "execution_count": 57,
     "metadata": {},
     "output_type": "execute_result"
    }
   ],
   "source": [
    "np.unique(test_annotation[img_id,:,:,0])"
   ]
  },
  {
   "cell_type": "code",
   "execution_count": 58,
   "metadata": {
    "ExecuteTime": {
     "end_time": "2018-06-14T00:11:41.237392Z",
     "start_time": "2018-06-14T00:11:41.222971Z"
    }
   },
   "outputs": [],
   "source": [
    "tmp = np.zeros_like(prediction[img_id,:,:])"
   ]
  },
  {
   "cell_type": "code",
   "execution_count": 59,
   "metadata": {
    "ExecuteTime": {
     "end_time": "2018-06-14T00:11:42.162125Z",
     "start_time": "2018-06-14T00:11:42.133281Z"
    }
   },
   "outputs": [],
   "source": [
    "for i in range(tmp.shape[0]):\n",
    "    for j in range(tmp.shape[1]):\n",
    "        if prediction[img_id,i,j] == 29:\n",
    "            tmp[i,j] = 100\n",
    "        else:\n",
    "            tmp[i,j] = 0"
   ]
  },
  {
   "cell_type": "code",
   "execution_count": 60,
   "metadata": {
    "ExecuteTime": {
     "end_time": "2018-06-14T00:11:42.302728Z",
     "start_time": "2018-06-14T00:11:42.163393Z"
    },
    "scrolled": false
   },
   "outputs": [
    {
     "data": {
      "text/plain": [
       "<matplotlib.image.AxesImage at 0x7ff0e066d7f0>"
      ]
     },
     "execution_count": 60,
     "metadata": {},
     "output_type": "execute_result"
    },
    {
     "data": {
      "image/png": "[encoded data removed]",
      "text/plain": [
       "<matplotlib.figure.Figure at 0x7ff25758b978>"
      ]
     },
     "metadata": {},
     "output_type": "display_data"
    }
   ],
   "source": [
    "plt.imshow(tmp)"
   ]
  },
  {
   "cell_type": "markdown",
   "metadata": {},
   "source": [
    "# Test model"
   ]
  },
  {
   "cell_type": "markdown",
   "metadata": {},
   "source": [
    "## Train data"
   ]
  },
  {
   "cell_type": "code",
   "execution_count": 61,
   "metadata": {
    "ExecuteTime": {
     "end_time": "2018-06-14T00:13:28.285252Z",
     "start_time": "2018-06-14T00:13:28.278557Z"
    }
   },
   "outputs": [],
   "source": [
    "train_img, train_annotation = data_reader.next_batch(20)"
   ]
  },
  {
   "cell_type": "code",
   "execution_count": 62,
   "metadata": {
    "ExecuteTime": {
     "end_time": "2018-06-14T00:13:30.163328Z",
     "start_time": "2018-06-14T00:13:29.844478Z"
    }
   },
   "outputs": [],
   "source": [
    "prediction = np.argmax(model.predict(train_img), axis=-1) # get the argmax of 124 classes"
   ]
  },
  {
   "cell_type": "code",
   "execution_count": 79,
   "metadata": {
    "ExecuteTime": {
     "end_time": "2018-06-14T00:13:59.846200Z",
     "start_time": "2018-06-14T00:13:59.842697Z"
    }
   },
   "outputs": [],
   "source": [
    "img_id = 9"
   ]
  },
  {
   "cell_type": "code",
   "execution_count": 80,
   "metadata": {
    "ExecuteTime": {
     "end_time": "2018-06-14T00:14:01.213372Z",
     "start_time": "2018-06-14T00:14:00.939069Z"
    }
   },
   "outputs": [
    {
     "data": {
      "text/plain": [
       "Text(0.5,1,'Semantic Prediction')"
      ]
     },
     "execution_count": 80,
     "metadata": {},
     "output_type": "execute_result"
    },
    {
     "data": {
      "image/png": "[encoded data removed]",
      "text/plain": [
       "<matplotlib.figure.Figure at 0x7ff0e0026278>"
      ]
     },
     "metadata": {},
     "output_type": "display_data"
    }
   ],
   "source": [
    "plt.figure(figsize=(12,20))\n",
    "plt.subplot(1,3,1)\n",
    "plt.imshow(train_img[img_id,:,:,0], cmap='gray')\n",
    "plt.title(\"Input image\")\n",
    "plt.subplot(1,3,2)\n",
    "plt.imshow(train_annotation[img_id,:,:,0], cmap='gray')\n",
    "plt.title(\"Ground Truth annotation\")\n",
    "plt.subplot(1,3,3)\n",
    "plt.imshow(prediction[img_id,:,:], cmap='gray')\n",
    "plt.title(\"Semantic Prediction\")"
   ]
  },
  {
   "cell_type": "code",
   "execution_count": 82,
   "metadata": {
    "ExecuteTime": {
     "end_time": "2018-06-14T00:14:08.244877Z",
     "start_time": "2018-06-14T00:14:08.219345Z"
    }
   },
   "outputs": [
    {
     "data": {
      "text/plain": [
       "array([ 19,  29,  37,  44,  60,  78,  84, 111, 115, 120, 121])"
      ]
     },
     "execution_count": 82,
     "metadata": {},
     "output_type": "execute_result"
    }
   ],
   "source": [
    "np.unique(prediction)"
   ]
  },
  {
   "cell_type": "code",
   "execution_count": 83,
   "metadata": {
    "ExecuteTime": {
     "end_time": "2018-06-14T00:14:09.355046Z",
     "start_time": "2018-06-14T00:14:09.351089Z"
    }
   },
   "outputs": [
    {
     "data": {
      "text/plain": [
       "array([ 0, 29, 37, 44], dtype=uint8)"
      ]
     },
     "execution_count": 83,
     "metadata": {},
     "output_type": "execute_result"
    }
   ],
   "source": [
    "np.unique(train_annotation[img_id,:,:,0])"
   ]
  },
  {
   "cell_type": "code",
   "execution_count": 71,
   "metadata": {
    "ExecuteTime": {
     "end_time": "2018-06-14T00:13:45.206430Z",
     "start_time": "2018-06-14T00:13:45.204128Z"
    }
   },
   "outputs": [],
   "source": [
    "tmp = np.zeros_like(prediction[img_id,:,:])"
   ]
  },
  {
   "cell_type": "code",
   "execution_count": 72,
   "metadata": {
    "ExecuteTime": {
     "end_time": "2018-06-14T00:13:46.839518Z",
     "start_time": "2018-06-14T00:13:46.803102Z"
    }
   },
   "outputs": [],
   "source": [
    "for i in range(tmp.shape[0]):\n",
    "    for j in range(tmp.shape[1]):\n",
    "        if prediction[img_id,i,j] == 29:\n",
    "            tmp[i,j] = 100\n",
    "        else:\n",
    "            tmp[i,j] = 0"
   ]
  },
  {
   "cell_type": "code",
   "execution_count": 73,
   "metadata": {
    "ExecuteTime": {
     "end_time": "2018-06-14T00:13:48.183587Z",
     "start_time": "2018-06-14T00:13:48.080296Z"
    },
    "scrolled": false
   },
   "outputs": [
    {
     "data": {
      "text/plain": [
       "<matplotlib.image.AxesImage at 0x7ff0e0007c88>"
      ]
     },
     "execution_count": 73,
     "metadata": {},
     "output_type": "execute_result"
    },
    {
     "data": {
      "image/png": "[encoded data removed]",
      "text/plain": [
       "<matplotlib.figure.Figure at 0x7ff2574fbda0>"
      ]
     },
     "metadata": {},
     "output_type": "display_data"
    }
   ],
   "source": [
    "plt.imshow(tmp)"
   ]
  },
  {
   "cell_type": "markdown",
   "metadata": {},
   "source": [
    "## Test data"
   ]
  },
  {
   "cell_type": "code",
   "execution_count": 31,
   "metadata": {
    "ExecuteTime": {
     "end_time": "2018-06-14T00:01:17.383755Z",
     "start_time": "2018-06-14T00:01:17.379747Z"
    }
   },
   "outputs": [],
   "source": [
    "test_img, test_annotation = data_reader.get_test_records()"
   ]
  },
  {
   "cell_type": "code",
   "execution_count": 45,
   "metadata": {
    "ExecuteTime": {
     "end_time": "2018-06-14T00:10:44.291855Z",
     "start_time": "2018-06-14T00:10:43.973817Z"
    }
   },
   "outputs": [],
   "source": [
    "prediction = np.argmax(model.predict(test_img), axis=-1) # get the argmax of 124 classes"
   ]
  },
  {
   "cell_type": "code",
   "execution_count": 54,
   "metadata": {
    "ExecuteTime": {
     "end_time": "2018-06-14T00:11:37.963989Z",
     "start_time": "2018-06-14T00:11:37.960308Z"
    }
   },
   "outputs": [],
   "source": [
    "img_id = 10"
   ]
  },
  {
   "cell_type": "code",
   "execution_count": 55,
   "metadata": {
    "ExecuteTime": {
     "end_time": "2018-06-14T00:11:39.385020Z",
     "start_time": "2018-06-14T00:11:39.096181Z"
    }
   },
   "outputs": [
    {
     "data": {
      "text/plain": [
       "Text(0.5,1,'Semantic Prediction')"
      ]
     },
     "execution_count": 55,
     "metadata": {},
     "output_type": "execute_result"
    },
    {
     "data": {
      "image/png": "[encoded data removed]",
      "text/plain": [
       "<matplotlib.figure.Figure at 0x7ff257211198>"
      ]
     },
     "metadata": {},
     "output_type": "display_data"
    }
   ],
   "source": [
    "plt.figure(figsize=(12,20))\n",
    "plt.subplot(1,3,1)\n",
    "plt.imshow(test_img[img_id,:,:,0], cmap='gray')\n",
    "plt.title(\"Input image\")\n",
    "plt.subplot(1,3,2)\n",
    "plt.imshow(test_annotation[img_id,:,:,0], cmap='gray')\n",
    "plt.title(\"Ground Truth annotation\")\n",
    "plt.subplot(1,3,3)\n",
    "plt.imshow(prediction[img_id,:,:], cmap='gray')\n",
    "plt.title(\"Semantic Prediction\")"
   ]
  },
  {
   "cell_type": "code",
   "execution_count": 56,
   "metadata": {
    "ExecuteTime": {
     "end_time": "2018-06-14T00:11:40.274075Z",
     "start_time": "2018-06-14T00:11:40.253053Z"
    }
   },
   "outputs": [
    {
     "data": {
      "text/plain": [
       "array([  8,  19,  29,  37,  44,  60,  78,  84, 111, 115, 120, 121])"
      ]
     },
     "execution_count": 56,
     "metadata": {},
     "output_type": "execute_result"
    }
   ],
   "source": [
    "np.unique(prediction)"
   ]
  },
  {
   "cell_type": "code",
   "execution_count": 57,
   "metadata": {
    "ExecuteTime": {
     "end_time": "2018-06-14T00:11:41.184756Z",
     "start_time": "2018-06-14T00:11:41.181512Z"
    }
   },
   "outputs": [
    {
     "data": {
      "text/plain": [
       "array([ 0, 29, 52], dtype=uint8)"
      ]
     },
     "execution_count": 57,
     "metadata": {},
     "output_type": "execute_result"
    }
   ],
   "source": [
    "np.unique(test_annotation[img_id,:,:,0])"
   ]
  },
  {
   "cell_type": "code",
   "execution_count": 58,
   "metadata": {
    "ExecuteTime": {
     "end_time": "2018-06-14T00:11:41.237392Z",
     "start_time": "2018-06-14T00:11:41.222971Z"
    }
   },
   "outputs": [],
   "source": [
    "tmp = np.zeros_like(prediction[img_id,:,:])"
   ]
  },
  {
   "cell_type": "code",
   "execution_count": 59,
   "metadata": {
    "ExecuteTime": {
     "end_time": "2018-06-14T00:11:42.162125Z",
     "start_time": "2018-06-14T00:11:42.133281Z"
    }
   },
   "outputs": [],
   "source": [
    "for i in range(tmp.shape[0]):\n",
    "    for j in range(tmp.shape[1]):\n",
    "        if prediction[img_id,i,j] == 29:\n",
    "            tmp[i,j] = 100\n",
    "        else:\n",
    "            tmp[i,j] = 0"
   ]
  },
  {
   "cell_type": "code",
   "execution_count": 60,
   "metadata": {
    "ExecuteTime": {
     "end_time": "2018-06-14T00:11:42.302728Z",
     "start_time": "2018-06-14T00:11:42.163393Z"
    },
    "scrolled": false
   },
   "outputs": [
    {
     "data": {
      "text/plain": [
       "<matplotlib.image.AxesImage at 0x7ff0e066d7f0>"
      ]
     },
     "execution_count": 60,
     "metadata": {},
     "output_type": "execute_result"
    },
    {
     "data": {
      "image/png": "[encoded data removed]",
      "text/plain": [
       "<matplotlib.figure.Figure at 0x7ff25758b978>"
      ]
     },
     "metadata": {},
     "output_type": "display_data"
    }
   ],
   "source": [
    "plt.imshow(tmp)"
   ]
  },
  {
   "cell_type": "code",
   "execution_count": null,
   "metadata": {},
   "outputs": [],
   "source": []
  }
 ],
 "metadata": {
  "kernelspec": {
   "display_name": "Python 3",
   "language": "python",
   "name": "python3"
  },
  "language_info": {
   "codemirror_mode": {
    "name": "ipython",
    "version": 3
   },
   "file_extension": ".py",
   "mimetype": "text/x-python",
   "name": "python",
   "nbconvert_exporter": "python",
   "pygments_lexer": "ipython3",
   "version": "3.6.3"
  },
  "latex_envs": {
   "LaTeX_envs_menu_present": true,
   "autoclose": false,
   "autocomplete": true,
   "bibliofile": "biblio.bib",
   "cite_by": "apalike",
   "current_citInitial": 1,
   "eqLabelWithNumbers": true,
   "eqNumInitial": 1,
   "hotkeys": {
    "equation": "Ctrl-E",
    "itemize": "Ctrl-I"
   },
   "labels_anchors": false,
   "latex_user_defs": false,
   "report_style_numbering": false,
   "user_envs_cfg": false
  },
  "toc": {
   "nav_menu": {},
   "number_sections": true,
   "sideBar": true,
   "skip_h1_title": false,
   "title_cell": "Table of Contents",
   "title_sidebar": "Contents",
   "toc_cell": false,
   "toc_position": {},
   "toc_section_display": true,
   "toc_window_display": false
  },
  "varInspector": {
   "cols": {
    "lenName": 16,
    "lenType": 16,
    "lenVar": 40
   },
   "kernels_config": {
    "python": {
     "delete_cmd_postfix": "",
     "delete_cmd_prefix": "del ",
     "library": "var_list.py",
     "varRefreshCmd": "print(var_dic_list())"
    },
    "r": {
     "delete_cmd_postfix": ") ",
     "delete_cmd_prefix": "rm(",
     "library": "var_list.r",
     "varRefreshCmd": "cat(var_dic_list()) "
    }
   },
   "types_to_exclude": [
    "module",
    "function",
    "builtin_function_or_method",
    "instance",
    "_Feature"
   ],
   "window_display": false
  }
 },
 "nbformat": 4,
 "nbformat_minor": 2
}
